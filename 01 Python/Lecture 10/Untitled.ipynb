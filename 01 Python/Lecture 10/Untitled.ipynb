{
 "cells": [
  {
   "cell_type": "code",
   "execution_count": 1,
   "id": "483dd22e",
   "metadata": {},
   "outputs": [],
   "source": [
    "class Car:\n",
    "    def __init__(self, milage, year, model):\n",
    "        self.milage = milage\n",
    "        self.year = year\n",
    "        self.model = model"
   ]
  },
  {
   "cell_type": "code",
   "execution_count": 2,
   "id": "bcf89882",
   "metadata": {},
   "outputs": [],
   "source": [
    "bmw = Car(50, 2024, \"BMW 2024\")\n",
    "\n",
    "nano = Car(25, 2023, \"NANO 2023\")"
   ]
  },
  {
   "cell_type": "code",
   "execution_count": 7,
   "id": "b1e5bd33",
   "metadata": {},
   "outputs": [],
   "source": [
    "class Car:\n",
    "    def __init__(self, milage, year, model):\n",
    "        self.milage = milage\n",
    "        self.year = year\n",
    "        self.model = model"
   ]
  },
  {
   "cell_type": "code",
   "execution_count": 3,
   "id": "4b862302",
   "metadata": {},
   "outputs": [],
   "source": [
    "bmw = Car(50, 2024, \"BMW - 2024\")"
   ]
  },
  {
   "cell_type": "code",
   "execution_count": 9,
   "id": "ab908925",
   "metadata": {},
   "outputs": [
    {
     "data": {
      "text/plain": [
       "50"
      ]
     },
     "execution_count": 9,
     "metadata": {},
     "output_type": "execute_result"
    }
   ],
   "source": [
    "bmw.milage"
   ]
  },
  {
   "cell_type": "code",
   "execution_count": 7,
   "id": "cc0fe3f5",
   "metadata": {},
   "outputs": [],
   "source": [
    "class Car:\n",
    "    def __init__(self, milage, year, model):\n",
    "        self.milage = milage\n",
    "        self.year = year\n",
    "        self.model = model\n",
    "    \n",
    "    def age(self1, current_year):\n",
    "        return current_year - self1.year\n",
    "    \n",
    "    def milage1(self):\n",
    "        print(\"Milage of a car\", self.milage)"
   ]
  },
  {
   "cell_type": "code",
   "execution_count": 8,
   "id": "a1555d51",
   "metadata": {},
   "outputs": [
    {
     "data": {
      "text/plain": [
       "1"
      ]
     },
     "execution_count": 8,
     "metadata": {},
     "output_type": "execute_result"
    }
   ],
   "source": [
    "bmw.age(2025)"
   ]
  },
  {
   "cell_type": "code",
   "execution_count": 6,
   "id": "45ef560e",
   "metadata": {},
   "outputs": [
    {
     "data": {
      "text/plain": [
       "50"
      ]
     },
     "execution_count": 6,
     "metadata": {},
     "output_type": "execute_result"
    }
   ],
   "source": [
    "bmw.milage1()"
   ]
  },
  {
   "cell_type": "code",
   "execution_count": 9,
   "id": "afa161cc",
   "metadata": {},
   "outputs": [],
   "source": [
    "obj = Car(10, 2020, \"MODEL\")"
   ]
  },
  {
   "cell_type": "code",
   "execution_count": 10,
   "id": "e0e66072",
   "metadata": {},
   "outputs": [
    {
     "name": "stdout",
     "output_type": "stream",
     "text": [
      "Milage of a car 10\n"
     ]
    }
   ],
   "source": [
    "obj.milage1()"
   ]
  },
  {
   "cell_type": "code",
   "execution_count": null,
   "id": "03939293",
   "metadata": {},
   "outputs": [],
   "source": []
  }
 ],
 "metadata": {
  "kernelspec": {
   "display_name": "Python 3 (ipykernel)",
   "language": "python",
   "name": "python3"
  },
  "language_info": {
   "codemirror_mode": {
    "name": "ipython",
    "version": 3
   },
   "file_extension": ".py",
   "mimetype": "text/x-python",
   "name": "python",
   "nbconvert_exporter": "python",
   "pygments_lexer": "ipython3",
   "version": "3.11.5"
  }
 },
 "nbformat": 4,
 "nbformat_minor": 5
}
