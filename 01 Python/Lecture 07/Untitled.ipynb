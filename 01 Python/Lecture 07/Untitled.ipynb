{
 "cells": [
  {
   "cell_type": "markdown",
   "id": "73d59d28",
   "metadata": {},
   "source": [
    "# Lecture 07 - 2024.05.12"
   ]
  },
  {
   "cell_type": "markdown",
   "id": "4bd43e02",
   "metadata": {},
   "source": [
    "## Function"
   ]
  },
  {
   "cell_type": "code",
   "execution_count": 14,
   "id": "46d8d331",
   "metadata": {},
   "outputs": [],
   "source": [
    "def test(**kwargs):\n",
    "    print(kwargs.items())"
   ]
  },
  {
   "cell_type": "code",
   "execution_count": 15,
   "id": "40bb5d05",
   "metadata": {},
   "outputs": [
    {
     "name": "stdout",
     "output_type": "stream",
     "text": [
      "dict_items([('a', 1), ('b', 2)])\n"
     ]
    }
   ],
   "source": [
    "test(a = 1, b = 2)"
   ]
  },
  {
   "cell_type": "markdown",
   "id": "48aaaa08",
   "metadata": {},
   "source": []
  },
  {
   "cell_type": "code",
   "execution_count": 18,
   "id": "d980cc47",
   "metadata": {},
   "outputs": [],
   "source": [
    "def test1(name, mail_id):\n",
    "    con = name + mail_id\n",
    "    return mail_id, name, con"
   ]
  },
  {
   "cell_type": "code",
   "execution_count": 19,
   "id": "45c77cb4",
   "metadata": {},
   "outputs": [
    {
     "data": {
      "text/plain": [
       "('abc@gmail.com', 'vithu', 'vithuabc@gmail.com')"
      ]
     },
     "execution_count": 19,
     "metadata": {},
     "output_type": "execute_result"
    }
   ],
   "source": [
    "test1(\"vithu\", \"abc@gmail.com\")"
   ]
  },
  {
   "cell_type": "code",
   "execution_count": 20,
   "id": "e1423312",
   "metadata": {},
   "outputs": [
    {
     "data": {
      "text/plain": [
       "<function __main__.<lambda>(x, y)>"
      ]
     },
     "execution_count": 20,
     "metadata": {},
     "output_type": "execute_result"
    }
   ],
   "source": [
    "#Anonymous function or lamda function\n",
    "a = 10\n",
    "b = 20\n",
    "\n",
    "lambda x, y: x + y"
   ]
  },
  {
   "cell_type": "code",
   "execution_count": 22,
   "id": "d90878f4",
   "metadata": {},
   "outputs": [
    {
     "data": {
      "text/plain": [
       "30"
      ]
     },
     "execution_count": 22,
     "metadata": {},
     "output_type": "execute_result"
    }
   ],
   "source": [
    "m = lambda x, y: x + y\n",
    "m(a, b)"
   ]
  },
  {
   "cell_type": "code",
   "execution_count": 23,
   "id": "60d62ee0",
   "metadata": {},
   "outputs": [
    {
     "data": {
      "text/plain": [
       "'vithuabc@ms.ac.lk'"
      ]
     },
     "execution_count": 23,
     "metadata": {},
     "output_type": "execute_result"
    }
   ],
   "source": [
    "m(\"vithu\", \"abc@ms.ac.lk\")"
   ]
  },
  {
   "cell_type": "code",
   "execution_count": 2,
   "id": "21a19a49",
   "metadata": {},
   "outputs": [],
   "source": [
    "b = \"vithu\"\n",
    "c = \"test\"\n",
    "n = lambda arg1, arg2 : print(arg1, arg2)"
   ]
  },
  {
   "cell_type": "code",
   "execution_count": 4,
   "id": "ec665cde",
   "metadata": {},
   "outputs": [
    {
     "name": "stdout",
     "output_type": "stream",
     "text": [
      "10 20\n"
     ]
    }
   ],
   "source": [
    "n(10, 20)"
   ]
  },
  {
   "cell_type": "code",
   "execution_count": 6,
   "id": "e74ea777",
   "metadata": {},
   "outputs": [],
   "source": [
    "r = 10 #global variable\n",
    "\n",
    "def test3(a, b):\n",
    "    r = a / b #local variable r\n",
    "    return r"
   ]
  },
  {
   "cell_type": "code",
   "execution_count": 8,
   "id": "59d3eded",
   "metadata": {},
   "outputs": [
    {
     "data": {
      "text/plain": [
       "1.0"
      ]
     },
     "execution_count": 8,
     "metadata": {},
     "output_type": "execute_result"
    }
   ],
   "source": [
    "test3(10, 10)"
   ]
  },
  {
   "cell_type": "code",
   "execution_count": 9,
   "id": "5f30bbff",
   "metadata": {},
   "outputs": [
    {
     "data": {
      "text/plain": [
       "10"
      ]
     },
     "execution_count": 9,
     "metadata": {},
     "output_type": "execute_result"
    }
   ],
   "source": [
    "r"
   ]
  },
  {
   "cell_type": "code",
   "execution_count": 11,
   "id": "34309394",
   "metadata": {},
   "outputs": [],
   "source": [
    "def test4():\n",
    "    #Docstring\n",
    "    \"\"\"\n",
    "    This is my test4 function whith the \n",
    "    help of this function you will be able to learn a basic of function\n",
    "    \"\"\"\n",
    "    \n",
    "    print(\"Name is vithusan\")"
   ]
  },
  {
   "cell_type": "code",
   "execution_count": 12,
   "id": "a5e6ca9c",
   "metadata": {},
   "outputs": [
    {
     "name": "stdout",
     "output_type": "stream",
     "text": [
      "Name is vithusan\n"
     ]
    }
   ],
   "source": [
    "test4()"
   ]
  },
  {
   "cell_type": "code",
   "execution_count": 13,
   "id": "83854deb",
   "metadata": {},
   "outputs": [
    {
     "name": "stdout",
     "output_type": "stream",
     "text": [
      "Help on built-in function print in module builtins:\n",
      "\n",
      "print(*args, sep=' ', end='\\n', file=None, flush=False)\n",
      "    Prints the values to a stream, or to sys.stdout by default.\n",
      "    \n",
      "    sep\n",
      "      string inserted between values, default a space.\n",
      "    end\n",
      "      string appended after the last value, default a newline.\n",
      "    file\n",
      "      a file-like object (stream); defaults to the current sys.stdout.\n",
      "    flush\n",
      "      whether to forcibly flush the stream.\n",
      "\n"
     ]
    }
   ],
   "source": [
    "help(print)"
   ]
  },
  {
   "cell_type": "code",
   "execution_count": 14,
   "id": "e71058ba",
   "metadata": {},
   "outputs": [
    {
     "name": "stdout",
     "output_type": "stream",
     "text": [
      "Help on function test4 in module __main__:\n",
      "\n",
      "test4()\n",
      "    This is my test4 function whith the \n",
      "    help of this function you will be able to learn a basic of function\n",
      "\n"
     ]
    }
   ],
   "source": [
    "help(test4)"
   ]
  },
  {
   "cell_type": "code",
   "execution_count": 16,
   "id": "f1eff369",
   "metadata": {
    "collapsed": true
   },
   "outputs": [
    {
     "name": "stdout",
     "output_type": "stream",
     "text": [
      "Help on class list in module builtins:\n",
      "\n",
      "class list(object)\n",
      " |  list(iterable=(), /)\n",
      " |  \n",
      " |  Built-in mutable sequence.\n",
      " |  \n",
      " |  If no argument is given, the constructor creates a new empty list.\n",
      " |  The argument must be an iterable if specified.\n",
      " |  \n",
      " |  Methods defined here:\n",
      " |  \n",
      " |  __add__(self, value, /)\n",
      " |      Return self+value.\n",
      " |  \n",
      " |  __contains__(self, key, /)\n",
      " |      Return key in self.\n",
      " |  \n",
      " |  __delitem__(self, key, /)\n",
      " |      Delete self[key].\n",
      " |  \n",
      " |  __eq__(self, value, /)\n",
      " |      Return self==value.\n",
      " |  \n",
      " |  __ge__(self, value, /)\n",
      " |      Return self>=value.\n",
      " |  \n",
      " |  __getattribute__(self, name, /)\n",
      " |      Return getattr(self, name).\n",
      " |  \n",
      " |  __getitem__(...)\n",
      " |      x.__getitem__(y) <==> x[y]\n",
      " |  \n",
      " |  __gt__(self, value, /)\n",
      " |      Return self>value.\n",
      " |  \n",
      " |  __iadd__(self, value, /)\n",
      " |      Implement self+=value.\n",
      " |  \n",
      " |  __imul__(self, value, /)\n",
      " |      Implement self*=value.\n",
      " |  \n",
      " |  __init__(self, /, *args, **kwargs)\n",
      " |      Initialize self.  See help(type(self)) for accurate signature.\n",
      " |  \n",
      " |  __iter__(self, /)\n",
      " |      Implement iter(self).\n",
      " |  \n",
      " |  __le__(self, value, /)\n",
      " |      Return self<=value.\n",
      " |  \n",
      " |  __len__(self, /)\n",
      " |      Return len(self).\n",
      " |  \n",
      " |  __lt__(self, value, /)\n",
      " |      Return self<value.\n",
      " |  \n",
      " |  __mul__(self, value, /)\n",
      " |      Return self*value.\n",
      " |  \n",
      " |  __ne__(self, value, /)\n",
      " |      Return self!=value.\n",
      " |  \n",
      " |  __repr__(self, /)\n",
      " |      Return repr(self).\n",
      " |  \n",
      " |  __reversed__(self, /)\n",
      " |      Return a reverse iterator over the list.\n",
      " |  \n",
      " |  __rmul__(self, value, /)\n",
      " |      Return value*self.\n",
      " |  \n",
      " |  __setitem__(self, key, value, /)\n",
      " |      Set self[key] to value.\n",
      " |  \n",
      " |  __sizeof__(self, /)\n",
      " |      Return the size of the list in memory, in bytes.\n",
      " |  \n",
      " |  append(self, object, /)\n",
      " |      Append object to the end of the list.\n",
      " |  \n",
      " |  clear(self, /)\n",
      " |      Remove all items from list.\n",
      " |  \n",
      " |  copy(self, /)\n",
      " |      Return a shallow copy of the list.\n",
      " |  \n",
      " |  count(self, value, /)\n",
      " |      Return number of occurrences of value.\n",
      " |  \n",
      " |  extend(self, iterable, /)\n",
      " |      Extend list by appending elements from the iterable.\n",
      " |  \n",
      " |  index(self, value, start=0, stop=9223372036854775807, /)\n",
      " |      Return first index of value.\n",
      " |      \n",
      " |      Raises ValueError if the value is not present.\n",
      " |  \n",
      " |  insert(self, index, object, /)\n",
      " |      Insert object before index.\n",
      " |  \n",
      " |  pop(self, index=-1, /)\n",
      " |      Remove and return item at index (default last).\n",
      " |      \n",
      " |      Raises IndexError if list is empty or index is out of range.\n",
      " |  \n",
      " |  remove(self, value, /)\n",
      " |      Remove first occurrence of value.\n",
      " |      \n",
      " |      Raises ValueError if the value is not present.\n",
      " |  \n",
      " |  reverse(self, /)\n",
      " |      Reverse *IN PLACE*.\n",
      " |  \n",
      " |  sort(self, /, *, key=None, reverse=False)\n",
      " |      Sort the list in ascending order and return None.\n",
      " |      \n",
      " |      The sort is in-place (i.e. the list itself is modified) and stable (i.e. the\n",
      " |      order of two equal elements is maintained).\n",
      " |      \n",
      " |      If a key function is given, apply it once to each list item and sort them,\n",
      " |      ascending or descending, according to their function values.\n",
      " |      \n",
      " |      The reverse flag can be set to sort in descending order.\n",
      " |  \n",
      " |  ----------------------------------------------------------------------\n",
      " |  Class methods defined here:\n",
      " |  \n",
      " |  __class_getitem__(...) from builtins.type\n",
      " |      See PEP 585\n",
      " |  \n",
      " |  ----------------------------------------------------------------------\n",
      " |  Static methods defined here:\n",
      " |  \n",
      " |  __new__(*args, **kwargs) from builtins.type\n",
      " |      Create and return a new object.  See help(type) for accurate signature.\n",
      " |  \n",
      " |  ----------------------------------------------------------------------\n",
      " |  Data and other attributes defined here:\n",
      " |  \n",
      " |  __hash__ = None\n",
      "\n"
     ]
    }
   ],
   "source": [
    "help(list)"
   ]
  },
  {
   "cell_type": "markdown",
   "id": "b5434fa0",
   "metadata": {},
   "source": [
    "### iterable, Iterator and Generator"
   ]
  },
  {
   "cell_type": "code",
   "execution_count": 17,
   "id": "8bb2adb2",
   "metadata": {},
   "outputs": [],
   "source": [
    "a = 10"
   ]
  },
  {
   "cell_type": "code",
   "execution_count": 1,
   "id": "98552cc9",
   "metadata": {},
   "outputs": [
    {
     "ename": "NameError",
     "evalue": "name 'a' is not defined",
     "output_type": "error",
     "traceback": [
      "\u001b[1;31m---------------------------------------------------------------------------\u001b[0m",
      "\u001b[1;31mNameError\u001b[0m                                 Traceback (most recent call last)",
      "Cell \u001b[1;32mIn[1], line 1\u001b[0m\n\u001b[1;32m----> 1\u001b[0m \u001b[38;5;28;01mfor\u001b[39;00m i \u001b[38;5;129;01min\u001b[39;00m a:\n\u001b[0;32m      2\u001b[0m     \u001b[38;5;28mprint\u001b[39m(i)\n",
      "\u001b[1;31mNameError\u001b[0m: name 'a' is not defined"
     ]
    }
   ],
   "source": [
    "for i in a:\n",
    "    print(i)"
   ]
  },
  {
   "cell_type": "code",
   "execution_count": 20,
   "id": "5ffce53a",
   "metadata": {},
   "outputs": [
    {
     "name": "stdout",
     "output_type": "stream",
     "text": [
      "v\n",
      "i\n",
      "t\n",
      "h\n",
      "u\n"
     ]
    }
   ],
   "source": [
    "for i in \"vithu\":\n",
    "    print(i)"
   ]
  },
  {
   "cell_type": "code",
   "execution_count": null,
   "id": "8500f200",
   "metadata": {},
   "outputs": [
    {
     "ename": "TypeError",
     "evalue": "'str' object is not an iterator",
     "output_type": "error",
     "traceback": [
      "\u001b[1;31m---------------------------------------------------------------------------\u001b[0m",
      "\u001b[1;31mTypeError\u001b[0m                                 Traceback (most recent call last)",
      "Cell \u001b[1;32mIn[21], line 3\u001b[0m\n\u001b[0;32m      1\u001b[0m n \u001b[38;5;241m=\u001b[39m \u001b[38;5;124m\"\u001b[39m\u001b[38;5;124mvithu\u001b[39m\u001b[38;5;124m\"\u001b[39m\n\u001b[1;32m----> 3\u001b[0m \u001b[38;5;28mnext\u001b[39m(n)\n",
      "\u001b[1;31mTypeError\u001b[0m: 'str' object is not an iterator"
     ]
    }
   ],
   "source": [
    "n = \"vithu\"\n",
    "\n",
    "next(n)"
   ]
  },
  {
   "cell_type": "markdown",
   "id": "b6bbe84c",
   "metadata": {},
   "source": [
    "1. **Iterable**: Objects we can loop over directly.\n",
    "2. **Iterator Conversion**: Non-iterable objects need conversion to iterate.\n",
    "3. **Generator**: Special iterator; yields values without storing all in memory.\n"
   ]
  },
  {
   "cell_type": "code",
   "execution_count": 22,
   "id": "b4a61108",
   "metadata": {},
   "outputs": [
    {
     "data": {
      "text/plain": [
       "<str_ascii_iterator at 0x13eac81bb80>"
      ]
     },
     "execution_count": 22,
     "metadata": {},
     "output_type": "execute_result"
    }
   ],
   "source": [
    "iter(n)"
   ]
  },
  {
   "cell_type": "code",
   "execution_count": 29,
   "id": "a5b96dc9",
   "metadata": {},
   "outputs": [
    {
     "data": {
      "text/plain": [
       "'v'"
      ]
     },
     "execution_count": 29,
     "metadata": {},
     "output_type": "execute_result"
    }
   ],
   "source": [
    "a = iter(n)\n",
    "next(a)"
   ]
  },
  {
   "cell_type": "code",
   "execution_count": 30,
   "id": "ddc30860",
   "metadata": {},
   "outputs": [
    {
     "data": {
      "text/plain": [
       "'i'"
      ]
     },
     "execution_count": 30,
     "metadata": {},
     "output_type": "execute_result"
    }
   ],
   "source": [
    "next(a)"
   ]
  },
  {
   "cell_type": "code",
   "execution_count": 24,
   "id": "dcc159d2",
   "metadata": {},
   "outputs": [
    {
     "ename": "TypeError",
     "evalue": "'int' object is not an iterator",
     "output_type": "error",
     "traceback": [
      "\u001b[1;31m---------------------------------------------------------------------------\u001b[0m",
      "\u001b[1;31mTypeError\u001b[0m                                 Traceback (most recent call last)",
      "Cell \u001b[1;32mIn[24], line 2\u001b[0m\n\u001b[0;32m      1\u001b[0m a \u001b[38;5;241m=\u001b[39m \u001b[38;5;241m10\u001b[39m\n\u001b[1;32m----> 2\u001b[0m \u001b[38;5;28mnext\u001b[39m(a)\n",
      "\u001b[1;31mTypeError\u001b[0m: 'int' object is not an iterator"
     ]
    }
   ],
   "source": [
    "a = 10\n",
    "next(a)"
   ]
  },
  {
   "cell_type": "code",
   "execution_count": 25,
   "id": "79b5bcde",
   "metadata": {},
   "outputs": [
    {
     "ename": "TypeError",
     "evalue": "'int' object is not iterable",
     "output_type": "error",
     "traceback": [
      "\u001b[1;31m---------------------------------------------------------------------------\u001b[0m",
      "\u001b[1;31mTypeError\u001b[0m                                 Traceback (most recent call last)",
      "Cell \u001b[1;32mIn[25], line 1\u001b[0m\n\u001b[1;32m----> 1\u001b[0m \u001b[38;5;28miter\u001b[39m(a)\n",
      "\u001b[1;31mTypeError\u001b[0m: 'int' object is not iterable"
     ]
    }
   ],
   "source": [
    "iter(a)"
   ]
  },
  {
   "cell_type": "code",
   "execution_count": 35,
   "id": "37d5cbd2",
   "metadata": {},
   "outputs": [],
   "source": [
    "s = \"vithu\""
   ]
  },
  {
   "cell_type": "code",
   "execution_count": 38,
   "id": "54404ded",
   "metadata": {},
   "outputs": [],
   "source": [
    "s = iter(s) # converts an iterable object into an iterator object,"
   ]
  },
  {
   "cell_type": "code",
   "execution_count": 39,
   "id": "dac1a8fa",
   "metadata": {},
   "outputs": [
    {
     "data": {
      "text/plain": [
       "'v'"
      ]
     },
     "execution_count": 39,
     "metadata": {},
     "output_type": "execute_result"
    }
   ],
   "source": [
    "next(s)"
   ]
  },
  {
   "cell_type": "code",
   "execution_count": 40,
   "id": "20d746df",
   "metadata": {},
   "outputs": [
    {
     "data": {
      "text/plain": [
       "'i'"
      ]
     },
     "execution_count": 40,
     "metadata": {},
     "output_type": "execute_result"
    }
   ],
   "source": [
    "next(s)"
   ]
  },
  {
   "cell_type": "code",
   "execution_count": 41,
   "id": "782d26e0",
   "metadata": {},
   "outputs": [
    {
     "data": {
      "text/plain": [
       "'t'"
      ]
     },
     "execution_count": 41,
     "metadata": {},
     "output_type": "execute_result"
    }
   ],
   "source": [
    "next(s)"
   ]
  },
  {
   "cell_type": "code",
   "execution_count": 42,
   "id": "ac491f3f",
   "metadata": {},
   "outputs": [
    {
     "data": {
      "text/plain": [
       "'h'"
      ]
     },
     "execution_count": 42,
     "metadata": {},
     "output_type": "execute_result"
    }
   ],
   "source": [
    "next(s)"
   ]
  },
  {
   "cell_type": "code",
   "execution_count": 43,
   "id": "4306fa75",
   "metadata": {},
   "outputs": [
    {
     "data": {
      "text/plain": [
       "'u'"
      ]
     },
     "execution_count": 43,
     "metadata": {},
     "output_type": "execute_result"
    }
   ],
   "source": [
    "next(s)"
   ]
  },
  {
   "cell_type": "code",
   "execution_count": 44,
   "id": "091df146",
   "metadata": {},
   "outputs": [
    {
     "ename": "StopIteration",
     "evalue": "",
     "output_type": "error",
     "traceback": [
      "\u001b[1;31m---------------------------------------------------------------------------\u001b[0m",
      "\u001b[1;31mStopIteration\u001b[0m                             Traceback (most recent call last)",
      "Cell \u001b[1;32mIn[44], line 1\u001b[0m\n\u001b[1;32m----> 1\u001b[0m \u001b[38;5;28mnext\u001b[39m(s)\n",
      "\u001b[1;31mStopIteration\u001b[0m: "
     ]
    }
   ],
   "source": [
    "next(s)"
   ]
  },
  {
   "cell_type": "code",
   "execution_count": 46,
   "id": "9a014b0a",
   "metadata": {},
   "outputs": [
    {
     "name": "stdout",
     "output_type": "stream",
     "text": [
      "v\n",
      "i\n",
      "t\n",
      "h\n",
      "u\n"
     ]
    }
   ],
   "source": [
    "for i in \"vithu\":\n",
    "    print(i)"
   ]
  },
  {
   "cell_type": "code",
   "execution_count": 47,
   "id": "4135853b",
   "metadata": {},
   "outputs": [],
   "source": [
    "l = [1, 2, 3, 4, 5] #list is a iterable object not iterator"
   ]
  },
  {
   "cell_type": "code",
   "execution_count": 48,
   "id": "6d9bce0e",
   "metadata": {},
   "outputs": [
    {
     "ename": "TypeError",
     "evalue": "'list' object is not an iterator",
     "output_type": "error",
     "traceback": [
      "\u001b[1;31m---------------------------------------------------------------------------\u001b[0m",
      "\u001b[1;31mTypeError\u001b[0m                                 Traceback (most recent call last)",
      "Cell \u001b[1;32mIn[48], line 1\u001b[0m\n\u001b[1;32m----> 1\u001b[0m \u001b[38;5;28mnext\u001b[39m(l)\n",
      "\u001b[1;31mTypeError\u001b[0m: 'list' object is not an iterator"
     ]
    }
   ],
   "source": [
    "next(l)"
   ]
  },
  {
   "cell_type": "code",
   "execution_count": 49,
   "id": "1fdc848e",
   "metadata": {},
   "outputs": [
    {
     "data": {
      "text/plain": [
       "1"
      ]
     },
     "execution_count": 49,
     "metadata": {},
     "output_type": "execute_result"
    }
   ],
   "source": [
    "l = iter(l)\n",
    "next(l)"
   ]
  },
  {
   "cell_type": "code",
   "execution_count": 50,
   "id": "7be1b9f0",
   "metadata": {},
   "outputs": [
    {
     "data": {
      "text/plain": [
       "2"
      ]
     },
     "execution_count": 50,
     "metadata": {},
     "output_type": "execute_result"
    }
   ],
   "source": [
    "next(l)"
   ]
  },
  {
   "cell_type": "code",
   "execution_count": 51,
   "id": "702df618",
   "metadata": {},
   "outputs": [
    {
     "data": {
      "text/plain": [
       "3"
      ]
     },
     "execution_count": 51,
     "metadata": {},
     "output_type": "execute_result"
    }
   ],
   "source": [
    "next(l)"
   ]
  },
  {
   "cell_type": "code",
   "execution_count": 52,
   "id": "55a867f4",
   "metadata": {},
   "outputs": [
    {
     "data": {
      "text/plain": [
       "4"
      ]
     },
     "execution_count": 52,
     "metadata": {},
     "output_type": "execute_result"
    }
   ],
   "source": [
    "next(l)"
   ]
  },
  {
   "cell_type": "code",
   "execution_count": 53,
   "id": "416ac47e",
   "metadata": {},
   "outputs": [
    {
     "data": {
      "text/plain": [
       "5"
      ]
     },
     "execution_count": 53,
     "metadata": {},
     "output_type": "execute_result"
    }
   ],
   "source": [
    "next(l)"
   ]
  },
  {
   "cell_type": "code",
   "execution_count": 54,
   "id": "9b10a4d9",
   "metadata": {},
   "outputs": [
    {
     "ename": "StopIteration",
     "evalue": "",
     "output_type": "error",
     "traceback": [
      "\u001b[1;31m---------------------------------------------------------------------------\u001b[0m",
      "\u001b[1;31mStopIteration\u001b[0m                             Traceback (most recent call last)",
      "Cell \u001b[1;32mIn[54], line 1\u001b[0m\n\u001b[1;32m----> 1\u001b[0m \u001b[38;5;28mnext\u001b[39m(l)\n",
      "\u001b[1;31mStopIteration\u001b[0m: "
     ]
    }
   ],
   "source": [
    "next(l)"
   ]
  },
  {
   "cell_type": "code",
   "execution_count": 55,
   "id": "8ec782a1",
   "metadata": {},
   "outputs": [],
   "source": [
    "t = (1, 2, 3)"
   ]
  },
  {
   "cell_type": "code",
   "execution_count": 56,
   "id": "dc5a9bd8",
   "metadata": {},
   "outputs": [
    {
     "ename": "TypeError",
     "evalue": "'tuple' object is not an iterator",
     "output_type": "error",
     "traceback": [
      "\u001b[1;31m---------------------------------------------------------------------------\u001b[0m",
      "\u001b[1;31mTypeError\u001b[0m                                 Traceback (most recent call last)",
      "Cell \u001b[1;32mIn[56], line 1\u001b[0m\n\u001b[1;32m----> 1\u001b[0m \u001b[38;5;28mnext\u001b[39m(t)\n",
      "\u001b[1;31mTypeError\u001b[0m: 'tuple' object is not an iterator"
     ]
    }
   ],
   "source": [
    "next(t)"
   ]
  },
  {
   "cell_type": "code",
   "execution_count": 57,
   "id": "0e2782ef",
   "metadata": {},
   "outputs": [],
   "source": [
    "t = iter(t)"
   ]
  },
  {
   "cell_type": "code",
   "execution_count": 58,
   "id": "8350f7b1",
   "metadata": {},
   "outputs": [
    {
     "data": {
      "text/plain": [
       "1"
      ]
     },
     "execution_count": 58,
     "metadata": {},
     "output_type": "execute_result"
    }
   ],
   "source": [
    "next(t)"
   ]
  },
  {
   "cell_type": "code",
   "execution_count": 2,
   "id": "0e5835a1",
   "metadata": {},
   "outputs": [],
   "source": [
    "def test4(n):\n",
    "    l = []\n",
    "    for i in range(n):\n",
    "        l.append(i ** 3)\n",
    "    return l"
   ]
  },
  {
   "cell_type": "code",
   "execution_count": null,
   "id": "6d51d914",
   "metadata": {},
   "outputs": [],
   "source": [
    "test4(60000)"
   ]
  },
  {
   "cell_type": "code",
   "execution_count": 1,
   "id": "6961d31d",
   "metadata": {},
   "outputs": [
    {
     "name": "stdout",
     "output_type": "stream",
     "text": [
      "5\n"
     ]
    }
   ],
   "source": [
    "print(5)"
   ]
  },
  {
   "cell_type": "code",
   "execution_count": 3,
   "id": "805f38e3",
   "metadata": {},
   "outputs": [],
   "source": [
    "#Generator\n",
    "def test5(n):\n",
    "    for i in range(n):\n",
    "        yield i ** 3"
   ]
  },
  {
   "cell_type": "code",
   "execution_count": 4,
   "id": "a74a6e97",
   "metadata": {
    "collapsed": true
   },
   "outputs": [
    {
     "name": "stdout",
     "output_type": "stream",
     "text": [
      "0\n",
      "1\n",
      "8\n",
      "27\n",
      "64\n",
      "125\n",
      "216\n",
      "343\n",
      "512\n",
      "729\n",
      "1000\n",
      "1331\n",
      "1728\n",
      "2197\n",
      "2744\n",
      "3375\n",
      "4096\n",
      "4913\n",
      "5832\n",
      "6859\n",
      "8000\n",
      "9261\n",
      "10648\n",
      "12167\n",
      "13824\n",
      "15625\n",
      "17576\n",
      "19683\n",
      "21952\n",
      "24389\n",
      "27000\n",
      "29791\n",
      "32768\n",
      "35937\n",
      "39304\n",
      "42875\n",
      "46656\n",
      "50653\n",
      "54872\n",
      "59319\n",
      "64000\n",
      "68921\n",
      "74088\n",
      "79507\n",
      "85184\n",
      "91125\n",
      "97336\n",
      "103823\n",
      "110592\n",
      "117649\n",
      "125000\n",
      "132651\n",
      "140608\n",
      "148877\n",
      "157464\n",
      "166375\n",
      "175616\n",
      "185193\n",
      "195112\n",
      "205379\n",
      "216000\n",
      "226981\n",
      "238328\n",
      "250047\n",
      "262144\n",
      "274625\n",
      "287496\n",
      "300763\n",
      "314432\n",
      "328509\n",
      "343000\n",
      "357911\n",
      "373248\n",
      "389017\n",
      "405224\n",
      "421875\n",
      "438976\n",
      "456533\n",
      "474552\n",
      "493039\n",
      "512000\n",
      "531441\n",
      "551368\n",
      "571787\n",
      "592704\n",
      "614125\n",
      "636056\n",
      "658503\n",
      "681472\n",
      "704969\n",
      "729000\n",
      "753571\n",
      "778688\n",
      "804357\n",
      "830584\n",
      "857375\n",
      "884736\n",
      "912673\n",
      "941192\n",
      "970299\n",
      "1000000\n",
      "1030301\n",
      "1061208\n",
      "1092727\n",
      "1124864\n",
      "1157625\n",
      "1191016\n",
      "1225043\n",
      "1259712\n",
      "1295029\n",
      "1331000\n",
      "1367631\n",
      "1404928\n",
      "1442897\n",
      "1481544\n",
      "1520875\n",
      "1560896\n",
      "1601613\n",
      "1643032\n",
      "1685159\n",
      "1728000\n",
      "1771561\n",
      "1815848\n",
      "1860867\n",
      "1906624\n",
      "1953125\n",
      "2000376\n",
      "2048383\n",
      "2097152\n",
      "2146689\n",
      "2197000\n",
      "2248091\n",
      "2299968\n",
      "2352637\n",
      "2406104\n",
      "2460375\n",
      "2515456\n",
      "2571353\n",
      "2628072\n",
      "2685619\n",
      "2744000\n",
      "2803221\n",
      "2863288\n",
      "2924207\n",
      "2985984\n",
      "3048625\n",
      "3112136\n",
      "3176523\n",
      "3241792\n",
      "3307949\n",
      "3375000\n",
      "3442951\n",
      "3511808\n",
      "3581577\n",
      "3652264\n",
      "3723875\n",
      "3796416\n",
      "3869893\n",
      "3944312\n",
      "4019679\n",
      "4096000\n",
      "4173281\n",
      "4251528\n",
      "4330747\n",
      "4410944\n",
      "4492125\n",
      "4574296\n",
      "4657463\n",
      "4741632\n",
      "4826809\n",
      "4913000\n",
      "5000211\n",
      "5088448\n",
      "5177717\n",
      "5268024\n",
      "5359375\n",
      "5451776\n",
      "5545233\n",
      "5639752\n",
      "5735339\n",
      "5832000\n",
      "5929741\n",
      "6028568\n",
      "6128487\n",
      "6229504\n",
      "6331625\n",
      "6434856\n",
      "6539203\n",
      "6644672\n",
      "6751269\n",
      "6859000\n",
      "6967871\n",
      "7077888\n",
      "7189057\n",
      "7301384\n",
      "7414875\n",
      "7529536\n",
      "7645373\n",
      "7762392\n",
      "7880599\n",
      "8000000\n",
      "8120601\n",
      "8242408\n",
      "8365427\n",
      "8489664\n",
      "8615125\n",
      "8741816\n",
      "8869743\n",
      "8998912\n",
      "9129329\n",
      "9261000\n",
      "9393931\n",
      "9528128\n",
      "9663597\n",
      "9800344\n",
      "9938375\n",
      "10077696\n",
      "10218313\n",
      "10360232\n",
      "10503459\n",
      "10648000\n",
      "10793861\n",
      "10941048\n",
      "11089567\n",
      "11239424\n",
      "11390625\n",
      "11543176\n",
      "11697083\n",
      "11852352\n",
      "12008989\n",
      "12167000\n",
      "12326391\n",
      "12487168\n",
      "12649337\n",
      "12812904\n",
      "12977875\n",
      "13144256\n",
      "13312053\n",
      "13481272\n",
      "13651919\n",
      "13824000\n",
      "13997521\n",
      "14172488\n",
      "14348907\n",
      "14526784\n",
      "14706125\n",
      "14886936\n",
      "15069223\n",
      "15252992\n",
      "15438249\n",
      "15625000\n",
      "15813251\n",
      "16003008\n",
      "16194277\n",
      "16387064\n",
      "16581375\n",
      "16777216\n",
      "16974593\n",
      "17173512\n",
      "17373979\n",
      "17576000\n",
      "17779581\n",
      "17984728\n",
      "18191447\n",
      "18399744\n",
      "18609625\n",
      "18821096\n",
      "19034163\n",
      "19248832\n",
      "19465109\n",
      "19683000\n",
      "19902511\n",
      "20123648\n",
      "20346417\n",
      "20570824\n",
      "20796875\n",
      "21024576\n",
      "21253933\n",
      "21484952\n",
      "21717639\n",
      "21952000\n",
      "22188041\n",
      "22425768\n",
      "22665187\n",
      "22906304\n",
      "23149125\n",
      "23393656\n",
      "23639903\n",
      "23887872\n",
      "24137569\n",
      "24389000\n",
      "24642171\n",
      "24897088\n",
      "25153757\n",
      "25412184\n",
      "25672375\n",
      "25934336\n",
      "26198073\n",
      "26463592\n",
      "26730899\n",
      "27000000\n",
      "27270901\n",
      "27543608\n",
      "27818127\n",
      "28094464\n",
      "28372625\n",
      "28652616\n",
      "28934443\n",
      "29218112\n",
      "29503629\n",
      "29791000\n",
      "30080231\n",
      "30371328\n",
      "30664297\n",
      "30959144\n",
      "31255875\n",
      "31554496\n",
      "31855013\n",
      "32157432\n",
      "32461759\n",
      "32768000\n",
      "33076161\n",
      "33386248\n",
      "33698267\n",
      "34012224\n",
      "34328125\n",
      "34645976\n",
      "34965783\n",
      "35287552\n",
      "35611289\n",
      "35937000\n",
      "36264691\n",
      "36594368\n",
      "36926037\n",
      "37259704\n",
      "37595375\n",
      "37933056\n",
      "38272753\n",
      "38614472\n",
      "38958219\n",
      "39304000\n",
      "39651821\n",
      "40001688\n",
      "40353607\n",
      "40707584\n",
      "41063625\n",
      "41421736\n",
      "41781923\n",
      "42144192\n",
      "42508549\n",
      "42875000\n",
      "43243551\n",
      "43614208\n",
      "43986977\n",
      "44361864\n",
      "44738875\n",
      "45118016\n",
      "45499293\n",
      "45882712\n",
      "46268279\n",
      "46656000\n",
      "47045881\n",
      "47437928\n",
      "47832147\n",
      "48228544\n",
      "48627125\n",
      "49027896\n",
      "49430863\n",
      "49836032\n",
      "50243409\n",
      "50653000\n",
      "51064811\n",
      "51478848\n",
      "51895117\n",
      "52313624\n",
      "52734375\n",
      "53157376\n",
      "53582633\n",
      "54010152\n",
      "54439939\n",
      "54872000\n",
      "55306341\n",
      "55742968\n",
      "56181887\n",
      "56623104\n",
      "57066625\n",
      "57512456\n",
      "57960603\n",
      "58411072\n",
      "58863869\n",
      "59319000\n",
      "59776471\n",
      "60236288\n",
      "60698457\n",
      "61162984\n",
      "61629875\n",
      "62099136\n",
      "62570773\n",
      "63044792\n",
      "63521199\n",
      "64000000\n",
      "64481201\n",
      "64964808\n",
      "65450827\n",
      "65939264\n",
      "66430125\n",
      "66923416\n",
      "67419143\n",
      "67917312\n",
      "68417929\n",
      "68921000\n",
      "69426531\n",
      "69934528\n",
      "70444997\n",
      "70957944\n",
      "71473375\n",
      "71991296\n",
      "72511713\n",
      "73034632\n",
      "73560059\n",
      "74088000\n",
      "74618461\n",
      "75151448\n",
      "75686967\n",
      "76225024\n",
      "76765625\n",
      "77308776\n",
      "77854483\n",
      "78402752\n",
      "78953589\n",
      "79507000\n",
      "80062991\n",
      "80621568\n",
      "81182737\n",
      "81746504\n",
      "82312875\n",
      "82881856\n",
      "83453453\n",
      "84027672\n",
      "84604519\n",
      "85184000\n",
      "85766121\n",
      "86350888\n",
      "86938307\n",
      "87528384\n",
      "88121125\n",
      "88716536\n",
      "89314623\n",
      "89915392\n",
      "90518849\n",
      "91125000\n",
      "91733851\n",
      "92345408\n",
      "92959677\n",
      "93576664\n",
      "94196375\n",
      "94818816\n",
      "95443993\n",
      "96071912\n",
      "96702579\n",
      "97336000\n",
      "97972181\n",
      "98611128\n",
      "99252847\n",
      "99897344\n",
      "100544625\n",
      "101194696\n",
      "101847563\n",
      "102503232\n",
      "103161709\n",
      "103823000\n",
      "104487111\n",
      "105154048\n",
      "105823817\n",
      "106496424\n",
      "107171875\n",
      "107850176\n",
      "108531333\n",
      "109215352\n",
      "109902239\n",
      "110592000\n",
      "111284641\n",
      "111980168\n",
      "112678587\n",
      "113379904\n",
      "114084125\n",
      "114791256\n",
      "115501303\n",
      "116214272\n",
      "116930169\n",
      "117649000\n",
      "118370771\n",
      "119095488\n",
      "119823157\n",
      "120553784\n",
      "121287375\n",
      "122023936\n",
      "122763473\n",
      "123505992\n",
      "124251499\n",
      "125000000\n",
      "125751501\n",
      "126506008\n",
      "127263527\n",
      "128024064\n",
      "128787625\n",
      "129554216\n",
      "130323843\n",
      "131096512\n",
      "131872229\n",
      "132651000\n",
      "133432831\n",
      "134217728\n",
      "135005697\n",
      "135796744\n",
      "136590875\n",
      "137388096\n",
      "138188413\n",
      "138991832\n",
      "139798359\n",
      "140608000\n",
      "141420761\n",
      "142236648\n",
      "143055667\n",
      "143877824\n",
      "144703125\n",
      "145531576\n",
      "146363183\n",
      "147197952\n",
      "148035889\n",
      "148877000\n",
      "149721291\n",
      "150568768\n",
      "151419437\n",
      "152273304\n",
      "153130375\n",
      "153990656\n",
      "154854153\n",
      "155720872\n",
      "156590819\n",
      "157464000\n",
      "158340421\n",
      "159220088\n",
      "160103007\n",
      "160989184\n",
      "161878625\n",
      "162771336\n",
      "163667323\n",
      "164566592\n",
      "165469149\n",
      "166375000\n",
      "167284151\n",
      "168196608\n",
      "169112377\n",
      "170031464\n",
      "170953875\n",
      "171879616\n",
      "172808693\n",
      "173741112\n",
      "174676879\n",
      "175616000\n",
      "176558481\n",
      "177504328\n",
      "178453547\n",
      "179406144\n",
      "180362125\n",
      "181321496\n",
      "182284263\n",
      "183250432\n",
      "184220009\n",
      "185193000\n",
      "186169411\n",
      "187149248\n",
      "188132517\n",
      "189119224\n",
      "190109375\n",
      "191102976\n",
      "192100033\n",
      "193100552\n",
      "194104539\n",
      "195112000\n",
      "196122941\n",
      "197137368\n",
      "198155287\n",
      "199176704\n",
      "200201625\n",
      "201230056\n",
      "202262003\n",
      "203297472\n",
      "204336469\n",
      "205379000\n",
      "206425071\n",
      "207474688\n",
      "208527857\n",
      "209584584\n",
      "210644875\n",
      "211708736\n",
      "212776173\n",
      "213847192\n",
      "214921799\n"
     ]
    }
   ],
   "source": [
    "for i in test5(600):\n",
    "    print(i)"
   ]
  },
  {
   "cell_type": "code",
   "execution_count": 3,
   "id": "7972ab88",
   "metadata": {},
   "outputs": [
    {
     "data": {
      "text/plain": [
       "<generator object test5 at 0x000002294BDC5BE0>"
      ]
     },
     "execution_count": 3,
     "metadata": {},
     "output_type": "execute_result"
    }
   ],
   "source": [
    "test5(30)"
   ]
  },
  {
   "cell_type": "code",
   "execution_count": null,
   "id": "3729ebea",
   "metadata": {},
   "outputs": [],
   "source": []
  },
  {
   "cell_type": "code",
   "execution_count": 4,
   "id": "c4e8020f",
   "metadata": {},
   "outputs": [
    {
     "data": {
      "text/plain": [
       "range(1, 10)"
      ]
     },
     "execution_count": 4,
     "metadata": {},
     "output_type": "execute_result"
    }
   ],
   "source": [
    "range(1, 10)"
   ]
  },
  {
   "cell_type": "code",
   "execution_count": 5,
   "id": "dd5fd5c9",
   "metadata": {},
   "outputs": [
    {
     "data": {
      "text/plain": [
       "range"
      ]
     },
     "execution_count": 5,
     "metadata": {},
     "output_type": "execute_result"
    }
   ],
   "source": [
    "type(range(1, 10))"
   ]
  },
  {
   "cell_type": "code",
   "execution_count": 6,
   "id": "151dc2ba",
   "metadata": {},
   "outputs": [
    {
     "data": {
      "text/plain": [
       "[1, 2, 3, 4, 5, 6, 7, 8, 9]"
      ]
     },
     "execution_count": 6,
     "metadata": {},
     "output_type": "execute_result"
    }
   ],
   "source": [
    "list(range(1, 10))"
   ]
  },
  {
   "cell_type": "code",
   "execution_count": 24,
   "id": "85b38436",
   "metadata": {},
   "outputs": [],
   "source": [
    "def genfib(n):\n",
    "    a = 1\n",
    "    b = 1\n",
    "    output = []\n",
    "    \n",
    "    for i in range(n):\n",
    "        if i == 0:\n",
    "            output.append(i)\n",
    "        output.append(a)\n",
    "        a, b = b, a + b\n",
    "    return output"
   ]
  },
  {
   "cell_type": "code",
   "execution_count": 25,
   "id": "88923277",
   "metadata": {},
   "outputs": [
    {
     "data": {
      "text/plain": [
       "[0, 1, 1, 2, 3, 5, 8, 13, 21, 34, 55]"
      ]
     },
     "execution_count": 25,
     "metadata": {},
     "output_type": "execute_result"
    }
   ],
   "source": [
    "genfib(10)"
   ]
  },
  {
   "cell_type": "markdown",
   "id": "7ef4e805",
   "metadata": {},
   "source": [
    "## File in Python"
   ]
  },
  {
   "cell_type": "code",
   "execution_count": 1,
   "id": "a925ae3c",
   "metadata": {},
   "outputs": [
    {
     "ename": "FileNotFoundError",
     "evalue": "[Errno 2] No such file or directory: 'text.text'",
     "output_type": "error",
     "traceback": [
      "\u001b[1;31m---------------------------------------------------------------------------\u001b[0m",
      "\u001b[1;31mFileNotFoundError\u001b[0m                         Traceback (most recent call last)",
      "Cell \u001b[1;32mIn[1], line 1\u001b[0m\n\u001b[1;32m----> 1\u001b[0m f \u001b[38;5;241m=\u001b[39m \u001b[38;5;28mopen\u001b[39m(\u001b[38;5;124m\"\u001b[39m\u001b[38;5;124mtext.text\u001b[39m\u001b[38;5;124m\"\u001b[39m)\n",
      "File \u001b[1;32mE:\\Anaconda\\Lib\\site-packages\\IPython\\core\\interactiveshell.py:286\u001b[0m, in \u001b[0;36m_modified_open\u001b[1;34m(file, *args, **kwargs)\u001b[0m\n\u001b[0;32m    279\u001b[0m \u001b[38;5;28;01mif\u001b[39;00m file \u001b[38;5;129;01min\u001b[39;00m {\u001b[38;5;241m0\u001b[39m, \u001b[38;5;241m1\u001b[39m, \u001b[38;5;241m2\u001b[39m}:\n\u001b[0;32m    280\u001b[0m     \u001b[38;5;28;01mraise\u001b[39;00m \u001b[38;5;167;01mValueError\u001b[39;00m(\n\u001b[0;32m    281\u001b[0m         \u001b[38;5;124mf\u001b[39m\u001b[38;5;124m\"\u001b[39m\u001b[38;5;124mIPython won\u001b[39m\u001b[38;5;124m'\u001b[39m\u001b[38;5;124mt let you open fd=\u001b[39m\u001b[38;5;132;01m{\u001b[39;00mfile\u001b[38;5;132;01m}\u001b[39;00m\u001b[38;5;124m by default \u001b[39m\u001b[38;5;124m\"\u001b[39m\n\u001b[0;32m    282\u001b[0m         \u001b[38;5;124m\"\u001b[39m\u001b[38;5;124mas it is likely to crash IPython. If you know what you are doing, \u001b[39m\u001b[38;5;124m\"\u001b[39m\n\u001b[0;32m    283\u001b[0m         \u001b[38;5;124m\"\u001b[39m\u001b[38;5;124myou can use builtins\u001b[39m\u001b[38;5;124m'\u001b[39m\u001b[38;5;124m open.\u001b[39m\u001b[38;5;124m\"\u001b[39m\n\u001b[0;32m    284\u001b[0m     )\n\u001b[1;32m--> 286\u001b[0m \u001b[38;5;28;01mreturn\u001b[39;00m io_open(file, \u001b[38;5;241m*\u001b[39margs, \u001b[38;5;241m*\u001b[39m\u001b[38;5;241m*\u001b[39mkwargs)\n",
      "\u001b[1;31mFileNotFoundError\u001b[0m: [Errno 2] No such file or directory: 'text.text'"
     ]
    }
   ],
   "source": [
    "f = open(\"text.text\")"
   ]
  },
  {
   "cell_type": "code",
   "execution_count": 13,
   "id": "f0e01672",
   "metadata": {},
   "outputs": [],
   "source": [
    "f = open(\"text.text\", \"w\") #if text file does not exist then \"w\" will create that file"
   ]
  },
  {
   "cell_type": "code",
   "execution_count": 14,
   "id": "dcb88375",
   "metadata": {},
   "outputs": [
    {
     "data": {
      "text/plain": [
       "12"
      ]
     },
     "execution_count": 14,
     "metadata": {},
     "output_type": "execute_result"
    }
   ],
   "source": [
    "f.write(\"Hello World!\")"
   ]
  },
  {
   "cell_type": "code",
   "execution_count": 15,
   "id": "486c8d6d",
   "metadata": {},
   "outputs": [],
   "source": [
    "f.close()"
   ]
  },
  {
   "cell_type": "code",
   "execution_count": 17,
   "id": "2cc5d969",
   "metadata": {},
   "outputs": [],
   "source": [
    "f = open(\"text.text\")"
   ]
  },
  {
   "cell_type": "code",
   "execution_count": 19,
   "id": "ed21263b",
   "metadata": {},
   "outputs": [
    {
     "data": {
      "text/plain": [
       "\"\\nfdfjff\\nfffff\\ndffff\\nfgfgjg\\ngfokj\\nfgjf\\ngjfjs\\nfogjgj\\nsfjgijf\\ngfjj\\n'ggojfg\\ngg\\nffffjjf\\nfjgfjggggg\\nfgggk\\n\""
      ]
     },
     "execution_count": 19,
     "metadata": {},
     "output_type": "execute_result"
    }
   ],
   "source": [
    "f.read()"
   ]
  },
  {
   "cell_type": "code",
   "execution_count": 20,
   "id": "9dd36d8d",
   "metadata": {},
   "outputs": [
    {
     "data": {
      "text/plain": [
       "''"
      ]
     },
     "execution_count": 20,
     "metadata": {},
     "output_type": "execute_result"
    }
   ],
   "source": [
    "f.read() #cursor in last position"
   ]
  },
  {
   "cell_type": "code",
   "execution_count": 21,
   "id": "1ead5c08",
   "metadata": {},
   "outputs": [
    {
     "data": {
      "text/plain": [
       "10"
      ]
     },
     "execution_count": 21,
     "metadata": {},
     "output_type": "execute_result"
    }
   ],
   "source": [
    "f.seek(10) #resetinng cursor to new position"
   ]
  },
  {
   "cell_type": "code",
   "execution_count": 22,
   "id": "0f55ef4b",
   "metadata": {},
   "outputs": [
    {
     "data": {
      "text/plain": [
       "\"d!\\nfdfjff\\nfffff\\ndffff\\nfgfgjg\\ngfokj\\nfgjf\\ngjfjs\\nfogjgj\\nsfjgijf\\ngfjj\\n'ggojfg\\ngg\\nffffjjf\\nfjgfjggggg\\nfgggk\\n\""
      ]
     },
     "execution_count": 22,
     "metadata": {},
     "output_type": "execute_result"
    }
   ],
   "source": [
    "f.read()"
   ]
  },
  {
   "cell_type": "code",
   "execution_count": 23,
   "id": "70a56707",
   "metadata": {},
   "outputs": [
    {
     "ename": "FileNotFoundError",
     "evalue": "[Errno 2] No such file or directory: 'test.txt'",
     "output_type": "error",
     "traceback": [
      "\u001b[1;31m---------------------------------------------------------------------------\u001b[0m",
      "\u001b[1;31mFileNotFoundError\u001b[0m                         Traceback (most recent call last)",
      "Cell \u001b[1;32mIn[23], line 1\u001b[0m\n\u001b[1;32m----> 1\u001b[0m f \u001b[38;5;241m=\u001b[39m \u001b[38;5;28mopen\u001b[39m(\u001b[38;5;124m\"\u001b[39m\u001b[38;5;124mtest.txt\u001b[39m\u001b[38;5;124m\"\u001b[39m, \u001b[38;5;124m\"\u001b[39m\u001b[38;5;124mr\u001b[39m\u001b[38;5;124m\"\u001b[39m)\n",
      "File \u001b[1;32mE:\\Anaconda\\Lib\\site-packages\\IPython\\core\\interactiveshell.py:286\u001b[0m, in \u001b[0;36m_modified_open\u001b[1;34m(file, *args, **kwargs)\u001b[0m\n\u001b[0;32m    279\u001b[0m \u001b[38;5;28;01mif\u001b[39;00m file \u001b[38;5;129;01min\u001b[39;00m {\u001b[38;5;241m0\u001b[39m, \u001b[38;5;241m1\u001b[39m, \u001b[38;5;241m2\u001b[39m}:\n\u001b[0;32m    280\u001b[0m     \u001b[38;5;28;01mraise\u001b[39;00m \u001b[38;5;167;01mValueError\u001b[39;00m(\n\u001b[0;32m    281\u001b[0m         \u001b[38;5;124mf\u001b[39m\u001b[38;5;124m\"\u001b[39m\u001b[38;5;124mIPython won\u001b[39m\u001b[38;5;124m'\u001b[39m\u001b[38;5;124mt let you open fd=\u001b[39m\u001b[38;5;132;01m{\u001b[39;00mfile\u001b[38;5;132;01m}\u001b[39;00m\u001b[38;5;124m by default \u001b[39m\u001b[38;5;124m\"\u001b[39m\n\u001b[0;32m    282\u001b[0m         \u001b[38;5;124m\"\u001b[39m\u001b[38;5;124mas it is likely to crash IPython. If you know what you are doing, \u001b[39m\u001b[38;5;124m\"\u001b[39m\n\u001b[0;32m    283\u001b[0m         \u001b[38;5;124m\"\u001b[39m\u001b[38;5;124myou can use builtins\u001b[39m\u001b[38;5;124m'\u001b[39m\u001b[38;5;124m open.\u001b[39m\u001b[38;5;124m\"\u001b[39m\n\u001b[0;32m    284\u001b[0m     )\n\u001b[1;32m--> 286\u001b[0m \u001b[38;5;28;01mreturn\u001b[39;00m io_open(file, \u001b[38;5;241m*\u001b[39margs, \u001b[38;5;241m*\u001b[39m\u001b[38;5;241m*\u001b[39mkwargs)\n",
      "\u001b[1;31mFileNotFoundError\u001b[0m: [Errno 2] No such file or directory: 'test.txt'"
     ]
    }
   ],
   "source": [
    "f = open(\"test.txt\", \"r\")"
   ]
  },
  {
   "cell_type": "code",
   "execution_count": 24,
   "id": "58f84af9",
   "metadata": {},
   "outputs": [],
   "source": [
    "f = open(\"test.txt\", \"w\")"
   ]
  },
  {
   "cell_type": "code",
   "execution_count": 25,
   "id": "ebb13dfd",
   "metadata": {},
   "outputs": [],
   "source": [
    "f = open(\"test.txt\", \"r\")"
   ]
  },
  {
   "cell_type": "code",
   "execution_count": 26,
   "id": "cd566c23",
   "metadata": {},
   "outputs": [
    {
     "ename": "UnsupportedOperation",
     "evalue": "not writable",
     "output_type": "error",
     "traceback": [
      "\u001b[1;31m---------------------------------------------------------------------------\u001b[0m",
      "\u001b[1;31mUnsupportedOperation\u001b[0m                      Traceback (most recent call last)",
      "Cell \u001b[1;32mIn[26], line 1\u001b[0m\n\u001b[1;32m----> 1\u001b[0m f\u001b[38;5;241m.\u001b[39mwrite(\u001b[38;5;124m\"\u001b[39m\u001b[38;5;124mtest file\u001b[39m\u001b[38;5;124m\"\u001b[39m)\n",
      "\u001b[1;31mUnsupportedOperation\u001b[0m: not writable"
     ]
    }
   ],
   "source": [
    "f.write(\"test file\")"
   ]
  },
  {
   "cell_type": "code",
   "execution_count": 27,
   "id": "3fec3781",
   "metadata": {},
   "outputs": [
    {
     "data": {
      "text/plain": [
       "'Hello'"
      ]
     },
     "execution_count": 27,
     "metadata": {},
     "output_type": "execute_result"
    }
   ],
   "source": [
    "f.read(5) #read n characters from current cursor position"
   ]
  },
  {
   "cell_type": "code",
   "execution_count": 28,
   "id": "884f0375",
   "metadata": {},
   "outputs": [],
   "source": [
    "f.close()"
   ]
  },
  {
   "cell_type": "code",
   "execution_count": 30,
   "id": "9671eade",
   "metadata": {},
   "outputs": [],
   "source": [
    "f = open(\"test.txt\", \"w\")"
   ]
  },
  {
   "cell_type": "code",
   "execution_count": 31,
   "id": "4ec7715d",
   "metadata": {},
   "outputs": [
    {
     "data": {
      "text/plain": [
       "5"
      ]
     },
     "execution_count": 31,
     "metadata": {},
     "output_type": "execute_result"
    }
   ],
   "source": [
    "f.write(\"Hello\")"
   ]
  },
  {
   "cell_type": "code",
   "execution_count": 33,
   "id": "9c3dff77",
   "metadata": {},
   "outputs": [],
   "source": [
    "f.close()"
   ]
  },
  {
   "cell_type": "code",
   "execution_count": 34,
   "id": "a3b36a81",
   "metadata": {},
   "outputs": [],
   "source": [
    "f = open(\"test.txt\", \"w\")"
   ]
  },
  {
   "cell_type": "code",
   "execution_count": 35,
   "id": "b9f6d9f2",
   "metadata": {},
   "outputs": [
    {
     "data": {
      "text/plain": [
       "19"
      ]
     },
     "execution_count": 35,
     "metadata": {},
     "output_type": "execute_result"
    }
   ],
   "source": [
    "f.write(\"AAAAAAAAAAAAAAAAAAA\")"
   ]
  },
  {
   "cell_type": "code",
   "execution_count": 36,
   "id": "a032f440",
   "metadata": {},
   "outputs": [],
   "source": [
    "f.close()"
   ]
  },
  {
   "cell_type": "code",
   "execution_count": 37,
   "id": "4c8d4eb3",
   "metadata": {},
   "outputs": [],
   "source": [
    "f = open(\"test.txt\", \"a\")"
   ]
  },
  {
   "cell_type": "code",
   "execution_count": 38,
   "id": "a0f8b40c",
   "metadata": {},
   "outputs": [
    {
     "data": {
      "text/plain": [
       "26"
      ]
     },
     "execution_count": 38,
     "metadata": {},
     "output_type": "execute_result"
    }
   ],
   "source": [
    "f.write(\"ABCDEFGHIJKLMNOPQRSTUVWXYZ\")"
   ]
  },
  {
   "cell_type": "code",
   "execution_count": 39,
   "id": "37d1d179",
   "metadata": {},
   "outputs": [],
   "source": [
    "f.close()"
   ]
  },
  {
   "cell_type": "code",
   "execution_count": 41,
   "id": "5f90666c",
   "metadata": {},
   "outputs": [],
   "source": [
    "f = open(\"test1.txt\", \"a\") #in append mode also file does not exist same name then it will create new file"
   ]
  },
  {
   "cell_type": "code",
   "execution_count": 43,
   "id": "ef5e71f3",
   "metadata": {},
   "outputs": [],
   "source": [
    "f = open(\"test2.txt\", \"wb\")"
   ]
  },
  {
   "cell_type": "code",
   "execution_count": 44,
   "id": "82953185",
   "metadata": {},
   "outputs": [
    {
     "ename": "TypeError",
     "evalue": "a bytes-like object is required, not 'str'",
     "output_type": "error",
     "traceback": [
      "\u001b[1;31m---------------------------------------------------------------------------\u001b[0m",
      "\u001b[1;31mTypeError\u001b[0m                                 Traceback (most recent call last)",
      "Cell \u001b[1;32mIn[44], line 1\u001b[0m\n\u001b[1;32m----> 1\u001b[0m f\u001b[38;5;241m.\u001b[39mwrite(\u001b[38;5;124m\"\u001b[39m\u001b[38;5;124mvithusan\u001b[39m\u001b[38;5;124m\"\u001b[39m)\n",
      "\u001b[1;31mTypeError\u001b[0m: a bytes-like object is required, not 'str'"
     ]
    }
   ],
   "source": [
    "f.write(\"vithusan\")"
   ]
  },
  {
   "cell_type": "code",
   "execution_count": 45,
   "id": "9c2a56e6",
   "metadata": {},
   "outputs": [
    {
     "data": {
      "text/plain": [
       "8"
      ]
     },
     "execution_count": 45,
     "metadata": {},
     "output_type": "execute_result"
    }
   ],
   "source": [
    "f.write(b\"vithusan\")"
   ]
  },
  {
   "cell_type": "code",
   "execution_count": 46,
   "id": "152c4725",
   "metadata": {},
   "outputs": [],
   "source": [
    "f.close()"
   ]
  },
  {
   "cell_type": "code",
   "execution_count": 47,
   "id": "76043e78",
   "metadata": {},
   "outputs": [],
   "source": [
    "f = open(\"test2.txt\", \"r\")"
   ]
  },
  {
   "cell_type": "code",
   "execution_count": 48,
   "id": "1f788c64",
   "metadata": {},
   "outputs": [
    {
     "data": {
      "text/plain": [
       "'vithusan'"
      ]
     },
     "execution_count": 48,
     "metadata": {},
     "output_type": "execute_result"
    }
   ],
   "source": [
    "f.read()"
   ]
  },
  {
   "cell_type": "code",
   "execution_count": 49,
   "id": "a77d2a1c",
   "metadata": {},
   "outputs": [
    {
     "data": {
      "text/plain": [
       "2"
      ]
     },
     "execution_count": 49,
     "metadata": {},
     "output_type": "execute_result"
    }
   ],
   "source": [
    "f.seek(2)"
   ]
  },
  {
   "cell_type": "code",
   "execution_count": 50,
   "id": "19b457a1",
   "metadata": {},
   "outputs": [
    {
     "data": {
      "text/plain": [
       "'t'"
      ]
     },
     "execution_count": 50,
     "metadata": {},
     "output_type": "execute_result"
    }
   ],
   "source": [
    "f.read(1)"
   ]
  },
  {
   "cell_type": "code",
   "execution_count": 1,
   "id": "ea08386f",
   "metadata": {},
   "outputs": [
    {
     "ename": "NameError",
     "evalue": "name 'f' is not defined",
     "output_type": "error",
     "traceback": [
      "\u001b[1;31m---------------------------------------------------------------------------\u001b[0m",
      "\u001b[1;31mNameError\u001b[0m                                 Traceback (most recent call last)",
      "Cell \u001b[1;32mIn[1], line 1\u001b[0m\n\u001b[1;32m----> 1\u001b[0m f\u001b[38;5;241m.\u001b[39mseek(\u001b[38;5;241m-\u001b[39m\u001b[38;5;241m3\u001b[39m, \u001b[38;5;241m2\u001b[39m)\n",
      "\u001b[1;31mNameError\u001b[0m: name 'f' is not defined"
     ]
    }
   ],
   "source": [
    "f.seek(-3, 2)"
   ]
  },
  {
   "cell_type": "markdown",
   "id": "15a95b58",
   "metadata": {},
   "source": [
    "1. **Read Mode (`\"r\"`)**:\n",
    "   - Opens the file for reading only.\n",
    "   - The file pointer is placed at the beginning of the file.\n",
    "   - This is the default mode.\n",
    "   - **Writing is not allowed**.\n",
    "\n",
    "2. **Write Mode (`\"w\"`)**:\n",
    "   - Opens the file for writing.\n",
    "   - If the file does not exist, it creates a new file.\n",
    "   - If the file exists, it truncates the file (i.e., it empties the file).\n",
    "   - **Writing is allowed**.\n",
    "\n",
    "3. **Append Mode (`\"a\"`)**:\n",
    "   - Opens the file for writing.\n",
    "   - If the file does not exist, it creates a new file.\n",
    "   - If the file exists, the file pointer is placed at the end of the file. The data being written will be inserted at the end, after the existing data.\n",
    "   - **Writing is allowed**.\n",
    "\n",
    "4. **Read and Write Mode (`\"r+\"`)**:\n",
    "   - Opens the file for both reading and writing.\n",
    "   - The file pointer is placed at the beginning of the file.\n",
    "   - **Writing is allowed**.\n",
    "\n",
    "5. **Write and Read Mode (`\"w+\"`)**:\n",
    "   - Opens the file for both writing and reading.\n",
    "   - If the file does not exist, it creates a new file.\n",
    "   - If the file exists, it truncates the file.\n",
    "   - **Writing is allowed**.\n",
    "\n",
    "6. **Append and Read Mode (`\"a+\"`)**:\n",
    "   - Opens the file for both writing and reading.\n",
    "   - If the file does not exist, it creates a new file.\n",
    "   - If the file exists, the file pointer is placed at the end of the file. The data being written will be inserted at the end, after the existing data.\n",
    "   - **Writing is allowed**.\n"
   ]
  },
  {
   "cell_type": "code",
   "execution_count": 2,
   "id": "f82089e1",
   "metadata": {},
   "outputs": [],
   "source": [
    "f = open(\"test5.txt\", \"a\")"
   ]
  },
  {
   "cell_type": "code",
   "execution_count": 3,
   "id": "60bd818a",
   "metadata": {},
   "outputs": [
    {
     "data": {
      "text/plain": [
       "14"
      ]
     },
     "execution_count": 3,
     "metadata": {},
     "output_type": "execute_result"
    }
   ],
   "source": [
    "f.write(\"iam test5 file\")"
   ]
  },
  {
   "cell_type": "code",
   "execution_count": 4,
   "id": "4434da92",
   "metadata": {},
   "outputs": [
    {
     "ename": "UnsupportedOperation",
     "evalue": "not readable",
     "output_type": "error",
     "traceback": [
      "\u001b[1;31m---------------------------------------------------------------------------\u001b[0m",
      "\u001b[1;31mUnsupportedOperation\u001b[0m                      Traceback (most recent call last)",
      "Cell \u001b[1;32mIn[4], line 1\u001b[0m\n\u001b[1;32m----> 1\u001b[0m f\u001b[38;5;241m.\u001b[39mread()\n",
      "\u001b[1;31mUnsupportedOperation\u001b[0m: not readable"
     ]
    }
   ],
   "source": [
    "f.read()"
   ]
  },
  {
   "cell_type": "code",
   "execution_count": 5,
   "id": "2a74619a",
   "metadata": {},
   "outputs": [],
   "source": [
    "f = open(\"test5.txt\", \"a+\")"
   ]
  },
  {
   "cell_type": "code",
   "execution_count": 6,
   "id": "f3d8cfe2",
   "metadata": {},
   "outputs": [
    {
     "data": {
      "text/plain": [
       "16"
      ]
     },
     "execution_count": 6,
     "metadata": {},
     "output_type": "execute_result"
    }
   ],
   "source": [
    "f.write(\"iam now in line2\")"
   ]
  },
  {
   "cell_type": "code",
   "execution_count": 7,
   "id": "4bb951d2",
   "metadata": {},
   "outputs": [
    {
     "data": {
      "text/plain": [
       "''"
      ]
     },
     "execution_count": 7,
     "metadata": {},
     "output_type": "execute_result"
    }
   ],
   "source": [
    "f.read()"
   ]
  },
  {
   "cell_type": "code",
   "execution_count": 8,
   "id": "cb9de025",
   "metadata": {},
   "outputs": [
    {
     "data": {
      "text/plain": [
       "0"
      ]
     },
     "execution_count": 8,
     "metadata": {},
     "output_type": "execute_result"
    }
   ],
   "source": [
    "f.seek(0)"
   ]
  },
  {
   "cell_type": "code",
   "execution_count": 9,
   "id": "b1f7ee21",
   "metadata": {},
   "outputs": [
    {
     "data": {
      "text/plain": [
       "'iam test5 fileiam now in line2'"
      ]
     },
     "execution_count": 9,
     "metadata": {},
     "output_type": "execute_result"
    }
   ],
   "source": [
    "f.read()"
   ]
  },
  {
   "cell_type": "code",
   "execution_count": 10,
   "id": "fddd71f2",
   "metadata": {},
   "outputs": [
    {
     "ename": "ValueError",
     "evalue": "invalid whence (23, should be 0, 1 or 2)",
     "output_type": "error",
     "traceback": [
      "\u001b[1;31m---------------------------------------------------------------------------\u001b[0m",
      "\u001b[1;31mValueError\u001b[0m                                Traceback (most recent call last)",
      "Cell \u001b[1;32mIn[10], line 1\u001b[0m\n\u001b[1;32m----> 1\u001b[0m f\u001b[38;5;241m.\u001b[39mseek(\u001b[38;5;241m-\u001b[39m\u001b[38;5;241m3\u001b[39m, \u001b[38;5;241m23\u001b[39m)\n",
      "\u001b[1;31mValueError\u001b[0m: invalid whence (23, should be 0, 1 or 2)"
     ]
    }
   ],
   "source": [
    "f.seek(-3, 23)"
   ]
  },
  {
   "cell_type": "code",
   "execution_count": 11,
   "id": "7f9b37e2",
   "metadata": {},
   "outputs": [],
   "source": [
    "f = open(\"test5.txt\", \"w\")"
   ]
  },
  {
   "cell_type": "code",
   "execution_count": 12,
   "id": "3343995e",
   "metadata": {},
   "outputs": [
    {
     "data": {
      "text/plain": [
       "35"
      ]
     },
     "execution_count": 12,
     "metadata": {},
     "output_type": "execute_result"
    }
   ],
   "source": [
    "f.write(\"kshjfhhffdhfhf dflfjhfh ldkhgh lkgg\")"
   ]
  },
  {
   "cell_type": "code",
   "execution_count": 13,
   "id": "96e884d7",
   "metadata": {},
   "outputs": [],
   "source": [
    "f.close()"
   ]
  },
  {
   "cell_type": "code",
   "execution_count": 14,
   "id": "257b357d",
   "metadata": {},
   "outputs": [],
   "source": [
    "f = open(\"test5.txt\", \"r\")"
   ]
  },
  {
   "cell_type": "code",
   "execution_count": 15,
   "id": "cdc3aa90",
   "metadata": {},
   "outputs": [
    {
     "data": {
      "text/plain": [
       "'kshjfhhffdhfhf dflfjhfh ldkhgh lkgg'"
      ]
     },
     "execution_count": 15,
     "metadata": {},
     "output_type": "execute_result"
    }
   ],
   "source": [
    "f.read()"
   ]
  },
  {
   "cell_type": "code",
   "execution_count": 16,
   "id": "c4a1b80d",
   "metadata": {},
   "outputs": [
    {
     "data": {
      "text/plain": [
       "'gg\\nkshj\\nfhhffdhfhf\\ndflfjhfh ldk\\nhgh lkggkshj\\nfhhffdhfhf\\ndflfjhfh ldk\\nhgh lkgg\\nkshj\\nfhhffdhfhf\\ndflfjhfh ldk\\nhgh lkgg\\nkshj\\nfhhffdhfhf\\ndflfjhfh ldk\\nhgh lkgg\\nkshj\\nfhhffdhfhf\\ndflfjhfh ldk\\nhgh lkgg\\nkshj\\nfhhffdhfhf\\ndflfjhfh ldk\\nhgh lkgg\\nkshj\\nfhhffdhfhf\\ndflfjhfh ldk\\nhgh lkgg\\n'"
      ]
     },
     "execution_count": 16,
     "metadata": {},
     "output_type": "execute_result"
    }
   ],
   "source": [
    "f.read()"
   ]
  },
  {
   "cell_type": "code",
   "execution_count": 17,
   "id": "5c972c5a",
   "metadata": {},
   "outputs": [
    {
     "data": {
      "text/plain": [
       "''"
      ]
     },
     "execution_count": 17,
     "metadata": {},
     "output_type": "execute_result"
    }
   ],
   "source": [
    "f.readline()"
   ]
  },
  {
   "cell_type": "code",
   "execution_count": 18,
   "id": "9fa32a44",
   "metadata": {},
   "outputs": [
    {
     "data": {
      "text/plain": [
       "0"
      ]
     },
     "execution_count": 18,
     "metadata": {},
     "output_type": "execute_result"
    }
   ],
   "source": [
    "f.seek(0)"
   ]
  },
  {
   "cell_type": "code",
   "execution_count": 19,
   "id": "8d45b797",
   "metadata": {},
   "outputs": [
    {
     "data": {
      "text/plain": [
       "'kshj\\n'"
      ]
     },
     "execution_count": 19,
     "metadata": {},
     "output_type": "execute_result"
    }
   ],
   "source": [
    "f.readline() #read one line at a time"
   ]
  },
  {
   "cell_type": "code",
   "execution_count": 20,
   "id": "80530e8c",
   "metadata": {},
   "outputs": [
    {
     "data": {
      "text/plain": [
       "'fhhffdhfhf\\n'"
      ]
     },
     "execution_count": 20,
     "metadata": {},
     "output_type": "execute_result"
    }
   ],
   "source": [
    "f.readline()"
   ]
  },
  {
   "cell_type": "code",
   "execution_count": 21,
   "id": "f6cb1a63",
   "metadata": {},
   "outputs": [
    {
     "data": {
      "text/plain": [
       "'dflfjhfh ldk\\n'"
      ]
     },
     "execution_count": 21,
     "metadata": {},
     "output_type": "execute_result"
    }
   ],
   "source": [
    "f.readline()"
   ]
  },
  {
   "cell_type": "code",
   "execution_count": 22,
   "id": "17456509",
   "metadata": {},
   "outputs": [
    {
     "data": {
      "text/plain": [
       "'hgh lkgg\\n'"
      ]
     },
     "execution_count": 22,
     "metadata": {},
     "output_type": "execute_result"
    }
   ],
   "source": [
    "f.readline()"
   ]
  },
  {
   "cell_type": "code",
   "execution_count": 23,
   "id": "cc3600d5",
   "metadata": {},
   "outputs": [
    {
     "data": {
      "text/plain": [
       "'kshj\\n'"
      ]
     },
     "execution_count": 23,
     "metadata": {},
     "output_type": "execute_result"
    }
   ],
   "source": [
    "f.readline()"
   ]
  },
  {
   "cell_type": "code",
   "execution_count": 24,
   "id": "47ce8d07",
   "metadata": {},
   "outputs": [
    {
     "data": {
      "text/plain": [
       "'fhhffdhfhf'"
      ]
     },
     "execution_count": 24,
     "metadata": {},
     "output_type": "execute_result"
    }
   ],
   "source": [
    "f.readline(10) #read line number 10"
   ]
  },
  {
   "cell_type": "code",
   "execution_count": 25,
   "id": "64feefe7",
   "metadata": {},
   "outputs": [],
   "source": [
    "f.close()"
   ]
  },
  {
   "cell_type": "code",
   "execution_count": 26,
   "id": "3d7da675",
   "metadata": {},
   "outputs": [],
   "source": [
    "f = open(\"test5.txt\", \"r\")"
   ]
  },
  {
   "cell_type": "code",
   "execution_count": 27,
   "id": "e3202456",
   "metadata": {},
   "outputs": [
    {
     "name": "stdout",
     "output_type": "stream",
     "text": [
      "kshj\n",
      "\n",
      "fhhffdhfhf\n",
      "\n",
      "dflfjhfh ldk\n",
      "\n",
      "hgh lkgg\n",
      "\n",
      "kshj\n",
      "\n",
      "fhhffdhfhf\n",
      "\n",
      "dflfjhfh ldk\n",
      "\n",
      "hgh lkggkshj\n",
      "\n",
      "fhhffdhfhf\n",
      "\n",
      "dflfjhfh ldk\n",
      "\n",
      "hgh lkgg\n",
      "\n",
      "kshj\n",
      "\n",
      "fhhffdhfhf\n",
      "\n",
      "dflfjhfh ldk\n",
      "\n",
      "hgh lkgg\n",
      "\n",
      "kshj\n",
      "\n",
      "fhhffdhfhf\n",
      "\n",
      "dflfjhfh ldk\n",
      "\n",
      "hgh lkgg\n",
      "\n",
      "kshj\n",
      "\n",
      "fhhffdhfhf\n",
      "\n",
      "dflfjhfh ldk\n",
      "\n",
      "hgh lkgg\n",
      "\n",
      "kshj\n",
      "\n",
      "fhhffdhfhf\n",
      "\n",
      "dflfjhfh ldk\n",
      "\n",
      "hgh lkgg\n",
      "\n",
      "kshj\n",
      "\n",
      "fhhffdhfhf\n",
      "\n",
      "dflfjhfh ldk\n",
      "\n",
      "hgh lkgg\n",
      "\n"
     ]
    }
   ],
   "source": [
    "for i in f:\n",
    "    print(i)"
   ]
  },
  {
   "cell_type": "code",
   "execution_count": 28,
   "id": "8c35b90d",
   "metadata": {},
   "outputs": [],
   "source": [
    "f.close()"
   ]
  },
  {
   "cell_type": "code",
   "execution_count": 34,
   "id": "24c2998c",
   "metadata": {},
   "outputs": [],
   "source": [
    "f = open(\"test5.txt\", \"r+\") #read and write mode"
   ]
  },
  {
   "cell_type": "code",
   "execution_count": 35,
   "id": "4b6a8bd0",
   "metadata": {},
   "outputs": [
    {
     "data": {
      "text/plain": [
       "['kshj\\n',\n",
       " 'fhhffdhfhf\\n',\n",
       " 'dflfjhfh ldk\\n',\n",
       " 'hgh lkgg\\n',\n",
       " 'kshj\\n',\n",
       " 'fhhffdhfhf\\n',\n",
       " 'dflfjhfh ldk\\n',\n",
       " 'hgh lkggkshj\\n',\n",
       " 'fhhffdhfhf\\n',\n",
       " 'dflfjhfh ldk\\n',\n",
       " 'hgh lkgg\\n',\n",
       " 'kshj\\n',\n",
       " 'fhhffdhfhf\\n',\n",
       " 'dflfjhfh ldk\\n',\n",
       " 'hgh lkgg\\n',\n",
       " 'kshj\\n',\n",
       " 'fhhffdhfhf\\n',\n",
       " 'dflfjhfh ldk\\n',\n",
       " 'hgh lkgg\\n',\n",
       " 'kshj\\n',\n",
       " 'fhhffdhfhf\\n',\n",
       " 'dflfjhfh ldk\\n',\n",
       " 'hgh lkgg\\n',\n",
       " 'kshj\\n',\n",
       " 'fhhffdhfhf\\n',\n",
       " 'dflfjhfh ldk\\n',\n",
       " 'hgh lkgg\\n',\n",
       " 'kshj\\n',\n",
       " 'fhhffdhfhf\\n',\n",
       " 'dflfjhfh ldk\\n',\n",
       " 'hgh lkgg\\n']"
      ]
     },
     "execution_count": 35,
     "metadata": {},
     "output_type": "execute_result"
    }
   ],
   "source": [
    "list(f)"
   ]
  },
  {
   "cell_type": "code",
   "execution_count": 31,
   "id": "4d1e12da",
   "metadata": {},
   "outputs": [
    {
     "data": {
      "text/plain": [
       "()"
      ]
     },
     "execution_count": 31,
     "metadata": {},
     "output_type": "execute_result"
    }
   ],
   "source": [
    "tuple(f)"
   ]
  },
  {
   "cell_type": "code",
   "execution_count": 32,
   "id": "cbc35634",
   "metadata": {},
   "outputs": [
    {
     "data": {
      "text/plain": [
       "{}"
      ]
     },
     "execution_count": 32,
     "metadata": {},
     "output_type": "execute_result"
    }
   ],
   "source": [
    "dict(f)"
   ]
  },
  {
   "cell_type": "code",
   "execution_count": 33,
   "id": "92356dbc",
   "metadata": {},
   "outputs": [
    {
     "data": {
      "text/plain": [
       "\"<_io.TextIOWrapper name='test5.txt' mode='r' encoding='cp1252'>\""
      ]
     },
     "execution_count": 33,
     "metadata": {},
     "output_type": "execute_result"
    }
   ],
   "source": [
    "str(f)"
   ]
  },
  {
   "cell_type": "code",
   "execution_count": 36,
   "id": "5da494c1",
   "metadata": {},
   "outputs": [
    {
     "data": {
      "text/plain": [
       "27"
      ]
     },
     "execution_count": 36,
     "metadata": {},
     "output_type": "execute_result"
    }
   ],
   "source": [
    "f.write(\"111111111111111111111111111\")"
   ]
  },
  {
   "cell_type": "code",
   "execution_count": 38,
   "id": "08fddc9b",
   "metadata": {},
   "outputs": [
    {
     "data": {
      "text/plain": [
       "[]"
      ]
     },
     "execution_count": 38,
     "metadata": {},
     "output_type": "execute_result"
    }
   ],
   "source": [
    "list(f)"
   ]
  },
  {
   "cell_type": "code",
   "execution_count": 42,
   "id": "f65b87ba",
   "metadata": {},
   "outputs": [
    {
     "ename": "TypeError",
     "evalue": "argument should be integer or None, not '_io.TextIOWrapper'",
     "output_type": "error",
     "traceback": [
      "\u001b[1;31m---------------------------------------------------------------------------\u001b[0m",
      "\u001b[1;31mTypeError\u001b[0m                                 Traceback (most recent call last)",
      "Cell \u001b[1;32mIn[42], line 1\u001b[0m\n\u001b[1;32m----> 1\u001b[0m f\u001b[38;5;241m.\u001b[39mread(f)\n\u001b[0;32m      2\u001b[0m f\u001b[38;5;241m.\u001b[39mclose()\n",
      "\u001b[1;31mTypeError\u001b[0m: argument should be integer or None, not '_io.TextIOWrapper'"
     ]
    }
   ],
   "source": [
    "f.read(f)\n",
    "f.close()"
   ]
  },
  {
   "cell_type": "code",
   "execution_count": 45,
   "id": "4654774e",
   "metadata": {},
   "outputs": [],
   "source": [
    "f.close()"
   ]
  },
  {
   "cell_type": "code",
   "execution_count": 46,
   "id": "aa53c438",
   "metadata": {},
   "outputs": [],
   "source": [
    "f = open(\"test5.txt\", \"r+\")"
   ]
  },
  {
   "cell_type": "code",
   "execution_count": 47,
   "id": "371a278a",
   "metadata": {},
   "outputs": [
    {
     "ename": "AttributeError",
     "evalue": "'_io.TextIOWrapper' object has no attribute 'writeline'",
     "output_type": "error",
     "traceback": [
      "\u001b[1;31m---------------------------------------------------------------------------\u001b[0m",
      "\u001b[1;31mAttributeError\u001b[0m                            Traceback (most recent call last)",
      "Cell \u001b[1;32mIn[47], line 1\u001b[0m\n\u001b[1;32m----> 1\u001b[0m f\u001b[38;5;241m.\u001b[39mwriteline(\u001b[38;5;124m\"\u001b[39m\u001b[38;5;124mThis is Write Line Function\u001b[39m\u001b[38;5;124m\"\u001b[39m)\n",
      "\u001b[1;31mAttributeError\u001b[0m: '_io.TextIOWrapper' object has no attribute 'writeline'"
     ]
    }
   ],
   "source": [
    "f.writeline(\"This is Write Line Function\")"
   ]
  },
  {
   "cell_type": "code",
   "execution_count": 48,
   "id": "2b135885",
   "metadata": {},
   "outputs": [],
   "source": [
    "f.close()"
   ]
  },
  {
   "cell_type": "code",
   "execution_count": 49,
   "id": "88f18d06",
   "metadata": {},
   "outputs": [
    {
     "ename": "ValueError",
     "evalue": "I/O operation on closed file.",
     "output_type": "error",
     "traceback": [
      "\u001b[1;31m---------------------------------------------------------------------------\u001b[0m",
      "\u001b[1;31mValueError\u001b[0m                                Traceback (most recent call last)",
      "Cell \u001b[1;32mIn[49], line 1\u001b[0m\n\u001b[1;32m----> 1\u001b[0m f\u001b[38;5;241m.\u001b[39mread()\n",
      "\u001b[1;31mValueError\u001b[0m: I/O operation on closed file."
     ]
    }
   ],
   "source": [
    "f.read()"
   ]
  },
  {
   "cell_type": "code",
   "execution_count": 50,
   "id": "1763dbf7",
   "metadata": {},
   "outputs": [],
   "source": [
    "f = open(\"test5.txt\", \"r+\")"
   ]
  },
  {
   "cell_type": "code",
   "execution_count": 51,
   "id": "902120a1",
   "metadata": {},
   "outputs": [],
   "source": [
    "f.writelines(\"111111111 2222222222 33333333\")"
   ]
  },
  {
   "cell_type": "code",
   "execution_count": 52,
   "id": "5aadc350",
   "metadata": {},
   "outputs": [
    {
     "data": {
      "text/plain": [
       "'hgh lkgg\\nkshj\\nfhhffdhfhf\\ndflfjhfh ldk\\nhgh lkggkshj\\nfhhffdhfhf\\ndflfjhfh ldk\\nhgh lkgg\\nkshj\\nfhhffdhfhf\\ndflfjhfh ldk\\nhgh lkgg\\nkshj\\nfhhffdhfhf\\ndflfjhfh ldk\\nhgh lkgg\\nkshj\\nfhhffdhfhf\\ndflfjhfh ldk\\nhgh lkgg\\nkshj\\nfhhffdhfhf\\ndflfjhfh ldk\\nhgh lkgg\\nkshj\\nfhhffdhfhf\\ndflfjhfh ldk\\nhgh lkgg\\n111111111111111111111111111'"
      ]
     },
     "execution_count": 52,
     "metadata": {},
     "output_type": "execute_result"
    }
   ],
   "source": [
    "f.read()"
   ]
  },
  {
   "cell_type": "code",
   "execution_count": 53,
   "id": "3f14ca05",
   "metadata": {},
   "outputs": [
    {
     "data": {
      "text/plain": [
       "0"
      ]
     },
     "execution_count": 53,
     "metadata": {},
     "output_type": "execute_result"
    }
   ],
   "source": [
    "f.seek(0)"
   ]
  },
  {
   "cell_type": "code",
   "execution_count": 54,
   "id": "d0301b4c",
   "metadata": {},
   "outputs": [],
   "source": [
    "f.writelines(\"111111111 22222222 333333333\")"
   ]
  },
  {
   "cell_type": "code",
   "execution_count": 55,
   "id": "0b18b6ef",
   "metadata": {},
   "outputs": [
    {
     "data": {
      "text/plain": [
       "'3hgh lkgg\\nkshj\\nfhhffdhfhf\\ndflfjhfh ldk\\nhgh lkggkshj\\nfhhffdhfhf\\ndflfjhfh ldk\\nhgh lkgg\\nkshj\\nfhhffdhfhf\\ndflfjhfh ldk\\nhgh lkgg\\nkshj\\nfhhffdhfhf\\ndflfjhfh ldk\\nhgh lkgg\\nkshj\\nfhhffdhfhf\\ndflfjhfh ldk\\nhgh lkgg\\nkshj\\nfhhffdhfhf\\ndflfjhfh ldk\\nhgh lkgg\\nkshj\\nfhhffdhfhf\\ndflfjhfh ldk\\nhgh lkgg\\n111111111111111111111111111'"
      ]
     },
     "execution_count": 55,
     "metadata": {},
     "output_type": "execute_result"
    }
   ],
   "source": [
    "f.read()"
   ]
  },
  {
   "cell_type": "code",
   "execution_count": 56,
   "id": "31052d26",
   "metadata": {},
   "outputs": [
    {
     "data": {
      "text/plain": [
       "4"
      ]
     },
     "execution_count": 56,
     "metadata": {},
     "output_type": "execute_result"
    }
   ],
   "source": [
    "f.fileno()"
   ]
  },
  {
   "cell_type": "code",
   "execution_count": 57,
   "id": "bc44d9b2",
   "metadata": {},
   "outputs": [
    {
     "name": "stdout",
     "output_type": "stream",
     "text": [
      "Writing test6.txt\n"
     ]
    }
   ],
   "source": [
    "%%writefile test6.txt\n",
    "my name is vithu"
   ]
  },
  {
   "cell_type": "code",
   "execution_count": 65,
   "id": "b0016ee2",
   "metadata": {},
   "outputs": [],
   "source": [
    "import os #import operating system"
   ]
  },
  {
   "cell_type": "code",
   "execution_count": 59,
   "id": "3d4fa1a8",
   "metadata": {},
   "outputs": [
    {
     "data": {
      "text/plain": [
       "'G:\\\\Data Science\\\\iNeuron Full Stack Data Science Full Course\\\\iNeuron Full Stack Data Science Full Course - Repo\\\\01 Python\\\\Lecture 07'"
      ]
     },
     "execution_count": 59,
     "metadata": {},
     "output_type": "execute_result"
    }
   ],
   "source": [
    "pwd() #present working directry"
   ]
  },
  {
   "cell_type": "code",
   "execution_count": 63,
   "id": "6650e577",
   "metadata": {},
   "outputs": [
    {
     "data": {
      "text/plain": [
       "'G:\\\\Data Science\\\\iNeuron Full Stack Data Science Full Course\\\\iNeuron Full Stack Data Science Full Course - Repo\\\\01 Python\\\\Lecture 07'"
      ]
     },
     "execution_count": 63,
     "metadata": {},
     "output_type": "execute_result"
    }
   ],
   "source": [
    "os.getcwd() #current working directry"
   ]
  },
  {
   "cell_type": "code",
   "execution_count": 64,
   "id": "75de230e",
   "metadata": {},
   "outputs": [
    {
     "data": {
      "text/plain": [
       "['.ipynb_checkpoints',\n",
       " 'test.txt',\n",
       " 'test1.txt',\n",
       " 'test2.txt',\n",
       " 'test5.txt',\n",
       " 'test6.txt',\n",
       " 'text.text',\n",
       " 'Untitled.ipynb']"
      ]
     },
     "execution_count": 64,
     "metadata": {},
     "output_type": "execute_result"
    }
   ],
   "source": [
    "os.listdir()"
   ]
  },
  {
   "cell_type": "code",
   "execution_count": 68,
   "id": "27984211",
   "metadata": {},
   "outputs": [
    {
     "data": {
      "text/plain": [
       "['100-DaysOf-Code-dataScience-master',\n",
       " '1702731264133.jpeg',\n",
       " '1703823505986.jpeg',\n",
       " '2024 Road Map',\n",
       " '365datascience',\n",
       " 'Boorcamp.txt',\n",
       " 'CatGPT road map.txt',\n",
       " 'CodeAlpha_Internship',\n",
       " 'Coursera',\n",
       " 'CVs',\n",
       " 'Daily Dose of Data Science - Archive.pdf',\n",
       " 'Data analytics Bootcamp',\n",
       " 'Data analytics Master Class 30 Days',\n",
       " 'Data Science PowerPack by Dr. Angshu',\n",
       " 'Data-Science-from-Scratch-First-Principles-with-Python-by-Joel-Grus-z-lib.org_.epub_.pdf',\n",
       " 'datamites-certified-data-scientist-brochure.pdf',\n",
       " 'DataScience-Projects Repo',\n",
       " 'Edureka',\n",
       " 'Free code camp',\n",
       " 'Geeksforkeek DSC_Syllabus.pdf',\n",
       " 'IBM-Data-Science-Professional-Certificate-main',\n",
       " 'iNeuron Full Stack Data Science Full Course',\n",
       " 'Interview',\n",
       " 'Joel_Grus_Data_Science_from_Scratch_First_Princ.pdf',\n",
       " 'New Text Document.txt',\n",
       " 'Omdena NLP',\n",
       " 'portfolio',\n",
       " 'Professional Certificate Program IBM Data Science',\n",
       " 'Python Data Science Handbook - Jake VanderPlas.pdf',\n",
       " 'Python for DS',\n",
       " 'Python-for-Data-Analysis.pdf',\n",
       " 'Road map',\n",
       " 'RoadMap.txt',\n",
       " 'The-Grand-Complete-Data-Science-Materials-main',\n",
       " 'The-Ultimate-Data-Science-Career-Guide.pdf',\n",
       " 'To develop a basic project.txt',\n",
       " 'TOP 10.pdf',\n",
       " 'Understanding-and-Visualizing-Data-with-Python repo']"
      ]
     },
     "execution_count": 68,
     "metadata": {},
     "output_type": "execute_result"
    }
   ],
   "source": [
    "os.listdir(\"G:\\\\Data Science\")"
   ]
  },
  {
   "cell_type": "code",
   "execution_count": 71,
   "id": "cfe86440",
   "metadata": {},
   "outputs": [
    {
     "data": {
      "text/plain": [
       "['$RECYCLE.BIN',\n",
       " '.NET',\n",
       " '1653650600070.jpg',\n",
       " '1653650662194.jpg',\n",
       " '2nd Year Deatils.pdf',\n",
       " '3rd Year Deatils.pdf',\n",
       " 'Adobe illustrator',\n",
       " 'Adobe Photoshop',\n",
       " 'Adobe XD',\n",
       " 'AL English past papers',\n",
       " 'AL Notes English Medium',\n",
       " 'Android Development',\n",
       " 'Android Studio',\n",
       " 'Angular',\n",
       " 'Applied Mathematics and Computing',\n",
       " 'Artificial Intelligence',\n",
       " 'Aurdino',\n",
       " 'BASS BOOSTED CAR MUSIC MIX 2018  BEST EDM, BOUNCE, ELECTRO HOUSE #2.mp3',\n",
       " 'Bold modern resume.docx',\n",
       " 'C',\n",
       " 'C#',\n",
       " 'C++',\n",
       " 'Certificats',\n",
       " 'CODING CAMPETITION',\n",
       " 'Computer Network',\n",
       " 'computer science',\n",
       " 'Critical Thinking & Problem Solving',\n",
       " 'CSS',\n",
       " 'Data Science',\n",
       " 'dddd.png',\n",
       " 'Diploma in English',\n",
       " 'docker',\n",
       " 'DSA',\n",
       " 'Excel',\n",
       " 'Faculty of Applied Science',\n",
       " 'Figma',\n",
       " 'Foundations of User Experience (UX) Design',\n",
       " 'Full Stack Developer Master Program Curriculum _Final_.pdf',\n",
       " 'GIT GITHUB',\n",
       " 'Grade 6 7 8 9 10 11 & 12 Books',\n",
       " 'Grade Points.jpeg',\n",
       " 'HackerRank 1 Week Preparation Kit',\n",
       " 'HB-20.pdf',\n",
       " 'HTMIL , CSS & JS Projects',\n",
       " 'HTML',\n",
       " 'HTML  & CSS projects',\n",
       " 'IEEE XTREAM 17',\n",
       " 'IMG_20221023_134115.png',\n",
       " 'IMG_20230106_103336.jpg',\n",
       " 'JAVA',\n",
       " 'Java Swing',\n",
       " 'JavaFX',\n",
       " 'JavaScript',\n",
       " 'kali Linux',\n",
       " 'Machine Learning',\n",
       " 'Mango DB',\n",
       " 'Marks and Grades.jpeg',\n",
       " 'MEGA-RECOVERYKEY.txt',\n",
       " 'Model ECE Theory.pdf',\n",
       " 'Music that makes u more inspired to study & work 🌿 Study music ~ lofi _ relax_ stress relief.mp4',\n",
       " 'MY PRESENTATION',\n",
       " 'MY PROJECT RECORD VIDEOS',\n",
       " 'MySQL',\n",
       " 'Nila',\n",
       " 'pass.txt',\n",
       " 'PHP',\n",
       " 'Presentation Slides Templates',\n",
       " 'Python',\n",
       " 'R',\n",
       " 'Relax the mind',\n",
       " 'routter.txt',\n",
       " 'Sankeetha vamadevan-cv_finall.pdf',\n",
       " 'Semesters',\n",
       " 'Semesters Past papers',\n",
       " 'sign-vithu.jpg',\n",
       " 'Sinhala',\n",
       " 'Spring boot',\n",
       " 'Statistic',\n",
       " 'System Volume Information',\n",
       " 'TEST',\n",
       " 'This is codeing Time',\n",
       " 'Thumbs.db',\n",
       " 'time table.pdf',\n",
       " 'time table.xlsx',\n",
       " 'Upbeat Study Music Electronic Mix for Deep Focus - Isochronic Tones.mp4',\n",
       " 'Vimalathas Vithusan -cv.docx',\n",
       " 'Vimalathas Vithusan -cv.pdf',\n",
       " 'Vithu Library',\n",
       " 'We are coders',\n",
       " 'Web Programming with Python and JavaScript',\n",
       " 'Wordpress',\n",
       " 'X2Download.app - Music that makes u more inspired to study & work 🌿 Study music ~ lofi _ relax_ stress relief (320 kbps).mp3',\n",
       " '[YT2mp3.info] - Beautiful Relaxing Music • Peaceful Piano Music & Guitar Music _ Sunny Mornings by @PederBHellandMusic (320kbps).mp3']"
      ]
     },
     "execution_count": 71,
     "metadata": {},
     "output_type": "execute_result"
    }
   ],
   "source": [
    "os.listdir(\"G:\\\\\")"
   ]
  },
  {
   "cell_type": "code",
   "execution_count": 72,
   "id": "92519f79",
   "metadata": {},
   "outputs": [],
   "source": [
    "#to change working directy \n",
    "#os.chdir(\"path name\")"
   ]
  },
  {
   "cell_type": "code",
   "execution_count": 73,
   "id": "4943f649",
   "metadata": {},
   "outputs": [
    {
     "data": {
      "text/plain": [
       "'G:\\\\Data Science\\\\iNeuron Full Stack Data Science Full Course\\\\iNeuron Full Stack Data Science Full Course - Repo\\\\01 Python\\\\Lecture 07'"
      ]
     },
     "execution_count": 73,
     "metadata": {},
     "output_type": "execute_result"
    }
   ],
   "source": [
    "pwd()"
   ]
  },
  {
   "cell_type": "code",
   "execution_count": 74,
   "id": "e846d219",
   "metadata": {},
   "outputs": [],
   "source": [
    "os.mkdir(\"test\")"
   ]
  },
  {
   "cell_type": "code",
   "execution_count": 75,
   "id": "b047ff8d",
   "metadata": {},
   "outputs": [
    {
     "data": {
      "text/plain": [
       "['.ipynb_checkpoints',\n",
       " 'test',\n",
       " 'test.txt',\n",
       " 'test1.txt',\n",
       " 'test2.txt',\n",
       " 'test5.txt',\n",
       " 'test6.txt',\n",
       " 'text.text',\n",
       " 'Untitled.ipynb']"
      ]
     },
     "execution_count": 75,
     "metadata": {},
     "output_type": "execute_result"
    }
   ],
   "source": [
    "os.listdir()"
   ]
  },
  {
   "cell_type": "code",
   "execution_count": 79,
   "id": "2b979cd0",
   "metadata": {},
   "outputs": [
    {
     "name": "stdout",
     "output_type": "stream",
     "text": [
      "File is available\n",
      "AAAAAAAAAAAAAAAAAAAABCDEFGHIJKLMNOPQRSTUVWXYZ\n"
     ]
    }
   ],
   "source": [
    "if \"test.txt\" in os.listdir():\n",
    "    print(\"File is available\")\n",
    "    f = open(\"test.txt\", \"r+\")\n",
    "    print(f.read())\n",
    "else:\n",
    "    print(\"File os not avaialable\")"
   ]
  },
  {
   "cell_type": "code",
   "execution_count": 2,
   "id": "908f5a5f",
   "metadata": {},
   "outputs": [
    {
     "data": {
      "text/plain": [
       "['.ipynb_checkpoints',\n",
       " 'test',\n",
       " 'test.txt',\n",
       " 'test1.txt',\n",
       " 'test2.txt',\n",
       " 'test5.txt',\n",
       " 'test6.txt',\n",
       " 'text.text',\n",
       " 'Untitled.ipynb']"
      ]
     },
     "execution_count": 2,
     "metadata": {},
     "output_type": "execute_result"
    }
   ],
   "source": [
    "import os\n",
    "\n",
    "os.listdir()"
   ]
  },
  {
   "cell_type": "code",
   "execution_count": 4,
   "id": "5973eea1",
   "metadata": {},
   "outputs": [],
   "source": [
    "os.mkdir(\"Sample Folder\")"
   ]
  },
  {
   "cell_type": "code",
   "execution_count": 5,
   "id": "0084494c",
   "metadata": {},
   "outputs": [
    {
     "data": {
      "text/plain": [
       "['.ipynb_checkpoints',\n",
       " 'Sample Folder',\n",
       " 'test',\n",
       " 'test.txt',\n",
       " 'test1.txt',\n",
       " 'test2.txt',\n",
       " 'test5.txt',\n",
       " 'test6.txt',\n",
       " 'text.text',\n",
       " 'Untitled.ipynb']"
      ]
     },
     "execution_count": 5,
     "metadata": {},
     "output_type": "execute_result"
    }
   ],
   "source": [
    "os.listdir()"
   ]
  },
  {
   "cell_type": "code",
   "execution_count": 6,
   "id": "72fbcf91",
   "metadata": {},
   "outputs": [],
   "source": [
    "os.rmdir(\"test\")"
   ]
  },
  {
   "cell_type": "code",
   "execution_count": 7,
   "id": "97df88f9",
   "metadata": {},
   "outputs": [
    {
     "data": {
      "text/plain": [
       "['.ipynb_checkpoints',\n",
       " 'Sample Folder',\n",
       " 'test.txt',\n",
       " 'test1.txt',\n",
       " 'test2.txt',\n",
       " 'test5.txt',\n",
       " 'test6.txt',\n",
       " 'text.text',\n",
       " 'Untitled.ipynb']"
      ]
     },
     "execution_count": 7,
     "metadata": {},
     "output_type": "execute_result"
    }
   ],
   "source": [
    "os.listdir()"
   ]
  },
  {
   "cell_type": "code",
   "execution_count": 10,
   "id": "f5697175",
   "metadata": {},
   "outputs": [
    {
     "ename": "Error",
     "evalue": "Destination path 'G:\\Data Science\\iNeuron Full Stack Data Science Full Course\\iNeuron Full Stack Data Science Full Course - Repo\\01 Python\\Lecture 07\\Sample Folder\\test.txt' already exists",
     "output_type": "error",
     "traceback": [
      "\u001b[1;31m---------------------------------------------------------------------------\u001b[0m",
      "\u001b[1;31mError\u001b[0m                                     Traceback (most recent call last)",
      "Cell \u001b[1;32mIn[10], line 4\u001b[0m\n\u001b[0;32m      1\u001b[0m \u001b[38;5;66;03m#Move file one path into onathor path\u001b[39;00m\n\u001b[0;32m      2\u001b[0m \u001b[38;5;28;01mimport\u001b[39;00m \u001b[38;5;21;01mshutil\u001b[39;00m\n\u001b[1;32m----> 4\u001b[0m shutil\u001b[38;5;241m.\u001b[39mmove(\u001b[38;5;124m\"\u001b[39m\u001b[38;5;124mtest.txt\u001b[39m\u001b[38;5;124m\"\u001b[39m, \u001b[38;5;124m\"\u001b[39m\u001b[38;5;124mG:\u001b[39m\u001b[38;5;130;01m\\\\\u001b[39;00m\u001b[38;5;124mData Science\u001b[39m\u001b[38;5;130;01m\\\\\u001b[39;00m\u001b[38;5;124miNeuron Full Stack Data Science Full Course\u001b[39m\u001b[38;5;130;01m\\\\\u001b[39;00m\u001b[38;5;124miNeuron Full Stack Data Science Full Course - Repo\u001b[39m\u001b[38;5;130;01m\\\\\u001b[39;00m\u001b[38;5;124m01 Python\u001b[39m\u001b[38;5;130;01m\\\\\u001b[39;00m\u001b[38;5;124mLecture 07\u001b[39m\u001b[38;5;130;01m\\\\\u001b[39;00m\u001b[38;5;124mSample Folder\u001b[39m\u001b[38;5;124m\"\u001b[39m)\n",
      "File \u001b[1;32mE:\\Anaconda\\Lib\\shutil.py:823\u001b[0m, in \u001b[0;36mmove\u001b[1;34m(src, dst, copy_function)\u001b[0m\n\u001b[0;32m    820\u001b[0m     real_dst \u001b[38;5;241m=\u001b[39m os\u001b[38;5;241m.\u001b[39mpath\u001b[38;5;241m.\u001b[39mjoin(dst, _basename(src))\n\u001b[0;32m    822\u001b[0m     \u001b[38;5;28;01mif\u001b[39;00m os\u001b[38;5;241m.\u001b[39mpath\u001b[38;5;241m.\u001b[39mexists(real_dst):\n\u001b[1;32m--> 823\u001b[0m         \u001b[38;5;28;01mraise\u001b[39;00m Error(\u001b[38;5;124m\"\u001b[39m\u001b[38;5;124mDestination path \u001b[39m\u001b[38;5;124m'\u001b[39m\u001b[38;5;132;01m%s\u001b[39;00m\u001b[38;5;124m'\u001b[39m\u001b[38;5;124m already exists\u001b[39m\u001b[38;5;124m\"\u001b[39m \u001b[38;5;241m%\u001b[39m real_dst)\n\u001b[0;32m    824\u001b[0m \u001b[38;5;28;01mtry\u001b[39;00m:\n\u001b[0;32m    825\u001b[0m     os\u001b[38;5;241m.\u001b[39mrename(src, real_dst)\n",
      "\u001b[1;31mError\u001b[0m: Destination path 'G:\\Data Science\\iNeuron Full Stack Data Science Full Course\\iNeuron Full Stack Data Science Full Course - Repo\\01 Python\\Lecture 07\\Sample Folder\\test.txt' already exists"
     ]
    }
   ],
   "source": [
    "#Move file one path into onathor path\n",
    "import shutil\n",
    "\n",
    "shutil.move(\"test.txt\", \"G:\\\\Data Science\\\\iNeuron Full Stack Data Science Full Course\\\\iNeuron Full Stack Data Science Full Course - Repo\\\\01 Python\\\\Lecture 07\\\\Sample Folder\")"
   ]
  },
  {
   "cell_type": "markdown",
   "id": "189d65b3",
   "metadata": {},
   "source": [
    "## Task 02\n",
    "\n",
    "1. Create a new directory\n",
    "\n",
    "2. Create 10 txt file and write some data in all txt at a time\n",
    "\n",
    "3. Read all the data from all files print in console\n",
    "\n",
    "4. Hold all the data in a list\n",
    "\n",
    "5. Write all the data in a new file from list\n",
    "\n",
    "6. keep only a new file in present directory and move rest in new direcory"
   ]
  },
  {
   "cell_type": "code",
   "execution_count": 11,
   "id": "4c373be8",
   "metadata": {},
   "outputs": [],
   "source": [
    "import os"
   ]
  },
  {
   "cell_type": "code",
   "execution_count": 12,
   "id": "2b7ad141",
   "metadata": {},
   "outputs": [],
   "source": [
    "#01\n",
    "os.mkdir(\"Task02\")"
   ]
  },
  {
   "cell_type": "code",
   "execution_count": 18,
   "id": "81714273",
   "metadata": {},
   "outputs": [],
   "source": [
    "#02\n",
    "file_names = [f\"file_{i}.txt\" for i in range(1, 11)]\n",
    "data_to_write = \"This is some sample data for file \"\n",
    "\n",
    "for file_name in file_names:\n",
    "    with open(os.path.join(\"Task02\", file_name), 'w') as file:\n",
    "        file.write(data_to_write + file_name)"
   ]
  },
  {
   "cell_type": "code",
   "execution_count": 20,
   "id": "6e110d2f",
   "metadata": {},
   "outputs": [
    {
     "name": "stdout",
     "output_type": "stream",
     "text": [
      "This is some sample data for file file_1.txt\n",
      "This is some sample data for file file_2.txt\n",
      "This is some sample data for file file_3.txt\n",
      "This is some sample data for file file_4.txt\n",
      "This is some sample data for file file_5.txt\n",
      "This is some sample data for file file_6.txt\n",
      "This is some sample data for file file_7.txt\n",
      "This is some sample data for file file_8.txt\n",
      "This is some sample data for file file_9.txt\n",
      "This is some sample data for file file_10.txt\n"
     ]
    }
   ],
   "source": [
    "#4\n",
    "all_data = []\n",
    "for file_name in file_names:\n",
    "    with open(os.path.join(\"Task02\", file_name), 'r') as file:\n",
    "        data = file.read()\n",
    "        print(data)\n",
    "        all_data.append(data)"
   ]
  },
  {
   "cell_type": "code",
   "execution_count": 22,
   "id": "f197ab30",
   "metadata": {},
   "outputs": [],
   "source": [
    "#05\n",
    "new_file_name = \"combined_data.txt\"\n",
    "new_file_path = os.path.join(\"Task02\", new_file_name)\n",
    "with open(new_file_path, 'w') as new_file:\n",
    "    for data in all_data:\n",
    "        new_file.write(data + '\\n')"
   ]
  },
  {
   "cell_type": "code",
   "execution_count": 25,
   "id": "9f1cba5c",
   "metadata": {},
   "outputs": [],
   "source": [
    "#06\n",
    "archive_dir = \"archive_dir\"\n",
    "if not os.path.exists(archive_dir):\n",
    "    os.makedirs(archive_dir)\n",
    "\n",
    "for file_name in file_names:\n",
    "    shutil.move(os.path.join(\"Task02\", file_name), os.path.join(archive_dir, file_name))    \n"
   ]
  },
  {
   "cell_type": "code",
   "execution_count": 36,
   "id": "ac9c402b",
   "metadata": {},
   "outputs": [
    {
     "name": "stdout",
     "output_type": "stream",
     "text": [
      "Hello vithu\n",
      "iam vithuHello iam now using with statemnt to handle file\n",
      "\n"
     ]
    }
   ],
   "source": [
    "with open(\"test1.txt\", \"r+\") as f:\n",
    "    print(f.read())\n",
    "    f.write(\"Hello iam now using with statemnt to handle file\")\n",
    "    print(f.read())"
   ]
  },
  {
   "cell_type": "code",
   "execution_count": 34,
   "id": "8c4a4624",
   "metadata": {
    "scrolled": true
   },
   "outputs": [
    {
     "ename": "ValueError",
     "evalue": "I/O operation on closed file.",
     "output_type": "error",
     "traceback": [
      "\u001b[1;31m---------------------------------------------------------------------------\u001b[0m",
      "\u001b[1;31mValueError\u001b[0m                                Traceback (most recent call last)",
      "Cell \u001b[1;32mIn[34], line 1\u001b[0m\n\u001b[1;32m----> 1\u001b[0m f\u001b[38;5;241m.\u001b[39mwrite(\u001b[38;5;124m\"\u001b[39m\u001b[38;5;124mHello iam now using with statemnt to handle file\u001b[39m\u001b[38;5;124m\"\u001b[39m)\n",
      "\u001b[1;31mValueError\u001b[0m: I/O operation on closed file."
     ]
    }
   ],
   "source": []
  },
  {
   "cell_type": "code",
   "execution_count": null,
   "id": "6cf188d6",
   "metadata": {},
   "outputs": [],
   "source": []
  }
 ],
 "metadata": {
  "kernelspec": {
   "display_name": "Python 3 (ipykernel)",
   "language": "python",
   "name": "python3"
  },
  "language_info": {
   "codemirror_mode": {
    "name": "ipython",
    "version": 3
   },
   "file_extension": ".py",
   "mimetype": "text/x-python",
   "name": "python",
   "nbconvert_exporter": "python",
   "pygments_lexer": "ipython3",
   "version": "3.11.5"
  }
 },
 "nbformat": 4,
 "nbformat_minor": 5
}
