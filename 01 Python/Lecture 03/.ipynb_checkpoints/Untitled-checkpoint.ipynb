{
 "cells": [
  {
   "cell_type": "markdown",
   "id": "4b4b84c7",
   "metadata": {},
   "source": [
    "### Operators in Python"
   ]
  },
  {
   "cell_type": "code",
   "execution_count": 1,
   "id": "b805ce28",
   "metadata": {},
   "outputs": [
    {
     "name": "stdout",
     "output_type": "stream",
     "text": [
      "This is a valid statement!\n"
     ]
    }
   ],
   "source": [
    "a = 10\n",
    "b = 20\n",
    "\n",
    "if a == 10 and b == 20:\n",
    "    print(\"This is a valid statement!\")"
   ]
  },
  {
   "cell_type": "code",
   "execution_count": 2,
   "id": "5cdc6a31",
   "metadata": {},
   "outputs": [
    {
     "data": {
      "text/plain": [
       "True"
      ]
     },
     "execution_count": 2,
     "metadata": {},
     "output_type": "execute_result"
    }
   ],
   "source": [
    "a == 10 and b == 20"
   ]
  },
  {
   "cell_type": "code",
   "execution_count": 3,
   "id": "057c882f",
   "metadata": {},
   "outputs": [
    {
     "name": "stdout",
     "output_type": "stream",
     "text": [
      "This is a valid inside elif\n"
     ]
    }
   ],
   "source": [
    "if a == 10 and b > 20:\n",
    "    print(\"This is a valid statement!\")\n",
    "elif a == 10 and b <= 20:\n",
    "    print(\"This is a valid inside elif\")\n",
    "else:\n",
    "    print(\"condition is not valid\")"
   ]
  },
  {
   "cell_type": "code",
   "execution_count": 4,
   "id": "d40709ff",
   "metadata": {},
   "outputs": [
    {
     "name": "stdout",
     "output_type": "stream",
     "text": [
      "This is a valid statement!\n"
     ]
    }
   ],
   "source": [
    "if a == 10 or b > 20:\n",
    "    print(\"This is a valid statement!\")\n",
    "elif a == 10 and b <= 20:\n",
    "    print(\"This is a valid inside elif\")\n",
    "else:\n",
    "    print(\"condition is not valid\")"
   ]
  },
  {
   "cell_type": "markdown",
   "id": "279a4e17",
   "metadata": {},
   "source": [
    "Task 01\n",
    "\n",
    "Take a input from your keyboard as your first name and last name and then try to validate write multiple condition by yourself"
   ]
  },
  {
   "cell_type": "code",
   "execution_count": 5,
   "id": "3f3413bc",
   "metadata": {},
   "outputs": [
    {
     "name": "stdout",
     "output_type": "stream",
     "text": [
      "Enter first name : vithu\n",
      "Enter last name : vithu\n",
      "Not Validate\n"
     ]
    }
   ],
   "source": [
    "fName = \"vimalathas\"\n",
    "lName = \"vithusan\"\n",
    "\n",
    "fNameIn = input(\"Enter first name : \")\n",
    "lNameIn = input(\"Enter last name : \")\n",
    "\n",
    "if fName == fNameIn and lName == lNameIn:\n",
    "    print(\"Validate\")\n",
    "else:\n",
    "    print(\"Not Validate\")"
   ]
  },
  {
   "cell_type": "code",
   "execution_count": 6,
   "id": "6e4a507f",
   "metadata": {},
   "outputs": [
    {
     "name": "stdout",
     "output_type": "stream",
     "text": [
      "This is valid\n"
     ]
    }
   ],
   "source": [
    "if a == 10: print(\"This is valid\")"
   ]
  },
  {
   "cell_type": "code",
   "execution_count": 7,
   "id": "cf6c5fe4",
   "metadata": {},
   "outputs": [
    {
     "name": "stdout",
     "output_type": "stream",
     "text": [
      "1\n",
      "2\n",
      "3\n",
      "4\n"
     ]
    }
   ],
   "source": [
    "#While statemnt\n",
    "a = 1\n",
    "\n",
    "while a < 5:\n",
    "    print(a)\n",
    "    a = a + 1"
   ]
  },
  {
   "cell_type": "code",
   "execution_count": 8,
   "id": "2d13ec4d",
   "metadata": {},
   "outputs": [
    {
     "name": "stdout",
     "output_type": "stream",
     "text": [
      "1\n",
      "2\n",
      "3\n",
      "4\n"
     ]
    }
   ],
   "source": [
    "a = 1\n",
    "\n",
    "while (a < 5):\n",
    "    print(a)\n",
    "    a = a + 1"
   ]
  },
  {
   "cell_type": "markdown",
   "id": "d9e33ef5",
   "metadata": {},
   "source": [
    "### String"
   ]
  },
  {
   "cell_type": "code",
   "execution_count": 9,
   "id": "31d3cc48",
   "metadata": {},
   "outputs": [],
   "source": [
    "a = \"vithu\""
   ]
  },
  {
   "cell_type": "code",
   "execution_count": 10,
   "id": "f3a23ed8",
   "metadata": {},
   "outputs": [
    {
     "data": {
      "text/plain": [
       "'vithu'"
      ]
     },
     "execution_count": 10,
     "metadata": {},
     "output_type": "execute_result"
    }
   ],
   "source": [
    "a"
   ]
  },
  {
   "cell_type": "code",
   "execution_count": 11,
   "id": "c4fc6261",
   "metadata": {},
   "outputs": [],
   "source": [
    "b = 'vithu'"
   ]
  },
  {
   "cell_type": "code",
   "execution_count": 12,
   "id": "5e3ee6f5",
   "metadata": {},
   "outputs": [
    {
     "data": {
      "text/plain": [
       "'vithu'"
      ]
     },
     "execution_count": 12,
     "metadata": {},
     "output_type": "execute_result"
    }
   ],
   "source": [
    "b"
   ]
  },
  {
   "cell_type": "code",
   "execution_count": 13,
   "id": "4b59c9b6",
   "metadata": {},
   "outputs": [],
   "source": [
    "c = \"This is my first class for full stack data science\""
   ]
  },
  {
   "cell_type": "code",
   "execution_count": 14,
   "id": "b20354b4",
   "metadata": {},
   "outputs": [
    {
     "data": {
      "text/plain": [
       "'This is my first class for full stack data science'"
      ]
     },
     "execution_count": 14,
     "metadata": {},
     "output_type": "execute_result"
    }
   ],
   "source": [
    "c"
   ]
  },
  {
   "cell_type": "code",
   "execution_count": 15,
   "id": "e92de86f",
   "metadata": {},
   "outputs": [
    {
     "data": {
      "text/plain": [
       "50"
      ]
     },
     "execution_count": 15,
     "metadata": {},
     "output_type": "execute_result"
    }
   ],
   "source": [
    "len(c)"
   ]
  },
  {
   "cell_type": "code",
   "execution_count": 16,
   "id": "1829e7cf",
   "metadata": {},
   "outputs": [
    {
     "data": {
      "text/plain": [
       "'e'"
      ]
     },
     "execution_count": 16,
     "metadata": {},
     "output_type": "execute_result"
    }
   ],
   "source": [
    "c[-1:]"
   ]
  },
  {
   "cell_type": "code",
   "execution_count": 22,
   "id": "13d6a49a",
   "metadata": {},
   "outputs": [
    {
     "name": "stdout",
     "output_type": "stream",
     "text": [
      "T\n",
      "e\n",
      "c\n",
      "n\n",
      "e\n",
      "i\n",
      "c\n",
      "s\n",
      " \n",
      "a\n",
      "t\n",
      "a\n",
      "d\n",
      " \n",
      "k\n",
      "c\n",
      "a\n",
      "t\n",
      "s\n",
      " \n",
      "l\n",
      "l\n",
      "u\n",
      "f\n",
      " \n",
      "r\n",
      "o\n",
      "f\n",
      " \n",
      "s\n",
      "s\n",
      "a\n",
      "l\n",
      "c\n",
      " \n",
      "t\n",
      "s\n",
      "r\n",
      "i\n",
      "f\n",
      " \n",
      "y\n",
      "m\n",
      " \n",
      "s\n",
      "i\n",
      " \n",
      "s\n",
      "i\n",
      "h\n"
     ]
    }
   ],
   "source": [
    "for i in range(len(c)):\n",
    "    print(c[-i])"
   ]
  },
  {
   "cell_type": "code",
   "execution_count": 18,
   "id": "3ae56a36",
   "metadata": {},
   "outputs": [
    {
     "name": "stdout",
     "output_type": "stream",
     "text": [
      "T\n",
      "e\n",
      "c\n",
      "n\n",
      "e\n",
      "i\n",
      "c\n",
      "s\n",
      " \n",
      "a\n",
      "t\n",
      "a\n",
      "d\n",
      " \n",
      "k\n",
      "c\n",
      "a\n",
      "t\n",
      "s\n",
      " \n",
      "l\n",
      "l\n",
      "u\n",
      "f\n",
      " \n",
      "r\n",
      "o\n",
      "f\n",
      " \n",
      "s\n",
      "s\n",
      "a\n",
      "l\n",
      "c\n",
      " \n",
      "t\n",
      "s\n",
      "r\n",
      "i\n",
      "f\n",
      " \n",
      "y\n",
      "m\n",
      " \n",
      "s\n",
      "i\n",
      " \n",
      "s\n",
      "i\n",
      "h\n"
     ]
    }
   ],
   "source": [
    "for i in range(len(c)):\n",
    "    print(c[-i])"
   ]
  },
  {
   "cell_type": "code",
   "execution_count": 19,
   "id": "c0e79edb",
   "metadata": {},
   "outputs": [
    {
     "data": {
      "text/plain": [
       "'ecneics atad kcats lluf rof ssalc tsrif ym si sihT'"
      ]
     },
     "execution_count": 19,
     "metadata": {},
     "output_type": "execute_result"
    }
   ],
   "source": [
    "c[: : -1]"
   ]
  },
  {
   "cell_type": "code",
   "execution_count": 4,
   "id": "f5c371b4",
   "metadata": {},
   "outputs": [],
   "source": [
    "s = \"abcdefghi\""
   ]
  },
  {
   "cell_type": "code",
   "execution_count": 19,
   "id": "87ec3292",
   "metadata": {},
   "outputs": [
    {
     "data": {
      "text/plain": [
       "'ihgfedcba'"
      ]
     },
     "execution_count": 19,
     "metadata": {},
     "output_type": "execute_result"
    }
   ],
   "source": [
    "s[::-1]"
   ]
  },
  {
   "cell_type": "code",
   "execution_count": 20,
   "id": "530fe895",
   "metadata": {},
   "outputs": [
    {
     "ename": "TypeError",
     "evalue": "'str' object does not support item assignment",
     "output_type": "error",
     "traceback": [
      "\u001b[1;31m---------------------------------------------------------------------------\u001b[0m",
      "\u001b[1;31mTypeError\u001b[0m                                 Traceback (most recent call last)",
      "Cell \u001b[1;32mIn[20], line 1\u001b[0m\n\u001b[1;32m----> 1\u001b[0m c[\u001b[38;5;241m1\u001b[39m] \u001b[38;5;241m=\u001b[39m \u001b[38;5;124m\"\u001b[39m\u001b[38;5;124mZ\u001b[39m\u001b[38;5;124m\"\u001b[39m\n",
      "\u001b[1;31mTypeError\u001b[0m: 'str' object does not support item assignment"
     ]
    }
   ],
   "source": [
    "c[1] = \"Z\" #string immutable"
   ]
  },
  {
   "cell_type": "code",
   "execution_count": 23,
   "id": "2bc78dd0",
   "metadata": {},
   "outputs": [
    {
     "ename": "TypeError",
     "evalue": "can only concatenate str (not \"int\") to str",
     "output_type": "error",
     "traceback": [
      "\u001b[1;31m---------------------------------------------------------------------------\u001b[0m",
      "\u001b[1;31mTypeError\u001b[0m                                 Traceback (most recent call last)",
      "Cell \u001b[1;32mIn[23], line 1\u001b[0m\n\u001b[1;32m----> 1\u001b[0m \u001b[38;5;124m\"\u001b[39m\u001b[38;5;124mvithu\u001b[39m\u001b[38;5;124m\"\u001b[39m \u001b[38;5;241m+\u001b[39m \u001b[38;5;241m3\u001b[39m\n",
      "\u001b[1;31mTypeError\u001b[0m: can only concatenate str (not \"int\") to str"
     ]
    }
   ],
   "source": [
    "\"vithu\" + 3"
   ]
  },
  {
   "cell_type": "code",
   "execution_count": 24,
   "id": "6fad08a3",
   "metadata": {},
   "outputs": [
    {
     "data": {
      "text/plain": [
       "'vithu3'"
      ]
     },
     "execution_count": 24,
     "metadata": {},
     "output_type": "execute_result"
    }
   ],
   "source": [
    "\"vithu\" + str(3)"
   ]
  },
  {
   "cell_type": "code",
   "execution_count": 25,
   "id": "4c6816e1",
   "metadata": {},
   "outputs": [
    {
     "ename": "TypeError",
     "evalue": "can only concatenate str (not \"list\") to str",
     "output_type": "error",
     "traceback": [
      "\u001b[1;31m---------------------------------------------------------------------------\u001b[0m",
      "\u001b[1;31mTypeError\u001b[0m                                 Traceback (most recent call last)",
      "Cell \u001b[1;32mIn[25], line 1\u001b[0m\n\u001b[1;32m----> 1\u001b[0m \u001b[38;5;124m\"\u001b[39m\u001b[38;5;124mvithu\u001b[39m\u001b[38;5;124m\"\u001b[39m \u001b[38;5;241m+\u001b[39m [\u001b[38;5;124m\"\u001b[39m\u001b[38;5;124mName\u001b[39m\u001b[38;5;124m\"\u001b[39m]\n",
      "\u001b[1;31mTypeError\u001b[0m: can only concatenate str (not \"list\") to str"
     ]
    }
   ],
   "source": [
    "\"vithu\" + [\"Name\"]"
   ]
  },
  {
   "cell_type": "code",
   "execution_count": 27,
   "id": "67dc26fa",
   "metadata": {},
   "outputs": [
    {
     "data": {
      "text/plain": [
       "\"vithu['Name']\""
      ]
     },
     "execution_count": 27,
     "metadata": {},
     "output_type": "execute_result"
    }
   ],
   "source": [
    "\"vithu\" + str([\"Name\"])"
   ]
  },
  {
   "cell_type": "code",
   "execution_count": 28,
   "id": "95210aa5",
   "metadata": {},
   "outputs": [],
   "source": [
    "s = \"my name is\""
   ]
  },
  {
   "cell_type": "code",
   "execution_count": 29,
   "id": "13f611d4",
   "metadata": {},
   "outputs": [
    {
     "data": {
      "text/plain": [
       "'my name is'"
      ]
     },
     "execution_count": 29,
     "metadata": {},
     "output_type": "execute_result"
    }
   ],
   "source": [
    "s"
   ]
  },
  {
   "cell_type": "code",
   "execution_count": 39,
   "id": "0b221cc8",
   "metadata": {},
   "outputs": [
    {
     "data": {
      "text/plain": [
       "0"
      ]
     },
     "execution_count": 39,
     "metadata": {},
     "output_type": "execute_result"
    }
   ],
   "source": [
    "s.find(\"m\")"
   ]
  },
  {
   "cell_type": "code",
   "execution_count": 58,
   "id": "60881df0",
   "metadata": {},
   "outputs": [
    {
     "ename": "TypeError",
     "evalue": "slice indices must be integers or None or have an __index__ method",
     "output_type": "error",
     "traceback": [
      "\u001b[1;31m---------------------------------------------------------------------------\u001b[0m",
      "\u001b[1;31mTypeError\u001b[0m                                 Traceback (most recent call last)",
      "Cell \u001b[1;32mIn[58], line 1\u001b[0m\n\u001b[1;32m----> 1\u001b[0m s\u001b[38;5;241m.\u001b[39mfind(\u001b[38;5;124m\"\u001b[39m\u001b[38;5;124mmn\u001b[39m\u001b[38;5;124m\"\u001b[39m, s)\n",
      "\u001b[1;31mTypeError\u001b[0m: slice indices must be integers or None or have an __index__ method"
     ]
    }
   ],
   "source": [
    "s.find(\"mn\", s) #something is not avaliable it will return -1"
   ]
  },
  {
   "cell_type": "code",
   "execution_count": 63,
   "id": "d28bc2bf",
   "metadata": {},
   "outputs": [
    {
     "data": {
      "text/plain": [
       "3"
      ]
     },
     "execution_count": 63,
     "metadata": {},
     "output_type": "execute_result"
    }
   ],
   "source": [
    "#Task 01\n",
    "s = \"my name is\"\n",
    "s.find(\"name\")"
   ]
  },
  {
   "cell_type": "code",
   "execution_count": 60,
   "id": "dfc9e70b",
   "metadata": {},
   "outputs": [
    {
     "name": "stdout",
     "output_type": "stream",
     "text": [
      "3\n",
      "4\n",
      "5\n",
      "6\n"
     ]
    }
   ],
   "source": [
    "b = s.find(\"name\")\n",
    "for i in range(len(\"name\")):\n",
    "    print(b + i)"
   ]
  },
  {
   "cell_type": "code",
   "execution_count": 61,
   "id": "ddb6312b",
   "metadata": {},
   "outputs": [
    {
     "data": {
      "text/plain": [
       "range(0, 4)"
      ]
     },
     "execution_count": 61,
     "metadata": {},
     "output_type": "execute_result"
    }
   ],
   "source": [
    "range(len(\"name\"))"
   ]
  },
  {
   "cell_type": "code",
   "execution_count": 62,
   "id": "f2a7777b",
   "metadata": {},
   "outputs": [
    {
     "name": "stdout",
     "output_type": "stream",
     "text": [
      "0\n",
      "1\n",
      "2\n",
      "3\n"
     ]
    }
   ],
   "source": [
    "for i in range(len(\"name\")):\n",
    "    print(i)"
   ]
  },
  {
   "cell_type": "code",
   "execution_count": 65,
   "id": "a97d190c",
   "metadata": {},
   "outputs": [
    {
     "data": {
      "text/plain": [
       "'my name is'"
      ]
     },
     "execution_count": 65,
     "metadata": {},
     "output_type": "execute_result"
    }
   ],
   "source": [
    "s"
   ]
  },
  {
   "cell_type": "code",
   "execution_count": 66,
   "id": "aaa07108",
   "metadata": {},
   "outputs": [
    {
     "data": {
      "text/plain": [
       "2"
      ]
     },
     "execution_count": 66,
     "metadata": {},
     "output_type": "execute_result"
    }
   ],
   "source": [
    "s.count(\"m\")"
   ]
  },
  {
   "cell_type": "code",
   "execution_count": 67,
   "id": "a999b62b",
   "metadata": {},
   "outputs": [
    {
     "data": {
      "text/plain": [
       "1"
      ]
     },
     "execution_count": 67,
     "metadata": {},
     "output_type": "execute_result"
    }
   ],
   "source": [
    "s.count(\"my\")"
   ]
  },
  {
   "cell_type": "code",
   "execution_count": 68,
   "id": "71bf3e82",
   "metadata": {},
   "outputs": [
    {
     "data": {
      "text/plain": [
       "['my', 'name', 'is']"
      ]
     },
     "execution_count": 68,
     "metadata": {},
     "output_type": "execute_result"
    }
   ],
   "source": [
    "s.split()"
   ]
  },
  {
   "cell_type": "code",
   "execution_count": 78,
   "id": "cafa84fa",
   "metadata": {},
   "outputs": [],
   "source": [
    "s = \"My name is Vihusan, i like Apple, Banana and Pineapple\""
   ]
  },
  {
   "cell_type": "code",
   "execution_count": 70,
   "id": "2cc43bd2",
   "metadata": {},
   "outputs": [
    {
     "data": {
      "text/plain": [
       "'my name is vihusan, i like apple, banana and pineapple'"
      ]
     },
     "execution_count": 70,
     "metadata": {},
     "output_type": "execute_result"
    }
   ],
   "source": [
    "s"
   ]
  },
  {
   "cell_type": "code",
   "execution_count": 71,
   "id": "07577afd",
   "metadata": {},
   "outputs": [
    {
     "data": {
      "text/plain": [
       "['my name is vihusan', ' i like apple', ' banana and pineapple']"
      ]
     },
     "execution_count": 71,
     "metadata": {},
     "output_type": "execute_result"
    }
   ],
   "source": [
    "s.split(\",\")"
   ]
  },
  {
   "cell_type": "code",
   "execution_count": 72,
   "id": "c7e6b686",
   "metadata": {},
   "outputs": [
    {
     "data": {
      "text/plain": [
       "['my ', 'ame is vihusa', ', i like apple, ba', 'a', 'a a', 'd pi', 'eapple']"
      ]
     },
     "execution_count": 72,
     "metadata": {},
     "output_type": "execute_result"
    }
   ],
   "source": [
    "s.split(\"n\")"
   ]
  },
  {
   "cell_type": "code",
   "execution_count": 73,
   "id": "07fec462",
   "metadata": {},
   "outputs": [
    {
     "data": {
      "text/plain": [
       "list"
      ]
     },
     "execution_count": 73,
     "metadata": {},
     "output_type": "execute_result"
    }
   ],
   "source": [
    "type(s.split(\"n\"))"
   ]
  },
  {
   "cell_type": "code",
   "execution_count": 74,
   "id": "4c8a9dc1",
   "metadata": {},
   "outputs": [
    {
     "data": {
      "text/plain": [
       "'MY NAME IS VIHUSAN, I LIKE APPLE, BANANA AND PINEAPPLE'"
      ]
     },
     "execution_count": 74,
     "metadata": {},
     "output_type": "execute_result"
    }
   ],
   "source": [
    "s.upper()"
   ]
  },
  {
   "cell_type": "code",
   "execution_count": 75,
   "id": "ed0de7c3",
   "metadata": {},
   "outputs": [
    {
     "data": {
      "text/plain": [
       "'my name is vihusan, i like apple, banana and pineapple'"
      ]
     },
     "execution_count": 75,
     "metadata": {},
     "output_type": "execute_result"
    }
   ],
   "source": [
    "s.lower()"
   ]
  },
  {
   "cell_type": "code",
   "execution_count": 79,
   "id": "130f7f27",
   "metadata": {},
   "outputs": [
    {
     "data": {
      "text/plain": [
       "'mY NAME IS vIHUSAN, I LIKE aPPLE, bANANA AND pINEAPPLE'"
      ]
     },
     "execution_count": 79,
     "metadata": {},
     "output_type": "execute_result"
    }
   ],
   "source": [
    "s.swapcase()"
   ]
  },
  {
   "cell_type": "code",
   "execution_count": 80,
   "id": "d560fef8",
   "metadata": {},
   "outputs": [
    {
     "data": {
      "text/plain": [
       "'M y   n a m e   i s   V i h u s a n ,   i   l i k e   A p p l e ,   B a n a n a   a n d   P i n e a p p l e'"
      ]
     },
     "execution_count": 80,
     "metadata": {},
     "output_type": "execute_result"
    }
   ],
   "source": [
    "\" \".join(s)"
   ]
  },
  {
   "cell_type": "code",
   "execution_count": 82,
   "id": "0c580758",
   "metadata": {},
   "outputs": [
    {
     "data": {
      "text/plain": [
       "'M*y* *n*a*m*e* *i*s* *V*i*h*u*s*a*n*,* *i* *l*i*k*e* *A*p*p*l*e*,* *B*a*n*a*n*a* *a*n*d* *P*i*n*e*a*p*p*l*e'"
      ]
     },
     "execution_count": 82,
     "metadata": {},
     "output_type": "execute_result"
    }
   ],
   "source": [
    "\"*\".join(s)"
   ]
  },
  {
   "cell_type": "code",
   "execution_count": 85,
   "id": "207da68c",
   "metadata": {},
   "outputs": [
    {
     "data": {
      "text/plain": [
       "<reversed at 0x2b9be665480>"
      ]
     },
     "execution_count": 85,
     "metadata": {},
     "output_type": "execute_result"
    }
   ],
   "source": [
    "reversed(s)"
   ]
  },
  {
   "cell_type": "code",
   "execution_count": 86,
   "id": "c3018d72",
   "metadata": {},
   "outputs": [
    {
     "data": {
      "text/plain": [
       "'elppaeniP dna ananaB ,elppA ekil i ,nasuhiV si eman yM'"
      ]
     },
     "execution_count": 86,
     "metadata": {},
     "output_type": "execute_result"
    }
   ],
   "source": [
    "s[::-1]"
   ]
  },
  {
   "cell_type": "code",
   "execution_count": 87,
   "id": "61c8b2a5",
   "metadata": {},
   "outputs": [
    {
     "data": {
      "text/plain": [
       "['e',\n",
       " 'l',\n",
       " 'p',\n",
       " 'p',\n",
       " 'a',\n",
       " 'e',\n",
       " 'n',\n",
       " 'i',\n",
       " 'P',\n",
       " ' ',\n",
       " 'd',\n",
       " 'n',\n",
       " 'a',\n",
       " ' ',\n",
       " 'a',\n",
       " 'n',\n",
       " 'a',\n",
       " 'n',\n",
       " 'a',\n",
       " 'B',\n",
       " ' ',\n",
       " ',',\n",
       " 'e',\n",
       " 'l',\n",
       " 'p',\n",
       " 'p',\n",
       " 'A',\n",
       " ' ',\n",
       " 'e',\n",
       " 'k',\n",
       " 'i',\n",
       " 'l',\n",
       " ' ',\n",
       " 'i',\n",
       " ' ',\n",
       " ',',\n",
       " 'n',\n",
       " 'a',\n",
       " 's',\n",
       " 'u',\n",
       " 'h',\n",
       " 'i',\n",
       " 'V',\n",
       " ' ',\n",
       " 's',\n",
       " 'i',\n",
       " ' ',\n",
       " 'e',\n",
       " 'm',\n",
       " 'a',\n",
       " 'n',\n",
       " ' ',\n",
       " 'y',\n",
       " 'M']"
      ]
     },
     "execution_count": 87,
     "metadata": {},
     "output_type": "execute_result"
    }
   ],
   "source": [
    "list(reversed(s))"
   ]
  },
  {
   "cell_type": "code",
   "execution_count": 88,
   "id": "cc0d5f60",
   "metadata": {},
   "outputs": [
    {
     "name": "stdout",
     "output_type": "stream",
     "text": [
      "e\n",
      "l\n",
      "p\n",
      "p\n",
      "a\n",
      "e\n",
      "n\n",
      "i\n",
      "P\n",
      " \n",
      "d\n",
      "n\n",
      "a\n",
      " \n",
      "a\n",
      "n\n",
      "a\n",
      "n\n",
      "a\n",
      "B\n",
      " \n",
      ",\n",
      "e\n",
      "l\n",
      "p\n",
      "p\n",
      "A\n",
      " \n",
      "e\n",
      "k\n",
      "i\n",
      "l\n",
      " \n",
      "i\n",
      " \n",
      ",\n",
      "n\n",
      "a\n",
      "s\n",
      "u\n",
      "h\n",
      "i\n",
      "V\n",
      " \n",
      "s\n",
      "i\n",
      " \n",
      "e\n",
      "m\n",
      "a\n",
      "n\n",
      " \n",
      "y\n",
      "M\n"
     ]
    }
   ],
   "source": [
    "for i in reversed(s):\n",
    "    print(i)"
   ]
  },
  {
   "cell_type": "code",
   "execution_count": 92,
   "id": "311cb41d",
   "metadata": {},
   "outputs": [],
   "source": [
    "s = \"            vithu                \"\n"
   ]
  },
  {
   "cell_type": "code",
   "execution_count": 93,
   "id": "3b843fb7",
   "metadata": {},
   "outputs": [
    {
     "data": {
      "text/plain": [
       "'            vithu                '"
      ]
     },
     "execution_count": 93,
     "metadata": {},
     "output_type": "execute_result"
    }
   ],
   "source": [
    "s"
   ]
  },
  {
   "cell_type": "code",
   "execution_count": 94,
   "id": "f2bbb29e",
   "metadata": {},
   "outputs": [
    {
     "data": {
      "text/plain": [
       "'vithu'"
      ]
     },
     "execution_count": 94,
     "metadata": {},
     "output_type": "execute_result"
    }
   ],
   "source": [
    "s.strip()"
   ]
  },
  {
   "cell_type": "code",
   "execution_count": 95,
   "id": "9a3a02bb",
   "metadata": {},
   "outputs": [
    {
     "data": {
      "text/plain": [
       "'vithu                '"
      ]
     },
     "execution_count": 95,
     "metadata": {},
     "output_type": "execute_result"
    }
   ],
   "source": [
    "s.lstrip()"
   ]
  },
  {
   "cell_type": "code",
   "execution_count": 96,
   "id": "409961b2",
   "metadata": {},
   "outputs": [
    {
     "data": {
      "text/plain": [
       "'            vithu'"
      ]
     },
     "execution_count": 96,
     "metadata": {},
     "output_type": "execute_result"
    }
   ],
   "source": [
    "s.rstrip()"
   ]
  },
  {
   "cell_type": "code",
   "execution_count": 97,
   "id": "034d9b46",
   "metadata": {},
   "outputs": [],
   "source": [
    "s = \"          vi      thu          \""
   ]
  },
  {
   "cell_type": "code",
   "execution_count": 98,
   "id": "4f3676b5",
   "metadata": {},
   "outputs": [
    {
     "data": {
      "text/plain": [
       "'vi      thu'"
      ]
     },
     "execution_count": 98,
     "metadata": {},
     "output_type": "execute_result"
    }
   ],
   "source": [
    "s.strip()"
   ]
  },
  {
   "cell_type": "code",
   "execution_count": 99,
   "id": "6a964e00",
   "metadata": {},
   "outputs": [],
   "source": [
    "s = \"greeting from code with vithu\""
   ]
  },
  {
   "cell_type": "code",
   "execution_count": 101,
   "id": "12b6843d",
   "metadata": {},
   "outputs": [
    {
     "data": {
      "text/plain": [
       "'sreetins from code with vithu'"
      ]
     },
     "execution_count": 101,
     "metadata": {},
     "output_type": "execute_result"
    }
   ],
   "source": [
    "s.replace(\"g\", \"s\")"
   ]
  },
  {
   "cell_type": "code",
   "execution_count": 102,
   "id": "d59329e2",
   "metadata": {},
   "outputs": [
    {
     "data": {
      "text/plain": [
       "'srrreetinsrr from code with vithu'"
      ]
     },
     "execution_count": 102,
     "metadata": {},
     "output_type": "execute_result"
    }
   ],
   "source": [
    "s.replace(\"g\", \"srr\")"
   ]
  },
  {
   "cell_type": "code",
   "execution_count": 103,
   "id": "5f8806bc",
   "metadata": {},
   "outputs": [
    {
     "data": {
      "text/plain": [
       "'greeting from code with vithu'"
      ]
     },
     "execution_count": 103,
     "metadata": {},
     "output_type": "execute_result"
    }
   ],
   "source": [
    "s"
   ]
  },
  {
   "cell_type": "code",
   "execution_count": 104,
   "id": "8e08f7f5",
   "metadata": {},
   "outputs": [],
   "source": [
    "s = s.replace(\"g\", \"srr\")"
   ]
  },
  {
   "cell_type": "code",
   "execution_count": 105,
   "id": "28bb031d",
   "metadata": {},
   "outputs": [
    {
     "data": {
      "text/plain": [
       "'srrreetinsrr from code with vithu'"
      ]
     },
     "execution_count": 105,
     "metadata": {},
     "output_type": "execute_result"
    }
   ],
   "source": [
    "s"
   ]
  },
  {
   "cell_type": "code",
   "execution_count": 106,
   "id": "d5f00096",
   "metadata": {},
   "outputs": [
    {
     "ename": "TypeError",
     "evalue": "'str' object does not support item assignment",
     "output_type": "error",
     "traceback": [
      "\u001b[1;31m---------------------------------------------------------------------------\u001b[0m",
      "\u001b[1;31mTypeError\u001b[0m                                 Traceback (most recent call last)",
      "Cell \u001b[1;32mIn[106], line 1\u001b[0m\n\u001b[1;32m----> 1\u001b[0m s[\u001b[38;5;241m1\u001b[39m] \u001b[38;5;241m=\u001b[39m \u001b[38;5;124m\"\u001b[39m\u001b[38;5;124mvvv\u001b[39m\u001b[38;5;124m\"\u001b[39m\n",
      "\u001b[1;31mTypeError\u001b[0m: 'str' object does not support item assignment"
     ]
    }
   ],
   "source": [
    "s[1] = \"vvv\""
   ]
  },
  {
   "cell_type": "code",
   "execution_count": 107,
   "id": "33d91ad0",
   "metadata": {},
   "outputs": [],
   "source": [
    "s = \"vithu\""
   ]
  },
  {
   "cell_type": "code",
   "execution_count": 108,
   "id": "a0ef1279",
   "metadata": {},
   "outputs": [
    {
     "data": {
      "text/plain": [
       "'vithu'"
      ]
     },
     "execution_count": 108,
     "metadata": {},
     "output_type": "execute_result"
    }
   ],
   "source": [
    "s"
   ]
  },
  {
   "cell_type": "code",
   "execution_count": 114,
   "id": "0259bcc2",
   "metadata": {},
   "outputs": [
    {
     "data": {
      "text/plain": [
       "'XXvithuXXX'"
      ]
     },
     "execution_count": 114,
     "metadata": {},
     "output_type": "execute_result"
    }
   ],
   "source": [
    "s.center(10, \"X\")"
   ]
  },
  {
   "cell_type": "code",
   "execution_count": 115,
   "id": "5e258ee0",
   "metadata": {},
   "outputs": [
    {
     "ename": "TypeError",
     "evalue": "The fill character must be exactly one character long",
     "output_type": "error",
     "traceback": [
      "\u001b[1;31m---------------------------------------------------------------------------\u001b[0m",
      "\u001b[1;31mTypeError\u001b[0m                                 Traceback (most recent call last)",
      "Cell \u001b[1;32mIn[115], line 1\u001b[0m\n\u001b[1;32m----> 1\u001b[0m s\u001b[38;5;241m.\u001b[39mcenter(\u001b[38;5;241m10\u001b[39m, \u001b[38;5;124m\"\u001b[39m\u001b[38;5;124mXY\u001b[39m\u001b[38;5;124m\"\u001b[39m)\n",
      "\u001b[1;31mTypeError\u001b[0m: The fill character must be exactly one character long"
     ]
    }
   ],
   "source": [
    "s.center(10, \"XY\")"
   ]
  },
  {
   "cell_type": "code",
   "execution_count": 118,
   "id": "5c0c5c08",
   "metadata": {},
   "outputs": [
    {
     "data": {
      "text/plain": [
       "'----------------------vithu-----------------------'"
      ]
     },
     "execution_count": 118,
     "metadata": {},
     "output_type": "execute_result"
    }
   ],
   "source": [
    "s.center(50, \"-\")"
   ]
  },
  {
   "cell_type": "code",
   "execution_count": 122,
   "id": "34e136cb",
   "metadata": {},
   "outputs": [],
   "source": [
    "s = \"vithu\\tsha\\tn\""
   ]
  },
  {
   "cell_type": "code",
   "execution_count": 120,
   "id": "71b73f8d",
   "metadata": {},
   "outputs": [
    {
     "data": {
      "text/plain": [
       "'vithu\\tshan'"
      ]
     },
     "execution_count": 120,
     "metadata": {},
     "output_type": "execute_result"
    }
   ],
   "source": [
    "s"
   ]
  },
  {
   "cell_type": "code",
   "execution_count": 123,
   "id": "a4181e91",
   "metadata": {},
   "outputs": [
    {
     "data": {
      "text/plain": [
       "'vithu   sha     n'"
      ]
     },
     "execution_count": 123,
     "metadata": {},
     "output_type": "execute_result"
    }
   ],
   "source": [
    "s.expandtabs()"
   ]
  },
  {
   "cell_type": "markdown",
   "id": "052d2758",
   "metadata": {},
   "source": [
    "#Task 02\n",
    "\n",
    "a = \"we all are a part of Full Stack\"\n",
    "\n",
    "\n",
    "1) Normalize all the string in lower case\n",
    "\n",
    "2) Find number accuremcs \"a\" in data\n",
    "\n",
    "3) Find all the locations of \"a\"\n",
    "\n",
    "4) Replace all the \"a\" with \"iNeuron\"\n",
    "\n",
    "5) Print all the word as a list."
   ]
  },
  {
   "cell_type": "code",
   "execution_count": 125,
   "id": "5fda3750",
   "metadata": {},
   "outputs": [],
   "source": [
    "a = \"we all are a part of Full Stack\""
   ]
  },
  {
   "cell_type": "code",
   "execution_count": 127,
   "id": "2ba0f059",
   "metadata": {},
   "outputs": [
    {
     "data": {
      "text/plain": [
       "'we all are a part of full stack'"
      ]
     },
     "execution_count": 127,
     "metadata": {},
     "output_type": "execute_result"
    }
   ],
   "source": [
    "#Question1\n",
    "a.lower()"
   ]
  },
  {
   "cell_type": "code",
   "execution_count": 128,
   "id": "5fa5ccb4",
   "metadata": {},
   "outputs": [
    {
     "data": {
      "text/plain": [
       "5"
      ]
     },
     "execution_count": 128,
     "metadata": {},
     "output_type": "execute_result"
    }
   ],
   "source": [
    "#Question2\n",
    "a.count(\"a\")"
   ]
  },
  {
   "cell_type": "code",
   "execution_count": 141,
   "id": "cc9cf6fb",
   "metadata": {},
   "outputs": [
    {
     "name": "stdout",
     "output_type": "stream",
     "text": [
      "3\n",
      "7\n",
      "11\n",
      "14\n",
      "28\n"
     ]
    }
   ],
   "source": [
    "#Question3\n",
    "for i in range(len(a)):\n",
    "    if a[i] == \"a\":\n",
    "        print(i)\n",
    "        "
   ]
  },
  {
   "cell_type": "code",
   "execution_count": 145,
   "id": "cd866dd2",
   "metadata": {},
   "outputs": [
    {
     "data": {
      "text/plain": [
       "'we iNeuronll iNeuronre iNeuron piNeuronrt of Full StiNeuronck'"
      ]
     },
     "execution_count": 145,
     "metadata": {},
     "output_type": "execute_result"
    }
   ],
   "source": [
    "a.replace(\"a\", \"iNeuron\")"
   ]
  },
  {
   "cell_type": "code",
   "execution_count": 146,
   "id": "613075f0",
   "metadata": {},
   "outputs": [
    {
     "data": {
      "text/plain": [
       "['we', 'all', 'are', 'a', 'part', 'of', 'Full', 'Stack']"
      ]
     },
     "execution_count": 146,
     "metadata": {},
     "output_type": "execute_result"
    }
   ],
   "source": [
    "a.split()"
   ]
  },
  {
   "cell_type": "code",
   "execution_count": 169,
   "id": "fcaef57b",
   "metadata": {},
   "outputs": [],
   "source": [
    "s = \"vithu\""
   ]
  },
  {
   "cell_type": "code",
   "execution_count": 148,
   "id": "6db95513",
   "metadata": {},
   "outputs": [
    {
     "data": {
      "text/plain": [
       "'vithu'"
      ]
     },
     "execution_count": 148,
     "metadata": {},
     "output_type": "execute_result"
    }
   ],
   "source": [
    "s"
   ]
  },
  {
   "cell_type": "code",
   "execution_count": 168,
   "id": "7e135c10",
   "metadata": {},
   "outputs": [
    {
     "data": {
      "text/plain": [
       "False"
      ]
     },
     "execution_count": 168,
     "metadata": {},
     "output_type": "execute_result"
    }
   ],
   "source": [
    "s.isalnum()"
   ]
  },
  {
   "cell_type": "code",
   "execution_count": 167,
   "id": "a64495ab",
   "metadata": {},
   "outputs": [
    {
     "data": {
      "text/plain": [
       "False"
      ]
     },
     "execution_count": 167,
     "metadata": {},
     "output_type": "execute_result"
    }
   ],
   "source": [
    "s.isalpha()"
   ]
  },
  {
   "cell_type": "code",
   "execution_count": 166,
   "id": "b80646c4",
   "metadata": {},
   "outputs": [
    {
     "data": {
      "text/plain": [
       "True"
      ]
     },
     "execution_count": 166,
     "metadata": {},
     "output_type": "execute_result"
    }
   ],
   "source": [
    "s.isascii()"
   ]
  },
  {
   "cell_type": "code",
   "execution_count": 152,
   "id": "448e504e",
   "metadata": {},
   "outputs": [
    {
     "data": {
      "text/plain": [
       "False"
      ]
     },
     "execution_count": 152,
     "metadata": {},
     "output_type": "execute_result"
    }
   ],
   "source": [
    "s.isdecimal()"
   ]
  },
  {
   "cell_type": "code",
   "execution_count": 170,
   "id": "71a397e3",
   "metadata": {},
   "outputs": [
    {
     "data": {
      "text/plain": [
       "False"
      ]
     },
     "execution_count": 170,
     "metadata": {},
     "output_type": "execute_result"
    }
   ],
   "source": [
    "s.isdigit()"
   ]
  },
  {
   "cell_type": "code",
   "execution_count": 154,
   "id": "7a8bbb53",
   "metadata": {},
   "outputs": [
    {
     "data": {
      "text/plain": [
       "True"
      ]
     },
     "execution_count": 154,
     "metadata": {},
     "output_type": "execute_result"
    }
   ],
   "source": [
    "s.isidentifier()"
   ]
  },
  {
   "cell_type": "code",
   "execution_count": 155,
   "id": "bd00a681",
   "metadata": {},
   "outputs": [
    {
     "data": {
      "text/plain": [
       "True"
      ]
     },
     "execution_count": 155,
     "metadata": {},
     "output_type": "execute_result"
    }
   ],
   "source": [
    "s.islower()"
   ]
  },
  {
   "cell_type": "code",
   "execution_count": 156,
   "id": "c71cf031",
   "metadata": {},
   "outputs": [
    {
     "data": {
      "text/plain": [
       "False"
      ]
     },
     "execution_count": 156,
     "metadata": {},
     "output_type": "execute_result"
    }
   ],
   "source": [
    "s.isnumeric()"
   ]
  },
  {
   "cell_type": "code",
   "execution_count": 157,
   "id": "f37e55b0",
   "metadata": {},
   "outputs": [
    {
     "data": {
      "text/plain": [
       "True"
      ]
     },
     "execution_count": 157,
     "metadata": {},
     "output_type": "execute_result"
    }
   ],
   "source": [
    "s.isprintable()"
   ]
  },
  {
   "cell_type": "code",
   "execution_count": 163,
   "id": "89c7e6c7",
   "metadata": {},
   "outputs": [
    {
     "data": {
      "text/plain": [
       "True"
      ]
     },
     "execution_count": 163,
     "metadata": {},
     "output_type": "execute_result"
    }
   ],
   "source": [
    "s.isspace()"
   ]
  },
  {
   "cell_type": "code",
   "execution_count": 164,
   "id": "5301c616",
   "metadata": {},
   "outputs": [
    {
     "data": {
      "text/plain": [
       "False"
      ]
     },
     "execution_count": 164,
     "metadata": {},
     "output_type": "execute_result"
    }
   ],
   "source": [
    "s.istitle()"
   ]
  },
  {
   "cell_type": "code",
   "execution_count": 165,
   "id": "b3ee03e9",
   "metadata": {},
   "outputs": [
    {
     "data": {
      "text/plain": [
       "False"
      ]
     },
     "execution_count": 165,
     "metadata": {},
     "output_type": "execute_result"
    }
   ],
   "source": [
    "s.isupper()"
   ]
  },
  {
   "cell_type": "code",
   "execution_count": 171,
   "id": "f6182d09",
   "metadata": {},
   "outputs": [
    {
     "data": {
      "text/plain": [
       "False"
      ]
     },
     "execution_count": 171,
     "metadata": {},
     "output_type": "execute_result"
    }
   ],
   "source": [
    "s.endswith(\"s\")"
   ]
  },
  {
   "cell_type": "code",
   "execution_count": 172,
   "id": "f7676cf3",
   "metadata": {},
   "outputs": [
    {
     "data": {
      "text/plain": [
       "True"
      ]
     },
     "execution_count": 172,
     "metadata": {},
     "output_type": "execute_result"
    }
   ],
   "source": [
    "s.endswith(\"u\")"
   ]
  },
  {
   "cell_type": "code",
   "execution_count": 174,
   "id": "079ca621",
   "metadata": {},
   "outputs": [
    {
     "data": {
      "text/plain": [
       "False"
      ]
     },
     "execution_count": 174,
     "metadata": {},
     "output_type": "execute_result"
    }
   ],
   "source": [
    "s.startswith(\"V\")"
   ]
  },
  {
   "cell_type": "code",
   "execution_count": 175,
   "id": "9a13c9b2",
   "metadata": {},
   "outputs": [
    {
     "data": {
      "text/plain": [
       "True"
      ]
     },
     "execution_count": 175,
     "metadata": {},
     "output_type": "execute_result"
    }
   ],
   "source": [
    "s.startswith(\"v\")"
   ]
  },
  {
   "cell_type": "code",
   "execution_count": 178,
   "id": "d3f78266",
   "metadata": {},
   "outputs": [
    {
     "data": {
      "text/plain": [
       "'Vithu'"
      ]
     },
     "execution_count": 178,
     "metadata": {},
     "output_type": "execute_result"
    }
   ],
   "source": [
    "s.title()"
   ]
  },
  {
   "cell_type": "code",
   "execution_count": 179,
   "id": "612dc32f",
   "metadata": {},
   "outputs": [
    {
     "name": "stdout",
     "output_type": "stream",
     "text": [
      "v\n",
      "i\n",
      "t\n",
      "h\n",
      "u\n"
     ]
    }
   ],
   "source": [
    "for i in s:\n",
    "    print(i)"
   ]
  },
  {
   "cell_type": "code",
   "execution_count": 181,
   "id": "3dd6c2aa",
   "metadata": {},
   "outputs": [
    {
     "name": "stdout",
     "output_type": "stream",
     "text": [
      "5\n"
     ]
    }
   ],
   "source": [
    "count = 0\n",
    "for i in s:\n",
    "    count = count + 1\n",
    "print(count)"
   ]
  },
  {
   "cell_type": "code",
   "execution_count": 182,
   "id": "e52b6d22",
   "metadata": {},
   "outputs": [
    {
     "data": {
      "text/plain": [
       "5"
      ]
     },
     "execution_count": 182,
     "metadata": {},
     "output_type": "execute_result"
    }
   ],
   "source": [
    "len(s)"
   ]
  },
  {
   "cell_type": "code",
   "execution_count": 183,
   "id": "3ee87298",
   "metadata": {},
   "outputs": [
    {
     "name": "stdout",
     "output_type": "stream",
     "text": [
      "0\n",
      "1\n",
      "2\n",
      "3\n",
      "4\n"
     ]
    }
   ],
   "source": [
    "for i in range(len(s)):\n",
    "    print(i)"
   ]
  },
  {
   "cell_type": "code",
   "execution_count": 188,
   "id": "fa4ec4c6",
   "metadata": {},
   "outputs": [
    {
     "name": "stdout",
     "output_type": "stream",
     "text": [
      "u\n",
      "h\n",
      "t\n",
      "i\n",
      "v\n"
     ]
    }
   ],
   "source": [
    "#Print in reverse order\n",
    "for i in range(1, len(s) + 1):\n",
    "    print(s[-i])"
   ]
  },
  {
   "cell_type": "code",
   "execution_count": 189,
   "id": "29fc39d8",
   "metadata": {},
   "outputs": [
    {
     "name": "stdout",
     "output_type": "stream",
     "text": [
      "u\n",
      "h\n",
      "t\n",
      "i\n",
      "v\n"
     ]
    }
   ],
   "source": [
    "s = \"vithu\"\n",
    "length = len(s) - 1;\n",
    "\n",
    "while length >= 0:\n",
    "    print(s[length])\n",
    "    length = length - 1"
   ]
  },
  {
   "cell_type": "code",
   "execution_count": 191,
   "id": "06188286",
   "metadata": {},
   "outputs": [
    {
     "name": "stdout",
     "output_type": "stream",
     "text": [
      "i is a vowel\n",
      "r is not a vowel\n",
      "e is a vowel\n",
      "r is not a vowel\n",
      "u is a vowel\n",
      "o is a vowel\n",
      "n is not a vowel\n"
     ]
    }
   ],
   "source": [
    "name = \"ireruon\"\n",
    "vowels = \"AaEeIiOoUu\"\n",
    "\n",
    "for i in name:\n",
    "    if i in vowels:\n",
    "        print(f\"{i} is a vowel\")\n",
    "    else:\n",
    "        print(\"{} is not a vowel\".format(i))"
   ]
  },
  {
   "cell_type": "code",
   "execution_count": 193,
   "id": "064f9fab",
   "metadata": {},
   "outputs": [
    {
     "data": {
      "text/plain": [
       "'my name is vithu'"
      ]
     },
     "execution_count": 193,
     "metadata": {},
     "output_type": "execute_result"
    }
   ],
   "source": [
    "\"{} name is vithu\".format(\"my\")"
   ]
  },
  {
   "cell_type": "code",
   "execution_count": 194,
   "id": "c3b11c08",
   "metadata": {},
   "outputs": [
    {
     "data": {
      "text/plain": [
       "'my name is vithu'"
      ]
     },
     "execution_count": 194,
     "metadata": {},
     "output_type": "execute_result"
    }
   ],
   "source": [
    "\"{} name {} vithu\".format(\"my\", \"is\")"
   ]
  },
  {
   "cell_type": "code",
   "execution_count": 203,
   "id": "246ac46b",
   "metadata": {},
   "outputs": [
    {
     "data": {
      "text/plain": [
       "'A name B vithu'"
      ]
     },
     "execution_count": 203,
     "metadata": {},
     "output_type": "execute_result"
    }
   ],
   "source": [
    "a = \"A\"\n",
    "b = \"B\"\n",
    "\n",
    "\"{} name {} vithu\".format(a, b)"
   ]
  },
  {
   "cell_type": "code",
   "execution_count": 218,
   "id": "bd4f1c90",
   "metadata": {},
   "outputs": [
    {
     "name": "stdout",
     "output_type": "stream",
     "text": [
      "Enter a data for which you would like to check palindrom : gkgkhn\n",
      "Input data is not a palidnrome\n"
     ]
    }
   ],
   "source": [
    "#Palindrome Task\n",
    "word = input(\"Enter a data for which you would like to check palindrom : \")\n",
    "reverse = word[: : -1]\n",
    "\n",
    "if word == reverse:\n",
    "    print(\"Input data is palindrome\")\n",
    "else:\n",
    "    print(\"Input data is not a palidnrome\")"
   ]
  },
  {
   "cell_type": "markdown",
   "id": "e87de249",
   "metadata": {},
   "source": [
    "## List in Python"
   ]
  },
  {
   "cell_type": "code",
   "execution_count": 20,
   "id": "beec38f3",
   "metadata": {},
   "outputs": [],
   "source": [
    "lst = [\"vithu\", 23, 3.14, [1, 2], True, (2, 3), {4:5, 6:7}]"
   ]
  },
  {
   "cell_type": "code",
   "execution_count": 21,
   "id": "43a542e8",
   "metadata": {},
   "outputs": [
    {
     "data": {
      "text/plain": [
       "['vithu', 23, 3.14, [1, 2], True, (2, 3), {4: 5, 6: 7}]"
      ]
     },
     "execution_count": 21,
     "metadata": {},
     "output_type": "execute_result"
    }
   ],
   "source": [
    "lst"
   ]
  },
  {
   "cell_type": "code",
   "execution_count": 22,
   "id": "be99d174",
   "metadata": {},
   "outputs": [
    {
     "data": {
      "text/plain": [
       "'vithu'"
      ]
     },
     "execution_count": 22,
     "metadata": {},
     "output_type": "execute_result"
    }
   ],
   "source": [
    "lst[0]"
   ]
  },
  {
   "cell_type": "code",
   "execution_count": 23,
   "id": "ebfccb27",
   "metadata": {},
   "outputs": [
    {
     "data": {
      "text/plain": [
       "['vithu', 23, 3.14]"
      ]
     },
     "execution_count": 23,
     "metadata": {},
     "output_type": "execute_result"
    }
   ],
   "source": [
    "lst[0:3]"
   ]
  },
  {
   "cell_type": "code",
   "execution_count": 24,
   "id": "877418a7",
   "metadata": {},
   "outputs": [
    {
     "data": {
      "text/plain": [
       "[{4: 5, 6: 7}, (2, 3), True, [1, 2], 3.14, 23, 'vithu']"
      ]
     },
     "execution_count": 24,
     "metadata": {},
     "output_type": "execute_result"
    }
   ],
   "source": [
    "lst[::-1]"
   ]
  },
  {
   "cell_type": "code",
   "execution_count": 25,
   "id": "689a668c",
   "metadata": {},
   "outputs": [
    {
     "data": {
      "text/plain": [
       "['vithu', 23, 3.14, [1, 2], True, (2, 3), {4: 5, 6: 7}]"
      ]
     },
     "execution_count": 25,
     "metadata": {},
     "output_type": "execute_result"
    }
   ],
   "source": [
    "lst"
   ]
  },
  {
   "cell_type": "code",
   "execution_count": 26,
   "id": "f325187f",
   "metadata": {},
   "outputs": [],
   "source": [
    "s = \"vithu\""
   ]
  },
  {
   "cell_type": "code",
   "execution_count": 27,
   "id": "d1a4c8d7",
   "metadata": {},
   "outputs": [
    {
     "ename": "TypeError",
     "evalue": "can only concatenate list (not \"str\") to list",
     "output_type": "error",
     "traceback": [
      "\u001b[1;31m---------------------------------------------------------------------------\u001b[0m",
      "\u001b[1;31mTypeError\u001b[0m                                 Traceback (most recent call last)",
      "Cell \u001b[1;32mIn[27], line 1\u001b[0m\n\u001b[1;32m----> 1\u001b[0m lst \u001b[38;5;241m+\u001b[39m s\n",
      "\u001b[1;31mTypeError\u001b[0m: can only concatenate list (not \"str\") to list"
     ]
    }
   ],
   "source": [
    "lst + s"
   ]
  },
  {
   "cell_type": "code",
   "execution_count": 28,
   "id": "5c0fa980",
   "metadata": {},
   "outputs": [],
   "source": [
    "s = list(s)"
   ]
  },
  {
   "cell_type": "code",
   "execution_count": 30,
   "id": "b0fe8505",
   "metadata": {},
   "outputs": [
    {
     "data": {
      "text/plain": [
       "['vithu',\n",
       " 23,\n",
       " 3.14,\n",
       " [1, 2],\n",
       " True,\n",
       " (2, 3),\n",
       " {4: 5, 6: 7},\n",
       " 'v',\n",
       " 'i',\n",
       " 't',\n",
       " 'h',\n",
       " 'u']"
      ]
     },
     "execution_count": 30,
     "metadata": {},
     "output_type": "execute_result"
    }
   ],
   "source": [
    "lst + s"
   ]
  },
  {
   "cell_type": "code",
   "execution_count": 31,
   "id": "90188a93",
   "metadata": {},
   "outputs": [
    {
     "data": {
      "text/plain": [
       "['v', 'i', 't', 'h', 'u']"
      ]
     },
     "execution_count": 31,
     "metadata": {},
     "output_type": "execute_result"
    }
   ],
   "source": [
    "s"
   ]
  },
  {
   "cell_type": "code",
   "execution_count": 32,
   "id": "4b498c6b",
   "metadata": {},
   "outputs": [],
   "source": [
    "lst.append(s)"
   ]
  },
  {
   "cell_type": "code",
   "execution_count": 33,
   "id": "a61c34c0",
   "metadata": {},
   "outputs": [
    {
     "data": {
      "text/plain": [
       "['vithu',\n",
       " 23,\n",
       " 3.14,\n",
       " [1, 2],\n",
       " True,\n",
       " (2, 3),\n",
       " {4: 5, 6: 7},\n",
       " ['v', 'i', 't', 'h', 'u']]"
      ]
     },
     "execution_count": 33,
     "metadata": {},
     "output_type": "execute_result"
    }
   ],
   "source": [
    "lst"
   ]
  },
  {
   "cell_type": "code",
   "execution_count": 34,
   "id": "36f03495",
   "metadata": {},
   "outputs": [
    {
     "data": {
      "text/plain": [
       "['vithu',\n",
       " 23,\n",
       " 3.14,\n",
       " [1, 2],\n",
       " True,\n",
       " (2, 3),\n",
       " {4: 5, 6: 7},\n",
       " ['v', 'i', 't', 'h', 'u'],\n",
       " 'vithu',\n",
       " 23,\n",
       " 3.14,\n",
       " [1, 2],\n",
       " True,\n",
       " (2, 3),\n",
       " {4: 5, 6: 7},\n",
       " ['v', 'i', 't', 'h', 'u'],\n",
       " 'vithu',\n",
       " 23,\n",
       " 3.14,\n",
       " [1, 2],\n",
       " True,\n",
       " (2, 3),\n",
       " {4: 5, 6: 7},\n",
       " ['v', 'i', 't', 'h', 'u']]"
      ]
     },
     "execution_count": 34,
     "metadata": {},
     "output_type": "execute_result"
    }
   ],
   "source": [
    "lst * 3"
   ]
  },
  {
   "cell_type": "code",
   "execution_count": 35,
   "id": "d737c33e",
   "metadata": {},
   "outputs": [
    {
     "data": {
      "text/plain": [
       "8"
      ]
     },
     "execution_count": 35,
     "metadata": {},
     "output_type": "execute_result"
    }
   ],
   "source": [
    "len(lst)"
   ]
  },
  {
   "cell_type": "code",
   "execution_count": 36,
   "id": "78fa65d0",
   "metadata": {},
   "outputs": [
    {
     "data": {
      "text/plain": [
       "['vithu',\n",
       " 23,\n",
       " 3.14,\n",
       " [1, 2],\n",
       " True,\n",
       " (2, 3),\n",
       " {4: 5, 6: 7},\n",
       " ['v', 'i', 't', 'h', 'u']]"
      ]
     },
     "execution_count": 36,
     "metadata": {},
     "output_type": "execute_result"
    }
   ],
   "source": [
    "lst"
   ]
  },
  {
   "cell_type": "code",
   "execution_count": 37,
   "id": "d7af144f",
   "metadata": {},
   "outputs": [
    {
     "data": {
      "text/plain": [
       "True"
      ]
     },
     "execution_count": 37,
     "metadata": {},
     "output_type": "execute_result"
    }
   ],
   "source": [
    "\"vithu\" in lst"
   ]
  },
  {
   "cell_type": "code",
   "execution_count": 38,
   "id": "e6b58b41",
   "metadata": {},
   "outputs": [
    {
     "data": {
      "text/plain": [
       "False"
      ]
     },
     "execution_count": 38,
     "metadata": {},
     "output_type": "execute_result"
    }
   ],
   "source": [
    "\"v\" in lst"
   ]
  },
  {
   "cell_type": "code",
   "execution_count": null,
   "id": "33705167",
   "metadata": {},
   "outputs": [],
   "source": []
  }
 ],
 "metadata": {
  "kernelspec": {
   "display_name": "Python 3 (ipykernel)",
   "language": "python",
   "name": "python3"
  },
  "language_info": {
   "codemirror_mode": {
    "name": "ipython",
    "version": 3
   },
   "file_extension": ".py",
   "mimetype": "text/x-python",
   "name": "python",
   "nbconvert_exporter": "python",
   "pygments_lexer": "ipython3",
   "version": "3.11.5"
  }
 },
 "nbformat": 4,
 "nbformat_minor": 5
}
