{
 "cells": [
  {
   "cell_type": "markdown",
   "id": "eb22f168",
   "metadata": {},
   "source": [
    "# Lecture 05 - 2024.05.09"
   ]
  },
  {
   "cell_type": "markdown",
   "id": "69c0fa4e",
   "metadata": {},
   "source": [
    "## Tuples"
   ]
  },
  {
   "cell_type": "code",
   "execution_count": 1,
   "id": "e3e4b2cd",
   "metadata": {},
   "outputs": [],
   "source": [
    "t = ()"
   ]
  },
  {
   "cell_type": "code",
   "execution_count": 2,
   "id": "c9a2c191",
   "metadata": {},
   "outputs": [
    {
     "data": {
      "text/plain": [
       "tuple"
      ]
     },
     "execution_count": 2,
     "metadata": {},
     "output_type": "execute_result"
    }
   ],
   "source": [
    "type(t)"
   ]
  },
  {
   "cell_type": "code",
   "execution_count": 3,
   "id": "c39ee2f4",
   "metadata": {},
   "outputs": [],
   "source": [
    "t1 = (22, 21, \"vithu\", 3.14, True)"
   ]
  },
  {
   "cell_type": "code",
   "execution_count": 4,
   "id": "ee713b00",
   "metadata": {},
   "outputs": [],
   "source": [
    "l1 = [22, 21, \"vithu\", 3.14, True]"
   ]
  },
  {
   "cell_type": "code",
   "execution_count": 5,
   "id": "c28d9f06",
   "metadata": {},
   "outputs": [
    {
     "data": {
      "text/plain": [
       "22"
      ]
     },
     "execution_count": 5,
     "metadata": {},
     "output_type": "execute_result"
    }
   ],
   "source": [
    "t1[0]"
   ]
  },
  {
   "cell_type": "code",
   "execution_count": 6,
   "id": "5c710395",
   "metadata": {},
   "outputs": [
    {
     "ename": "IndexError",
     "evalue": "tuple index out of range",
     "output_type": "error",
     "traceback": [
      "\u001b[1;31m---------------------------------------------------------------------------\u001b[0m",
      "\u001b[1;31mIndexError\u001b[0m                                Traceback (most recent call last)",
      "Cell \u001b[1;32mIn[6], line 1\u001b[0m\n\u001b[1;32m----> 1\u001b[0m t1[\u001b[38;5;241m5\u001b[39m]\n",
      "\u001b[1;31mIndexError\u001b[0m: tuple index out of range"
     ]
    }
   ],
   "source": [
    "t1[5]"
   ]
  },
  {
   "cell_type": "code",
   "execution_count": null,
   "id": "e4748b39",
   "metadata": {},
   "outputs": [],
   "source": [
    "t1[0:4]"
   ]
  },
  {
   "cell_type": "code",
   "execution_count": null,
   "id": "012db20b",
   "metadata": {},
   "outputs": [],
   "source": [
    "t1[::-1]"
   ]
  },
  {
   "cell_type": "code",
   "execution_count": 7,
   "id": "be07760d",
   "metadata": {},
   "outputs": [
    {
     "data": {
      "text/plain": [
       "22"
      ]
     },
     "execution_count": 7,
     "metadata": {},
     "output_type": "execute_result"
    }
   ],
   "source": [
    "l1[0]"
   ]
  },
  {
   "cell_type": "code",
   "execution_count": 8,
   "id": "a0fe3e02",
   "metadata": {},
   "outputs": [],
   "source": [
    "l1[0] = 1111"
   ]
  },
  {
   "cell_type": "code",
   "execution_count": 9,
   "id": "5854e68d",
   "metadata": {},
   "outputs": [
    {
     "data": {
      "text/plain": [
       "[1111, 21, 'vithu', 3.14, True]"
      ]
     },
     "execution_count": 9,
     "metadata": {},
     "output_type": "execute_result"
    }
   ],
   "source": [
    "l1"
   ]
  },
  {
   "cell_type": "code",
   "execution_count": 10,
   "id": "33b8b005",
   "metadata": {},
   "outputs": [
    {
     "data": {
      "text/plain": [
       "22"
      ]
     },
     "execution_count": 10,
     "metadata": {},
     "output_type": "execute_result"
    }
   ],
   "source": [
    "t1[0]"
   ]
  },
  {
   "cell_type": "code",
   "execution_count": 11,
   "id": "363eee58",
   "metadata": {},
   "outputs": [
    {
     "ename": "TypeError",
     "evalue": "'tuple' object does not support item assignment",
     "output_type": "error",
     "traceback": [
      "\u001b[1;31m---------------------------------------------------------------------------\u001b[0m",
      "\u001b[1;31mTypeError\u001b[0m                                 Traceback (most recent call last)",
      "Cell \u001b[1;32mIn[11], line 1\u001b[0m\n\u001b[1;32m----> 1\u001b[0m t1[\u001b[38;5;241m0\u001b[39m] \u001b[38;5;241m=\u001b[39m \u001b[38;5;241m1111\u001b[39m\n",
      "\u001b[1;31mTypeError\u001b[0m: 'tuple' object does not support item assignment"
     ]
    }
   ],
   "source": [
    "t1[0] = 1111"
   ]
  },
  {
   "cell_type": "code",
   "execution_count": 12,
   "id": "96229d74",
   "metadata": {},
   "outputs": [],
   "source": [
    "t2 = (234, 556)"
   ]
  },
  {
   "cell_type": "code",
   "execution_count": 13,
   "id": "d105c1ed",
   "metadata": {},
   "outputs": [
    {
     "data": {
      "text/plain": [
       "(22, 21, 'vithu', 3.14, True, 234, 556)"
      ]
     },
     "execution_count": 13,
     "metadata": {},
     "output_type": "execute_result"
    }
   ],
   "source": [
    "t1 + t2"
   ]
  },
  {
   "cell_type": "code",
   "execution_count": 14,
   "id": "acaecefe",
   "metadata": {},
   "outputs": [
    {
     "data": {
      "text/plain": [
       "True"
      ]
     },
     "execution_count": 14,
     "metadata": {},
     "output_type": "execute_result"
    }
   ],
   "source": [
    "22 in t1"
   ]
  },
  {
   "cell_type": "code",
   "execution_count": 15,
   "id": "08e42146",
   "metadata": {},
   "outputs": [
    {
     "data": {
      "text/plain": [
       "False"
      ]
     },
     "execution_count": 15,
     "metadata": {},
     "output_type": "execute_result"
    }
   ],
   "source": [
    "\"Hello\" in t1"
   ]
  },
  {
   "cell_type": "code",
   "execution_count": 16,
   "id": "48c8ed4a",
   "metadata": {},
   "outputs": [
    {
     "data": {
      "text/plain": [
       "(22, 21, 'vithu', 3.14, True)"
      ]
     },
     "execution_count": 16,
     "metadata": {},
     "output_type": "execute_result"
    }
   ],
   "source": [
    "t1"
   ]
  },
  {
   "cell_type": "code",
   "execution_count": 17,
   "id": "4b6ae6f0",
   "metadata": {},
   "outputs": [
    {
     "ename": "TypeError",
     "evalue": "'>' not supported between instances of 'str' and 'int'",
     "output_type": "error",
     "traceback": [
      "\u001b[1;31m---------------------------------------------------------------------------\u001b[0m",
      "\u001b[1;31mTypeError\u001b[0m                                 Traceback (most recent call last)",
      "Cell \u001b[1;32mIn[17], line 1\u001b[0m\n\u001b[1;32m----> 1\u001b[0m \u001b[38;5;28mmax\u001b[39m(t1)\n",
      "\u001b[1;31mTypeError\u001b[0m: '>' not supported between instances of 'str' and 'int'"
     ]
    }
   ],
   "source": [
    "max(t1)"
   ]
  },
  {
   "cell_type": "code",
   "execution_count": 18,
   "id": "cfa0b67e",
   "metadata": {},
   "outputs": [],
   "source": [
    "t3 = (22, 23, 55, 88, 44)"
   ]
  },
  {
   "cell_type": "code",
   "execution_count": 19,
   "id": "06d5b560",
   "metadata": {},
   "outputs": [
    {
     "data": {
      "text/plain": [
       "88"
      ]
     },
     "execution_count": 19,
     "metadata": {},
     "output_type": "execute_result"
    }
   ],
   "source": [
    "max(t3)"
   ]
  },
  {
   "cell_type": "code",
   "execution_count": 20,
   "id": "442a9c43",
   "metadata": {},
   "outputs": [],
   "source": [
    "t4 = (\"appele\", \"B\", \"Z\", \"A\")"
   ]
  },
  {
   "cell_type": "code",
   "execution_count": 21,
   "id": "86ca3376",
   "metadata": {},
   "outputs": [
    {
     "data": {
      "text/plain": [
       "'appele'"
      ]
     },
     "execution_count": 21,
     "metadata": {},
     "output_type": "execute_result"
    }
   ],
   "source": [
    "max(t4)"
   ]
  },
  {
   "cell_type": "code",
   "execution_count": 22,
   "id": "97bb9d43",
   "metadata": {},
   "outputs": [
    {
     "data": {
      "text/plain": [
       "[1111, 21, 'vithu', 3.14, True]"
      ]
     },
     "execution_count": 22,
     "metadata": {},
     "output_type": "execute_result"
    }
   ],
   "source": [
    "l1"
   ]
  },
  {
   "cell_type": "code",
   "execution_count": 23,
   "id": "237c905d",
   "metadata": {},
   "outputs": [
    {
     "data": {
      "text/plain": [
       "1"
      ]
     },
     "execution_count": 23,
     "metadata": {},
     "output_type": "execute_result"
    }
   ],
   "source": [
    "t4.index(\"B\")"
   ]
  },
  {
   "cell_type": "code",
   "execution_count": 24,
   "id": "d92bf828",
   "metadata": {},
   "outputs": [
    {
     "ename": "ValueError",
     "evalue": "tuple.index(x): x not in tuple",
     "output_type": "error",
     "traceback": [
      "\u001b[1;31m---------------------------------------------------------------------------\u001b[0m",
      "\u001b[1;31mValueError\u001b[0m                                Traceback (most recent call last)",
      "Cell \u001b[1;32mIn[24], line 1\u001b[0m\n\u001b[1;32m----> 1\u001b[0m t4\u001b[38;5;241m.\u001b[39mindex(\u001b[38;5;241m34\u001b[39m)\n",
      "\u001b[1;31mValueError\u001b[0m: tuple.index(x): x not in tuple"
     ]
    }
   ],
   "source": [
    "t4.index(34)"
   ]
  },
  {
   "cell_type": "code",
   "execution_count": 25,
   "id": "ee99d1b3",
   "metadata": {},
   "outputs": [
    {
     "ename": "ValueError",
     "evalue": "22 is not in list",
     "output_type": "error",
     "traceback": [
      "\u001b[1;31m---------------------------------------------------------------------------\u001b[0m",
      "\u001b[1;31mValueError\u001b[0m                                Traceback (most recent call last)",
      "Cell \u001b[1;32mIn[25], line 1\u001b[0m\n\u001b[1;32m----> 1\u001b[0m l1\u001b[38;5;241m.\u001b[39mindex(\u001b[38;5;241m22\u001b[39m)\n",
      "\u001b[1;31mValueError\u001b[0m: 22 is not in list"
     ]
    }
   ],
   "source": [
    "l1.index(22)"
   ]
  },
  {
   "cell_type": "code",
   "execution_count": 26,
   "id": "f35203e3",
   "metadata": {},
   "outputs": [
    {
     "data": {
      "text/plain": [
       "(22, 21, 'vithu', 3.14, True)"
      ]
     },
     "execution_count": 26,
     "metadata": {},
     "output_type": "execute_result"
    }
   ],
   "source": [
    "t1"
   ]
  },
  {
   "cell_type": "code",
   "execution_count": 27,
   "id": "a0c05286",
   "metadata": {},
   "outputs": [
    {
     "data": {
      "text/plain": [
       "1"
      ]
     },
     "execution_count": 27,
     "metadata": {},
     "output_type": "execute_result"
    }
   ],
   "source": [
    "t1.count(22)"
   ]
  },
  {
   "cell_type": "code",
   "execution_count": 28,
   "id": "bf47d71c",
   "metadata": {},
   "outputs": [
    {
     "ename": "TypeError",
     "evalue": "'<' not supported between instances of 'str' and 'int'",
     "output_type": "error",
     "traceback": [
      "\u001b[1;31m---------------------------------------------------------------------------\u001b[0m",
      "\u001b[1;31mTypeError\u001b[0m                                 Traceback (most recent call last)",
      "Cell \u001b[1;32mIn[28], line 1\u001b[0m\n\u001b[1;32m----> 1\u001b[0m \u001b[38;5;28mmin\u001b[39m(t1)\n",
      "\u001b[1;31mTypeError\u001b[0m: '<' not supported between instances of 'str' and 'int'"
     ]
    }
   ],
   "source": [
    "min(t1)"
   ]
  },
  {
   "cell_type": "code",
   "execution_count": 29,
   "id": "9eb46636",
   "metadata": {},
   "outputs": [
    {
     "data": {
      "text/plain": [
       "(22, 23, 55, 88, 44)"
      ]
     },
     "execution_count": 29,
     "metadata": {},
     "output_type": "execute_result"
    }
   ],
   "source": [
    "t3"
   ]
  },
  {
   "cell_type": "code",
   "execution_count": 30,
   "id": "3ccc5e0f",
   "metadata": {},
   "outputs": [
    {
     "data": {
      "text/plain": [
       "22"
      ]
     },
     "execution_count": 30,
     "metadata": {},
     "output_type": "execute_result"
    }
   ],
   "source": [
    "min(t3)"
   ]
  },
  {
   "cell_type": "code",
   "execution_count": 31,
   "id": "cddf87fb",
   "metadata": {},
   "outputs": [
    {
     "data": {
      "text/plain": [
       "'A'"
      ]
     },
     "execution_count": 31,
     "metadata": {},
     "output_type": "execute_result"
    }
   ],
   "source": [
    "min(t4)"
   ]
  },
  {
   "cell_type": "code",
   "execution_count": 32,
   "id": "05161154",
   "metadata": {},
   "outputs": [
    {
     "data": {
      "text/plain": [
       "(22, 21, 'vithu', 3.14, True)"
      ]
     },
     "execution_count": 32,
     "metadata": {},
     "output_type": "execute_result"
    }
   ],
   "source": [
    "t1"
   ]
  },
  {
   "cell_type": "code",
   "execution_count": 33,
   "id": "07c5d9e9",
   "metadata": {},
   "outputs": [],
   "source": [
    "t5 = (90,)"
   ]
  },
  {
   "cell_type": "code",
   "execution_count": 34,
   "id": "594c1c0c",
   "metadata": {},
   "outputs": [
    {
     "data": {
      "text/plain": [
       "(22, 21, 'vithu', 3.14, True, 90)"
      ]
     },
     "execution_count": 34,
     "metadata": {},
     "output_type": "execute_result"
    }
   ],
   "source": [
    "t1 + t5"
   ]
  },
  {
   "cell_type": "code",
   "execution_count": 35,
   "id": "306981af",
   "metadata": {},
   "outputs": [],
   "source": [
    "#Convert tuple to list\n",
    "lst = list(t1)"
   ]
  },
  {
   "cell_type": "code",
   "execution_count": 36,
   "id": "ca40e00d",
   "metadata": {},
   "outputs": [
    {
     "data": {
      "text/plain": [
       "[22, 21, 'vithu', 3.14, True]"
      ]
     },
     "execution_count": 36,
     "metadata": {},
     "output_type": "execute_result"
    }
   ],
   "source": [
    "lst"
   ]
  },
  {
   "cell_type": "code",
   "execution_count": 37,
   "id": "205b0f2e",
   "metadata": {},
   "outputs": [],
   "source": [
    "lst.insert(3, 333)\n",
    "lst.insert(4, 444)"
   ]
  },
  {
   "cell_type": "code",
   "execution_count": 38,
   "id": "0addb168",
   "metadata": {},
   "outputs": [
    {
     "data": {
      "text/plain": [
       "[22, 21, 'vithu', 333, 444, 3.14, True]"
      ]
     },
     "execution_count": 38,
     "metadata": {},
     "output_type": "execute_result"
    }
   ],
   "source": [
    "lst"
   ]
  },
  {
   "cell_type": "code",
   "execution_count": 39,
   "id": "91af42b6",
   "metadata": {},
   "outputs": [],
   "source": [
    "#Convert list into tuple\n",
    "t1 = tuple(lst)"
   ]
  },
  {
   "cell_type": "code",
   "execution_count": 40,
   "id": "4393a782",
   "metadata": {},
   "outputs": [
    {
     "data": {
      "text/plain": [
       "(22, 21, 'vithu', 333, 444, 3.14, True)"
      ]
     },
     "execution_count": 40,
     "metadata": {},
     "output_type": "execute_result"
    }
   ],
   "source": [
    "t1"
   ]
  },
  {
   "cell_type": "code",
   "execution_count": 41,
   "id": "c36fa65a",
   "metadata": {},
   "outputs": [],
   "source": [
    "t = ((3, 4, 5, 6), (\"vithu\", 45, 45), (\"454\", 54), [1, 2, 3])"
   ]
  },
  {
   "cell_type": "code",
   "execution_count": 42,
   "id": "7555ab14",
   "metadata": {},
   "outputs": [
    {
     "data": {
      "text/plain": [
       "((3, 4, 5, 6), ('vithu', 45, 45), ('454', 54), [1, 2, 3])"
      ]
     },
     "execution_count": 42,
     "metadata": {},
     "output_type": "execute_result"
    }
   ],
   "source": [
    "t"
   ]
  },
  {
   "cell_type": "code",
   "execution_count": 43,
   "id": "fd6a2ff6",
   "metadata": {},
   "outputs": [
    {
     "data": {
      "text/plain": [
       "(3, 4, 5, 6)"
      ]
     },
     "execution_count": 43,
     "metadata": {},
     "output_type": "execute_result"
    }
   ],
   "source": [
    "t[0]"
   ]
  },
  {
   "cell_type": "code",
   "execution_count": 44,
   "id": "dc893c3a",
   "metadata": {},
   "outputs": [
    {
     "data": {
      "text/plain": [
       "3"
      ]
     },
     "execution_count": 44,
     "metadata": {},
     "output_type": "execute_result"
    }
   ],
   "source": [
    "t[0][0]"
   ]
  },
  {
   "cell_type": "code",
   "execution_count": 45,
   "id": "115bb51c",
   "metadata": {},
   "outputs": [
    {
     "data": {
      "text/plain": [
       "[1, 2, 3]"
      ]
     },
     "execution_count": 45,
     "metadata": {},
     "output_type": "execute_result"
    }
   ],
   "source": [
    "t[3][:]"
   ]
  },
  {
   "cell_type": "code",
   "execution_count": 46,
   "id": "bb4fc7ad",
   "metadata": {},
   "outputs": [
    {
     "data": {
      "text/plain": [
       "[1, 2]"
      ]
     },
     "execution_count": 46,
     "metadata": {},
     "output_type": "execute_result"
    }
   ],
   "source": [
    "t[3][:2]"
   ]
  },
  {
   "cell_type": "code",
   "execution_count": 47,
   "id": "10201156",
   "metadata": {},
   "outputs": [
    {
     "name": "stdout",
     "output_type": "stream",
     "text": [
      "3\n",
      "vithu\n",
      "454\n"
     ]
    }
   ],
   "source": [
    "for i in t:\n",
    "    if type(i) == tuple:\n",
    "        print(i[0])"
   ]
  },
  {
   "cell_type": "code",
   "execution_count": 48,
   "id": "cdb215d7",
   "metadata": {},
   "outputs": [
    {
     "data": {
      "text/plain": [
       "(22, 21, 'vithu', 333, 444, 3.14, True)"
      ]
     },
     "execution_count": 48,
     "metadata": {},
     "output_type": "execute_result"
    }
   ],
   "source": [
    "t1"
   ]
  },
  {
   "cell_type": "code",
   "execution_count": 50,
   "id": "58b3290f",
   "metadata": {},
   "outputs": [
    {
     "data": {
      "text/plain": [
       "(234, 556)"
      ]
     },
     "execution_count": 50,
     "metadata": {},
     "output_type": "execute_result"
    }
   ],
   "source": [
    "t2"
   ]
  },
  {
   "cell_type": "code",
   "execution_count": 51,
   "id": "e75e0ecb",
   "metadata": {},
   "outputs": [
    {
     "data": {
      "text/plain": [
       "False"
      ]
     },
     "execution_count": 51,
     "metadata": {},
     "output_type": "execute_result"
    }
   ],
   "source": [
    "len(t1) == len(t2)"
   ]
  },
  {
   "cell_type": "code",
   "execution_count": 52,
   "id": "6ba12e6f",
   "metadata": {},
   "outputs": [],
   "source": [
    "t = (22, 21, 'vithu', 333, 444, 3.14, True, 22, 21, 'vithu', 333, 444, 3.14, True)"
   ]
  },
  {
   "cell_type": "code",
   "execution_count": 53,
   "id": "6e8f02dc",
   "metadata": {},
   "outputs": [
    {
     "name": "stdout",
     "output_type": "stream",
     "text": [
      "Enter something : vithu\n",
      "Your name is available\n"
     ]
    }
   ],
   "source": [
    "uInput = input(\"Enter something : \")\n",
    "\n",
    "if uInput in t:\n",
    "    print(\"Your name is available\")\n",
    "else:\n",
    "    print(\"Your name is not available\")"
   ]
  },
  {
   "cell_type": "code",
   "execution_count": 54,
   "id": "023dc7b4",
   "metadata": {},
   "outputs": [
    {
     "data": {
      "text/plain": [
       "(22, 21, 'vithu', 333, 444, 3.14, True, 22, 21, 'vithu', 333, 444, 3.14, True)"
      ]
     },
     "execution_count": 54,
     "metadata": {},
     "output_type": "execute_result"
    }
   ],
   "source": [
    "t"
   ]
  },
  {
   "cell_type": "code",
   "execution_count": 55,
   "id": "964d76d2",
   "metadata": {},
   "outputs": [
    {
     "data": {
      "text/plain": [
       "[1111, 21, 'vithu', 3.14, True]"
      ]
     },
     "execution_count": 55,
     "metadata": {},
     "output_type": "execute_result"
    }
   ],
   "source": [
    "l1"
   ]
  },
  {
   "cell_type": "code",
   "execution_count": 56,
   "id": "7b0c476d",
   "metadata": {},
   "outputs": [
    {
     "ename": "SyntaxError",
     "evalue": "cannot delete literal (302530423.py, line 1)",
     "output_type": "error",
     "traceback": [
      "\u001b[1;36m  Cell \u001b[1;32mIn[56], line 1\u001b[1;36m\u001b[0m\n\u001b[1;33m    del(21)\u001b[0m\n\u001b[1;37m        ^\u001b[0m\n\u001b[1;31mSyntaxError\u001b[0m\u001b[1;31m:\u001b[0m cannot delete literal\n"
     ]
    }
   ],
   "source": [
    "del(21)"
   ]
  },
  {
   "cell_type": "code",
   "execution_count": 57,
   "id": "2695776d",
   "metadata": {},
   "outputs": [],
   "source": [
    "del(t)"
   ]
  },
  {
   "cell_type": "code",
   "execution_count": 58,
   "id": "a0dda1f2",
   "metadata": {},
   "outputs": [
    {
     "ename": "NameError",
     "evalue": "name 't' is not defined",
     "output_type": "error",
     "traceback": [
      "\u001b[1;31m---------------------------------------------------------------------------\u001b[0m",
      "\u001b[1;31mNameError\u001b[0m                                 Traceback (most recent call last)",
      "Cell \u001b[1;32mIn[58], line 1\u001b[0m\n\u001b[1;32m----> 1\u001b[0m t\n",
      "\u001b[1;31mNameError\u001b[0m: name 't' is not defined"
     ]
    }
   ],
   "source": [
    "t"
   ]
  },
  {
   "cell_type": "code",
   "execution_count": 59,
   "id": "300fa5b3",
   "metadata": {},
   "outputs": [],
   "source": [
    "del(l1)"
   ]
  },
  {
   "cell_type": "code",
   "execution_count": 60,
   "id": "f0689d0c",
   "metadata": {},
   "outputs": [
    {
     "ename": "NameError",
     "evalue": "name 'l1' is not defined",
     "output_type": "error",
     "traceback": [
      "\u001b[1;31m---------------------------------------------------------------------------\u001b[0m",
      "\u001b[1;31mNameError\u001b[0m                                 Traceback (most recent call last)",
      "Cell \u001b[1;32mIn[60], line 1\u001b[0m\n\u001b[1;32m----> 1\u001b[0m l1\n",
      "\u001b[1;31mNameError\u001b[0m: name 'l1' is not defined"
     ]
    }
   ],
   "source": [
    "l1"
   ]
  },
  {
   "cell_type": "code",
   "execution_count": 61,
   "id": "bec89d6c",
   "metadata": {},
   "outputs": [],
   "source": [
    "l = [12, 45, 6, 7]"
   ]
  },
  {
   "cell_type": "code",
   "execution_count": 360,
   "id": "cec58981",
   "metadata": {},
   "outputs": [
    {
     "data": {
      "text/plain": [
       "(0, 1, 2, 3, 4)"
      ]
     },
     "execution_count": 360,
     "metadata": {},
     "output_type": "execute_result"
    }
   ],
   "source": [
    "tuple(x for x in range(5)) #tuple comphericonsion"
   ]
  },
  {
   "cell_type": "markdown",
   "id": "b993e0a7",
   "metadata": {},
   "source": [
    "## Sets - 2024.05.11"
   ]
  },
  {
   "cell_type": "code",
   "execution_count": 62,
   "id": "893ab6e7",
   "metadata": {},
   "outputs": [],
   "source": [
    "x = set()"
   ]
  },
  {
   "cell_type": "code",
   "execution_count": 63,
   "id": "e365a6b9",
   "metadata": {},
   "outputs": [
    {
     "data": {
      "text/plain": [
       "set"
      ]
     },
     "execution_count": 63,
     "metadata": {},
     "output_type": "execute_result"
    }
   ],
   "source": [
    "type(x)"
   ]
  },
  {
   "cell_type": "code",
   "execution_count": 64,
   "id": "60f549fe",
   "metadata": {},
   "outputs": [
    {
     "data": {
      "text/plain": [
       "set()"
      ]
     },
     "execution_count": 64,
     "metadata": {},
     "output_type": "execute_result"
    }
   ],
   "source": [
    "x"
   ]
  },
  {
   "cell_type": "code",
   "execution_count": 78,
   "id": "2a7cae59",
   "metadata": {},
   "outputs": [],
   "source": [
    "l = [12, 35, 66, 88, 999, 12, 12, 444, 112, \"vithu\", \"nila\", 12, \"Vithu\"]"
   ]
  },
  {
   "cell_type": "code",
   "execution_count": 79,
   "id": "05627949",
   "metadata": {},
   "outputs": [],
   "source": [
    "x = set(l)"
   ]
  },
  {
   "cell_type": "code",
   "execution_count": 80,
   "id": "3af7cc6c",
   "metadata": {},
   "outputs": [
    {
     "data": {
      "text/plain": [
       "{112, 12, 35, 444, 66, 88, 999, 'Vithu', 'nila', 'vithu'}"
      ]
     },
     "execution_count": 80,
     "metadata": {},
     "output_type": "execute_result"
    }
   ],
   "source": [
    "x"
   ]
  },
  {
   "cell_type": "code",
   "execution_count": 86,
   "id": "3725b0ce",
   "metadata": {},
   "outputs": [
    {
     "name": "stdout",
     "output_type": "stream",
     "text": [
      "66\n",
      "35\n",
      "Vithu\n",
      "nila\n",
      "999\n",
      "12\n",
      "112\n",
      "vithu\n",
      "88\n",
      "444\n"
     ]
    }
   ],
   "source": [
    "for i in x:\n",
    "    print(i)"
   ]
  },
  {
   "cell_type": "code",
   "execution_count": 87,
   "id": "b51fc94e",
   "metadata": {},
   "outputs": [
    {
     "data": {
      "text/plain": [
       "True"
      ]
     },
     "execution_count": 87,
     "metadata": {},
     "output_type": "execute_result"
    }
   ],
   "source": [
    "66 in x"
   ]
  },
  {
   "cell_type": "code",
   "execution_count": 84,
   "id": "d1f3294c",
   "metadata": {},
   "outputs": [
    {
     "ename": "TypeError",
     "evalue": "'set' object is not subscriptable",
     "output_type": "error",
     "traceback": [
      "\u001b[1;31m---------------------------------------------------------------------------\u001b[0m",
      "\u001b[1;31mTypeError\u001b[0m                                 Traceback (most recent call last)",
      "Cell \u001b[1;32mIn[84], line 1\u001b[0m\n\u001b[1;32m----> 1\u001b[0m x[\u001b[38;5;241m0\u001b[39m]\n",
      "\u001b[1;31mTypeError\u001b[0m: 'set' object is not subscriptable"
     ]
    }
   ],
   "source": [
    "x[0]"
   ]
  },
  {
   "cell_type": "code",
   "execution_count": 85,
   "id": "ed9a9c92",
   "metadata": {},
   "outputs": [
    {
     "ename": "SyntaxError",
     "evalue": "invalid syntax (509403736.py, line 1)",
     "output_type": "error",
     "traceback": [
      "\u001b[1;36m  Cell \u001b[1;32mIn[85], line 1\u001b[1;36m\u001b[0m\n\u001b[1;33m    x{0}\u001b[0m\n\u001b[1;37m     ^\u001b[0m\n\u001b[1;31mSyntaxError\u001b[0m\u001b[1;31m:\u001b[0m invalid syntax\n"
     ]
    }
   ],
   "source": [
    "x{0}"
   ]
  },
  {
   "cell_type": "code",
   "execution_count": 88,
   "id": "a05be927",
   "metadata": {},
   "outputs": [
    {
     "data": {
      "text/plain": [
       "set()"
      ]
     },
     "execution_count": 88,
     "metadata": {},
     "output_type": "execute_result"
    }
   ],
   "source": [
    "s = set()\n",
    "s"
   ]
  },
  {
   "cell_type": "code",
   "execution_count": 89,
   "id": "df9f4c5b",
   "metadata": {},
   "outputs": [],
   "source": [
    "s.add(45)"
   ]
  },
  {
   "cell_type": "code",
   "execution_count": 90,
   "id": "7c249c93",
   "metadata": {},
   "outputs": [
    {
     "data": {
      "text/plain": [
       "{45}"
      ]
     },
     "execution_count": 90,
     "metadata": {},
     "output_type": "execute_result"
    }
   ],
   "source": [
    "s"
   ]
  },
  {
   "cell_type": "code",
   "execution_count": 91,
   "id": "d9e180d8",
   "metadata": {},
   "outputs": [],
   "source": [
    "s.add(\"vithu\")"
   ]
  },
  {
   "cell_type": "code",
   "execution_count": 92,
   "id": "5e6bf65c",
   "metadata": {},
   "outputs": [],
   "source": [
    "s.add(\"nila\")"
   ]
  },
  {
   "cell_type": "code",
   "execution_count": 93,
   "id": "5f01ace1",
   "metadata": {},
   "outputs": [],
   "source": [
    "s.add((45, 56))"
   ]
  },
  {
   "cell_type": "code",
   "execution_count": 94,
   "id": "b520466f",
   "metadata": {},
   "outputs": [
    {
     "ename": "TypeError",
     "evalue": "unhashable type: 'list'",
     "output_type": "error",
     "traceback": [
      "\u001b[1;31m---------------------------------------------------------------------------\u001b[0m",
      "\u001b[1;31mTypeError\u001b[0m                                 Traceback (most recent call last)",
      "Cell \u001b[1;32mIn[94], line 1\u001b[0m\n\u001b[1;32m----> 1\u001b[0m s\u001b[38;5;241m.\u001b[39madd([\u001b[38;5;241m1\u001b[39m, \u001b[38;5;241m2\u001b[39m, \u001b[38;5;241m3\u001b[39m])\n",
      "\u001b[1;31mTypeError\u001b[0m: unhashable type: 'list'"
     ]
    }
   ],
   "source": [
    "s.add([1, 2, 3])"
   ]
  },
  {
   "cell_type": "code",
   "execution_count": 95,
   "id": "57575edf",
   "metadata": {},
   "outputs": [
    {
     "data": {
      "text/plain": [
       "{(45, 56), 45, 'nila', 'vithu'}"
      ]
     },
     "execution_count": 95,
     "metadata": {},
     "output_type": "execute_result"
    }
   ],
   "source": [
    "s"
   ]
  },
  {
   "cell_type": "code",
   "execution_count": 96,
   "id": "3b4ed97c",
   "metadata": {},
   "outputs": [],
   "source": [
    "s.add(45)"
   ]
  },
  {
   "cell_type": "code",
   "execution_count": 97,
   "id": "af025a66",
   "metadata": {},
   "outputs": [
    {
     "data": {
      "text/plain": [
       "{(45, 56), 45, 'nila', 'vithu'}"
      ]
     },
     "execution_count": 97,
     "metadata": {},
     "output_type": "execute_result"
    }
   ],
   "source": [
    "s"
   ]
  },
  {
   "cell_type": "code",
   "execution_count": 98,
   "id": "0587b544",
   "metadata": {},
   "outputs": [],
   "source": [
    "s.remove(45)"
   ]
  },
  {
   "cell_type": "code",
   "execution_count": 99,
   "id": "269cd739",
   "metadata": {},
   "outputs": [
    {
     "data": {
      "text/plain": [
       "{(45, 56), 'nila', 'vithu'}"
      ]
     },
     "execution_count": 99,
     "metadata": {},
     "output_type": "execute_result"
    }
   ],
   "source": [
    "s"
   ]
  },
  {
   "cell_type": "code",
   "execution_count": 100,
   "id": "5d21df02",
   "metadata": {},
   "outputs": [
    {
     "ename": "KeyError",
     "evalue": "45",
     "output_type": "error",
     "traceback": [
      "\u001b[1;31m---------------------------------------------------------------------------\u001b[0m",
      "\u001b[1;31mKeyError\u001b[0m                                  Traceback (most recent call last)",
      "Cell \u001b[1;32mIn[100], line 1\u001b[0m\n\u001b[1;32m----> 1\u001b[0m s\u001b[38;5;241m.\u001b[39mremove(\u001b[38;5;241m45\u001b[39m)\n",
      "\u001b[1;31mKeyError\u001b[0m: 45"
     ]
    }
   ],
   "source": [
    "s.remove(45)"
   ]
  },
  {
   "cell_type": "code",
   "execution_count": 101,
   "id": "a42113cf",
   "metadata": {},
   "outputs": [
    {
     "data": {
      "text/plain": [
       "False"
      ]
     },
     "execution_count": 101,
     "metadata": {},
     "output_type": "execute_result"
    }
   ],
   "source": [
    "45 in s"
   ]
  },
  {
   "cell_type": "code",
   "execution_count": 102,
   "id": "09de4abc",
   "metadata": {},
   "outputs": [],
   "source": [
    "s.clear()"
   ]
  },
  {
   "cell_type": "code",
   "execution_count": 103,
   "id": "720bdede",
   "metadata": {},
   "outputs": [
    {
     "data": {
      "text/plain": [
       "set()"
      ]
     },
     "execution_count": 103,
     "metadata": {},
     "output_type": "execute_result"
    }
   ],
   "source": [
    "s"
   ]
  },
  {
   "cell_type": "code",
   "execution_count": 112,
   "id": "2f27d2b4",
   "metadata": {},
   "outputs": [],
   "source": [
    "s1 = set(l)"
   ]
  },
  {
   "cell_type": "code",
   "execution_count": 113,
   "id": "30f7462e",
   "metadata": {},
   "outputs": [
    {
     "data": {
      "text/plain": [
       "{112, 12, 35, 444, 66, 88, 999, 'Vithu', 'nila', 'vithu'}"
      ]
     },
     "execution_count": 113,
     "metadata": {},
     "output_type": "execute_result"
    }
   ],
   "source": [
    "s1"
   ]
  },
  {
   "cell_type": "code",
   "execution_count": 114,
   "id": "a038262e",
   "metadata": {},
   "outputs": [],
   "source": [
    "l2 = [2, 4, 6, 8]"
   ]
  },
  {
   "cell_type": "code",
   "execution_count": 115,
   "id": "7f65300e",
   "metadata": {},
   "outputs": [],
   "source": [
    "s2 = set(l2)"
   ]
  },
  {
   "cell_type": "code",
   "execution_count": 116,
   "id": "c0293128",
   "metadata": {},
   "outputs": [
    {
     "data": {
      "text/plain": [
       "{2, 4, 6, 8}"
      ]
     },
     "execution_count": 116,
     "metadata": {},
     "output_type": "execute_result"
    }
   ],
   "source": [
    "s2"
   ]
  },
  {
   "cell_type": "code",
   "execution_count": 117,
   "id": "e0a05456",
   "metadata": {},
   "outputs": [
    {
     "ename": "TypeError",
     "evalue": "unsupported operand type(s) for +: 'set' and 'set'",
     "output_type": "error",
     "traceback": [
      "\u001b[1;31m---------------------------------------------------------------------------\u001b[0m",
      "\u001b[1;31mTypeError\u001b[0m                                 Traceback (most recent call last)",
      "Cell \u001b[1;32mIn[117], line 1\u001b[0m\n\u001b[1;32m----> 1\u001b[0m s1 \u001b[38;5;241m+\u001b[39m s2\n",
      "\u001b[1;31mTypeError\u001b[0m: unsupported operand type(s) for +: 'set' and 'set'"
     ]
    }
   ],
   "source": [
    "s1 + s2"
   ]
  },
  {
   "cell_type": "code",
   "execution_count": 118,
   "id": "39ba9700",
   "metadata": {},
   "outputs": [
    {
     "ename": "TypeError",
     "evalue": "unsupported operand type(s) for *: 'set' and 'int'",
     "output_type": "error",
     "traceback": [
      "\u001b[1;31m---------------------------------------------------------------------------\u001b[0m",
      "\u001b[1;31mTypeError\u001b[0m                                 Traceback (most recent call last)",
      "Cell \u001b[1;32mIn[118], line 1\u001b[0m\n\u001b[1;32m----> 1\u001b[0m s1 \u001b[38;5;241m*\u001b[39m \u001b[38;5;241m2\u001b[39m\n",
      "\u001b[1;31mTypeError\u001b[0m: unsupported operand type(s) for *: 'set' and 'int'"
     ]
    }
   ],
   "source": [
    "s1 * 2"
   ]
  },
  {
   "cell_type": "code",
   "execution_count": 119,
   "id": "2df9e796",
   "metadata": {},
   "outputs": [
    {
     "data": {
      "text/plain": [
       "{112, 12, 35, 444, 66, 88, 999, 'Vithu', 'nila', 'vithu'}"
      ]
     },
     "execution_count": 119,
     "metadata": {},
     "output_type": "execute_result"
    }
   ],
   "source": [
    "s1"
   ]
  },
  {
   "cell_type": "code",
   "execution_count": 121,
   "id": "122d1ce4",
   "metadata": {},
   "outputs": [],
   "source": [
    "l3 = list(s1)"
   ]
  },
  {
   "cell_type": "code",
   "execution_count": 122,
   "id": "4f6d7f13",
   "metadata": {},
   "outputs": [
    {
     "data": {
      "text/plain": [
       "[66, 35, 'Vithu', 'nila', 999, 12, 112, 'vithu', 88, 444]"
      ]
     },
     "execution_count": 122,
     "metadata": {},
     "output_type": "execute_result"
    }
   ],
   "source": [
    "l3"
   ]
  },
  {
   "cell_type": "code",
   "execution_count": 124,
   "id": "b7905abb",
   "metadata": {},
   "outputs": [],
   "source": [
    "l3.append(11)"
   ]
  },
  {
   "cell_type": "code",
   "execution_count": 125,
   "id": "27f243c4",
   "metadata": {},
   "outputs": [
    {
     "data": {
      "text/plain": [
       "[66, 35, 'Vithu', 'nila', 999, 12, 112, 'vithu', 88, 444, 11]"
      ]
     },
     "execution_count": 125,
     "metadata": {},
     "output_type": "execute_result"
    }
   ],
   "source": [
    "l3"
   ]
  },
  {
   "cell_type": "code",
   "execution_count": 127,
   "id": "fe8d008b",
   "metadata": {},
   "outputs": [],
   "source": [
    "t2 = tuple(s1)"
   ]
  },
  {
   "cell_type": "code",
   "execution_count": 128,
   "id": "94378cb6",
   "metadata": {},
   "outputs": [
    {
     "data": {
      "text/plain": [
       "(66, 35, 'Vithu', 'nila', 999, 12, 112, 'vithu', 88, 444)"
      ]
     },
     "execution_count": 128,
     "metadata": {},
     "output_type": "execute_result"
    }
   ],
   "source": [
    "t2"
   ]
  },
  {
   "cell_type": "code",
   "execution_count": 129,
   "id": "21004acc",
   "metadata": {},
   "outputs": [
    {
     "data": {
      "text/plain": [
       "{112, 12, 35, 444, 66, 88, 999, 'Vithu', 'nila', 'vithu'}"
      ]
     },
     "execution_count": 129,
     "metadata": {},
     "output_type": "execute_result"
    }
   ],
   "source": [
    "set(t2)"
   ]
  },
  {
   "cell_type": "code",
   "execution_count": 357,
   "id": "602eace2",
   "metadata": {},
   "outputs": [
    {
     "data": {
      "text/plain": [
       "{0, 1, 2, 3, 4, 5, 6, 7, 8, 9}"
      ]
     },
     "execution_count": 357,
     "metadata": {},
     "output_type": "execute_result"
    }
   ],
   "source": [
    "{i for i in range(10)} #set comphericonsion"
   ]
  },
  {
   "cell_type": "markdown",
   "id": "f643cf27",
   "metadata": {},
   "source": [
    "## Dictionary"
   ]
  },
  {
   "cell_type": "code",
   "execution_count": 130,
   "id": "ffe3ec67",
   "metadata": {},
   "outputs": [
    {
     "ename": "TypeError",
     "evalue": "'set' object is not subscriptable",
     "output_type": "error",
     "traceback": [
      "\u001b[1;31m---------------------------------------------------------------------------\u001b[0m",
      "\u001b[1;31mTypeError\u001b[0m                                 Traceback (most recent call last)",
      "Cell \u001b[1;32mIn[130], line 1\u001b[0m\n\u001b[1;32m----> 1\u001b[0m s[\u001b[38;5;241m0\u001b[39m]\n",
      "\u001b[1;31mTypeError\u001b[0m: 'set' object is not subscriptable"
     ]
    }
   ],
   "source": [
    "s[0]"
   ]
  },
  {
   "cell_type": "code",
   "execution_count": 137,
   "id": "4de4f0d8",
   "metadata": {},
   "outputs": [],
   "source": [
    "x = {}#by default comppiler understand it is a dictionary"
   ]
  },
  {
   "cell_type": "code",
   "execution_count": 132,
   "id": "8b0a5cfa",
   "metadata": {},
   "outputs": [
    {
     "data": {
      "text/plain": [
       "dict"
      ]
     },
     "execution_count": 132,
     "metadata": {},
     "output_type": "execute_result"
    }
   ],
   "source": [
    "type(x)"
   ]
  },
  {
   "cell_type": "code",
   "execution_count": 144,
   "id": "40ee838b",
   "metadata": {},
   "outputs": [],
   "source": [
    "x1 = {34}"
   ]
  },
  {
   "cell_type": "code",
   "execution_count": 146,
   "id": "46c60452",
   "metadata": {},
   "outputs": [
    {
     "data": {
      "text/plain": [
       "set"
      ]
     },
     "execution_count": 146,
     "metadata": {},
     "output_type": "execute_result"
    }
   ],
   "source": [
    "type(x1)"
   ]
  },
  {
   "cell_type": "code",
   "execution_count": 147,
   "id": "d4e47f16",
   "metadata": {},
   "outputs": [],
   "source": [
    "x = {\"name\" : \"vithu\", \"age\" : \"23\"}"
   ]
  },
  {
   "cell_type": "code",
   "execution_count": 148,
   "id": "f2d35d87",
   "metadata": {},
   "outputs": [
    {
     "data": {
      "text/plain": [
       "{'name': 'vithu', 'age': '23'}"
      ]
     },
     "execution_count": 148,
     "metadata": {},
     "output_type": "execute_result"
    }
   ],
   "source": [
    "x"
   ]
  },
  {
   "cell_type": "code",
   "execution_count": 149,
   "id": "8700e0d6",
   "metadata": {},
   "outputs": [
    {
     "data": {
      "text/plain": [
       "dict"
      ]
     },
     "execution_count": 149,
     "metadata": {},
     "output_type": "execute_result"
    }
   ],
   "source": [
    "type(x)"
   ]
  },
  {
   "cell_type": "code",
   "execution_count": 155,
   "id": "d5babe8b",
   "metadata": {},
   "outputs": [],
   "source": [
    "x1 = {\"name\" : \"vithu\", \"age\" : \"23\", \"name\" : \"vithu\", \"key\" : False, 2:4, 2.4:55}"
   ]
  },
  {
   "cell_type": "code",
   "execution_count": 156,
   "id": "dea74e42",
   "metadata": {},
   "outputs": [
    {
     "data": {
      "text/plain": [
       "{'name': 'vithu', 'age': '23', 'key': False, 2: 4, 2.4: 55}"
      ]
     },
     "execution_count": 156,
     "metadata": {},
     "output_type": "execute_result"
    }
   ],
   "source": [
    "x1"
   ]
  },
  {
   "cell_type": "code",
   "execution_count": 181,
   "id": "59edfd39",
   "metadata": {},
   "outputs": [],
   "source": [
    "x2 = {\"name\" : \"vithu\", \"age\" : \"23\", \"name2\" : {\"nila\" : 1, \"vithu\" : 2}, \"col\" : [1, 2, 3], \"tuple\" : (3, 2, 1), \"set\" : {3, 1, 2}}"
   ]
  },
  {
   "cell_type": "code",
   "execution_count": 182,
   "id": "92b6571a",
   "metadata": {},
   "outputs": [
    {
     "data": {
      "text/plain": [
       "{'name': 'vithu',\n",
       " 'age': '23',\n",
       " 'name2': {'nila': 1, 'vithu': 2},\n",
       " 'col': [1, 2, 3],\n",
       " 'tuple': (3, 2, 1),\n",
       " 'set': {1, 2, 3}}"
      ]
     },
     "execution_count": 182,
     "metadata": {},
     "output_type": "execute_result"
    }
   ],
   "source": [
    "x2"
   ]
  },
  {
   "cell_type": "code",
   "execution_count": 187,
   "id": "347f3a95",
   "metadata": {},
   "outputs": [
    {
     "data": {
      "text/plain": [
       "{'name': 'vithu', 'age': '255'}"
      ]
     },
     "execution_count": 187,
     "metadata": {},
     "output_type": "execute_result"
    }
   ],
   "source": [
    "x3 = {\"name\" : \"vithu\", \"age\" : \"23\", \"age\" : \"255\"}\n",
    "x3"
   ]
  },
  {
   "cell_type": "code",
   "execution_count": 191,
   "id": "cf044569",
   "metadata": {},
   "outputs": [
    {
     "data": {
      "text/plain": [
       "{'name': 'vithu', 'age': '23', 'age2': '23'}"
      ]
     },
     "execution_count": 191,
     "metadata": {},
     "output_type": "execute_result"
    }
   ],
   "source": [
    "x4 = {\"name\" : \"vithu\", \"age\" : \"23\", \"age2\" : \"23\"}\n",
    "x4"
   ]
  },
  {
   "cell_type": "code",
   "execution_count": 193,
   "id": "55f1750e",
   "metadata": {},
   "outputs": [
    {
     "data": {
      "text/plain": [
       "{'key1': ['value1', 'valu2']}"
      ]
     },
     "execution_count": 193,
     "metadata": {},
     "output_type": "execute_result"
    }
   ],
   "source": [
    "x5 = {\"key1\" : [\"value1\", \"valu2\"], [\"key2\"] : {\"key1\" : \"value1\"}}\n",
    "x5"
   ]
  },
  {
   "cell_type": "code",
   "execution_count": 194,
   "id": "b49aaac8",
   "metadata": {},
   "outputs": [
    {
     "data": {
      "text/plain": [
       "{'key1': ['value1', 'valu2'], 'key2': {'key1': 'value1'}}"
      ]
     },
     "execution_count": 194,
     "metadata": {},
     "output_type": "execute_result"
    }
   ],
   "source": [
    "x5 = {\"key1\" : [\"value1\", \"valu2\"], (\"key2\") : {\"key1\" : \"value1\"}}\n",
    "x5"
   ]
  },
  {
   "cell_type": "code",
   "execution_count": 195,
   "id": "ed0ad661",
   "metadata": {},
   "outputs": [
    {
     "ename": "TypeError",
     "evalue": "unhashable type: 'dict'",
     "output_type": "error",
     "traceback": [
      "\u001b[1;31m---------------------------------------------------------------------------\u001b[0m",
      "\u001b[1;31mTypeError\u001b[0m                                 Traceback (most recent call last)",
      "Cell \u001b[1;32mIn[195], line 1\u001b[0m\n\u001b[1;32m----> 1\u001b[0m x5 \u001b[38;5;241m=\u001b[39m {\u001b[38;5;124m\"\u001b[39m\u001b[38;5;124mkey1\u001b[39m\u001b[38;5;124m\"\u001b[39m : [\u001b[38;5;124m\"\u001b[39m\u001b[38;5;124mvalue1\u001b[39m\u001b[38;5;124m\"\u001b[39m, \u001b[38;5;124m\"\u001b[39m\u001b[38;5;124mvalu2\u001b[39m\u001b[38;5;124m\"\u001b[39m], {\u001b[38;5;124m\"\u001b[39m\u001b[38;5;124mkey1\u001b[39m\u001b[38;5;124m\"\u001b[39m : \u001b[38;5;124m\"\u001b[39m\u001b[38;5;124mvalue1\u001b[39m\u001b[38;5;124m\"\u001b[39m} : \u001b[38;5;241m25\u001b[39m}\n\u001b[0;32m      2\u001b[0m x5\n",
      "\u001b[1;31mTypeError\u001b[0m: unhashable type: 'dict'"
     ]
    }
   ],
   "source": [
    "x5 = {\"key1\" : [\"value1\", \"valu2\"], {\"key1\" : \"value1\"} : 25}\n",
    "x5"
   ]
  },
  {
   "cell_type": "code",
   "execution_count": 201,
   "id": "638e89b7",
   "metadata": {},
   "outputs": [],
   "source": [
    "x2 = {\"name\" : \"vithu\", \"age\" : \"23\", \"name2\" : {\"nila\" : 1, \"vithu\" : 2}, \"col\" : [1, 2, 3], \"tuple\" : (3, 2, 1), \"set\" : {3, 1, 2}}"
   ]
  },
  {
   "cell_type": "code",
   "execution_count": 198,
   "id": "3ef243a1",
   "metadata": {},
   "outputs": [],
   "source": [
    "l = [1, 2, 3, 4]"
   ]
  },
  {
   "cell_type": "code",
   "execution_count": 200,
   "id": "47818d77",
   "metadata": {},
   "outputs": [
    {
     "data": {
      "text/plain": [
       "4"
      ]
     },
     "execution_count": 200,
     "metadata": {},
     "output_type": "execute_result"
    }
   ],
   "source": [
    "l[3]"
   ]
  },
  {
   "cell_type": "code",
   "execution_count": 203,
   "id": "1b3cf3f1",
   "metadata": {},
   "outputs": [
    {
     "ename": "KeyError",
     "evalue": "0",
     "output_type": "error",
     "traceback": [
      "\u001b[1;31m---------------------------------------------------------------------------\u001b[0m",
      "\u001b[1;31mKeyError\u001b[0m                                  Traceback (most recent call last)",
      "Cell \u001b[1;32mIn[203], line 1\u001b[0m\n\u001b[1;32m----> 1\u001b[0m x2[\u001b[38;5;241m0\u001b[39m]\n",
      "\u001b[1;31mKeyError\u001b[0m: 0"
     ]
    }
   ],
   "source": [
    "x2[0]"
   ]
  },
  {
   "cell_type": "code",
   "execution_count": 204,
   "id": "ae8d7f5e",
   "metadata": {},
   "outputs": [
    {
     "data": {
      "text/plain": [
       "'vithu'"
      ]
     },
     "execution_count": 204,
     "metadata": {},
     "output_type": "execute_result"
    }
   ],
   "source": [
    "x2[\"name\"]"
   ]
  },
  {
   "cell_type": "code",
   "execution_count": 205,
   "id": "ceec0ae5",
   "metadata": {},
   "outputs": [
    {
     "data": {
      "text/plain": [
       "(3, 2, 1)"
      ]
     },
     "execution_count": 205,
     "metadata": {},
     "output_type": "execute_result"
    }
   ],
   "source": [
    "x2[\"tuple\"]"
   ]
  },
  {
   "cell_type": "code",
   "execution_count": 206,
   "id": "48f576f7",
   "metadata": {},
   "outputs": [
    {
     "data": {
      "text/plain": [
       "[1, 2, 3]"
      ]
     },
     "execution_count": 206,
     "metadata": {},
     "output_type": "execute_result"
    }
   ],
   "source": [
    "x2[\"col\"]"
   ]
  },
  {
   "cell_type": "code",
   "execution_count": 208,
   "id": "f061a127",
   "metadata": {},
   "outputs": [
    {
     "data": {
      "text/plain": [
       "3"
      ]
     },
     "execution_count": 208,
     "metadata": {},
     "output_type": "execute_result"
    }
   ],
   "source": [
    "x2[\"col\"][2]"
   ]
  },
  {
   "cell_type": "code",
   "execution_count": 209,
   "id": "8b414125",
   "metadata": {},
   "outputs": [
    {
     "data": {
      "text/plain": [
       "list"
      ]
     },
     "execution_count": 209,
     "metadata": {},
     "output_type": "execute_result"
    }
   ],
   "source": [
    "type(x2[\"col\"])"
   ]
  },
  {
   "cell_type": "code",
   "execution_count": 215,
   "id": "c1df70d2",
   "metadata": {},
   "outputs": [],
   "source": [
    "x5 = {\"key1\" : [\"value1\", \"valu2\"], \"key2\" : {\"key1\" : [1, 2, 3, 4, 5]}}"
   ]
  },
  {
   "cell_type": "code",
   "execution_count": 216,
   "id": "7b373aea",
   "metadata": {},
   "outputs": [
    {
     "data": {
      "text/plain": [
       "{'key1': [1, 2, 3, 4, 5]}"
      ]
     },
     "execution_count": 216,
     "metadata": {},
     "output_type": "execute_result"
    }
   ],
   "source": [
    "x5[\"key2\"]"
   ]
  },
  {
   "cell_type": "code",
   "execution_count": 217,
   "id": "0132ae06",
   "metadata": {},
   "outputs": [
    {
     "data": {
      "text/plain": [
       "dict"
      ]
     },
     "execution_count": 217,
     "metadata": {},
     "output_type": "execute_result"
    }
   ],
   "source": [
    "type(x5[\"key2\"])"
   ]
  },
  {
   "cell_type": "code",
   "execution_count": 218,
   "id": "252abd78",
   "metadata": {},
   "outputs": [
    {
     "data": {
      "text/plain": [
       "[1, 2, 3, 4, 5]"
      ]
     },
     "execution_count": 218,
     "metadata": {},
     "output_type": "execute_result"
    }
   ],
   "source": [
    "x5[\"key2\"][\"key1\"]"
   ]
  },
  {
   "cell_type": "code",
   "execution_count": 219,
   "id": "5ae55790",
   "metadata": {},
   "outputs": [
    {
     "data": {
      "text/plain": [
       "list"
      ]
     },
     "execution_count": 219,
     "metadata": {},
     "output_type": "execute_result"
    }
   ],
   "source": [
    "type(x5[\"key2\"][\"key1\"])"
   ]
  },
  {
   "cell_type": "code",
   "execution_count": 220,
   "id": "514e3f1a",
   "metadata": {},
   "outputs": [
    {
     "data": {
      "text/plain": [
       "4"
      ]
     },
     "execution_count": 220,
     "metadata": {},
     "output_type": "execute_result"
    }
   ],
   "source": [
    "x5[\"key2\"][\"key1\"][3]"
   ]
  },
  {
   "cell_type": "code",
   "execution_count": 222,
   "id": "b3c9cd01",
   "metadata": {},
   "outputs": [],
   "source": [
    "x6 = {1:2}"
   ]
  },
  {
   "cell_type": "code",
   "execution_count": 223,
   "id": "71c7fd03",
   "metadata": {},
   "outputs": [],
   "source": [
    "x7 = {3:4}"
   ]
  },
  {
   "cell_type": "code",
   "execution_count": 224,
   "id": "dc462389",
   "metadata": {},
   "outputs": [
    {
     "ename": "TypeError",
     "evalue": "unsupported operand type(s) for +: 'dict' and 'dict'",
     "output_type": "error",
     "traceback": [
      "\u001b[1;31m---------------------------------------------------------------------------\u001b[0m",
      "\u001b[1;31mTypeError\u001b[0m                                 Traceback (most recent call last)",
      "Cell \u001b[1;32mIn[224], line 1\u001b[0m\n\u001b[1;32m----> 1\u001b[0m x6 \u001b[38;5;241m+\u001b[39m x7\n",
      "\u001b[1;31mTypeError\u001b[0m: unsupported operand type(s) for +: 'dict' and 'dict'"
     ]
    }
   ],
   "source": [
    "x6 + x7"
   ]
  },
  {
   "cell_type": "code",
   "execution_count": 225,
   "id": "40670ba0",
   "metadata": {},
   "outputs": [
    {
     "ename": "TypeError",
     "evalue": "unsupported operand type(s) for *: 'dict' and 'int'",
     "output_type": "error",
     "traceback": [
      "\u001b[1;31m---------------------------------------------------------------------------\u001b[0m",
      "\u001b[1;31mTypeError\u001b[0m                                 Traceback (most recent call last)",
      "Cell \u001b[1;32mIn[225], line 1\u001b[0m\n\u001b[1;32m----> 1\u001b[0m x6 \u001b[38;5;241m*\u001b[39m \u001b[38;5;241m3\u001b[39m\n",
      "\u001b[1;31mTypeError\u001b[0m: unsupported operand type(s) for *: 'dict' and 'int'"
     ]
    }
   ],
   "source": [
    "x6 * 3"
   ]
  },
  {
   "cell_type": "code",
   "execution_count": 226,
   "id": "fb856f7a",
   "metadata": {},
   "outputs": [
    {
     "data": {
      "text/plain": [
       "{'name': 'vithu', 'age': '255'}"
      ]
     },
     "execution_count": 226,
     "metadata": {},
     "output_type": "execute_result"
    }
   ],
   "source": [
    "x3 "
   ]
  },
  {
   "cell_type": "code",
   "execution_count": 227,
   "id": "5e446473",
   "metadata": {},
   "outputs": [],
   "source": [
    "x3[\"name\"] = \"nila\""
   ]
  },
  {
   "cell_type": "code",
   "execution_count": 228,
   "id": "636cdec5",
   "metadata": {},
   "outputs": [
    {
     "data": {
      "text/plain": [
       "{'name': 'nila', 'age': '255'}"
      ]
     },
     "execution_count": 228,
     "metadata": {},
     "output_type": "execute_result"
    }
   ],
   "source": [
    "x3"
   ]
  },
  {
   "cell_type": "code",
   "execution_count": 232,
   "id": "6f3db188",
   "metadata": {},
   "outputs": [
    {
     "data": {
      "text/plain": [
       "dict_keys(['name', 'age'])"
      ]
     },
     "execution_count": 232,
     "metadata": {},
     "output_type": "execute_result"
    }
   ],
   "source": [
    "x3.keys()"
   ]
  },
  {
   "cell_type": "code",
   "execution_count": 233,
   "id": "0869f010",
   "metadata": {},
   "outputs": [
    {
     "data": {
      "text/plain": [
       "True"
      ]
     },
     "execution_count": 233,
     "metadata": {},
     "output_type": "execute_result"
    }
   ],
   "source": [
    "\"age\" in x3 #checking is available or not"
   ]
  },
  {
   "cell_type": "code",
   "execution_count": 236,
   "id": "e3ba188e",
   "metadata": {},
   "outputs": [
    {
     "name": "stdout",
     "output_type": "stream",
     "text": [
      "name\n",
      "age\n"
     ]
    }
   ],
   "source": [
    "for i in x3:\n",
    "    print(i)"
   ]
  },
  {
   "cell_type": "code",
   "execution_count": 237,
   "id": "0b7a3ecc",
   "metadata": {},
   "outputs": [
    {
     "name": "stdout",
     "output_type": "stream",
     "text": [
      "nila\n",
      "255\n"
     ]
    }
   ],
   "source": [
    "for i in x3.keys():\n",
    "    print(x3[i])"
   ]
  },
  {
   "cell_type": "code",
   "execution_count": 238,
   "id": "3243f640",
   "metadata": {},
   "outputs": [
    {
     "name": "stdout",
     "output_type": "stream",
     "text": [
      "nila\n",
      "255\n"
     ]
    }
   ],
   "source": [
    "for i in x3.values():\n",
    "    print(i)"
   ]
  },
  {
   "cell_type": "code",
   "execution_count": 243,
   "id": "d41bd6c9",
   "metadata": {},
   "outputs": [],
   "source": [
    "x2 = {\"name\" : \"vithu\", \"age\" : \"23\", \"name2\" : {\"nila\" : 1, \"vithu\" : 2}, \"col\" : [1, 2, 3], \"tuple\" : (3, 2, 1), \"set\" : {3, 1, 2}, 12:2, 2.5:1}"
   ]
  },
  {
   "cell_type": "code",
   "execution_count": 244,
   "id": "557375f7",
   "metadata": {},
   "outputs": [
    {
     "data": {
      "text/plain": [
       "dict_values(['vithu', '23', {'nila': 1, 'vithu': 2}, [1, 2, 3], (3, 2, 1), {1, 2, 3}, 2, 1])"
      ]
     },
     "execution_count": 244,
     "metadata": {},
     "output_type": "execute_result"
    }
   ],
   "source": [
    "x2.values()"
   ]
  },
  {
   "cell_type": "code",
   "execution_count": 245,
   "id": "f44692fc",
   "metadata": {},
   "outputs": [
    {
     "data": {
      "text/plain": [
       "dict_keys(['name', 'age', 'name2', 'col', 'tuple', 'set', 12, 2.5])"
      ]
     },
     "execution_count": 245,
     "metadata": {},
     "output_type": "execute_result"
    }
   ],
   "source": [
    "x2.keys()"
   ]
  },
  {
   "cell_type": "code",
   "execution_count": 246,
   "id": "ddfc693d",
   "metadata": {},
   "outputs": [
    {
     "name": "stdout",
     "output_type": "stream",
     "text": [
      "vithu  :  <class 'str'>\n",
      "23  :  <class 'str'>\n",
      "{'nila': 1, 'vithu': 2}  :  <class 'dict'>\n",
      "[1, 2, 3]  :  <class 'list'>\n",
      "(3, 2, 1)  :  <class 'tuple'>\n",
      "{1, 2, 3}  :  <class 'set'>\n",
      "2  :  <class 'int'>\n",
      "1  :  <class 'int'>\n"
     ]
    }
   ],
   "source": [
    "for i in x2.values():\n",
    "    print(i, \" : \", type(i))"
   ]
  },
  {
   "cell_type": "code",
   "execution_count": 247,
   "id": "ed7f1fa6",
   "metadata": {},
   "outputs": [
    {
     "name": "stdout",
     "output_type": "stream",
     "text": [
      "vithu  :  <class 'str'>\n",
      "23  :  <class 'str'>\n",
      "{'nila': 1, 'vithu': 2}  :  <class 'dict'>\n",
      "[1, 2, 3]  :  <class 'list'>\n",
      "(3, 2, 1)  :  <class 'tuple'>\n",
      "{1, 2, 3}  :  <class 'set'>\n",
      "2  :  <class 'int'>\n",
      "1  :  <class 'int'>\n"
     ]
    }
   ],
   "source": [
    "for i in x2.keys():\n",
    "    print(x2[i], \" : \", type(x2[i]))"
   ]
  },
  {
   "cell_type": "code",
   "execution_count": 250,
   "id": "b1356512",
   "metadata": {},
   "outputs": [
    {
     "data": {
      "text/plain": [
       "dict_items([('name', 'vithu'), ('age', '23'), ('name2', {'nila': 1, 'vithu': 2}), ('col', [1, 2, 3]), ('tuple', (3, 2, 1)), ('set', {1, 2, 3}), (12, 2), (2.5, 1)])"
      ]
     },
     "execution_count": 250,
     "metadata": {},
     "output_type": "execute_result"
    }
   ],
   "source": [
    "x2.items() #it will return dict elememnt list of tuple"
   ]
  },
  {
   "cell_type": "code",
   "execution_count": 249,
   "id": "d213cf27",
   "metadata": {},
   "outputs": [
    {
     "data": {
      "text/plain": [
       "dict_items"
      ]
     },
     "execution_count": 249,
     "metadata": {},
     "output_type": "execute_result"
    }
   ],
   "source": [
    "type(x2.items())"
   ]
  },
  {
   "cell_type": "code",
   "execution_count": 254,
   "id": "7105666e",
   "metadata": {},
   "outputs": [
    {
     "name": "stdout",
     "output_type": "stream",
     "text": [
      "('name', 'vithu')\n",
      "('age', '23')\n",
      "('name2', {'nila': 1, 'vithu': 2})\n",
      "('col', [1, 2, 3])\n",
      "('tuple', (3, 2, 1))\n",
      "('set', {1, 2, 3})\n",
      "(12, 2)\n",
      "(2.5, 1)\n"
     ]
    }
   ],
   "source": [
    "for i in x2.items():\n",
    "    print(i)"
   ]
  },
  {
   "cell_type": "code",
   "execution_count": 256,
   "id": "4a8b69a1",
   "metadata": {},
   "outputs": [
    {
     "name": "stdout",
     "output_type": "stream",
     "text": [
      "name\n",
      "age\n",
      "name2\n",
      "col\n",
      "tuple\n",
      "set\n",
      "12\n",
      "2.5\n"
     ]
    }
   ],
   "source": [
    "for i in x2.items():\n",
    "    print(i[0])"
   ]
  },
  {
   "cell_type": "code",
   "execution_count": 257,
   "id": "52b0a342",
   "metadata": {},
   "outputs": [],
   "source": [
    "x8 = {(3, 4, 5, 6) : \"Hello World\"}"
   ]
  },
  {
   "cell_type": "code",
   "execution_count": 258,
   "id": "dfeb7e23",
   "metadata": {},
   "outputs": [
    {
     "data": {
      "text/plain": [
       "{(3, 4, 5, 6): 'Hello World'}"
      ]
     },
     "execution_count": 258,
     "metadata": {},
     "output_type": "execute_result"
    }
   ],
   "source": [
    "x8"
   ]
  },
  {
   "cell_type": "code",
   "execution_count": 260,
   "id": "27c9c7a0",
   "metadata": {},
   "outputs": [
    {
     "data": {
      "text/plain": [
       "'Hello World'"
      ]
     },
     "execution_count": 260,
     "metadata": {},
     "output_type": "execute_result"
    }
   ],
   "source": [
    "x8[(3, 4, 5, 6)]"
   ]
  },
  {
   "cell_type": "code",
   "execution_count": 261,
   "id": "7caf96c5",
   "metadata": {},
   "outputs": [
    {
     "data": {
      "text/plain": [
       "{'name': 'vithu',\n",
       " 'age': '23',\n",
       " 'name2': {'nila': 1, 'vithu': 2},\n",
       " 'col': [1, 2, 3],\n",
       " 'tuple': (3, 2, 1),\n",
       " 'set': {1, 2, 3},\n",
       " 12: 2,\n",
       " 2.5: 1}"
      ]
     },
     "execution_count": 261,
     "metadata": {},
     "output_type": "execute_result"
    }
   ],
   "source": [
    "x2"
   ]
  },
  {
   "cell_type": "code",
   "execution_count": 262,
   "id": "0d450bbe",
   "metadata": {},
   "outputs": [
    {
     "data": {
      "text/plain": [
       "8"
      ]
     },
     "execution_count": 262,
     "metadata": {},
     "output_type": "execute_result"
    }
   ],
   "source": [
    "len(x2)"
   ]
  },
  {
   "cell_type": "code",
   "execution_count": 263,
   "id": "6827fb50",
   "metadata": {},
   "outputs": [],
   "source": [
    "e = {56 : {45, 78, 39}}"
   ]
  },
  {
   "cell_type": "code",
   "execution_count": 264,
   "id": "1453fccd",
   "metadata": {},
   "outputs": [
    {
     "data": {
      "text/plain": [
       "{39, 45, 78}"
      ]
     },
     "execution_count": 264,
     "metadata": {},
     "output_type": "execute_result"
    }
   ],
   "source": [
    "e[56]"
   ]
  },
  {
   "cell_type": "code",
   "execution_count": 269,
   "id": "38e4d571",
   "metadata": {},
   "outputs": [
    {
     "ename": "TypeError",
     "evalue": "'set' object is not subscriptable",
     "output_type": "error",
     "traceback": [
      "\u001b[1;31m---------------------------------------------------------------------------\u001b[0m",
      "\u001b[1;31mTypeError\u001b[0m                                 Traceback (most recent call last)",
      "Cell \u001b[1;32mIn[269], line 1\u001b[0m\n\u001b[1;32m----> 1\u001b[0m e[\u001b[38;5;241m56\u001b[39m][\u001b[38;5;241m0\u001b[39m]\n",
      "\u001b[1;31mTypeError\u001b[0m: 'set' object is not subscriptable"
     ]
    }
   ],
   "source": [
    "e[56][0]"
   ]
  },
  {
   "cell_type": "code",
   "execution_count": 268,
   "id": "15e0312c",
   "metadata": {},
   "outputs": [
    {
     "data": {
      "text/plain": [
       "45"
      ]
     },
     "execution_count": 268,
     "metadata": {},
     "output_type": "execute_result"
    }
   ],
   "source": [
    "list(e[56])[0]"
   ]
  },
  {
   "cell_type": "markdown",
   "id": "6c41fa13",
   "metadata": {},
   "source": [
    "### Task 01\n",
    "\n",
    "1. Take input as a paragraph by using input function.\n",
    "\n",
    "2. Convert all of this input into list of words\n",
    "\n",
    "3. Remove all the duplicate element from your list\n",
    "\n",
    "4. Use above distinct elements as a key dictonary and assign your name as a value of all the key for dictionary\n",
    "\n",
    "5. Try to print tuples of all the value\n",
    "\n",
    "6. Try to print list of all the key"
   ]
  },
  {
   "cell_type": "code",
   "execution_count": 270,
   "id": "1d700e1e",
   "metadata": {},
   "outputs": [
    {
     "name": "stdout",
     "output_type": "stream",
     "text": [
      "Enter a para : Data science and data analysis are both important disciplines in the field of data management and analysis, but they differ in several key ways. While both fields involve working with data, data science is more of an interdisciplinary field that involves the application of statistical, computational, and machine learning methods to extract insights from data and make predictions, while data analysis is more focused on the examination and interpretation of data to identify patterns and trends.\n"
     ]
    }
   ],
   "source": [
    "#01\n",
    "word = input(\"Enter a para : \")"
   ]
  },
  {
   "cell_type": "code",
   "execution_count": 277,
   "id": "23e878ce",
   "metadata": {
    "collapsed": true
   },
   "outputs": [
    {
     "data": {
      "text/plain": [
       "['Data',\n",
       " 'science',\n",
       " 'and',\n",
       " 'data',\n",
       " 'analysis',\n",
       " 'are',\n",
       " 'both',\n",
       " 'important',\n",
       " 'disciplines',\n",
       " 'in',\n",
       " 'the',\n",
       " 'field',\n",
       " 'of',\n",
       " 'data',\n",
       " 'management',\n",
       " 'and',\n",
       " 'analysis,',\n",
       " 'but',\n",
       " 'they',\n",
       " 'differ',\n",
       " 'in',\n",
       " 'several',\n",
       " 'key',\n",
       " 'ways.',\n",
       " 'While',\n",
       " 'both',\n",
       " 'fields',\n",
       " 'involve',\n",
       " 'working',\n",
       " 'with',\n",
       " 'data,',\n",
       " 'data',\n",
       " 'science',\n",
       " 'is',\n",
       " 'more',\n",
       " 'of',\n",
       " 'an',\n",
       " 'interdisciplinary',\n",
       " 'field',\n",
       " 'that',\n",
       " 'involves',\n",
       " 'the',\n",
       " 'application',\n",
       " 'of',\n",
       " 'statistical,',\n",
       " 'computational,',\n",
       " 'and',\n",
       " 'machine',\n",
       " 'learning',\n",
       " 'methods',\n",
       " 'to',\n",
       " 'extract',\n",
       " 'insights',\n",
       " 'from',\n",
       " 'data',\n",
       " 'and',\n",
       " 'make',\n",
       " 'predictions,',\n",
       " 'while',\n",
       " 'data',\n",
       " 'analysis',\n",
       " 'is',\n",
       " 'more',\n",
       " 'focused',\n",
       " 'on',\n",
       " 'the',\n",
       " 'examination',\n",
       " 'and',\n",
       " 'interpretation',\n",
       " 'of',\n",
       " 'data',\n",
       " 'to',\n",
       " 'identify',\n",
       " 'patterns',\n",
       " 'and',\n",
       " 'trends.']"
      ]
     },
     "execution_count": 277,
     "metadata": {},
     "output_type": "execute_result"
    }
   ],
   "source": [
    "#02\n",
    "wordList = word.split()\n",
    "wordList"
   ]
  },
  {
   "cell_type": "code",
   "execution_count": 282,
   "id": "45a80e68",
   "metadata": {
    "collapsed": true
   },
   "outputs": [
    {
     "data": {
      "text/plain": [
       "{'Data',\n",
       " 'While',\n",
       " 'an',\n",
       " 'analysis',\n",
       " 'analysis,',\n",
       " 'and',\n",
       " 'application',\n",
       " 'are',\n",
       " 'both',\n",
       " 'but',\n",
       " 'computational,',\n",
       " 'data',\n",
       " 'data,',\n",
       " 'differ',\n",
       " 'disciplines',\n",
       " 'examination',\n",
       " 'extract',\n",
       " 'field',\n",
       " 'fields',\n",
       " 'focused',\n",
       " 'from',\n",
       " 'identify',\n",
       " 'important',\n",
       " 'in',\n",
       " 'insights',\n",
       " 'interdisciplinary',\n",
       " 'interpretation',\n",
       " 'involve',\n",
       " 'involves',\n",
       " 'is',\n",
       " 'key',\n",
       " 'learning',\n",
       " 'machine',\n",
       " 'make',\n",
       " 'management',\n",
       " 'methods',\n",
       " 'more',\n",
       " 'of',\n",
       " 'on',\n",
       " 'patterns',\n",
       " 'predictions,',\n",
       " 'science',\n",
       " 'several',\n",
       " 'statistical,',\n",
       " 'that',\n",
       " 'the',\n",
       " 'they',\n",
       " 'to',\n",
       " 'trends.',\n",
       " 'ways.',\n",
       " 'while',\n",
       " 'with',\n",
       " 'working'}"
      ]
     },
     "execution_count": 282,
     "metadata": {},
     "output_type": "execute_result"
    }
   ],
   "source": [
    "#03\n",
    "dictinct = set(wordList)\n",
    "dictinct"
   ]
  },
  {
   "cell_type": "code",
   "execution_count": 321,
   "id": "7fa649ab",
   "metadata": {},
   "outputs": [],
   "source": [
    "#04\n",
    "wordDict = {}\n",
    "\n",
    "dictinctList = list(dictinct)\n",
    "\n",
    "for i in dictinctList:\n",
    "    wordDict[i] = \"vithusan\""
   ]
  },
  {
   "cell_type": "code",
   "execution_count": 338,
   "id": "371f1225",
   "metadata": {
    "collapsed": true
   },
   "outputs": [
    {
     "name": "stdout",
     "output_type": "stream",
     "text": [
      "vithusan\n",
      "vithusan\n",
      "vithusan\n",
      "vithusan\n",
      "vithusan\n",
      "vithusan\n",
      "vithusan\n",
      "vithusan\n",
      "vithusan\n",
      "vithusan\n",
      "vithusan\n",
      "vithusan\n",
      "vithusan\n",
      "vithusan\n",
      "vithusan\n",
      "vithusan\n",
      "vithusan\n",
      "vithusan\n",
      "vithusan\n",
      "vithusan\n",
      "vithusan\n",
      "vithusan\n",
      "vithusan\n",
      "vithusan\n",
      "vithusan\n",
      "vithusan\n",
      "vithusan\n",
      "vithusan\n",
      "vithusan\n",
      "vithusan\n",
      "vithusan\n",
      "vithusan\n",
      "vithusan\n",
      "vithusan\n",
      "vithusan\n",
      "vithusan\n",
      "vithusan\n",
      "vithusan\n",
      "vithusan\n",
      "vithusan\n",
      "vithusan\n",
      "vithusan\n",
      "vithusan\n",
      "vithusan\n",
      "vithusan\n",
      "vithusan\n",
      "vithusan\n",
      "vithusan\n",
      "vithusan\n",
      "vithusan\n",
      "vithusan\n",
      "vithusan\n",
      "vithusan\n"
     ]
    }
   ],
   "source": [
    "#05\n",
    "for i in wordDict.items():\n",
    "    print(i[1])"
   ]
  },
  {
   "cell_type": "code",
   "execution_count": 335,
   "id": "67bc3ae7",
   "metadata": {
    "collapsed": true
   },
   "outputs": [
    {
     "data": {
      "text/plain": [
       "dict_keys(['an', 'statistical,', 'analysis,', 'application', 'science', 'important', 'with', 'methods', 'make', 'both', 'learning', 'While', 'working', 'field', 'interdisciplinary', 'while', 'extract', 'data,', 'from', 'that', 'the', 'insights', 'Data', 'disciplines', 'differ', 'identify', 'key', 'patterns', 'of', 'interpretation', 'machine', 'but', 'predictions,', 'to', 'they', 'several', 'data', 'involve', 'on', 'fields', 'is', 'trends.', 'involves', 'in', 'more', 'focused', 'management', 'computational,', 'analysis', 'are', 'and', 'ways.', 'examination'])"
      ]
     },
     "execution_count": 335,
     "metadata": {},
     "output_type": "execute_result"
    }
   ],
   "source": [
    "#06\n",
    "wordDict.keys()"
   ]
  },
  {
   "cell_type": "code",
   "execution_count": 344,
   "id": "75c2dd18",
   "metadata": {},
   "outputs": [],
   "source": [
    "d = {\"company\":\"vnPro\", \"Mobile\": \"Apple and Andriod\", \"year\" : 2020}"
   ]
  },
  {
   "cell_type": "code",
   "execution_count": 345,
   "id": "e0259a94",
   "metadata": {},
   "outputs": [
    {
     "data": {
      "text/plain": [
       "dict_keys(['company', 'Mobile', 'year'])"
      ]
     },
     "execution_count": 345,
     "metadata": {},
     "output_type": "execute_result"
    }
   ],
   "source": [
    "d.keys()"
   ]
  },
  {
   "cell_type": "code",
   "execution_count": 346,
   "id": "1558cbf3",
   "metadata": {},
   "outputs": [
    {
     "data": {
      "text/plain": [
       "False"
      ]
     },
     "execution_count": 346,
     "metadata": {},
     "output_type": "execute_result"
    }
   ],
   "source": [
    "d[\"year\"] > 2021"
   ]
  },
  {
   "cell_type": "code",
   "execution_count": 348,
   "id": "04b2be75",
   "metadata": {},
   "outputs": [],
   "source": [
    "if i in d:\n",
    "    if i == \"year\":\n",
    "        if d[i] < 2021:\n",
    "            print(\"Year is fine\")\n",
    "        else:\n",
    "            d[i] = 2022"
   ]
  },
  {
   "cell_type": "code",
   "execution_count": 349,
   "id": "463e3e8b",
   "metadata": {},
   "outputs": [
    {
     "data": {
      "text/plain": [
       "{'company': 'vnPro', 'Mobile': 'Apple and Andriod', 'year': 2020}"
      ]
     },
     "execution_count": 349,
     "metadata": {},
     "output_type": "execute_result"
    }
   ],
   "source": [
    "d"
   ]
  },
  {
   "cell_type": "code",
   "execution_count": 350,
   "id": "9505e477",
   "metadata": {},
   "outputs": [],
   "source": [
    "my_dict = {}\n",
    "\n",
    "for i in range(10):\n",
    "    my_dict[i] = i * i"
   ]
  },
  {
   "cell_type": "code",
   "execution_count": 351,
   "id": "3aa628e9",
   "metadata": {},
   "outputs": [
    {
     "data": {
      "text/plain": [
       "{0: 0, 1: 1, 2: 4, 3: 9, 4: 16, 5: 25, 6: 36, 7: 49, 8: 64, 9: 81}"
      ]
     },
     "execution_count": 351,
     "metadata": {},
     "output_type": "execute_result"
    }
   ],
   "source": [
    "my_dict"
   ]
  },
  {
   "cell_type": "code",
   "execution_count": 356,
   "id": "fb8d55ec",
   "metadata": {},
   "outputs": [
    {
     "data": {
      "text/plain": [
       "{1: 1, 3: 9, 5: 25, 7: 49, 9: 81}"
      ]
     },
     "execution_count": 356,
     "metadata": {},
     "output_type": "execute_result"
    }
   ],
   "source": [
    "{i : i * i for i in range(1, 10, 2)} #dictionary comphericonsion"
   ]
  },
  {
   "cell_type": "code",
   "execution_count": null,
   "id": "a599d3f5",
   "metadata": {},
   "outputs": [],
   "source": []
  }
 ],
 "metadata": {
  "kernelspec": {
   "display_name": "Python 3 (ipykernel)",
   "language": "python",
   "name": "python3"
  },
  "language_info": {
   "codemirror_mode": {
    "name": "ipython",
    "version": 3
   },
   "file_extension": ".py",
   "mimetype": "text/x-python",
   "name": "python",
   "nbconvert_exporter": "python",
   "pygments_lexer": "ipython3",
   "version": "3.11.5"
  }
 },
 "nbformat": 4,
 "nbformat_minor": 5
}
