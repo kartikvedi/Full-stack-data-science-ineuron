{
 "cells": [
  {
   "cell_type": "markdown",
   "id": "01d95e52",
   "metadata": {},
   "source": [
    "# Lecture - 08\n",
    "Logging and Debugging"
   ]
  },
  {
   "cell_type": "markdown",
   "id": "a368bee2",
   "metadata": {},
   "source": [
    "* DEBUG\n",
    "\n",
    "* INFO\n",
    "\n",
    "* WARNING\n",
    "\n",
    "* ERROR\n",
    "\n",
    "* CRITICAL"
   ]
  },
  {
   "cell_type": "code",
   "execution_count": 19,
   "id": "7ad3997f",
   "metadata": {},
   "outputs": [],
   "source": [
    "import logging as lg"
   ]
  },
  {
   "cell_type": "code",
   "execution_count": 20,
   "id": "345a524a",
   "metadata": {},
   "outputs": [],
   "source": [
    "import os"
   ]
  },
  {
   "cell_type": "code",
   "execution_count": 3,
   "id": "aec74794",
   "metadata": {},
   "outputs": [],
   "source": [
    "os.mkdir(\"logging\")"
   ]
  },
  {
   "cell_type": "code",
   "execution_count": 4,
   "id": "c56bb406",
   "metadata": {
    "scrolled": true
   },
   "outputs": [
    {
     "data": {
      "text/plain": [
       "'G:\\\\Data Science\\\\iNeuron Full Stack Data Science Full Course\\\\iNeuron Full Stack Data Science Full Course - Repo\\\\01 Python\\\\Lecture 08'"
      ]
     },
     "execution_count": 4,
     "metadata": {},
     "output_type": "execute_result"
    }
   ],
   "source": [
    "pwd()"
   ]
  },
  {
   "cell_type": "code",
   "execution_count": 5,
   "id": "186bcdac",
   "metadata": {},
   "outputs": [],
   "source": [
    "os.chdir(os.getcwd() + \"/\" + \"logging\")"
   ]
  },
  {
   "cell_type": "code",
   "execution_count": 6,
   "id": "92c216e9",
   "metadata": {},
   "outputs": [
    {
     "data": {
      "text/plain": [
       "'G:\\\\Data Science\\\\iNeuron Full Stack Data Science Full Course\\\\iNeuron Full Stack Data Science Full Course - Repo\\\\01 Python\\\\Lecture 08\\\\logging'"
      ]
     },
     "execution_count": 6,
     "metadata": {},
     "output_type": "execute_result"
    }
   ],
   "source": [
    "pwd()"
   ]
  },
  {
   "cell_type": "code",
   "execution_count": 12,
   "id": "76e8f0c1",
   "metadata": {},
   "outputs": [],
   "source": [
    "lg.basicConfig(filename=\"test.log\", level=lg.ERROR, format = \"%(asctime)s %(message)s\")"
   ]
  },
  {
   "cell_type": "code",
   "execution_count": 8,
   "id": "6528d982",
   "metadata": {},
   "outputs": [],
   "source": [
    "lg.info(\"Iam going to start my program\")"
   ]
  },
  {
   "cell_type": "code",
   "execution_count": 9,
   "id": "2ae37bc9",
   "metadata": {},
   "outputs": [
    {
     "data": {
      "text/plain": [
       "'G:\\\\Data Science\\\\iNeuron Full Stack Data Science Full Course\\\\iNeuron Full Stack Data Science Full Course - Repo\\\\01 Python\\\\Lecture 08\\\\logging'"
      ]
     },
     "execution_count": 9,
     "metadata": {},
     "output_type": "execute_result"
    }
   ],
   "source": [
    "pwd()"
   ]
  },
  {
   "cell_type": "code",
   "execution_count": 10,
   "id": "081f36c3",
   "metadata": {},
   "outputs": [],
   "source": [
    "lg.warning(\"This is my first warning of my program so modify it\")"
   ]
  },
  {
   "cell_type": "code",
   "execution_count": 11,
   "id": "b03abbb2",
   "metadata": {},
   "outputs": [],
   "source": [
    "lg.error(\"this message for error\")"
   ]
  },
  {
   "cell_type": "code",
   "execution_count": 13,
   "id": "518f27a0",
   "metadata": {},
   "outputs": [
    {
     "ename": "TypeError",
     "evalue": "can only concatenate str (not \"int\") to str",
     "output_type": "error",
     "traceback": [
      "\u001b[1;31m---------------------------------------------------------------------------\u001b[0m",
      "\u001b[1;31mTypeError\u001b[0m                                 Traceback (most recent call last)",
      "Cell \u001b[1;32mIn[13], line 1\u001b[0m\n\u001b[1;32m----> 1\u001b[0m \u001b[38;5;124m\"\u001b[39m\u001b[38;5;124mfjfklfj\u001b[39m\u001b[38;5;124m\"\u001b[39m \u001b[38;5;241m+\u001b[39m \u001b[38;5;241m5\u001b[39m\n",
      "\u001b[1;31mTypeError\u001b[0m: can only concatenate str (not \"int\") to str"
     ]
    }
   ],
   "source": [
    "\"fjfklfj\" + 5"
   ]
  },
  {
   "cell_type": "code",
   "execution_count": 27,
   "id": "593c8482",
   "metadata": {},
   "outputs": [],
   "source": [
    "def test(a, b):\n",
    "    try:\n",
    "        lg.info(str(a) + \", \" +  str(b))\n",
    "        div = a / b\n",
    "        return div\n",
    "    except Exception as e:\n",
    "        print(\"You can check your log for more info if your code will fail\")\n",
    "        lg.error(\"Error has occured\")\n",
    "        lg.exception(str(e))"
   ]
  },
  {
   "cell_type": "code",
   "execution_count": 28,
   "id": "edb15952",
   "metadata": {},
   "outputs": [
    {
     "name": "stdout",
     "output_type": "stream",
     "text": [
      "You can check your log for more info if your code will fail\n"
     ]
    }
   ],
   "source": [
    "test(4, 0)"
   ]
  },
  {
   "cell_type": "code",
   "execution_count": 1,
   "id": "9f511076",
   "metadata": {},
   "outputs": [],
   "source": [
    "import logging as lg\n",
    "lg.basicConfig(filename = \"test1.log\", level = lg.INFO)"
   ]
  },
  {
   "cell_type": "code",
   "execution_count": 2,
   "id": "23ddf78e",
   "metadata": {},
   "outputs": [],
   "source": [
    "def test1(a, b):\n",
    "    lg.info(\"This is a start of function\")\n",
    "    return a + b"
   ]
  },
  {
   "cell_type": "code",
   "execution_count": 3,
   "id": "7db57d90",
   "metadata": {},
   "outputs": [
    {
     "data": {
      "text/plain": [
       "11"
      ]
     },
     "execution_count": 3,
     "metadata": {},
     "output_type": "execute_result"
    }
   ],
   "source": [
    "test1(5, 6)"
   ]
  },
  {
   "cell_type": "code",
   "execution_count": 4,
   "id": "9bcc8070",
   "metadata": {},
   "outputs": [
    {
     "data": {
      "text/plain": [
       "56"
      ]
     },
     "execution_count": 4,
     "metadata": {},
     "output_type": "execute_result"
    }
   ],
   "source": [
    "test1(50, 6)"
   ]
  },
  {
   "cell_type": "code",
   "execution_count": 5,
   "id": "c85a3df8",
   "metadata": {},
   "outputs": [
    {
     "data": {
      "text/plain": [
       "31"
      ]
     },
     "execution_count": 5,
     "metadata": {},
     "output_type": "execute_result"
    }
   ],
   "source": [
    "test1(5, 26)"
   ]
  },
  {
   "cell_type": "code",
   "execution_count": 7,
   "id": "690e3684",
   "metadata": {},
   "outputs": [],
   "source": [
    "lg.shutdown()"
   ]
  },
  {
   "cell_type": "code",
   "execution_count": 8,
   "id": "17b41022",
   "metadata": {},
   "outputs": [
    {
     "data": {
      "text/plain": [
       "31"
      ]
     },
     "execution_count": 8,
     "metadata": {},
     "output_type": "execute_result"
    }
   ],
   "source": [
    "test1(5, 26)"
   ]
  },
  {
   "cell_type": "code",
   "execution_count": 9,
   "id": "fd78ce4f",
   "metadata": {},
   "outputs": [],
   "source": [
    "lg.debug(\"This is for degub\")"
   ]
  },
  {
   "cell_type": "code",
   "execution_count": 10,
   "id": "0502bd32",
   "metadata": {},
   "outputs": [],
   "source": [
    "lg.info(\"This is info log\")"
   ]
  },
  {
   "cell_type": "code",
   "execution_count": 11,
   "id": "b736dbe1",
   "metadata": {},
   "outputs": [],
   "source": [
    "lg.warning(\"This is my warning log\")"
   ]
  },
  {
   "cell_type": "code",
   "execution_count": 12,
   "id": "5f297680",
   "metadata": {},
   "outputs": [],
   "source": [
    "lg.error(\"This is error log\")"
   ]
  },
  {
   "cell_type": "code",
   "execution_count": 13,
   "id": "caaf03d4",
   "metadata": {},
   "outputs": [],
   "source": [
    "lg.exception(\"This is exception log\")"
   ]
  },
  {
   "cell_type": "code",
   "execution_count": 14,
   "id": "95edea66",
   "metadata": {},
   "outputs": [],
   "source": [
    "lg.critical(\"This is critical log\")"
   ]
  },
  {
   "cell_type": "markdown",
   "id": "c4793ade",
   "metadata": {},
   "source": [
    "### Task 01\n",
    "\n",
    "1. Create a logger in your code \n",
    "\n",
    "2. Create one function which can take any number of input as arguments and it will able to return sum of it\n",
    "\n",
    "3. capture user input in log\n",
    "\n",
    "4. give user instruction in log file\n",
    "\n",
    "5. read a log file from python code and show all the login in console"
   ]
  },
  {
   "cell_type": "code",
   "execution_count": 1,
   "id": "03909033",
   "metadata": {},
   "outputs": [],
   "source": [
    "import logging as lg"
   ]
  },
  {
   "cell_type": "code",
   "execution_count": 2,
   "id": "b958e516",
   "metadata": {},
   "outputs": [],
   "source": [
    "#01\n",
    "lg.basicConfig(filename = \"task01.log\", level = lg.INFO)"
   ]
  },
  {
   "cell_type": "code",
   "execution_count": 3,
   "id": "759f5ea7",
   "metadata": {},
   "outputs": [],
   "source": [
    "#02\n",
    "def task02(*args):\n",
    "    #03\n",
    "    lg.info(\"Function Start with inputs\")\n",
    "    \n",
    "    try:\n",
    "        for i in args:\n",
    "            lg.info(str(i))\n",
    "        return sum(args)\n",
    "    except Exception as e:\n",
    "        #04\n",
    "        print(\"You can check your log for more info if your code will fail\")\n",
    "        lg.error(\"Error has occured\")\n",
    "        lg.exception(str(e))"
   ]
  },
  {
   "cell_type": "code",
   "execution_count": 4,
   "id": "a6682d6d",
   "metadata": {},
   "outputs": [
    {
     "name": "stdout",
     "output_type": "stream",
     "text": [
      "INFO:root:Function Start with inputs 5 and 6\n",
      "INFO:root:Function Start with inputs 5 and add\n",
      "ERROR:root:Error has occured\n",
      "ERROR:root:unsupported operand type(s) for /: 'int' and 'str'\n",
      "Traceback (most recent call last):\n",
      "  File \"C:\\Users\\Admin\\AppData\\Local\\Temp\\ipykernel_126816\\2215864335.py\", line 10, in task02\n",
      "    return a / b\n",
      "           ~~^~~\n",
      "TypeError: unsupported operand type(s) for /: 'int' and 'str'\n",
      "INFO:root:Function Start with inputs\n",
      "ERROR:root:Error has occured\n",
      "ERROR:root:tuple index out of range\n",
      "Traceback (most recent call last):\n",
      "  File \"C:\\Users\\Admin\\AppData\\Local\\Temp\\ipykernel_126816\\3908728707.py\", line 8, in task02\n",
      "    lg.info(str(args[i]))\n",
      "                ~~~~^^^\n",
      "IndexError: tuple index out of range\n",
      "INFO:root:Function Start with inputs\n",
      "ERROR:root:Error has occured\n",
      "ERROR:root:tuple index out of range\n",
      "Traceback (most recent call last):\n",
      "  File \"C:\\Users\\Admin\\AppData\\Local\\Temp\\ipykernel_126816\\3908728707.py\", line 8, in task02\n",
      "    lg.info(str(args[i]))\n",
      "                ~~~~^^^\n",
      "IndexError: tuple index out of range\n",
      "INFO:root:Function Start with inputs\n",
      "INFO:root:2\n",
      "INFO:root:3\n",
      "INFO:root:4\n",
      "INFO:root:5\n",
      "INFO:root:6\n",
      "INFO:root:7\n",
      "INFO:root:8\n",
      "INFO:root:9\n",
      "INFO:root:10\n",
      "ERROR:root:Error has occured\n",
      "ERROR:root:tuple index out of range\n",
      "Traceback (most recent call last):\n",
      "  File \"C:\\Users\\Admin\\AppData\\Local\\Temp\\ipykernel_126816\\3908728707.py\", line 8, in task02\n",
      "    lg.info(str(args[i]))\n",
      "                ~~~~^^^\n",
      "IndexError: tuple index out of range\n",
      "INFO:root:Function Start with inputs\n",
      "ERROR:root:Error has occured\n",
      "ERROR:root:tuple index out of range\n",
      "Traceback (most recent call last):\n",
      "  File \"C:\\Users\\Admin\\AppData\\Local\\Temp\\ipykernel_126816\\668339547.py\", line 8, in task02\n",
      "    lg.info(args[i])\n",
      "            ~~~~^^^\n",
      "IndexError: tuple index out of range\n",
      "INFO:root:Function Start with inputs\n",
      "ERROR:root:Error has occured\n",
      "ERROR:root:tuple index out of range\n",
      "Traceback (most recent call last):\n",
      "  File \"C:\\Users\\Admin\\AppData\\Local\\Temp\\ipykernel_126816\\668339547.py\", line 8, in task02\n",
      "    lg.info(args[i])\n",
      "            ~~~~^^^\n",
      "IndexError: tuple index out of range\n",
      "INFO:root:Function Start with inputs\n",
      "INFO:root:2\n",
      "INFO:root:3\n",
      "INFO:root:4\n",
      "INFO:root:5\n",
      "INFO:root:6\n",
      "INFO:root:7\n",
      "INFO:root:8\n",
      "INFO:root:9\n",
      "INFO:root:10\n",
      "ERROR:root:Error has occured\n",
      "ERROR:root:tuple index out of range\n",
      "Traceback (most recent call last):\n",
      "  File \"C:\\Users\\Admin\\AppData\\Local\\Temp\\ipykernel_126816\\668339547.py\", line 8, in task02\n",
      "    lg.info(args[i])\n",
      "            ~~~~^^^\n",
      "IndexError: tuple index out of range\n",
      "INFO:root:Function Start with inputs\n",
      "INFO:root:5\n",
      "INFO:root:6\n",
      "INFO:root:Function Start with inputs\n",
      "INFO:root:5\n",
      "INFO:root:add\n",
      "ERROR:root:Error has occured\n",
      "ERROR:root:unsupported operand type(s) for +: 'int' and 'str'\n",
      "Traceback (most recent call last):\n",
      "  File \"C:\\Users\\Admin\\AppData\\Local\\Temp\\ipykernel_126816\\4008467552.py\", line 9, in task02\n",
      "    return sum(args)\n",
      "           ^^^^^^^^^\n",
      "TypeError: unsupported operand type(s) for +: 'int' and 'str'\n",
      "INFO:root:Function Start with inputs\n",
      "INFO:root:1\n",
      "INFO:root:2\n",
      "INFO:root:3\n",
      "INFO:root:4\n",
      "INFO:root:5\n",
      "INFO:root:6\n",
      "INFO:root:7\n",
      "INFO:root:8\n",
      "INFO:root:9\n",
      "INFO:root:10\n",
      "INFO:root:Function Start with inputs\n",
      "INFO:root:1\n",
      "INFO:root:2\n",
      "INFO:root:3\n",
      "INFO:root:4\n",
      "INFO:root:5\n",
      "INFO:root:6\n",
      "INFO:root:7\n",
      "INFO:root:8\n",
      "INFO:root:9\n",
      "INFO:root:10\n",
      "INFO:root:ä\n",
      "ERROR:root:Error has occured\n",
      "ERROR:root:unsupported operand type(s) for +: 'int' and 'str'\n",
      "Traceback (most recent call last):\n",
      "  File \"C:\\Users\\Admin\\AppData\\Local\\Temp\\ipykernel_126816\\4008467552.py\", line 9, in task02\n",
      "    return sum(args)\n",
      "           ^^^^^^^^^\n",
      "TypeError: unsupported operand type(s) for +: 'int' and 'str'\n",
      "INFO:root:Function Start with inputs\n",
      "INFO:root:1\n",
      "INFO:root:2\n",
      "INFO:root:3\n",
      "INFO:root:4\n",
      "INFO:root:5\n",
      "INFO:root:6\n",
      "INFO:root:7\n",
      "INFO:root:8\n",
      "INFO:root:9\n",
      "INFO:root:10\n",
      "INFO:root:d\n",
      "ERROR:root:Error has occured\n",
      "ERROR:root:unsupported operand type(s) for +: 'int' and 'str'\n",
      "Traceback (most recent call last):\n",
      "  File \"C:\\Users\\Admin\\AppData\\Local\\Temp\\ipykernel_126816\\4008467552.py\", line 9, in task02\n",
      "    return sum(args)\n",
      "           ^^^^^^^^^\n",
      "TypeError: unsupported operand type(s) for +: 'int' and 'str'\n",
      "\n"
     ]
    }
   ],
   "source": [
    "#05\n",
    "with open(\"task01.log\", \"r\") as t2:\n",
    "    print(t2.read())"
   ]
  },
  {
   "cell_type": "code",
   "execution_count": 5,
   "id": "561c3298",
   "metadata": {},
   "outputs": [
    {
     "data": {
      "text/plain": [
       "11"
      ]
     },
     "execution_count": 5,
     "metadata": {},
     "output_type": "execute_result"
    }
   ],
   "source": [
    "task02(5, 6)"
   ]
  },
  {
   "cell_type": "code",
   "execution_count": 6,
   "id": "9e411401",
   "metadata": {},
   "outputs": [
    {
     "name": "stdout",
     "output_type": "stream",
     "text": [
      "You can check your log for more info if your code will fail\n"
     ]
    }
   ],
   "source": [
    "task02(5, \"add\")"
   ]
  },
  {
   "cell_type": "code",
   "execution_count": 7,
   "id": "32606542",
   "metadata": {},
   "outputs": [
    {
     "name": "stdout",
     "output_type": "stream",
     "text": [
      "INFO:root:Function Start with inputs 5 and 6\n",
      "INFO:root:Function Start with inputs 5 and add\n",
      "ERROR:root:Error has occured\n",
      "ERROR:root:unsupported operand type(s) for /: 'int' and 'str'\n",
      "Traceback (most recent call last):\n",
      "  File \"C:\\Users\\Admin\\AppData\\Local\\Temp\\ipykernel_126816\\2215864335.py\", line 10, in task02\n",
      "    return a / b\n",
      "           ~~^~~\n",
      "TypeError: unsupported operand type(s) for /: 'int' and 'str'\n",
      "INFO:root:Function Start with inputs\n",
      "ERROR:root:Error has occured\n",
      "ERROR:root:tuple index out of range\n",
      "Traceback (most recent call last):\n",
      "  File \"C:\\Users\\Admin\\AppData\\Local\\Temp\\ipykernel_126816\\3908728707.py\", line 8, in task02\n",
      "    lg.info(str(args[i]))\n",
      "                ~~~~^^^\n",
      "IndexError: tuple index out of range\n",
      "INFO:root:Function Start with inputs\n",
      "ERROR:root:Error has occured\n",
      "ERROR:root:tuple index out of range\n",
      "Traceback (most recent call last):\n",
      "  File \"C:\\Users\\Admin\\AppData\\Local\\Temp\\ipykernel_126816\\3908728707.py\", line 8, in task02\n",
      "    lg.info(str(args[i]))\n",
      "                ~~~~^^^\n",
      "IndexError: tuple index out of range\n",
      "INFO:root:Function Start with inputs\n",
      "INFO:root:2\n",
      "INFO:root:3\n",
      "INFO:root:4\n",
      "INFO:root:5\n",
      "INFO:root:6\n",
      "INFO:root:7\n",
      "INFO:root:8\n",
      "INFO:root:9\n",
      "INFO:root:10\n",
      "ERROR:root:Error has occured\n",
      "ERROR:root:tuple index out of range\n",
      "Traceback (most recent call last):\n",
      "  File \"C:\\Users\\Admin\\AppData\\Local\\Temp\\ipykernel_126816\\3908728707.py\", line 8, in task02\n",
      "    lg.info(str(args[i]))\n",
      "                ~~~~^^^\n",
      "IndexError: tuple index out of range\n",
      "INFO:root:Function Start with inputs\n",
      "ERROR:root:Error has occured\n",
      "ERROR:root:tuple index out of range\n",
      "Traceback (most recent call last):\n",
      "  File \"C:\\Users\\Admin\\AppData\\Local\\Temp\\ipykernel_126816\\668339547.py\", line 8, in task02\n",
      "    lg.info(args[i])\n",
      "            ~~~~^^^\n",
      "IndexError: tuple index out of range\n",
      "INFO:root:Function Start with inputs\n",
      "ERROR:root:Error has occured\n",
      "ERROR:root:tuple index out of range\n",
      "Traceback (most recent call last):\n",
      "  File \"C:\\Users\\Admin\\AppData\\Local\\Temp\\ipykernel_126816\\668339547.py\", line 8, in task02\n",
      "    lg.info(args[i])\n",
      "            ~~~~^^^\n",
      "IndexError: tuple index out of range\n",
      "INFO:root:Function Start with inputs\n",
      "INFO:root:2\n",
      "INFO:root:3\n",
      "INFO:root:4\n",
      "INFO:root:5\n",
      "INFO:root:6\n",
      "INFO:root:7\n",
      "INFO:root:8\n",
      "INFO:root:9\n",
      "INFO:root:10\n",
      "ERROR:root:Error has occured\n",
      "ERROR:root:tuple index out of range\n",
      "Traceback (most recent call last):\n",
      "  File \"C:\\Users\\Admin\\AppData\\Local\\Temp\\ipykernel_126816\\668339547.py\", line 8, in task02\n",
      "    lg.info(args[i])\n",
      "            ~~~~^^^\n",
      "IndexError: tuple index out of range\n",
      "INFO:root:Function Start with inputs\n",
      "INFO:root:5\n",
      "INFO:root:6\n",
      "INFO:root:Function Start with inputs\n",
      "INFO:root:5\n",
      "INFO:root:add\n",
      "ERROR:root:Error has occured\n",
      "ERROR:root:unsupported operand type(s) for +: 'int' and 'str'\n",
      "Traceback (most recent call last):\n",
      "  File \"C:\\Users\\Admin\\AppData\\Local\\Temp\\ipykernel_126816\\4008467552.py\", line 9, in task02\n",
      "    return sum(args)\n",
      "           ^^^^^^^^^\n",
      "TypeError: unsupported operand type(s) for +: 'int' and 'str'\n",
      "INFO:root:Function Start with inputs\n",
      "INFO:root:1\n",
      "INFO:root:2\n",
      "INFO:root:3\n",
      "INFO:root:4\n",
      "INFO:root:5\n",
      "INFO:root:6\n",
      "INFO:root:7\n",
      "INFO:root:8\n",
      "INFO:root:9\n",
      "INFO:root:10\n",
      "INFO:root:Function Start with inputs\n",
      "INFO:root:1\n",
      "INFO:root:2\n",
      "INFO:root:3\n",
      "INFO:root:4\n",
      "INFO:root:5\n",
      "INFO:root:6\n",
      "INFO:root:7\n",
      "INFO:root:8\n",
      "INFO:root:9\n",
      "INFO:root:10\n",
      "INFO:root:ä\n",
      "ERROR:root:Error has occured\n",
      "ERROR:root:unsupported operand type(s) for +: 'int' and 'str'\n",
      "Traceback (most recent call last):\n",
      "  File \"C:\\Users\\Admin\\AppData\\Local\\Temp\\ipykernel_126816\\4008467552.py\", line 9, in task02\n",
      "    return sum(args)\n",
      "           ^^^^^^^^^\n",
      "TypeError: unsupported operand type(s) for +: 'int' and 'str'\n",
      "INFO:root:Function Start with inputs\n",
      "INFO:root:1\n",
      "INFO:root:2\n",
      "INFO:root:3\n",
      "INFO:root:4\n",
      "INFO:root:5\n",
      "INFO:root:6\n",
      "INFO:root:7\n",
      "INFO:root:8\n",
      "INFO:root:9\n",
      "INFO:root:10\n",
      "INFO:root:d\n",
      "ERROR:root:Error has occured\n",
      "ERROR:root:unsupported operand type(s) for +: 'int' and 'str'\n",
      "Traceback (most recent call last):\n",
      "  File \"C:\\Users\\Admin\\AppData\\Local\\Temp\\ipykernel_126816\\4008467552.py\", line 9, in task02\n",
      "    return sum(args)\n",
      "           ^^^^^^^^^\n",
      "TypeError: unsupported operand type(s) for +: 'int' and 'str'\n",
      "INFO:root:Function Start with inputs\n",
      "INFO:root:5\n",
      "INFO:root:6\n",
      "INFO:root:Function Start with inputs\n",
      "INFO:root:5\n",
      "INFO:root:add\n",
      "ERROR:root:Error has occured\n",
      "ERROR:root:unsupported operand type(s) for +: 'int' and 'str'\n",
      "Traceback (most recent call last):\n",
      "  File \"C:\\Users\\Admin\\AppData\\Local\\Temp\\ipykernel_156404\\4008467552.py\", line 9, in task02\n",
      "    return sum(args)\n",
      "           ^^^^^^^^^\n",
      "TypeError: unsupported operand type(s) for +: 'int' and 'str'\n",
      "\n"
     ]
    }
   ],
   "source": [
    "with open(\"task01.log\", \"r\") as t2:\n",
    "    print(t2.read())"
   ]
  },
  {
   "cell_type": "code",
   "execution_count": 8,
   "id": "f0e59c10",
   "metadata": {},
   "outputs": [
    {
     "data": {
      "text/plain": [
       "55"
      ]
     },
     "execution_count": 8,
     "metadata": {},
     "output_type": "execute_result"
    }
   ],
   "source": [
    "task02(1, 2, 3, 4, 5, 6, 7, 8, 9, 10)"
   ]
  },
  {
   "cell_type": "code",
   "execution_count": 9,
   "id": "8c1c3dab",
   "metadata": {},
   "outputs": [
    {
     "name": "stdout",
     "output_type": "stream",
     "text": [
      "You can check your log for more info if your code will fail\n"
     ]
    }
   ],
   "source": [
    "task02(1, 2, 3, 4, 5, 6, 7, 8, 9, 10, \"d\")"
   ]
  },
  {
   "cell_type": "code",
   "execution_count": 1,
   "id": "2a62d3ec",
   "metadata": {},
   "outputs": [],
   "source": [
    "import logging as lg"
   ]
  },
  {
   "cell_type": "code",
   "execution_count": 2,
   "id": "b870ecf6",
   "metadata": {},
   "outputs": [],
   "source": [
    "# Setting up basic configuration for logging to a file\n",
    "lg.basicConfig(filename=\"test4.log\", level=lg.DEBUG, format=\"%(asctime)s %(levelname)s %(message)s\")"
   ]
  },
  {
   "cell_type": "code",
   "execution_count": 3,
   "id": "cd364e71",
   "metadata": {},
   "outputs": [],
   "source": [
    "# Setting up logging to console with INFO level\n",
    "console_log = lg.StreamHandler()\n",
    "console_log.setLevel(lg.INFO)\n",
    "format = lg.Formatter(\"%(asctime)s %(levelname)s %(message)s\")  # Fixing the format\n",
    "console_log.setFormatter(format)\n",
    "lg.getLogger(\"\").addHandler(console_log)"
   ]
  },
  {
   "cell_type": "code",
   "execution_count": 4,
   "id": "a799c752",
   "metadata": {},
   "outputs": [
    {
     "name": "stderr",
     "output_type": "stream",
     "text": [
      "2024-05-16 11:58:43,217 INFO This is my first code for log\n"
     ]
    }
   ],
   "source": [
    "# Log messages\n",
    "lg.info(\"This is my first code for log\")"
   ]
  },
  {
   "cell_type": "code",
   "execution_count": 5,
   "id": "770a263f",
   "metadata": {},
   "outputs": [],
   "source": [
    "# Creating separate loggers\n",
    "logger1 = lg.getLogger(\"logger1.area1\")\n",
    "logger2 = lg.getLogger(\"logger2.area2\")"
   ]
  },
  {
   "cell_type": "code",
   "execution_count": 6,
   "id": "162f4002",
   "metadata": {},
   "outputs": [
    {
     "name": "stderr",
     "output_type": "stream",
     "text": [
      "2024-05-16 11:58:43,239 INFO This is info for logger one\n",
      "2024-05-16 11:58:43,241 INFO This is info for logger two\n"
     ]
    }
   ],
   "source": [
    "# Logging messages using the separate loggers\n",
    "logger1.info(\"This is info for logger one\")\n",
    "logger2.debug(\"This is info for logger two\")  # This won't appear in the console because its level is DEBUG\n",
    "logger2.info(\"This is info for logger two\")"
   ]
  },
  {
   "cell_type": "markdown",
   "id": "b47a1067",
   "metadata": {},
   "source": [
    "### Debugger"
   ]
  },
  {
   "cell_type": "code",
   "execution_count": 2,
   "id": "9c13b93f",
   "metadata": {},
   "outputs": [],
   "source": [
    "def testdebug():\n",
    "    l = []\n",
    "    for i in range(10):\n",
    "        l.append(i)\n",
    "        print(\"We can append your data in list\")\n",
    "    return l"
   ]
  },
  {
   "cell_type": "code",
   "execution_count": 3,
   "id": "70d0460b",
   "metadata": {},
   "outputs": [
    {
     "name": "stdout",
     "output_type": "stream",
     "text": [
      "We can append your data in list\n",
      "We can append your data in list\n",
      "We can append your data in list\n",
      "We can append your data in list\n",
      "We can append your data in list\n",
      "We can append your data in list\n",
      "We can append your data in list\n",
      "We can append your data in list\n",
      "We can append your data in list\n",
      "We can append your data in list\n"
     ]
    },
    {
     "data": {
      "text/plain": [
       "[0, 1, 2, 3, 4, 5, 6, 7, 8, 9]"
      ]
     },
     "execution_count": 3,
     "metadata": {},
     "output_type": "execute_result"
    }
   ],
   "source": [
    "testdebug()"
   ]
  },
  {
   "cell_type": "code",
   "execution_count": 4,
   "id": "5cf5b70b",
   "metadata": {},
   "outputs": [
    {
     "ename": "ModuleNotFoundError",
     "evalue": "No module named 'ipdb'",
     "output_type": "error",
     "traceback": [
      "\u001b[1;31m---------------------------------------------------------------------------\u001b[0m",
      "\u001b[1;31mModuleNotFoundError\u001b[0m                       Traceback (most recent call last)",
      "Cell \u001b[1;32mIn[4], line 1\u001b[0m\n\u001b[1;32m----> 1\u001b[0m \u001b[38;5;28;01mimport\u001b[39;00m \u001b[38;5;21;01mipdb\u001b[39;00m\n",
      "\u001b[1;31mModuleNotFoundError\u001b[0m: No module named 'ipdb'"
     ]
    }
   ],
   "source": [
    "import ipdb"
   ]
  },
  {
   "cell_type": "code",
   "execution_count": 5,
   "id": "0295ceff",
   "metadata": {},
   "outputs": [
    {
     "name": "stdout",
     "output_type": "stream",
     "text": [
      "Defaulting to user installation because normal site-packages is not writeable\n",
      "Collecting ipdb\n",
      "  Obtaining dependency information for ipdb from https://files.pythonhosted.org/packages/0c/4c/b075da0092003d9a55cf2ecc1cae9384a1ca4f650d51b00fc59875fe76f6/ipdb-0.13.13-py3-none-any.whl.metadata\n",
      "  Downloading ipdb-0.13.13-py3-none-any.whl.metadata (14 kB)\n",
      "Requirement already satisfied: ipython>=7.31.1 in e:\\anaconda\\lib\\site-packages (from ipdb) (8.15.0)\n",
      "Requirement already satisfied: decorator in e:\\anaconda\\lib\\site-packages (from ipdb) (5.1.1)\n",
      "Requirement already satisfied: backcall in e:\\anaconda\\lib\\site-packages (from ipython>=7.31.1->ipdb) (0.2.0)\n",
      "Requirement already satisfied: jedi>=0.16 in e:\\anaconda\\lib\\site-packages (from ipython>=7.31.1->ipdb) (0.18.1)\n",
      "Requirement already satisfied: matplotlib-inline in e:\\anaconda\\lib\\site-packages (from ipython>=7.31.1->ipdb) (0.1.6)\n",
      "Requirement already satisfied: pickleshare in e:\\anaconda\\lib\\site-packages (from ipython>=7.31.1->ipdb) (0.7.5)\n",
      "Requirement already satisfied: prompt-toolkit!=3.0.37,<3.1.0,>=3.0.30 in e:\\anaconda\\lib\\site-packages (from ipython>=7.31.1->ipdb) (3.0.36)\n",
      "Requirement already satisfied: pygments>=2.4.0 in e:\\anaconda\\lib\\site-packages (from ipython>=7.31.1->ipdb) (2.15.1)\n",
      "Requirement already satisfied: stack-data in e:\\anaconda\\lib\\site-packages (from ipython>=7.31.1->ipdb) (0.2.0)\n",
      "Requirement already satisfied: traitlets>=5 in e:\\anaconda\\lib\\site-packages (from ipython>=7.31.1->ipdb) (5.7.1)\n",
      "Requirement already satisfied: colorama in e:\\anaconda\\lib\\site-packages (from ipython>=7.31.1->ipdb) (0.4.6)\n",
      "Requirement already satisfied: parso<0.9.0,>=0.8.0 in e:\\anaconda\\lib\\site-packages (from jedi>=0.16->ipython>=7.31.1->ipdb) (0.8.3)\n",
      "Requirement already satisfied: wcwidth in e:\\anaconda\\lib\\site-packages (from prompt-toolkit!=3.0.37,<3.1.0,>=3.0.30->ipython>=7.31.1->ipdb) (0.2.5)\n",
      "Requirement already satisfied: executing in e:\\anaconda\\lib\\site-packages (from stack-data->ipython>=7.31.1->ipdb) (0.8.3)\n",
      "Requirement already satisfied: asttokens in e:\\anaconda\\lib\\site-packages (from stack-data->ipython>=7.31.1->ipdb) (2.0.5)\n",
      "Requirement already satisfied: pure-eval in e:\\anaconda\\lib\\site-packages (from stack-data->ipython>=7.31.1->ipdb) (0.2.2)\n",
      "Requirement already satisfied: six in e:\\anaconda\\lib\\site-packages (from asttokens->stack-data->ipython>=7.31.1->ipdb) (1.16.0)\n",
      "Downloading ipdb-0.13.13-py3-none-any.whl (12 kB)\n",
      "Installing collected packages: ipdb\n",
      "Successfully installed ipdb-0.13.13\n",
      "Note: you may need to restart the kernel to use updated packages.\n"
     ]
    },
    {
     "name": "stderr",
     "output_type": "stream",
     "text": [
      "  WARNING: The script ipdb3.exe is installed in 'C:\\Users\\Admin\\AppData\\Roaming\\Python\\Python311\\Scripts' which is not on PATH.\n",
      "  Consider adding this directory to PATH or, if you prefer to suppress this warning, use --no-warn-script-location.\n"
     ]
    }
   ],
   "source": [
    "pip install ipdb"
   ]
  },
  {
   "cell_type": "code",
   "execution_count": 6,
   "id": "416153ff",
   "metadata": {},
   "outputs": [
    {
     "name": "stdout",
     "output_type": "stream",
     "text": [
      "Defaulting to user installation because normal site-packages is not writeable\n",
      "Requirement already satisfied: ipdb in c:\\users\\admin\\appdata\\roaming\\python\\python311\\site-packages (0.13.13)\n",
      "Requirement already satisfied: ipython>=7.31.1 in e:\\anaconda\\lib\\site-packages (from ipdb) (8.15.0)\n",
      "Requirement already satisfied: decorator in e:\\anaconda\\lib\\site-packages (from ipdb) (5.1.1)\n",
      "Requirement already satisfied: backcall in e:\\anaconda\\lib\\site-packages (from ipython>=7.31.1->ipdb) (0.2.0)\n",
      "Requirement already satisfied: jedi>=0.16 in e:\\anaconda\\lib\\site-packages (from ipython>=7.31.1->ipdb) (0.18.1)\n",
      "Requirement already satisfied: matplotlib-inline in e:\\anaconda\\lib\\site-packages (from ipython>=7.31.1->ipdb) (0.1.6)\n",
      "Requirement already satisfied: pickleshare in e:\\anaconda\\lib\\site-packages (from ipython>=7.31.1->ipdb) (0.7.5)\n",
      "Requirement already satisfied: prompt-toolkit!=3.0.37,<3.1.0,>=3.0.30 in e:\\anaconda\\lib\\site-packages (from ipython>=7.31.1->ipdb) (3.0.36)\n",
      "Requirement already satisfied: pygments>=2.4.0 in e:\\anaconda\\lib\\site-packages (from ipython>=7.31.1->ipdb) (2.15.1)\n",
      "Requirement already satisfied: stack-data in e:\\anaconda\\lib\\site-packages (from ipython>=7.31.1->ipdb) (0.2.0)\n",
      "Requirement already satisfied: traitlets>=5 in e:\\anaconda\\lib\\site-packages (from ipython>=7.31.1->ipdb) (5.7.1)\n",
      "Requirement already satisfied: colorama in e:\\anaconda\\lib\\site-packages (from ipython>=7.31.1->ipdb) (0.4.6)\n",
      "Requirement already satisfied: parso<0.9.0,>=0.8.0 in e:\\anaconda\\lib\\site-packages (from jedi>=0.16->ipython>=7.31.1->ipdb) (0.8.3)\n",
      "Requirement already satisfied: wcwidth in e:\\anaconda\\lib\\site-packages (from prompt-toolkit!=3.0.37,<3.1.0,>=3.0.30->ipython>=7.31.1->ipdb) (0.2.5)\n",
      "Requirement already satisfied: executing in e:\\anaconda\\lib\\site-packages (from stack-data->ipython>=7.31.1->ipdb) (0.8.3)\n",
      "Requirement already satisfied: asttokens in e:\\anaconda\\lib\\site-packages (from stack-data->ipython>=7.31.1->ipdb) (2.0.5)\n",
      "Requirement already satisfied: pure-eval in e:\\anaconda\\lib\\site-packages (from stack-data->ipython>=7.31.1->ipdb) (0.2.2)\n",
      "Requirement already satisfied: six in e:\\anaconda\\lib\\site-packages (from asttokens->stack-data->ipython>=7.31.1->ipdb) (1.16.0)\n"
     ]
    }
   ],
   "source": [
    "!pip install ipdb"
   ]
  },
  {
   "cell_type": "code",
   "execution_count": 2,
   "id": "1263c9c7",
   "metadata": {},
   "outputs": [],
   "source": [
    "import ipdb"
   ]
  },
  {
   "cell_type": "code",
   "execution_count": 3,
   "id": "cee26718",
   "metadata": {},
   "outputs": [],
   "source": [
    "def testdebug():\n",
    "    ipdb.set_trace()\n",
    "    l = []\n",
    "    for i in range(10):\n",
    "        l.append(i)\n",
    "        print(\"We can append your data in list\")\n",
    "    return l"
   ]
  },
  {
   "cell_type": "code",
   "execution_count": null,
   "id": "de47726c",
   "metadata": {
    "collapsed": true
   },
   "outputs": [
    {
     "name": "stdout",
     "output_type": "stream",
     "text": [
      "> \u001b[1;32mc:\\users\\admin\\appdata\\local\\temp\\ipykernel_196256\\2650125856.py\u001b[0m(3)\u001b[0;36mtestdebug\u001b[1;34m()\u001b[0m\n",
      "\n",
      "ipdb> h\n",
      "\n",
      "Documented commands (type help <topic>):\n",
      "========================================\n",
      "EOF    commands   enable      list      pinfo2   rv               unt   \n",
      "a      condition  exceptions  ll        pp       s                until \n",
      "alias  cont       exit        longlist  psource  skip_hidden      up    \n",
      "args   context    h           n         q        skip_predicates  w     \n",
      "b      continue   help        next      quit     source           whatis\n",
      "break  d          ignore      p         r        step             where \n",
      "bt     debug      interact    pdef      restart  tbreak         \n",
      "c      disable    j           pdoc      return   u              \n",
      "cl     display    jump        pfile     retval   unalias        \n",
      "clear  down       l           pinfo     run      undisplay      \n",
      "\n",
      "Miscellaneous help topics:\n",
      "==========================\n",
      "exec  pdb\n",
      "\n",
      "ipdb> next\n",
      "> \u001b[1;32mc:\\users\\admin\\appdata\\local\\temp\\ipykernel_196256\\2650125856.py\u001b[0m(4)\u001b[0;36mtestdebug\u001b[1;34m()\u001b[0m\n",
      "\n",
      "ipdb> next\n",
      "> \u001b[1;32mc:\\users\\admin\\appdata\\local\\temp\\ipykernel_196256\\2650125856.py\u001b[0m(5)\u001b[0;36mtestdebug\u001b[1;34m()\u001b[0m\n",
      "\n",
      "ipdb> next\n",
      "> \u001b[1;32mc:\\users\\admin\\appdata\\local\\temp\\ipykernel_196256\\2650125856.py\u001b[0m(6)\u001b[0;36mtestdebug\u001b[1;34m()\u001b[0m\n",
      "\n",
      "ipdb> next\n",
      "We can append your data in list\n",
      "> \u001b[1;32mc:\\users\\admin\\appdata\\local\\temp\\ipykernel_196256\\2650125856.py\u001b[0m(4)\u001b[0;36mtestdebug\u001b[1;34m()\u001b[0m\n",
      "\n",
      "ipdb> next\n",
      "> \u001b[1;32mc:\\users\\admin\\appdata\\local\\temp\\ipykernel_196256\\2650125856.py\u001b[0m(5)\u001b[0;36mtestdebug\u001b[1;34m()\u001b[0m\n",
      "\n",
      "ipdb> next\n",
      "> \u001b[1;32mc:\\users\\admin\\appdata\\local\\temp\\ipykernel_196256\\2650125856.py\u001b[0m(6)\u001b[0;36mtestdebug\u001b[1;34m()\u001b[0m\n",
      "\n",
      "ipdb> next\n",
      "We can append your data in list\n",
      "> \u001b[1;32mc:\\users\\admin\\appdata\\local\\temp\\ipykernel_196256\\2650125856.py\u001b[0m(4)\u001b[0;36mtestdebug\u001b[1;34m()\u001b[0m\n",
      "\n",
      "ipdb> next\n",
      "> \u001b[1;32mc:\\users\\admin\\appdata\\local\\temp\\ipykernel_196256\\2650125856.py\u001b[0m(5)\u001b[0;36mtestdebug\u001b[1;34m()\u001b[0m\n",
      "\n",
      "ipdb> next\n",
      "> \u001b[1;32mc:\\users\\admin\\appdata\\local\\temp\\ipykernel_196256\\2650125856.py\u001b[0m(6)\u001b[0;36mtestdebug\u001b[1;34m()\u001b[0m\n",
      "\n",
      "ipdb> next\n",
      "We can append your data in list\n",
      "> \u001b[1;32mc:\\users\\admin\\appdata\\local\\temp\\ipykernel_196256\\2650125856.py\u001b[0m(4)\u001b[0;36mtestdebug\u001b[1;34m()\u001b[0m\n",
      "\n",
      "ipdb> next\n",
      "> \u001b[1;32mc:\\users\\admin\\appdata\\local\\temp\\ipykernel_196256\\2650125856.py\u001b[0m(5)\u001b[0;36mtestdebug\u001b[1;34m()\u001b[0m\n",
      "\n",
      "ipdb> next\n",
      "> \u001b[1;32mc:\\users\\admin\\appdata\\local\\temp\\ipykernel_196256\\2650125856.py\u001b[0m(6)\u001b[0;36mtestdebug\u001b[1;34m()\u001b[0m\n",
      "\n",
      "ipdb> next\n",
      "We can append your data in list\n",
      "> \u001b[1;32mc:\\users\\admin\\appdata\\local\\temp\\ipykernel_196256\\2650125856.py\u001b[0m(4)\u001b[0;36mtestdebug\u001b[1;34m()\u001b[0m\n",
      "\n",
      "ipdb> next\n",
      "> \u001b[1;32mc:\\users\\admin\\appdata\\local\\temp\\ipykernel_196256\\2650125856.py\u001b[0m(5)\u001b[0;36mtestdebug\u001b[1;34m()\u001b[0m\n",
      "\n",
      "ipdb> next\n",
      "> \u001b[1;32mc:\\users\\admin\\appdata\\local\\temp\\ipykernel_196256\\2650125856.py\u001b[0m(6)\u001b[0;36mtestdebug\u001b[1;34m()\u001b[0m\n",
      "\n",
      "ipdb> next\n",
      "We can append your data in list\n",
      "> \u001b[1;32mc:\\users\\admin\\appdata\\local\\temp\\ipykernel_196256\\2650125856.py\u001b[0m(4)\u001b[0;36mtestdebug\u001b[1;34m()\u001b[0m\n",
      "\n",
      "ipdb> next\n",
      "> \u001b[1;32mc:\\users\\admin\\appdata\\local\\temp\\ipykernel_196256\\2650125856.py\u001b[0m(5)\u001b[0;36mtestdebug\u001b[1;34m()\u001b[0m\n",
      "\n",
      "ipdb> next\n",
      "> \u001b[1;32mc:\\users\\admin\\appdata\\local\\temp\\ipykernel_196256\\2650125856.py\u001b[0m(6)\u001b[0;36mtestdebug\u001b[1;34m()\u001b[0m\n",
      "\n",
      "ipdb> next\n",
      "We can append your data in list\n",
      "> \u001b[1;32mc:\\users\\admin\\appdata\\local\\temp\\ipykernel_196256\\2650125856.py\u001b[0m(4)\u001b[0;36mtestdebug\u001b[1;34m()\u001b[0m\n",
      "\n",
      "ipdb> next\n",
      "> \u001b[1;32mc:\\users\\admin\\appdata\\local\\temp\\ipykernel_196256\\2650125856.py\u001b[0m(5)\u001b[0;36mtestdebug\u001b[1;34m()\u001b[0m\n",
      "\n",
      "ipdb> next\n",
      "> \u001b[1;32mc:\\users\\admin\\appdata\\local\\temp\\ipykernel_196256\\2650125856.py\u001b[0m(6)\u001b[0;36mtestdebug\u001b[1;34m()\u001b[0m\n",
      "\n",
      "ipdb> next\n",
      "We can append your data in list\n",
      "> \u001b[1;32mc:\\users\\admin\\appdata\\local\\temp\\ipykernel_196256\\2650125856.py\u001b[0m(4)\u001b[0;36mtestdebug\u001b[1;34m()\u001b[0m\n",
      "\n",
      "ipdb> next\n",
      "> \u001b[1;32mc:\\users\\admin\\appdata\\local\\temp\\ipykernel_196256\\2650125856.py\u001b[0m(5)\u001b[0;36mtestdebug\u001b[1;34m()\u001b[0m\n",
      "\n",
      "ipdb> next\n",
      "> \u001b[1;32mc:\\users\\admin\\appdata\\local\\temp\\ipykernel_196256\\2650125856.py\u001b[0m(6)\u001b[0;36mtestdebug\u001b[1;34m()\u001b[0m\n",
      "\n",
      "ipdb> next\n",
      "We can append your data in list\n",
      "> \u001b[1;32mc:\\users\\admin\\appdata\\local\\temp\\ipykernel_196256\\2650125856.py\u001b[0m(4)\u001b[0;36mtestdebug\u001b[1;34m()\u001b[0m\n",
      "\n",
      "ipdb> next\n",
      "> \u001b[1;32mc:\\users\\admin\\appdata\\local\\temp\\ipykernel_196256\\2650125856.py\u001b[0m(5)\u001b[0;36mtestdebug\u001b[1;34m()\u001b[0m\n",
      "\n",
      "ipdb> next\n",
      "> \u001b[1;32mc:\\users\\admin\\appdata\\local\\temp\\ipykernel_196256\\2650125856.py\u001b[0m(6)\u001b[0;36mtestdebug\u001b[1;34m()\u001b[0m\n",
      "\n",
      "ipdb> next\n",
      "We can append your data in list\n",
      "> \u001b[1;32mc:\\users\\admin\\appdata\\local\\temp\\ipykernel_196256\\2650125856.py\u001b[0m(4)\u001b[0;36mtestdebug\u001b[1;34m()\u001b[0m\n",
      "\n",
      "ipdb> next\n",
      "> \u001b[1;32mc:\\users\\admin\\appdata\\local\\temp\\ipykernel_196256\\2650125856.py\u001b[0m(5)\u001b[0;36mtestdebug\u001b[1;34m()\u001b[0m\n",
      "\n",
      "ipdb> next\n",
      "> \u001b[1;32mc:\\users\\admin\\appdata\\local\\temp\\ipykernel_196256\\2650125856.py\u001b[0m(6)\u001b[0;36mtestdebug\u001b[1;34m()\u001b[0m\n",
      "\n",
      "ipdb> next\n",
      "We can append your data in list\n",
      "> \u001b[1;32mc:\\users\\admin\\appdata\\local\\temp\\ipykernel_196256\\2650125856.py\u001b[0m(4)\u001b[0;36mtestdebug\u001b[1;34m()\u001b[0m\n",
      "\n",
      "ipdb> next\n",
      "> \u001b[1;32mc:\\users\\admin\\appdata\\local\\temp\\ipykernel_196256\\2650125856.py\u001b[0m(7)\u001b[0;36mtestdebug\u001b[1;34m()\u001b[0m\n",
      "\n",
      "ipdb> next\n",
      "--Return--\n",
      "[0, 1, 2, 3, 4, 5, ...]\n",
      "> \u001b[1;32mc:\\users\\admin\\appdata\\local\\temp\\ipykernel_196256\\2650125856.py\u001b[0m(7)\u001b[0;36mtestdebug\u001b[1;34m()\u001b[0m\n",
      "\n",
      "ipdb> next\n",
      "--Call--\n",
      "> \u001b[1;32me:\\anaconda\\lib\\site-packages\\ipython\\core\\displayhook.py\u001b[0m(258)\u001b[0;36m__call__\u001b[1;34m()\u001b[0m\n",
      "\u001b[1;32m    257 \u001b[1;33m\u001b[1;33m\u001b[0m\u001b[0m\n",
      "\u001b[0m\u001b[1;32m--> 258 \u001b[1;33m    \u001b[1;32mdef\u001b[0m \u001b[0m__call__\u001b[0m\u001b[1;33m(\u001b[0m\u001b[0mself\u001b[0m\u001b[1;33m,\u001b[0m \u001b[0mresult\u001b[0m\u001b[1;33m=\u001b[0m\u001b[1;32mNone\u001b[0m\u001b[1;33m)\u001b[0m\u001b[1;33m:\u001b[0m\u001b[1;33m\u001b[0m\u001b[1;33m\u001b[0m\u001b[0m\n",
      "\u001b[0m\u001b[1;32m    259 \u001b[1;33m        \"\"\"Printing with history cache management.\n",
      "\u001b[0m\n",
      "ipdb> next\n",
      "> \u001b[1;32me:\\anaconda\\lib\\site-packages\\ipython\\core\\displayhook.py\u001b[0m(264)\u001b[0;36m__call__\u001b[1;34m()\u001b[0m\n",
      "\u001b[1;32m    263 \u001b[1;33m        \"\"\"\n",
      "\u001b[0m\u001b[1;32m--> 264 \u001b[1;33m        \u001b[0mself\u001b[0m\u001b[1;33m.\u001b[0m\u001b[0mcheck_for_underscore\u001b[0m\u001b[1;33m(\u001b[0m\u001b[1;33m)\u001b[0m\u001b[1;33m\u001b[0m\u001b[1;33m\u001b[0m\u001b[0m\n",
      "\u001b[0m\u001b[1;32m    265 \u001b[1;33m        \u001b[1;32mif\u001b[0m \u001b[0mresult\u001b[0m \u001b[1;32mis\u001b[0m \u001b[1;32mnot\u001b[0m \u001b[1;32mNone\u001b[0m \u001b[1;32mand\u001b[0m \u001b[1;32mnot\u001b[0m \u001b[0mself\u001b[0m\u001b[1;33m.\u001b[0m\u001b[0mquiet\u001b[0m\u001b[1;33m(\u001b[0m\u001b[1;33m)\u001b[0m\u001b[1;33m:\u001b[0m\u001b[1;33m\u001b[0m\u001b[1;33m\u001b[0m\u001b[0m\n",
      "\u001b[0m\n",
      "ipdb> next\n",
      "> \u001b[1;32me:\\anaconda\\lib\\site-packages\\ipython\\core\\displayhook.py\u001b[0m(265)\u001b[0;36m__call__\u001b[1;34m()\u001b[0m\n",
      "\u001b[1;32m    264 \u001b[1;33m        \u001b[0mself\u001b[0m\u001b[1;33m.\u001b[0m\u001b[0mcheck_for_underscore\u001b[0m\u001b[1;33m(\u001b[0m\u001b[1;33m)\u001b[0m\u001b[1;33m\u001b[0m\u001b[1;33m\u001b[0m\u001b[0m\n",
      "\u001b[0m\u001b[1;32m--> 265 \u001b[1;33m        \u001b[1;32mif\u001b[0m \u001b[0mresult\u001b[0m \u001b[1;32mis\u001b[0m \u001b[1;32mnot\u001b[0m \u001b[1;32mNone\u001b[0m \u001b[1;32mand\u001b[0m \u001b[1;32mnot\u001b[0m \u001b[0mself\u001b[0m\u001b[1;33m.\u001b[0m\u001b[0mquiet\u001b[0m\u001b[1;33m(\u001b[0m\u001b[1;33m)\u001b[0m\u001b[1;33m:\u001b[0m\u001b[1;33m\u001b[0m\u001b[1;33m\u001b[0m\u001b[0m\n",
      "\u001b[0m\u001b[1;32m    266 \u001b[1;33m            \u001b[0mself\u001b[0m\u001b[1;33m.\u001b[0m\u001b[0mstart_displayhook\u001b[0m\u001b[1;33m(\u001b[0m\u001b[1;33m)\u001b[0m\u001b[1;33m\u001b[0m\u001b[1;33m\u001b[0m\u001b[0m\n",
      "\u001b[0m\n",
      "ipdb> next\n",
      "> \u001b[1;32me:\\anaconda\\lib\\site-packages\\ipython\\core\\displayhook.py\u001b[0m(266)\u001b[0;36m__call__\u001b[1;34m()\u001b[0m\n",
      "\u001b[1;32m    265 \u001b[1;33m        \u001b[1;32mif\u001b[0m \u001b[0mresult\u001b[0m \u001b[1;32mis\u001b[0m \u001b[1;32mnot\u001b[0m \u001b[1;32mNone\u001b[0m \u001b[1;32mand\u001b[0m \u001b[1;32mnot\u001b[0m \u001b[0mself\u001b[0m\u001b[1;33m.\u001b[0m\u001b[0mquiet\u001b[0m\u001b[1;33m(\u001b[0m\u001b[1;33m)\u001b[0m\u001b[1;33m:\u001b[0m\u001b[1;33m\u001b[0m\u001b[1;33m\u001b[0m\u001b[0m\n",
      "\u001b[0m\u001b[1;32m--> 266 \u001b[1;33m            \u001b[0mself\u001b[0m\u001b[1;33m.\u001b[0m\u001b[0mstart_displayhook\u001b[0m\u001b[1;33m(\u001b[0m\u001b[1;33m)\u001b[0m\u001b[1;33m\u001b[0m\u001b[1;33m\u001b[0m\u001b[0m\n",
      "\u001b[0m\u001b[1;32m    267 \u001b[1;33m            \u001b[0mself\u001b[0m\u001b[1;33m.\u001b[0m\u001b[0mwrite_output_prompt\u001b[0m\u001b[1;33m(\u001b[0m\u001b[1;33m)\u001b[0m\u001b[1;33m\u001b[0m\u001b[1;33m\u001b[0m\u001b[0m\n",
      "\u001b[0m\n",
      "ipdb> next\n",
      "> \u001b[1;32me:\\anaconda\\lib\\site-packages\\ipython\\core\\displayhook.py\u001b[0m(267)\u001b[0;36m__call__\u001b[1;34m()\u001b[0m\n",
      "\u001b[1;32m    266 \u001b[1;33m            \u001b[0mself\u001b[0m\u001b[1;33m.\u001b[0m\u001b[0mstart_displayhook\u001b[0m\u001b[1;33m(\u001b[0m\u001b[1;33m)\u001b[0m\u001b[1;33m\u001b[0m\u001b[1;33m\u001b[0m\u001b[0m\n",
      "\u001b[0m\u001b[1;32m--> 267 \u001b[1;33m            \u001b[0mself\u001b[0m\u001b[1;33m.\u001b[0m\u001b[0mwrite_output_prompt\u001b[0m\u001b[1;33m(\u001b[0m\u001b[1;33m)\u001b[0m\u001b[1;33m\u001b[0m\u001b[1;33m\u001b[0m\u001b[0m\n",
      "\u001b[0m\u001b[1;32m    268 \u001b[1;33m            \u001b[0mformat_dict\u001b[0m\u001b[1;33m,\u001b[0m \u001b[0mmd_dict\u001b[0m \u001b[1;33m=\u001b[0m \u001b[0mself\u001b[0m\u001b[1;33m.\u001b[0m\u001b[0mcompute_format_data\u001b[0m\u001b[1;33m(\u001b[0m\u001b[0mresult\u001b[0m\u001b[1;33m)\u001b[0m\u001b[1;33m\u001b[0m\u001b[1;33m\u001b[0m\u001b[0m\n",
      "\u001b[0m\n",
      "ipdb> next\n",
      "> \u001b[1;32me:\\anaconda\\lib\\site-packages\\ipython\\core\\displayhook.py\u001b[0m(268)\u001b[0;36m__call__\u001b[1;34m()\u001b[0m\n",
      "\u001b[1;32m    267 \u001b[1;33m            \u001b[0mself\u001b[0m\u001b[1;33m.\u001b[0m\u001b[0mwrite_output_prompt\u001b[0m\u001b[1;33m(\u001b[0m\u001b[1;33m)\u001b[0m\u001b[1;33m\u001b[0m\u001b[1;33m\u001b[0m\u001b[0m\n",
      "\u001b[0m\u001b[1;32m--> 268 \u001b[1;33m            \u001b[0mformat_dict\u001b[0m\u001b[1;33m,\u001b[0m \u001b[0mmd_dict\u001b[0m \u001b[1;33m=\u001b[0m \u001b[0mself\u001b[0m\u001b[1;33m.\u001b[0m\u001b[0mcompute_format_data\u001b[0m\u001b[1;33m(\u001b[0m\u001b[0mresult\u001b[0m\u001b[1;33m)\u001b[0m\u001b[1;33m\u001b[0m\u001b[1;33m\u001b[0m\u001b[0m\n",
      "\u001b[0m\u001b[1;32m    269 \u001b[1;33m            \u001b[0mself\u001b[0m\u001b[1;33m.\u001b[0m\u001b[0mupdate_user_ns\u001b[0m\u001b[1;33m(\u001b[0m\u001b[0mresult\u001b[0m\u001b[1;33m)\u001b[0m\u001b[1;33m\u001b[0m\u001b[1;33m\u001b[0m\u001b[0m\n",
      "\u001b[0m\n"
     ]
    },
    {
     "name": "stdout",
     "output_type": "stream",
     "text": [
      "ipdb> next\n",
      "> \u001b[1;32me:\\anaconda\\lib\\site-packages\\ipython\\core\\displayhook.py\u001b[0m(269)\u001b[0;36m__call__\u001b[1;34m()\u001b[0m\n",
      "\u001b[1;32m    268 \u001b[1;33m            \u001b[0mformat_dict\u001b[0m\u001b[1;33m,\u001b[0m \u001b[0mmd_dict\u001b[0m \u001b[1;33m=\u001b[0m \u001b[0mself\u001b[0m\u001b[1;33m.\u001b[0m\u001b[0mcompute_format_data\u001b[0m\u001b[1;33m(\u001b[0m\u001b[0mresult\u001b[0m\u001b[1;33m)\u001b[0m\u001b[1;33m\u001b[0m\u001b[1;33m\u001b[0m\u001b[0m\n",
      "\u001b[0m\u001b[1;32m--> 269 \u001b[1;33m            \u001b[0mself\u001b[0m\u001b[1;33m.\u001b[0m\u001b[0mupdate_user_ns\u001b[0m\u001b[1;33m(\u001b[0m\u001b[0mresult\u001b[0m\u001b[1;33m)\u001b[0m\u001b[1;33m\u001b[0m\u001b[1;33m\u001b[0m\u001b[0m\n",
      "\u001b[0m\u001b[1;32m    270 \u001b[1;33m            \u001b[0mself\u001b[0m\u001b[1;33m.\u001b[0m\u001b[0mfill_exec_result\u001b[0m\u001b[1;33m(\u001b[0m\u001b[0mresult\u001b[0m\u001b[1;33m)\u001b[0m\u001b[1;33m\u001b[0m\u001b[1;33m\u001b[0m\u001b[0m\n",
      "\u001b[0m\n",
      "ipdb> next\n",
      "> \u001b[1;32me:\\anaconda\\lib\\site-packages\\ipython\\core\\displayhook.py\u001b[0m(270)\u001b[0;36m__call__\u001b[1;34m()\u001b[0m\n",
      "\u001b[1;32m    269 \u001b[1;33m            \u001b[0mself\u001b[0m\u001b[1;33m.\u001b[0m\u001b[0mupdate_user_ns\u001b[0m\u001b[1;33m(\u001b[0m\u001b[0mresult\u001b[0m\u001b[1;33m)\u001b[0m\u001b[1;33m\u001b[0m\u001b[1;33m\u001b[0m\u001b[0m\n",
      "\u001b[0m\u001b[1;32m--> 270 \u001b[1;33m            \u001b[0mself\u001b[0m\u001b[1;33m.\u001b[0m\u001b[0mfill_exec_result\u001b[0m\u001b[1;33m(\u001b[0m\u001b[0mresult\u001b[0m\u001b[1;33m)\u001b[0m\u001b[1;33m\u001b[0m\u001b[1;33m\u001b[0m\u001b[0m\n",
      "\u001b[0m\u001b[1;32m    271 \u001b[1;33m            \u001b[1;32mif\u001b[0m \u001b[0mformat_dict\u001b[0m\u001b[1;33m:\u001b[0m\u001b[1;33m\u001b[0m\u001b[1;33m\u001b[0m\u001b[0m\n",
      "\u001b[0m\n",
      "ipdb> next\n",
      "> \u001b[1;32me:\\anaconda\\lib\\site-packages\\ipython\\core\\displayhook.py\u001b[0m(271)\u001b[0;36m__call__\u001b[1;34m()\u001b[0m\n",
      "\u001b[1;32m    270 \u001b[1;33m            \u001b[0mself\u001b[0m\u001b[1;33m.\u001b[0m\u001b[0mfill_exec_result\u001b[0m\u001b[1;33m(\u001b[0m\u001b[0mresult\u001b[0m\u001b[1;33m)\u001b[0m\u001b[1;33m\u001b[0m\u001b[1;33m\u001b[0m\u001b[0m\n",
      "\u001b[0m\u001b[1;32m--> 271 \u001b[1;33m            \u001b[1;32mif\u001b[0m \u001b[0mformat_dict\u001b[0m\u001b[1;33m:\u001b[0m\u001b[1;33m\u001b[0m\u001b[1;33m\u001b[0m\u001b[0m\n",
      "\u001b[0m\u001b[1;32m    272 \u001b[1;33m                \u001b[0mself\u001b[0m\u001b[1;33m.\u001b[0m\u001b[0mwrite_format_data\u001b[0m\u001b[1;33m(\u001b[0m\u001b[0mformat_dict\u001b[0m\u001b[1;33m,\u001b[0m \u001b[0mmd_dict\u001b[0m\u001b[1;33m)\u001b[0m\u001b[1;33m\u001b[0m\u001b[1;33m\u001b[0m\u001b[0m\n",
      "\u001b[0m\n",
      "ipdb> next\n",
      "> \u001b[1;32me:\\anaconda\\lib\\site-packages\\ipython\\core\\displayhook.py\u001b[0m(272)\u001b[0;36m__call__\u001b[1;34m()\u001b[0m\n",
      "\u001b[1;32m    271 \u001b[1;33m            \u001b[1;32mif\u001b[0m \u001b[0mformat_dict\u001b[0m\u001b[1;33m:\u001b[0m\u001b[1;33m\u001b[0m\u001b[1;33m\u001b[0m\u001b[0m\n",
      "\u001b[0m\u001b[1;32m--> 272 \u001b[1;33m                \u001b[0mself\u001b[0m\u001b[1;33m.\u001b[0m\u001b[0mwrite_format_data\u001b[0m\u001b[1;33m(\u001b[0m\u001b[0mformat_dict\u001b[0m\u001b[1;33m,\u001b[0m \u001b[0mmd_dict\u001b[0m\u001b[1;33m)\u001b[0m\u001b[1;33m\u001b[0m\u001b[1;33m\u001b[0m\u001b[0m\n",
      "\u001b[0m\u001b[1;32m    273 \u001b[1;33m                \u001b[0mself\u001b[0m\u001b[1;33m.\u001b[0m\u001b[0mlog_output\u001b[0m\u001b[1;33m(\u001b[0m\u001b[0mformat_dict\u001b[0m\u001b[1;33m)\u001b[0m\u001b[1;33m\u001b[0m\u001b[1;33m\u001b[0m\u001b[0m\n",
      "\u001b[0m\n",
      "ipdb> next\n",
      "> \u001b[1;32me:\\anaconda\\lib\\site-packages\\ipython\\core\\displayhook.py\u001b[0m(273)\u001b[0;36m__call__\u001b[1;34m()\u001b[0m\n",
      "\u001b[1;32m    272 \u001b[1;33m                \u001b[0mself\u001b[0m\u001b[1;33m.\u001b[0m\u001b[0mwrite_format_data\u001b[0m\u001b[1;33m(\u001b[0m\u001b[0mformat_dict\u001b[0m\u001b[1;33m,\u001b[0m \u001b[0mmd_dict\u001b[0m\u001b[1;33m)\u001b[0m\u001b[1;33m\u001b[0m\u001b[1;33m\u001b[0m\u001b[0m\n",
      "\u001b[0m\u001b[1;32m--> 273 \u001b[1;33m                \u001b[0mself\u001b[0m\u001b[1;33m.\u001b[0m\u001b[0mlog_output\u001b[0m\u001b[1;33m(\u001b[0m\u001b[0mformat_dict\u001b[0m\u001b[1;33m)\u001b[0m\u001b[1;33m\u001b[0m\u001b[1;33m\u001b[0m\u001b[0m\n",
      "\u001b[0m\u001b[1;32m    274 \u001b[1;33m            \u001b[0mself\u001b[0m\u001b[1;33m.\u001b[0m\u001b[0mfinish_displayhook\u001b[0m\u001b[1;33m(\u001b[0m\u001b[1;33m)\u001b[0m\u001b[1;33m\u001b[0m\u001b[1;33m\u001b[0m\u001b[0m\n",
      "\u001b[0m\n",
      "ipdb> next\n",
      "> \u001b[1;32me:\\anaconda\\lib\\site-packages\\ipython\\core\\displayhook.py\u001b[0m(274)\u001b[0;36m__call__\u001b[1;34m()\u001b[0m\n",
      "\u001b[1;32m    273 \u001b[1;33m                \u001b[0mself\u001b[0m\u001b[1;33m.\u001b[0m\u001b[0mlog_output\u001b[0m\u001b[1;33m(\u001b[0m\u001b[0mformat_dict\u001b[0m\u001b[1;33m)\u001b[0m\u001b[1;33m\u001b[0m\u001b[1;33m\u001b[0m\u001b[0m\n",
      "\u001b[0m\u001b[1;32m--> 274 \u001b[1;33m            \u001b[0mself\u001b[0m\u001b[1;33m.\u001b[0m\u001b[0mfinish_displayhook\u001b[0m\u001b[1;33m(\u001b[0m\u001b[1;33m)\u001b[0m\u001b[1;33m\u001b[0m\u001b[1;33m\u001b[0m\u001b[0m\n",
      "\u001b[0m\u001b[1;32m    275 \u001b[1;33m\u001b[1;33m\u001b[0m\u001b[0m\n",
      "\u001b[0m\n",
      "ipdb> next\n"
     ]
    },
    {
     "data": {
      "text/plain": [
       "[0, 1, 2, 3, 4, 5, 6, 7, 8, 9]"
      ]
     },
     "execution_count": 3,
     "metadata": {},
     "output_type": "execute_result"
    },
    {
     "name": "stdout",
     "output_type": "stream",
     "text": [
      "--Return--\n",
      "None\n",
      "> \u001b[1;32me:\\anaconda\\lib\\site-packages\\ipython\\core\\displayhook.py\u001b[0m(274)\u001b[0;36m__call__\u001b[1;34m()\u001b[0m\n",
      "\u001b[1;32m    273 \u001b[1;33m                \u001b[0mself\u001b[0m\u001b[1;33m.\u001b[0m\u001b[0mlog_output\u001b[0m\u001b[1;33m(\u001b[0m\u001b[0mformat_dict\u001b[0m\u001b[1;33m)\u001b[0m\u001b[1;33m\u001b[0m\u001b[1;33m\u001b[0m\u001b[0m\n",
      "\u001b[0m\u001b[1;32m--> 274 \u001b[1;33m            \u001b[0mself\u001b[0m\u001b[1;33m.\u001b[0m\u001b[0mfinish_displayhook\u001b[0m\u001b[1;33m(\u001b[0m\u001b[1;33m)\u001b[0m\u001b[1;33m\u001b[0m\u001b[1;33m\u001b[0m\u001b[0m\n",
      "\u001b[0m\u001b[1;32m    275 \u001b[1;33m\u001b[1;33m\u001b[0m\u001b[0m\n",
      "\u001b[0m\n",
      "ipdb> next\n",
      "--Return--\n",
      "None\n",
      "> \u001b[1;32mc:\\users\\admin\\appdata\\local\\temp\\ipykernel_196256\\3801750879.py\u001b[0m(1)\u001b[0;36m<module>\u001b[1;34m()\u001b[0m\n",
      "\n",
      "ipdb> next\n",
      "\u001b[1;31m    [... skipped 1 hidden frame]\u001b[0m\n",
      "\n",
      "> \u001b[1;32me:\\anaconda\\lib\\site-packages\\ipython\\core\\interactiveshell.py\u001b[0m(3529)\u001b[0;36mrun_code\u001b[1;34m()\u001b[0m\n",
      "\u001b[1;32m   3528 \u001b[1;33m                \u001b[1;31m# Reset our crash handler in place\u001b[0m\u001b[1;33m\u001b[0m\u001b[1;33m\u001b[0m\u001b[0m\n",
      "\u001b[0m\u001b[1;32m-> 3529 \u001b[1;33m                \u001b[0msys\u001b[0m\u001b[1;33m.\u001b[0m\u001b[0mexcepthook\u001b[0m \u001b[1;33m=\u001b[0m \u001b[0mold_excepthook\u001b[0m\u001b[1;33m\u001b[0m\u001b[1;33m\u001b[0m\u001b[0m\n",
      "\u001b[0m\u001b[1;32m   3530 \u001b[1;33m        \u001b[1;32mexcept\u001b[0m \u001b[0mSystemExit\u001b[0m \u001b[1;32mas\u001b[0m \u001b[0me\u001b[0m\u001b[1;33m:\u001b[0m\u001b[1;33m\u001b[0m\u001b[1;33m\u001b[0m\u001b[0m\n",
      "\u001b[0m\n",
      "ipdb> next\n",
      "\u001b[1;31m    [... skipped 1 hidden frame]\u001b[0m\n",
      "\n",
      "> \u001b[1;32me:\\anaconda\\lib\\site-packages\\ipython\\core\\interactiveshell.py\u001b[0m(3550)\u001b[0;36mrun_code\u001b[1;34m()\u001b[0m\n",
      "\u001b[1;32m   3549 \u001b[1;33m        \u001b[1;32melse\u001b[0m\u001b[1;33m:\u001b[0m\u001b[1;33m\u001b[0m\u001b[1;33m\u001b[0m\u001b[0m\n",
      "\u001b[0m\u001b[1;32m-> 3550 \u001b[1;33m            \u001b[0moutflag\u001b[0m \u001b[1;33m=\u001b[0m \u001b[1;32mFalse\u001b[0m\u001b[1;33m\u001b[0m\u001b[1;33m\u001b[0m\u001b[0m\n",
      "\u001b[0m\u001b[1;32m   3551 \u001b[1;33m        \u001b[1;32mreturn\u001b[0m \u001b[0moutflag\u001b[0m\u001b[1;33m\u001b[0m\u001b[1;33m\u001b[0m\u001b[0m\n",
      "\u001b[0m\n",
      "ipdb> next\n",
      "\u001b[1;31m    [... skipped 1 hidden frame]\u001b[0m\n",
      "\n",
      "> \u001b[1;32me:\\anaconda\\lib\\site-packages\\ipython\\core\\interactiveshell.py\u001b[0m(3551)\u001b[0;36mrun_code\u001b[1;34m()\u001b[0m\n",
      "\u001b[1;32m   3550 \u001b[1;33m            \u001b[0moutflag\u001b[0m \u001b[1;33m=\u001b[0m \u001b[1;32mFalse\u001b[0m\u001b[1;33m\u001b[0m\u001b[1;33m\u001b[0m\u001b[0m\n",
      "\u001b[0m\u001b[1;32m-> 3551 \u001b[1;33m        \u001b[1;32mreturn\u001b[0m \u001b[0moutflag\u001b[0m\u001b[1;33m\u001b[0m\u001b[1;33m\u001b[0m\u001b[0m\n",
      "\u001b[0m\u001b[1;32m   3552 \u001b[1;33m\u001b[1;33m\u001b[0m\u001b[0m\n",
      "\u001b[0m\n",
      "ipdb> next\n",
      "\u001b[1;31m    [... skipped 1 hidden frame]\u001b[0m\n",
      "\n",
      "StopIteration: <ExecutionResult object at 14c3e66e650, execution_count=3 error_before_exec=None error_in_exec=None info=<ExecutionInfo object at 14c3e6b0dd0, raw_cell=\"testdebug()\" store_history=True silent=False shell_futures=True cell_id=None> result=[0, 1, 2, 3, 4, 5, 6, 7, 8, 9]>\n",
      "> \u001b[1;32me:\\anaconda\\lib\\site-packages\\ipython\\core\\async_helpers.py\u001b[0m(129)\u001b[0;36m_pseudo_sync_runner\u001b[1;34m()\u001b[0m\n",
      "\u001b[1;32m    128 \u001b[1;33m    \u001b[1;32mtry\u001b[0m\u001b[1;33m:\u001b[0m\u001b[1;33m\u001b[0m\u001b[1;33m\u001b[0m\u001b[0m\n",
      "\u001b[0m\u001b[1;32m--> 129 \u001b[1;33m        \u001b[0mcoro\u001b[0m\u001b[1;33m.\u001b[0m\u001b[0msend\u001b[0m\u001b[1;33m(\u001b[0m\u001b[1;32mNone\u001b[0m\u001b[1;33m)\u001b[0m\u001b[1;33m\u001b[0m\u001b[1;33m\u001b[0m\u001b[0m\n",
      "\u001b[0m\u001b[1;32m    130 \u001b[1;33m    \u001b[1;32mexcept\u001b[0m \u001b[0mStopIteration\u001b[0m \u001b[1;32mas\u001b[0m \u001b[0mexc\u001b[0m\u001b[1;33m:\u001b[0m\u001b[1;33m\u001b[0m\u001b[1;33m\u001b[0m\u001b[0m\n",
      "\u001b[0m\n",
      "ipdb> next\n",
      "> \u001b[1;32me:\\anaconda\\lib\\site-packages\\ipython\\core\\async_helpers.py\u001b[0m(130)\u001b[0;36m_pseudo_sync_runner\u001b[1;34m()\u001b[0m\n",
      "\u001b[1;32m    129 \u001b[1;33m        \u001b[0mcoro\u001b[0m\u001b[1;33m.\u001b[0m\u001b[0msend\u001b[0m\u001b[1;33m(\u001b[0m\u001b[1;32mNone\u001b[0m\u001b[1;33m)\u001b[0m\u001b[1;33m\u001b[0m\u001b[1;33m\u001b[0m\u001b[0m\n",
      "\u001b[0m\u001b[1;32m--> 130 \u001b[1;33m    \u001b[1;32mexcept\u001b[0m \u001b[0mStopIteration\u001b[0m \u001b[1;32mas\u001b[0m \u001b[0mexc\u001b[0m\u001b[1;33m:\u001b[0m\u001b[1;33m\u001b[0m\u001b[1;33m\u001b[0m\u001b[0m\n",
      "\u001b[0m\u001b[1;32m    131 \u001b[1;33m        \u001b[1;32mreturn\u001b[0m \u001b[0mexc\u001b[0m\u001b[1;33m.\u001b[0m\u001b[0mvalue\u001b[0m\u001b[1;33m\u001b[0m\u001b[1;33m\u001b[0m\u001b[0m\n",
      "\u001b[0m\n",
      "ipdb> next\n",
      "> \u001b[1;32me:\\anaconda\\lib\\site-packages\\ipython\\core\\async_helpers.py\u001b[0m(131)\u001b[0;36m_pseudo_sync_runner\u001b[1;34m()\u001b[0m\n",
      "\u001b[1;32m    130 \u001b[1;33m    \u001b[1;32mexcept\u001b[0m \u001b[0mStopIteration\u001b[0m \u001b[1;32mas\u001b[0m \u001b[0mexc\u001b[0m\u001b[1;33m:\u001b[0m\u001b[1;33m\u001b[0m\u001b[1;33m\u001b[0m\u001b[0m\n",
      "\u001b[0m\u001b[1;32m--> 131 \u001b[1;33m        \u001b[1;32mreturn\u001b[0m \u001b[0mexc\u001b[0m\u001b[1;33m.\u001b[0m\u001b[0mvalue\u001b[0m\u001b[1;33m\u001b[0m\u001b[1;33m\u001b[0m\u001b[0m\n",
      "\u001b[0m\u001b[1;32m    132 \u001b[1;33m    \u001b[1;32melse\u001b[0m\u001b[1;33m:\u001b[0m\u001b[1;33m\u001b[0m\u001b[1;33m\u001b[0m\u001b[0m\n",
      "\u001b[0m\n",
      "ipdb> next\n",
      "--Return--\n",
      "<ExecutionRes..., 6, 7, 8, 9]>\n",
      "> \u001b[1;32me:\\anaconda\\lib\\site-packages\\ipython\\core\\async_helpers.py\u001b[0m(131)\u001b[0;36m_pseudo_sync_runner\u001b[1;34m()\u001b[0m\n",
      "\u001b[1;32m    130 \u001b[1;33m    \u001b[1;32mexcept\u001b[0m \u001b[0mStopIteration\u001b[0m \u001b[1;32mas\u001b[0m \u001b[0mexc\u001b[0m\u001b[1;33m:\u001b[0m\u001b[1;33m\u001b[0m\u001b[1;33m\u001b[0m\u001b[0m\n",
      "\u001b[0m\u001b[1;32m--> 131 \u001b[1;33m        \u001b[1;32mreturn\u001b[0m \u001b[0mexc\u001b[0m\u001b[1;33m.\u001b[0m\u001b[0mvalue\u001b[0m\u001b[1;33m\u001b[0m\u001b[1;33m\u001b[0m\u001b[0m\n",
      "\u001b[0m\u001b[1;32m    132 \u001b[1;33m    \u001b[1;32melse\u001b[0m\u001b[1;33m:\u001b[0m\u001b[1;33m\u001b[0m\u001b[1;33m\u001b[0m\u001b[0m\n",
      "\u001b[0m\n",
      "ipdb> next\n",
      "> \u001b[1;32me:\\anaconda\\lib\\site-packages\\ipython\\core\\interactiveshell.py\u001b[0m(3088)\u001b[0;36m_run_cell\u001b[1;34m()\u001b[0m\n",
      "\u001b[1;32m   3087 \u001b[1;33m        \u001b[1;32mfinally\u001b[0m\u001b[1;33m:\u001b[0m\u001b[1;33m\u001b[0m\u001b[1;33m\u001b[0m\u001b[0m\n",
      "\u001b[0m\u001b[1;32m-> 3088 \u001b[1;33m            \u001b[1;32mreturn\u001b[0m \u001b[0mresult\u001b[0m\u001b[1;33m\u001b[0m\u001b[1;33m\u001b[0m\u001b[0m\n",
      "\u001b[0m\u001b[1;32m   3089 \u001b[1;33m\u001b[1;33m\u001b[0m\u001b[0m\n",
      "\u001b[0m\n",
      "ipdb> next\n",
      "--Return--\n",
      "<ExecutionRes..., 6, 7, 8, 9]>\n",
      "> \u001b[1;32me:\\anaconda\\lib\\site-packages\\ipython\\core\\interactiveshell.py\u001b[0m(3088)\u001b[0;36m_run_cell\u001b[1;34m()\u001b[0m\n",
      "\u001b[1;32m   3087 \u001b[1;33m        \u001b[1;32mfinally\u001b[0m\u001b[1;33m:\u001b[0m\u001b[1;33m\u001b[0m\u001b[1;33m\u001b[0m\u001b[0m\n",
      "\u001b[0m\u001b[1;32m-> 3088 \u001b[1;33m            \u001b[1;32mreturn\u001b[0m \u001b[0mresult\u001b[0m\u001b[1;33m\u001b[0m\u001b[1;33m\u001b[0m\u001b[0m\n",
      "\u001b[0m\u001b[1;32m   3089 \u001b[1;33m\u001b[1;33m\u001b[0m\u001b[0m\n",
      "\u001b[0m\n",
      "ipdb> next\n",
      "> \u001b[1;32me:\\anaconda\\lib\\site-packages\\ipython\\core\\interactiveshell.py\u001b[0m(3028)\u001b[0;36mrun_cell\u001b[1;34m()\u001b[0m\n",
      "\u001b[1;32m   3027 \u001b[1;33m        \u001b[1;32mfinally\u001b[0m\u001b[1;33m:\u001b[0m\u001b[1;33m\u001b[0m\u001b[1;33m\u001b[0m\u001b[0m\n",
      "\u001b[0m\u001b[1;32m-> 3028 \u001b[1;33m            \u001b[0mself\u001b[0m\u001b[1;33m.\u001b[0m\u001b[0mevents\u001b[0m\u001b[1;33m.\u001b[0m\u001b[0mtrigger\u001b[0m\u001b[1;33m(\u001b[0m\u001b[1;34m'post_execute'\u001b[0m\u001b[1;33m)\u001b[0m\u001b[1;33m\u001b[0m\u001b[1;33m\u001b[0m\u001b[0m\n",
      "\u001b[0m\u001b[1;32m   3029 \u001b[1;33m            \u001b[1;32mif\u001b[0m \u001b[1;32mnot\u001b[0m \u001b[0msilent\u001b[0m\u001b[1;33m:\u001b[0m\u001b[1;33m\u001b[0m\u001b[1;33m\u001b[0m\u001b[0m\n",
      "\u001b[0m\n"
     ]
    }
   ],
   "source": [
    "testdebug()"
   ]
  },
  {
   "cell_type": "code",
   "execution_count": 4,
   "id": "3ce904dd",
   "metadata": {
    "collapsed": true
   },
   "outputs": [
    {
     "name": "stdout",
     "output_type": "stream",
     "text": [
      "> \u001b[1;32mc:\\users\\admin\\appdata\\local\\temp\\ipykernel_154304\\2650125856.py\u001b[0m(3)\u001b[0;36mtestdebug\u001b[1;34m()\u001b[0m\n",
      "\n",
      "ipdb> next\n",
      "> \u001b[1;32mc:\\users\\admin\\appdata\\local\\temp\\ipykernel_154304\\2650125856.py\u001b[0m(4)\u001b[0;36mtestdebug\u001b[1;34m()\u001b[0m\n",
      "\n",
      "ipdb> next\n",
      "> \u001b[1;32mc:\\users\\admin\\appdata\\local\\temp\\ipykernel_154304\\2650125856.py\u001b[0m(5)\u001b[0;36mtestdebug\u001b[1;34m()\u001b[0m\n",
      "\n",
      "ipdb> next\n",
      "> \u001b[1;32mc:\\users\\admin\\appdata\\local\\temp\\ipykernel_154304\\2650125856.py\u001b[0m(6)\u001b[0;36mtestdebug\u001b[1;34m()\u001b[0m\n",
      "\n",
      "ipdb> i\n",
      "0\n",
      "ipdb> next\n",
      "We can append your data in list\n",
      "> \u001b[1;32mc:\\users\\admin\\appdata\\local\\temp\\ipykernel_154304\\2650125856.py\u001b[0m(4)\u001b[0;36mtestdebug\u001b[1;34m()\u001b[0m\n",
      "\n",
      "ipdb> i\n",
      "0\n",
      "ipdb> l\n",
      "\u001b[0;32m      1 \u001b[0m\u001b[1;32mdef\u001b[0m \u001b[0mtestdebug\u001b[0m\u001b[1;33m(\u001b[0m\u001b[1;33m)\u001b[0m\u001b[1;33m:\u001b[0m\u001b[1;33m\u001b[0m\u001b[1;33m\u001b[0m\u001b[0m\n",
      "\u001b[0;32m      2 \u001b[0m    \u001b[0mipdb\u001b[0m\u001b[1;33m.\u001b[0m\u001b[0mset_trace\u001b[0m\u001b[1;33m(\u001b[0m\u001b[1;33m)\u001b[0m\u001b[1;33m\u001b[0m\u001b[1;33m\u001b[0m\u001b[0m\n",
      "\u001b[0;32m      3 \u001b[0m    \u001b[0ml\u001b[0m \u001b[1;33m=\u001b[0m \u001b[1;33m[\u001b[0m\u001b[1;33m]\u001b[0m\u001b[1;33m\u001b[0m\u001b[1;33m\u001b[0m\u001b[0m\n",
      "\u001b[1;32m----> 4 \u001b[1;33m    \u001b[1;32mfor\u001b[0m \u001b[0mi\u001b[0m \u001b[1;32min\u001b[0m \u001b[0mrange\u001b[0m\u001b[1;33m(\u001b[0m\u001b[1;36m10\u001b[0m\u001b[1;33m)\u001b[0m\u001b[1;33m:\u001b[0m\u001b[1;33m\u001b[0m\u001b[1;33m\u001b[0m\u001b[0m\n",
      "\u001b[0m\u001b[0;32m      5 \u001b[0m        \u001b[0ml\u001b[0m\u001b[1;33m.\u001b[0m\u001b[0mappend\u001b[0m\u001b[1;33m(\u001b[0m\u001b[0mi\u001b[0m\u001b[1;33m)\u001b[0m\u001b[1;33m\u001b[0m\u001b[1;33m\u001b[0m\u001b[0m\n",
      "\u001b[0;32m      6 \u001b[0m        \u001b[0mprint\u001b[0m\u001b[1;33m(\u001b[0m\u001b[1;34m\"We can append your data in list\"\u001b[0m\u001b[1;33m)\u001b[0m\u001b[1;33m\u001b[0m\u001b[1;33m\u001b[0m\u001b[0m\n",
      "\u001b[0;32m      7 \u001b[0m    \u001b[1;32mreturn\u001b[0m \u001b[0ml\u001b[0m\u001b[1;33m\u001b[0m\u001b[1;33m\u001b[0m\u001b[0m\n",
      "\n",
      "ipdb> next\n",
      "> \u001b[1;32mc:\\users\\admin\\appdata\\local\\temp\\ipykernel_154304\\2650125856.py\u001b[0m(5)\u001b[0;36mtestdebug\u001b[1;34m()\u001b[0m\n",
      "\n",
      "ipdb> l\n",
      "\u001b[0;32m      1 \u001b[0m\u001b[1;32mdef\u001b[0m \u001b[0mtestdebug\u001b[0m\u001b[1;33m(\u001b[0m\u001b[1;33m)\u001b[0m\u001b[1;33m:\u001b[0m\u001b[1;33m\u001b[0m\u001b[1;33m\u001b[0m\u001b[0m\n",
      "\u001b[0;32m      2 \u001b[0m    \u001b[0mipdb\u001b[0m\u001b[1;33m.\u001b[0m\u001b[0mset_trace\u001b[0m\u001b[1;33m(\u001b[0m\u001b[1;33m)\u001b[0m\u001b[1;33m\u001b[0m\u001b[1;33m\u001b[0m\u001b[0m\n",
      "\u001b[0;32m      3 \u001b[0m    \u001b[0ml\u001b[0m \u001b[1;33m=\u001b[0m \u001b[1;33m[\u001b[0m\u001b[1;33m]\u001b[0m\u001b[1;33m\u001b[0m\u001b[1;33m\u001b[0m\u001b[0m\n",
      "\u001b[0;32m      4 \u001b[0m    \u001b[1;32mfor\u001b[0m \u001b[0mi\u001b[0m \u001b[1;32min\u001b[0m \u001b[0mrange\u001b[0m\u001b[1;33m(\u001b[0m\u001b[1;36m10\u001b[0m\u001b[1;33m)\u001b[0m\u001b[1;33m:\u001b[0m\u001b[1;33m\u001b[0m\u001b[1;33m\u001b[0m\u001b[0m\n",
      "\u001b[1;32m----> 5 \u001b[1;33m        \u001b[0ml\u001b[0m\u001b[1;33m.\u001b[0m\u001b[0mappend\u001b[0m\u001b[1;33m(\u001b[0m\u001b[0mi\u001b[0m\u001b[1;33m)\u001b[0m\u001b[1;33m\u001b[0m\u001b[1;33m\u001b[0m\u001b[0m\n",
      "\u001b[0m\u001b[0;32m      6 \u001b[0m        \u001b[0mprint\u001b[0m\u001b[1;33m(\u001b[0m\u001b[1;34m\"We can append your data in list\"\u001b[0m\u001b[1;33m)\u001b[0m\u001b[1;33m\u001b[0m\u001b[1;33m\u001b[0m\u001b[0m\n",
      "\u001b[0;32m      7 \u001b[0m    \u001b[1;32mreturn\u001b[0m \u001b[0ml\u001b[0m\u001b[1;33m\u001b[0m\u001b[1;33m\u001b[0m\u001b[0m\n",
      "\n",
      "ipdb> l\n",
      "\n",
      "ipdb> l\n",
      "\n",
      "ipdb> next\n",
      "> \u001b[1;32mc:\\users\\admin\\appdata\\local\\temp\\ipykernel_154304\\2650125856.py\u001b[0m(6)\u001b[0;36mtestdebug\u001b[1;34m()\u001b[0m\n",
      "\n",
      "ipdb> l\n",
      "\u001b[0;32m      1 \u001b[0m\u001b[1;32mdef\u001b[0m \u001b[0mtestdebug\u001b[0m\u001b[1;33m(\u001b[0m\u001b[1;33m)\u001b[0m\u001b[1;33m:\u001b[0m\u001b[1;33m\u001b[0m\u001b[1;33m\u001b[0m\u001b[0m\n",
      "\u001b[0;32m      2 \u001b[0m    \u001b[0mipdb\u001b[0m\u001b[1;33m.\u001b[0m\u001b[0mset_trace\u001b[0m\u001b[1;33m(\u001b[0m\u001b[1;33m)\u001b[0m\u001b[1;33m\u001b[0m\u001b[1;33m\u001b[0m\u001b[0m\n",
      "\u001b[0;32m      3 \u001b[0m    \u001b[0ml\u001b[0m \u001b[1;33m=\u001b[0m \u001b[1;33m[\u001b[0m\u001b[1;33m]\u001b[0m\u001b[1;33m\u001b[0m\u001b[1;33m\u001b[0m\u001b[0m\n",
      "\u001b[0;32m      4 \u001b[0m    \u001b[1;32mfor\u001b[0m \u001b[0mi\u001b[0m \u001b[1;32min\u001b[0m \u001b[0mrange\u001b[0m\u001b[1;33m(\u001b[0m\u001b[1;36m10\u001b[0m\u001b[1;33m)\u001b[0m\u001b[1;33m:\u001b[0m\u001b[1;33m\u001b[0m\u001b[1;33m\u001b[0m\u001b[0m\n",
      "\u001b[0;32m      5 \u001b[0m        \u001b[0ml\u001b[0m\u001b[1;33m.\u001b[0m\u001b[0mappend\u001b[0m\u001b[1;33m(\u001b[0m\u001b[0mi\u001b[0m\u001b[1;33m)\u001b[0m\u001b[1;33m\u001b[0m\u001b[1;33m\u001b[0m\u001b[0m\n",
      "\u001b[1;32m----> 6 \u001b[1;33m        \u001b[0mprint\u001b[0m\u001b[1;33m(\u001b[0m\u001b[1;34m\"We can append your data in list\"\u001b[0m\u001b[1;33m)\u001b[0m\u001b[1;33m\u001b[0m\u001b[1;33m\u001b[0m\u001b[0m\n",
      "\u001b[0m\u001b[0;32m      7 \u001b[0m    \u001b[1;32mreturn\u001b[0m \u001b[0ml\u001b[0m\u001b[1;33m\u001b[0m\u001b[1;33m\u001b[0m\u001b[0m\n",
      "\n",
      "ipdb> next\n",
      "We can append your data in list\n",
      "> \u001b[1;32mc:\\users\\admin\\appdata\\local\\temp\\ipykernel_154304\\2650125856.py\u001b[0m(4)\u001b[0;36mtestdebug\u001b[1;34m()\u001b[0m\n",
      "\n",
      "ipdb> l\n",
      "\u001b[0;32m      1 \u001b[0m\u001b[1;32mdef\u001b[0m \u001b[0mtestdebug\u001b[0m\u001b[1;33m(\u001b[0m\u001b[1;33m)\u001b[0m\u001b[1;33m:\u001b[0m\u001b[1;33m\u001b[0m\u001b[1;33m\u001b[0m\u001b[0m\n",
      "\u001b[0;32m      2 \u001b[0m    \u001b[0mipdb\u001b[0m\u001b[1;33m.\u001b[0m\u001b[0mset_trace\u001b[0m\u001b[1;33m(\u001b[0m\u001b[1;33m)\u001b[0m\u001b[1;33m\u001b[0m\u001b[1;33m\u001b[0m\u001b[0m\n",
      "\u001b[0;32m      3 \u001b[0m    \u001b[0ml\u001b[0m \u001b[1;33m=\u001b[0m \u001b[1;33m[\u001b[0m\u001b[1;33m]\u001b[0m\u001b[1;33m\u001b[0m\u001b[1;33m\u001b[0m\u001b[0m\n",
      "\u001b[1;32m----> 4 \u001b[1;33m    \u001b[1;32mfor\u001b[0m \u001b[0mi\u001b[0m \u001b[1;32min\u001b[0m \u001b[0mrange\u001b[0m\u001b[1;33m(\u001b[0m\u001b[1;36m10\u001b[0m\u001b[1;33m)\u001b[0m\u001b[1;33m:\u001b[0m\u001b[1;33m\u001b[0m\u001b[1;33m\u001b[0m\u001b[0m\n",
      "\u001b[0m\u001b[0;32m      5 \u001b[0m        \u001b[0ml\u001b[0m\u001b[1;33m.\u001b[0m\u001b[0mappend\u001b[0m\u001b[1;33m(\u001b[0m\u001b[0mi\u001b[0m\u001b[1;33m)\u001b[0m\u001b[1;33m\u001b[0m\u001b[1;33m\u001b[0m\u001b[0m\n",
      "\u001b[0;32m      6 \u001b[0m        \u001b[0mprint\u001b[0m\u001b[1;33m(\u001b[0m\u001b[1;34m\"We can append your data in list\"\u001b[0m\u001b[1;33m)\u001b[0m\u001b[1;33m\u001b[0m\u001b[1;33m\u001b[0m\u001b[0m\n",
      "\u001b[0;32m      7 \u001b[0m    \u001b[1;32mreturn\u001b[0m \u001b[0ml\u001b[0m\u001b[1;33m\u001b[0m\u001b[1;33m\u001b[0m\u001b[0m\n",
      "\n",
      "ipdb> h\n",
      "\n",
      "Documented commands (type help <topic>):\n",
      "========================================\n",
      "EOF    commands   enable      list      pinfo2   rv               unt   \n",
      "a      condition  exceptions  ll        pp       s                until \n",
      "alias  cont       exit        longlist  psource  skip_hidden      up    \n",
      "args   context    h           n         q        skip_predicates  w     \n",
      "b      continue   help        next      quit     source           whatis\n",
      "break  d          ignore      p         r        step             where \n",
      "bt     debug      interact    pdef      restart  tbreak         \n",
      "c      disable    j           pdoc      return   u              \n",
      "cl     display    jump        pfile     retval   unalias        \n",
      "clear  down       l           pinfo     run      undisplay      \n",
      "\n",
      "Miscellaneous help topics:\n",
      "==========================\n",
      "exec  pdb\n",
      "\n",
      "ipdb> c\n",
      "We can append your data in list\n",
      "We can append your data in list\n",
      "We can append your data in list\n",
      "We can append your data in list\n",
      "We can append your data in list\n",
      "We can append your data in list\n",
      "We can append your data in list\n",
      "We can append your data in list\n"
     ]
    },
    {
     "data": {
      "text/plain": [
       "[0, 1, 2, 3, 4, 5, 6, 7, 8, 9]"
      ]
     },
     "execution_count": 4,
     "metadata": {},
     "output_type": "execute_result"
    }
   ],
   "source": [
    "testdebug()"
   ]
  },
  {
   "cell_type": "code",
   "execution_count": 5,
   "id": "3b50c3b0",
   "metadata": {},
   "outputs": [],
   "source": [
    "def testdebug():\n",
    "    ipdb.set_trace()\n",
    "    l = []\n",
    "    for i in range(10):\n",
    "        for j in range(5):\n",
    "            l.append(i)\n",
    "            if i == 4:\n",
    "                continue\n",
    "            print(\"We can append your data in list\")\n",
    "    return l"
   ]
  },
  {
   "cell_type": "code",
   "execution_count": null,
   "id": "fba81f8b",
   "metadata": {},
   "outputs": [
    {
     "name": "stdout",
     "output_type": "stream",
     "text": [
      "> \u001b[1;32mc:\\users\\admin\\appdata\\local\\temp\\ipykernel_154304\\97504757.py\u001b[0m(3)\u001b[0;36mtestdebug\u001b[1;34m()\u001b[0m\n",
      "\n",
      "ipdb> next\n",
      "> \u001b[1;32mc:\\users\\admin\\appdata\\local\\temp\\ipykernel_154304\\97504757.py\u001b[0m(4)\u001b[0;36mtestdebug\u001b[1;34m()\u001b[0m\n",
      "\n",
      "ipdb> l\n",
      "\u001b[0;32m      1 \u001b[0m\u001b[1;32mdef\u001b[0m \u001b[0mtestdebug\u001b[0m\u001b[1;33m(\u001b[0m\u001b[1;33m)\u001b[0m\u001b[1;33m:\u001b[0m\u001b[1;33m\u001b[0m\u001b[1;33m\u001b[0m\u001b[0m\n",
      "\u001b[0;32m      2 \u001b[0m    \u001b[0mipdb\u001b[0m\u001b[1;33m.\u001b[0m\u001b[0mset_trace\u001b[0m\u001b[1;33m(\u001b[0m\u001b[1;33m)\u001b[0m\u001b[1;33m\u001b[0m\u001b[1;33m\u001b[0m\u001b[0m\n",
      "\u001b[0;32m      3 \u001b[0m    \u001b[0ml\u001b[0m \u001b[1;33m=\u001b[0m \u001b[1;33m[\u001b[0m\u001b[1;33m]\u001b[0m\u001b[1;33m\u001b[0m\u001b[1;33m\u001b[0m\u001b[0m\n",
      "\u001b[1;32m----> 4 \u001b[1;33m    \u001b[1;32mfor\u001b[0m \u001b[0mi\u001b[0m \u001b[1;32min\u001b[0m \u001b[0mrange\u001b[0m\u001b[1;33m(\u001b[0m\u001b[1;36m10\u001b[0m\u001b[1;33m)\u001b[0m\u001b[1;33m:\u001b[0m\u001b[1;33m\u001b[0m\u001b[1;33m\u001b[0m\u001b[0m\n",
      "\u001b[0m\u001b[0;32m      5 \u001b[0m        \u001b[1;32mfor\u001b[0m \u001b[0mj\u001b[0m \u001b[1;32min\u001b[0m \u001b[0mrange\u001b[0m\u001b[1;33m(\u001b[0m\u001b[1;36m5\u001b[0m\u001b[1;33m)\u001b[0m\u001b[1;33m:\u001b[0m\u001b[1;33m\u001b[0m\u001b[1;33m\u001b[0m\u001b[0m\n",
      "\u001b[0;32m      6 \u001b[0m            \u001b[0ml\u001b[0m\u001b[1;33m.\u001b[0m\u001b[0mappend\u001b[0m\u001b[1;33m(\u001b[0m\u001b[0mi\u001b[0m\u001b[1;33m)\u001b[0m\u001b[1;33m\u001b[0m\u001b[1;33m\u001b[0m\u001b[0m\n",
      "\u001b[0;32m      7 \u001b[0m            \u001b[1;32mif\u001b[0m \u001b[0mi\u001b[0m \u001b[1;33m==\u001b[0m \u001b[1;36m4\u001b[0m\u001b[1;33m:\u001b[0m\u001b[1;33m\u001b[0m\u001b[1;33m\u001b[0m\u001b[0m\n",
      "\u001b[0;32m      8 \u001b[0m                \u001b[1;32mcontinue\u001b[0m\u001b[1;33m\u001b[0m\u001b[1;33m\u001b[0m\u001b[0m\n",
      "\u001b[0;32m      9 \u001b[0m            \u001b[0mprint\u001b[0m\u001b[1;33m(\u001b[0m\u001b[1;34m\"We can append your data in list\"\u001b[0m\u001b[1;33m)\u001b[0m\u001b[1;33m\u001b[0m\u001b[1;33m\u001b[0m\u001b[0m\n",
      "\u001b[0;32m     10 \u001b[0m    \u001b[1;32mreturn\u001b[0m \u001b[0ml\u001b[0m\u001b[1;33m\u001b[0m\u001b[1;33m\u001b[0m\u001b[0m\n",
      "\n",
      "ipdb> n\n",
      "> \u001b[1;32mc:\\users\\admin\\appdata\\local\\temp\\ipykernel_154304\\97504757.py\u001b[0m(5)\u001b[0;36mtestdebug\u001b[1;34m()\u001b[0m\n",
      "\n",
      "ipdb> help\n",
      "\n",
      "Documented commands (type help <topic>):\n",
      "========================================\n",
      "EOF    commands   enable      list      pinfo2   rv               unt   \n",
      "a      condition  exceptions  ll        pp       s                until \n",
      "alias  cont       exit        longlist  psource  skip_hidden      up    \n",
      "args   context    h           n         q        skip_predicates  w     \n",
      "b      continue   help        next      quit     source           whatis\n",
      "break  d          ignore      p         r        step             where \n",
      "bt     debug      interact    pdef      restart  tbreak         \n",
      "c      disable    j           pdoc      return   u              \n",
      "cl     display    jump        pfile     retval   unalias        \n",
      "clear  down       l           pinfo     run      undisplay      \n",
      "\n",
      "Miscellaneous help topics:\n",
      "==========================\n",
      "exec  pdb\n",
      "\n"
     ]
    }
   ],
   "source": [
    "testdebug()"
   ]
  },
  {
   "cell_type": "markdown",
   "id": "8b093220",
   "metadata": {},
   "source": [
    "## Challenge\n",
    "\n",
    "develop a desktop app using tkinter"
   ]
  },
  {
   "cell_type": "code",
   "execution_count": null,
   "id": "5d60b5af",
   "metadata": {},
   "outputs": [],
   "source": []
  }
 ],
 "metadata": {
  "kernelspec": {
   "display_name": "Python 3 (ipykernel)",
   "language": "python",
   "name": "python3"
  },
  "language_info": {
   "codemirror_mode": {
    "name": "ipython",
    "version": 3
   },
   "file_extension": ".py",
   "mimetype": "text/x-python",
   "name": "python",
   "nbconvert_exporter": "python",
   "pygments_lexer": "ipython3",
   "version": "3.11.5"
  }
 },
 "nbformat": 4,
 "nbformat_minor": 5
}
