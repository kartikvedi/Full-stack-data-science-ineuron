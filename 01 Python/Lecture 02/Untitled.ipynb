{
 "cells": [
  {
   "cell_type": "markdown",
   "id": "9612c63f",
   "metadata": {},
   "source": [
    "### Lecture 05"
   ]
  },
  {
   "cell_type": "code",
   "execution_count": 1,
   "id": "80a42b0b",
   "metadata": {},
   "outputs": [
    {
     "name": "stdout",
     "output_type": "stream",
     "text": [
      "Hello World!\n"
     ]
    }
   ],
   "source": [
    "print(\"Hello World!\")"
   ]
  },
  {
   "cell_type": "code",
   "execution_count": 2,
   "id": "40a93340",
   "metadata": {},
   "outputs": [
    {
     "name": "stdout",
     "output_type": "stream",
     "text": [
      "Hello World!\n"
     ]
    }
   ],
   "source": [
    "print('Hello World!')"
   ]
  },
  {
   "cell_type": "code",
   "execution_count": 4,
   "id": "ecfffcbe",
   "metadata": {},
   "outputs": [
    {
     "name": "stdout",
     "output_type": "stream",
     "text": [
      "This is my first Program\n"
     ]
    }
   ],
   "source": [
    "print(\"This is my first Program\")"
   ]
  },
  {
   "cell_type": "markdown",
   "id": "53687d10",
   "metadata": {},
   "source": [
    "#### Variables"
   ]
  },
  {
   "cell_type": "code",
   "execution_count": 5,
   "id": "85fb1325",
   "metadata": {},
   "outputs": [],
   "source": [
    "a = 10"
   ]
  },
  {
   "cell_type": "code",
   "execution_count": 6,
   "id": "9c90ba13",
   "metadata": {},
   "outputs": [
    {
     "data": {
      "text/plain": [
       "10"
      ]
     },
     "execution_count": 6,
     "metadata": {},
     "output_type": "execute_result"
    }
   ],
   "source": [
    "a"
   ]
  },
  {
   "cell_type": "code",
   "execution_count": 7,
   "id": "d00b3a18",
   "metadata": {},
   "outputs": [
    {
     "data": {
      "text/plain": [
       "int"
      ]
     },
     "execution_count": 7,
     "metadata": {},
     "output_type": "execute_result"
    }
   ],
   "source": [
    "type(a)"
   ]
  },
  {
   "cell_type": "code",
   "execution_count": 8,
   "id": "8aa14737",
   "metadata": {},
   "outputs": [],
   "source": [
    "b = \"vithu\""
   ]
  },
  {
   "cell_type": "code",
   "execution_count": 9,
   "id": "73be8c00",
   "metadata": {},
   "outputs": [
    {
     "data": {
      "text/plain": [
       "str"
      ]
     },
     "execution_count": 9,
     "metadata": {},
     "output_type": "execute_result"
    }
   ],
   "source": [
    "type(b)"
   ]
  },
  {
   "cell_type": "code",
   "execution_count": 14,
   "id": "6055ee40",
   "metadata": {},
   "outputs": [
    {
     "name": "stdout",
     "output_type": "stream",
     "text": [
      "vithu 10\n"
     ]
    }
   ],
   "source": [
    "print(b, a)"
   ]
  },
  {
   "cell_type": "code",
   "execution_count": 16,
   "id": "d38d87d9",
   "metadata": {},
   "outputs": [
    {
     "name": "stdout",
     "output_type": "stream",
     "text": [
      "vithu           10\n"
     ]
    }
   ],
   "source": [
    "print(b, a, sep = \"           \")"
   ]
  },
  {
   "cell_type": "code",
   "execution_count": 17,
   "id": "f556fd65",
   "metadata": {},
   "outputs": [],
   "source": [
    "a = 45\n",
    "b = \"vithu\""
   ]
  },
  {
   "cell_type": "code",
   "execution_count": 18,
   "id": "08415981",
   "metadata": {},
   "outputs": [],
   "source": [
    "a, b = 45, \"vithu\""
   ]
  },
  {
   "cell_type": "code",
   "execution_count": 22,
   "id": "e923b378",
   "metadata": {},
   "outputs": [
    {
     "data": {
      "text/plain": [
       "(45, 'vithu')"
      ]
     },
     "execution_count": 22,
     "metadata": {},
     "output_type": "execute_result"
    }
   ],
   "source": [
    "a, b"
   ]
  },
  {
   "cell_type": "code",
   "execution_count": 23,
   "id": "6dc71696",
   "metadata": {},
   "outputs": [
    {
     "ename": "SyntaxError",
     "evalue": "invalid decimal literal (3179799289.py, line 1)",
     "output_type": "error",
     "traceback": [
      "\u001b[1;36m  Cell \u001b[1;32mIn[23], line 1\u001b[1;36m\u001b[0m\n\u001b[1;33m    2b = 20\u001b[0m\n\u001b[1;37m    ^\u001b[0m\n\u001b[1;31mSyntaxError\u001b[0m\u001b[1;31m:\u001b[0m invalid decimal literal\n"
     ]
    }
   ],
   "source": [
    "2b = 20"
   ]
  },
  {
   "cell_type": "code",
   "execution_count": 24,
   "id": "a72d59d5",
   "metadata": {},
   "outputs": [],
   "source": [
    "_b = \"vithu\""
   ]
  },
  {
   "cell_type": "code",
   "execution_count": 25,
   "id": "d9ae6035",
   "metadata": {},
   "outputs": [
    {
     "data": {
      "text/plain": [
       "'vithu'"
      ]
     },
     "execution_count": 25,
     "metadata": {},
     "output_type": "execute_result"
    }
   ],
   "source": [
    "_b"
   ]
  },
  {
   "cell_type": "code",
   "execution_count": 26,
   "id": "79e613b9",
   "metadata": {},
   "outputs": [
    {
     "ename": "SyntaxError",
     "evalue": "invalid syntax (1473570635.py, line 1)",
     "output_type": "error",
     "traceback": [
      "\u001b[1;36m  Cell \u001b[1;32mIn[26], line 1\u001b[1;36m\u001b[0m\n\u001b[1;33m    b& = \"test\"\u001b[0m\n\u001b[1;37m       ^\u001b[0m\n\u001b[1;31mSyntaxError\u001b[0m\u001b[1;31m:\u001b[0m invalid syntax\n"
     ]
    }
   ],
   "source": [
    "b& = \"test\""
   ]
  },
  {
   "cell_type": "code",
   "execution_count": 27,
   "id": "e152296b",
   "metadata": {},
   "outputs": [],
   "source": [
    "#make variable with meanign fully\n",
    "name = \"vithu\"\n",
    "userId = \"2020ICTS89\"\n",
    "password = \"74841234\"\n",
    "main = \"abc@gmail.com\""
   ]
  },
  {
   "cell_type": "code",
   "execution_count": 28,
   "id": "32b35dc2",
   "metadata": {},
   "outputs": [],
   "source": [
    "a = 1.6"
   ]
  },
  {
   "cell_type": "code",
   "execution_count": 29,
   "id": "aaf2e99c",
   "metadata": {},
   "outputs": [
    {
     "data": {
      "text/plain": [
       "1.6"
      ]
     },
     "execution_count": 29,
     "metadata": {},
     "output_type": "execute_result"
    }
   ],
   "source": [
    "a"
   ]
  },
  {
   "cell_type": "code",
   "execution_count": 30,
   "id": "2a9c558d",
   "metadata": {},
   "outputs": [
    {
     "data": {
      "text/plain": [
       "float"
      ]
     },
     "execution_count": 30,
     "metadata": {},
     "output_type": "execute_result"
    }
   ],
   "source": [
    "type(a)"
   ]
  },
  {
   "cell_type": "code",
   "execution_count": 31,
   "id": "3d36a6d8",
   "metadata": {},
   "outputs": [
    {
     "ename": "NameError",
     "evalue": "name 'dtype' is not defined",
     "output_type": "error",
     "traceback": [
      "\u001b[1;31m---------------------------------------------------------------------------\u001b[0m",
      "\u001b[1;31mNameError\u001b[0m                                 Traceback (most recent call last)",
      "Cell \u001b[1;32mIn[31], line 1\u001b[0m\n\u001b[1;32m----> 1\u001b[0m dtype\u001b[38;5;241m.\u001b[39ma\n",
      "\u001b[1;31mNameError\u001b[0m: name 'dtype' is not defined"
     ]
    }
   ],
   "source": [
    "dtype.a"
   ]
  },
  {
   "cell_type": "code",
   "execution_count": 32,
   "id": "6f0ecfb7",
   "metadata": {},
   "outputs": [],
   "source": [
    "b = 3.154897984657894654"
   ]
  },
  {
   "cell_type": "code",
   "execution_count": 33,
   "id": "7f099785",
   "metadata": {},
   "outputs": [
    {
     "data": {
      "text/plain": [
       "3.154897984657895"
      ]
     },
     "execution_count": 33,
     "metadata": {},
     "output_type": "execute_result"
    }
   ],
   "source": [
    "b"
   ]
  },
  {
   "cell_type": "code",
   "execution_count": 35,
   "id": "e80f92de",
   "metadata": {},
   "outputs": [
    {
     "data": {
      "text/plain": [
       "float"
      ]
     },
     "execution_count": 35,
     "metadata": {},
     "output_type": "execute_result"
    }
   ],
   "source": [
    "type(b)"
   ]
  },
  {
   "cell_type": "code",
   "execution_count": 36,
   "id": "52adbd29",
   "metadata": {},
   "outputs": [],
   "source": [
    "a = True\n",
    "b =False"
   ]
  },
  {
   "cell_type": "code",
   "execution_count": 37,
   "id": "ec171b74",
   "metadata": {},
   "outputs": [
    {
     "data": {
      "text/plain": [
       "bool"
      ]
     },
     "execution_count": 37,
     "metadata": {},
     "output_type": "execute_result"
    }
   ],
   "source": [
    "type(a)"
   ]
  },
  {
   "cell_type": "code",
   "execution_count": 38,
   "id": "86ce09b7",
   "metadata": {},
   "outputs": [
    {
     "data": {
      "text/plain": [
       "bool"
      ]
     },
     "execution_count": 38,
     "metadata": {},
     "output_type": "execute_result"
    }
   ],
   "source": [
    "type(b)"
   ]
  },
  {
   "cell_type": "code",
   "execution_count": 44,
   "id": "6d4cf4be",
   "metadata": {},
   "outputs": [
    {
     "data": {
      "text/plain": [
       "4"
      ]
     },
     "execution_count": 44,
     "metadata": {},
     "output_type": "execute_result"
    }
   ],
   "source": [
    "#Task 01\n",
    "True + True + False + True + True #1 + 1 + 0 + 1 + 1"
   ]
  },
  {
   "cell_type": "code",
   "execution_count": 49,
   "id": "30ad5b0b",
   "metadata": {},
   "outputs": [
    {
     "data": {
      "text/plain": [
       "0"
      ]
     },
     "execution_count": 49,
     "metadata": {},
     "output_type": "execute_result"
    }
   ],
   "source": [
    "False - True + True #0 - 1 + 1"
   ]
  },
  {
   "cell_type": "code",
   "execution_count": 50,
   "id": "afde2bfd",
   "metadata": {},
   "outputs": [
    {
     "data": {
      "text/plain": [
       "1"
      ]
     },
     "execution_count": 50,
     "metadata": {},
     "output_type": "execute_result"
    }
   ],
   "source": [
    "True * True"
   ]
  },
  {
   "cell_type": "code",
   "execution_count": 51,
   "id": "c377b189",
   "metadata": {},
   "outputs": [
    {
     "ename": "ZeroDivisionError",
     "evalue": "division by zero",
     "output_type": "error",
     "traceback": [
      "\u001b[1;31m---------------------------------------------------------------------------\u001b[0m",
      "\u001b[1;31mZeroDivisionError\u001b[0m                         Traceback (most recent call last)",
      "Cell \u001b[1;32mIn[51], line 1\u001b[0m\n\u001b[1;32m----> 1\u001b[0m \u001b[38;5;28;01mTrue\u001b[39;00m \u001b[38;5;241m/\u001b[39m \u001b[38;5;28;01mFalse\u001b[39;00m\n",
      "\u001b[1;31mZeroDivisionError\u001b[0m: division by zero"
     ]
    }
   ],
   "source": [
    "True / False"
   ]
  },
  {
   "cell_type": "code",
   "execution_count": 61,
   "id": "dcbad990",
   "metadata": {},
   "outputs": [],
   "source": [
    "#Complex Number --> RealNumber + ImagineryNumber\n",
    "a = 45 + 6j"
   ]
  },
  {
   "cell_type": "code",
   "execution_count": 55,
   "id": "63fb63b6",
   "metadata": {},
   "outputs": [
    {
     "data": {
      "text/plain": [
       "(45+6j)"
      ]
     },
     "execution_count": 55,
     "metadata": {},
     "output_type": "execute_result"
    }
   ],
   "source": [
    "a"
   ]
  },
  {
   "cell_type": "code",
   "execution_count": 56,
   "id": "5d1c2867",
   "metadata": {},
   "outputs": [
    {
     "data": {
      "text/plain": [
       "complex"
      ]
     },
     "execution_count": 56,
     "metadata": {},
     "output_type": "execute_result"
    }
   ],
   "source": [
    "type(a)"
   ]
  },
  {
   "cell_type": "code",
   "execution_count": 57,
   "id": "496b5dcf",
   "metadata": {},
   "outputs": [
    {
     "data": {
      "text/plain": [
       "45.0"
      ]
     },
     "execution_count": 57,
     "metadata": {},
     "output_type": "execute_result"
    }
   ],
   "source": [
    "a.real"
   ]
  },
  {
   "cell_type": "code",
   "execution_count": 59,
   "id": "5bb88226",
   "metadata": {},
   "outputs": [
    {
     "data": {
      "text/plain": [
       "6.0"
      ]
     },
     "execution_count": 59,
     "metadata": {},
     "output_type": "execute_result"
    }
   ],
   "source": [
    "a.imag"
   ]
  },
  {
   "cell_type": "code",
   "execution_count": 62,
   "id": "3553b28e",
   "metadata": {},
   "outputs": [],
   "source": [
    "b = 6 - 5j"
   ]
  },
  {
   "cell_type": "code",
   "execution_count": 63,
   "id": "b24c3a5b",
   "metadata": {},
   "outputs": [
    {
     "data": {
      "text/plain": [
       "(51+1j)"
      ]
     },
     "execution_count": 63,
     "metadata": {},
     "output_type": "execute_result"
    }
   ],
   "source": [
    "a + b"
   ]
  },
  {
   "cell_type": "code",
   "execution_count": 64,
   "id": "87fa9e2a",
   "metadata": {},
   "outputs": [
    {
     "ename": "TypeError",
     "evalue": "unsupported operand type(s) for +: 'int' and 'str'",
     "output_type": "error",
     "traceback": [
      "\u001b[1;31m---------------------------------------------------------------------------\u001b[0m",
      "\u001b[1;31mTypeError\u001b[0m                                 Traceback (most recent call last)",
      "Cell \u001b[1;32mIn[64], line 1\u001b[0m\n\u001b[1;32m----> 1\u001b[0m \u001b[38;5;241m1\u001b[39m \u001b[38;5;241m+\u001b[39m \u001b[38;5;124m\"\u001b[39m\u001b[38;5;124mvithu\u001b[39m\u001b[38;5;124m\"\u001b[39m\n",
      "\u001b[1;31mTypeError\u001b[0m: unsupported operand type(s) for +: 'int' and 'str'"
     ]
    }
   ],
   "source": [
    "5 + \"vithu\""
   ]
  },
  {
   "cell_type": "code",
   "execution_count": 67,
   "id": "81a64264",
   "metadata": {},
   "outputs": [
    {
     "data": {
      "text/plain": [
       "'vithuvithuvithuvithuvithu'"
      ]
     },
     "execution_count": 67,
     "metadata": {},
     "output_type": "execute_result"
    }
   ],
   "source": [
    "5 * \"vithu\""
   ]
  },
  {
   "cell_type": "code",
   "execution_count": 68,
   "id": "ecae05a2",
   "metadata": {},
   "outputs": [
    {
     "ename": "TypeError",
     "evalue": "unsupported operand type(s) for /: 'int' and 'str'",
     "output_type": "error",
     "traceback": [
      "\u001b[1;31m---------------------------------------------------------------------------\u001b[0m",
      "\u001b[1;31mTypeError\u001b[0m                                 Traceback (most recent call last)",
      "Cell \u001b[1;32mIn[68], line 1\u001b[0m\n\u001b[1;32m----> 1\u001b[0m \u001b[38;5;241m5\u001b[39m \u001b[38;5;241m/\u001b[39m \u001b[38;5;124m\"\u001b[39m\u001b[38;5;124mvithu\u001b[39m\u001b[38;5;124m\"\u001b[39m\n",
      "\u001b[1;31mTypeError\u001b[0m: unsupported operand type(s) for /: 'int' and 'str'"
     ]
    }
   ],
   "source": [
    "5 / \"vithu\""
   ]
  },
  {
   "cell_type": "code",
   "execution_count": 70,
   "id": "a7d35652",
   "metadata": {},
   "outputs": [
    {
     "data": {
      "text/plain": [
       "'5vithu'"
      ]
     },
     "execution_count": 70,
     "metadata": {},
     "output_type": "execute_result"
    }
   ],
   "source": [
    "str(5) + \"vithu\""
   ]
  },
  {
   "cell_type": "code",
   "execution_count": 71,
   "id": "7d4135cb",
   "metadata": {},
   "outputs": [
    {
     "data": {
      "text/plain": [
       "3.0"
      ]
     },
     "execution_count": 71,
     "metadata": {},
     "output_type": "execute_result"
    }
   ],
   "source": [
    "1 + 2.0"
   ]
  },
  {
   "cell_type": "code",
   "execution_count": 72,
   "id": "0f014e75",
   "metadata": {},
   "outputs": [
    {
     "data": {
      "text/plain": [
       "'vithuvithuvithu'"
      ]
     },
     "execution_count": 72,
     "metadata": {},
     "output_type": "execute_result"
    }
   ],
   "source": [
    "\"vithu\" + \"vithu\" + \"vithu\""
   ]
  },
  {
   "cell_type": "code",
   "execution_count": 73,
   "id": "984b9364",
   "metadata": {},
   "outputs": [
    {
     "data": {
      "text/plain": [
       "'vithuvithuvithu'"
      ]
     },
     "execution_count": 73,
     "metadata": {},
     "output_type": "execute_result"
    }
   ],
   "source": [
    "\"vithu\" * 3"
   ]
  },
  {
   "cell_type": "code",
   "execution_count": 74,
   "id": "1cadbe94",
   "metadata": {},
   "outputs": [
    {
     "ename": "ValueError",
     "evalue": "invalid literal for int() with base 10: 'vithu'",
     "output_type": "error",
     "traceback": [
      "\u001b[1;31m---------------------------------------------------------------------------\u001b[0m",
      "\u001b[1;31mValueError\u001b[0m                                Traceback (most recent call last)",
      "Cell \u001b[1;32mIn[74], line 1\u001b[0m\n\u001b[1;32m----> 1\u001b[0m \u001b[38;5;28mint\u001b[39m(\u001b[38;5;124m\"\u001b[39m\u001b[38;5;124mvithu\u001b[39m\u001b[38;5;124m\"\u001b[39m)\n",
      "\u001b[1;31mValueError\u001b[0m: invalid literal for int() with base 10: 'vithu'"
     ]
    }
   ],
   "source": [
    "int(\"vithu\")"
   ]
  },
  {
   "cell_type": "code",
   "execution_count": 76,
   "id": "920695da",
   "metadata": {},
   "outputs": [
    {
     "data": {
      "text/plain": [
       "25"
      ]
     },
     "execution_count": 76,
     "metadata": {},
     "output_type": "execute_result"
    }
   ],
   "source": [
    "int('25')"
   ]
  },
  {
   "cell_type": "code",
   "execution_count": 78,
   "id": "824bd9f4",
   "metadata": {},
   "outputs": [
    {
     "data": {
      "text/plain": [
       "int"
      ]
     },
     "execution_count": 78,
     "metadata": {},
     "output_type": "execute_result"
    }
   ],
   "source": [
    "type(int(\"25\"))"
   ]
  },
  {
   "cell_type": "code",
   "execution_count": 77,
   "id": "5b46c339",
   "metadata": {},
   "outputs": [
    {
     "data": {
      "text/plain": [
       "100"
      ]
     },
     "execution_count": 77,
     "metadata": {},
     "output_type": "execute_result"
    }
   ],
   "source": [
    "int(\"100\")"
   ]
  },
  {
   "cell_type": "code",
   "execution_count": 79,
   "id": "f8f1b448",
   "metadata": {},
   "outputs": [
    {
     "data": {
      "text/plain": [
       "int"
      ]
     },
     "execution_count": 79,
     "metadata": {},
     "output_type": "execute_result"
    }
   ],
   "source": [
    "type(int(\"100\"))"
   ]
  },
  {
   "cell_type": "code",
   "execution_count": 80,
   "id": "1e1d314b",
   "metadata": {},
   "outputs": [],
   "source": [
    "a = 10"
   ]
  },
  {
   "cell_type": "code",
   "execution_count": 81,
   "id": "35eab18f",
   "metadata": {},
   "outputs": [
    {
     "name": "stdout",
     "output_type": "stream",
     "text": [
      "45\n"
     ]
    }
   ],
   "source": [
    "a = input()"
   ]
  },
  {
   "cell_type": "code",
   "execution_count": 82,
   "id": "aa4812d4",
   "metadata": {},
   "outputs": [
    {
     "data": {
      "text/plain": [
       "'45'"
      ]
     },
     "execution_count": 82,
     "metadata": {},
     "output_type": "execute_result"
    }
   ],
   "source": [
    "a"
   ]
  },
  {
   "cell_type": "code",
   "execution_count": 83,
   "id": "13dcf211",
   "metadata": {},
   "outputs": [
    {
     "name": "stdout",
     "output_type": "stream",
     "text": [
      "Ënter a integer : 555555555\n"
     ]
    }
   ],
   "source": [
    "b = input(\"Ënter a integer : \")"
   ]
  },
  {
   "cell_type": "code",
   "execution_count": 84,
   "id": "68a7f158",
   "metadata": {},
   "outputs": [
    {
     "data": {
      "text/plain": [
       "str"
      ]
     },
     "execution_count": 84,
     "metadata": {},
     "output_type": "execute_result"
    }
   ],
   "source": [
    "type(b)"
   ]
  },
  {
   "cell_type": "markdown",
   "id": "869a918f",
   "metadata": {},
   "source": [
    "Task 02\n",
    "\n",
    "step 1 --> Take integer input from user to a, b, c\n",
    "\n",
    "step 2 --> d = (a + b) / c\n",
    "\n",
    "step 3 --> (d + complexNumber)\n",
    "\n",
    "step 4 --> 01 + \"Your Name\"\n"
   ]
  },
  {
   "cell_type": "code",
   "execution_count": 93,
   "id": "f66c8d29",
   "metadata": {},
   "outputs": [
    {
     "name": "stdout",
     "output_type": "stream",
     "text": [
      "Enter a Number 1 : 10\n",
      "Enter a Number 2 : 10\n",
      "Enter a Number 3 : 5\n",
      "Step2 O/P :  4.0\n",
      "Step3 O/P :  (4+5j)\n",
      "Step4 O/P :  01vithusan.v\n"
     ]
    }
   ],
   "source": [
    "a = int(input(\"Enter a Number 1 : \"))\n",
    "b = int(input(\"Enter a Number 2 : \"))\n",
    "c = int(input(\"Enter a Number 3 : \"))\n",
    "step2 = (a + b) / c\n",
    "complexNumber = 5j\n",
    "step3 = step2 + complexNumber\n",
    "step4 = \"01\" + \"vithusan.v\"\n",
    "\n",
    "print(\"Step2 O/P : \", step2)\n",
    "print(\"Step3 O/P : \", step3)\n",
    "print(\"Step4 O/P : \", step4)"
   ]
  },
  {
   "cell_type": "code",
   "execution_count": 1,
   "id": "58db1e26",
   "metadata": {},
   "outputs": [
    {
     "name": "stdout",
     "output_type": "stream",
     "text": [
      "Enter a number lesser than 34 : 53\n"
     ]
    }
   ],
   "source": [
    "a = int(input(\"Enter a number lesser than 34 : \"))"
   ]
  },
  {
   "cell_type": "code",
   "execution_count": 2,
   "id": "e4717320",
   "metadata": {},
   "outputs": [],
   "source": [
    "if a < 34:\n",
    "    pass"
   ]
  },
  {
   "cell_type": "code",
   "execution_count": 3,
   "id": "f147e825",
   "metadata": {},
   "outputs": [
    {
     "ename": "SyntaxError",
     "evalue": "incomplete input (1265387293.py, line 1)",
     "output_type": "error",
     "traceback": [
      "\u001b[1;36m  Cell \u001b[1;32mIn[3], line 1\u001b[1;36m\u001b[0m\n\u001b[1;33m    if a < 34:\u001b[0m\n\u001b[1;37m              ^\u001b[0m\n\u001b[1;31mSyntaxError\u001b[0m\u001b[1;31m:\u001b[0m incomplete input\n"
     ]
    }
   ],
   "source": [
    "if a < 34:"
   ]
  },
  {
   "cell_type": "code",
   "execution_count": 5,
   "id": "cff08ff8",
   "metadata": {},
   "outputs": [
    {
     "name": "stdout",
     "output_type": "stream",
     "text": [
      "Enter a number lesser than 34 : 4\n",
      "Data input is lesser than 34 and i am fine with it\n"
     ]
    }
   ],
   "source": [
    "a = int(input(\"Enter a number lesser than 34 : \"))\n",
    "if a < 34:\n",
    "    print(\"Data input is lesser than 34 and i am fine with it\")"
   ]
  },
  {
   "cell_type": "code",
   "execution_count": 7,
   "id": "149772d1",
   "metadata": {},
   "outputs": [
    {
     "name": "stdout",
     "output_type": "stream",
     "text": [
      "Line 1\n",
      "Line 2\n",
      "Line 3\n"
     ]
    }
   ],
   "source": [
    "if a < 10:\n",
    "    print(\"Line 1\")\n",
    "    print(\"Line 2\")\n",
    "    print(\"Line 3\")"
   ]
  },
  {
   "cell_type": "code",
   "execution_count": 8,
   "id": "1e421a0e",
   "metadata": {},
   "outputs": [
    {
     "name": "stdout",
     "output_type": "stream",
     "text": [
      "Enter a number lesser than 34 : 444\n",
      "Data input is not lesser than 34\n"
     ]
    }
   ],
   "source": [
    "a = int(input(\"Enter a number lesser than 34 : \"))\n",
    "if a < 34:\n",
    "    print(\"Data input is lesser than 34 and i am fine with it\")\n",
    "else:\n",
    "    print(\"Data input is not lesser than 34\")"
   ]
  },
  {
   "cell_type": "code",
   "execution_count": 9,
   "id": "870ed291",
   "metadata": {},
   "outputs": [
    {
     "name": "stdout",
     "output_type": "stream",
     "text": [
      "Enter a number lesser than 34 : 47\n",
      "my data is lesser than 100\n"
     ]
    }
   ],
   "source": [
    "a = int(input(\"Enter a number lesser than 34 : \"))\n",
    "if a < 34:\n",
    "    print(\"Data input is lesser than 34 and i am fine with it\")\n",
    "elif a < 100:\n",
    "    print(\"my data is lesser than 100\")\n",
    "else:\n",
    "    print(\"Data input is not lesser than 34\")"
   ]
  },
  {
   "cell_type": "code",
   "execution_count": 11,
   "id": "c48b8bcb",
   "metadata": {},
   "outputs": [
    {
     "name": "stdout",
     "output_type": "stream",
     "text": [
      "Enter your salary : 4\n",
      "I will go for saving\n"
     ]
    }
   ],
   "source": [
    "salary = int(input(\"Enter your salary : \"))\n",
    "\n",
    "if salary > 1000:\n",
    "    print(\"I will buy a car\")\n",
    "elif salary > 500:\n",
    "    print(\"I will go for bike\")\n",
    "elif salary > 100:\n",
    "    print(\"I will not buy anything\")\n",
    "else:\n",
    "    print(\"I will go for saving\")"
   ]
  },
  {
   "cell_type": "code",
   "execution_count": 2,
   "id": "adc98858",
   "metadata": {},
   "outputs": [
    {
     "data": {
      "text/plain": [
       "False"
      ]
     },
     "execution_count": 2,
     "metadata": {},
     "output_type": "execute_result"
    }
   ],
   "source": [
    "salary > 1000"
   ]
  },
  {
   "cell_type": "code",
   "execution_count": 3,
   "id": "97651d4c",
   "metadata": {},
   "outputs": [
    {
     "name": "stdout",
     "output_type": "stream",
     "text": [
      "Enter some input : 123456789\n"
     ]
    }
   ],
   "source": [
    "lst = list(input(\"Enter some input : \"))"
   ]
  },
  {
   "cell_type": "code",
   "execution_count": 4,
   "id": "7af679bc",
   "metadata": {},
   "outputs": [
    {
     "data": {
      "text/plain": [
       "['1', '2', '3', '4', '5', '6', '7', '8', '9']"
      ]
     },
     "execution_count": 4,
     "metadata": {},
     "output_type": "execute_result"
    }
   ],
   "source": [
    "lst"
   ]
  },
  {
   "cell_type": "code",
   "execution_count": 17,
   "id": "2fc2cf69",
   "metadata": {},
   "outputs": [
    {
     "name": "stdout",
     "output_type": "stream",
     "text": [
      "Enter your salary : 5654\n",
      "Part 1\n"
     ]
    }
   ],
   "source": [
    "salary = int(input(\"Enter your salary : \"))\n",
    "\n",
    "if salary > 1000:\n",
    "    print(\"Part 1\")\n",
    "elif salary > 500:\n",
    "    print(\"Part 2\")"
   ]
  },
  {
   "cell_type": "code",
   "execution_count": null,
   "id": "0e4318f5",
   "metadata": {},
   "outputs": [],
   "source": []
  }
 ],
 "metadata": {
  "kernelspec": {
   "display_name": "Python 3 (ipykernel)",
   "language": "python",
   "name": "python3"
  },
  "language_info": {
   "codemirror_mode": {
    "name": "ipython",
    "version": 3
   },
   "file_extension": ".py",
   "mimetype": "text/x-python",
   "name": "python",
   "nbconvert_exporter": "python",
   "pygments_lexer": "ipython3",
   "version": "3.11.5"
  }
 },
 "nbformat": 4,
 "nbformat_minor": 5
}
