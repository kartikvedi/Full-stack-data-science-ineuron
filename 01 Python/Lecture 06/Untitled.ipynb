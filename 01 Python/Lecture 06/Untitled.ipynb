{
 "cells": [
  {
   "cell_type": "markdown",
   "id": "ed71e13c",
   "metadata": {},
   "source": [
    "# Lecture 06 - 2024.05.11"
   ]
  },
  {
   "cell_type": "markdown",
   "id": "aa7b0a53",
   "metadata": {},
   "source": [
    "## Function in python"
   ]
  },
  {
   "cell_type": "code",
   "execution_count": 40,
   "id": "9c2f7718",
   "metadata": {},
   "outputs": [
    {
     "data": {
      "text/plain": [
       "3"
      ]
     },
     "execution_count": 40,
     "metadata": {},
     "output_type": "execute_result"
    }
   ],
   "source": [
    "a = 1\n",
    "b = 2\n",
    "a + b"
   ]
  },
  {
   "cell_type": "code",
   "execution_count": 41,
   "id": "8f2cd611",
   "metadata": {},
   "outputs": [
    {
     "data": {
      "text/plain": [
       "30"
      ]
     },
     "execution_count": 41,
     "metadata": {},
     "output_type": "execute_result"
    }
   ],
   "source": [
    "a = 10\n",
    "b = 20\n",
    "a + b"
   ]
  },
  {
   "cell_type": "code",
   "execution_count": 42,
   "id": "958e1a5d",
   "metadata": {},
   "outputs": [
    {
     "name": "stdout",
     "output_type": "stream",
     "text": [
      "30\n"
     ]
    }
   ],
   "source": [
    "def test1(x, y):\n",
    "    print( x + y)\n",
    "\n",
    "test1(10, 20)"
   ]
  },
  {
   "cell_type": "code",
   "execution_count": 43,
   "id": "5decb20f",
   "metadata": {},
   "outputs": [
    {
     "data": {
      "text/plain": [
       "<function __main__.test1(x, y)>"
      ]
     },
     "execution_count": 43,
     "metadata": {},
     "output_type": "execute_result"
    }
   ],
   "source": [
    "test1"
   ]
  },
  {
   "cell_type": "code",
   "execution_count": 44,
   "id": "f6a7ae74",
   "metadata": {},
   "outputs": [
    {
     "ename": "TypeError",
     "evalue": "test1() missing 2 required positional arguments: 'x' and 'y'",
     "output_type": "error",
     "traceback": [
      "\u001b[1;31m---------------------------------------------------------------------------\u001b[0m",
      "\u001b[1;31mTypeError\u001b[0m                                 Traceback (most recent call last)",
      "Cell \u001b[1;32mIn[44], line 1\u001b[0m\n\u001b[1;32m----> 1\u001b[0m test1()\n",
      "\u001b[1;31mTypeError\u001b[0m: test1() missing 2 required positional arguments: 'x' and 'y'"
     ]
    }
   ],
   "source": [
    "test1()"
   ]
  },
  {
   "cell_type": "code",
   "execution_count": 45,
   "id": "d5611139",
   "metadata": {},
   "outputs": [
    {
     "name": "stdout",
     "output_type": "stream",
     "text": [
      "4\n"
     ]
    }
   ],
   "source": [
    "test1(1, 3)"
   ]
  },
  {
   "cell_type": "code",
   "execution_count": 46,
   "id": "910baccd",
   "metadata": {},
   "outputs": [
    {
     "name": "stdout",
     "output_type": "stream",
     "text": [
      "17\n"
     ]
    }
   ],
   "source": [
    "test1(8, 9)"
   ]
  },
  {
   "cell_type": "code",
   "execution_count": 47,
   "id": "661aff78",
   "metadata": {},
   "outputs": [
    {
     "name": "stdout",
     "output_type": "stream",
     "text": [
      "121\n"
     ]
    }
   ],
   "source": [
    "test1(55, 66)"
   ]
  },
  {
   "cell_type": "code",
   "execution_count": 48,
   "id": "7b742c0e",
   "metadata": {},
   "outputs": [],
   "source": [
    "def test2(a, b):\n",
    "    return a * b #Return will return exact data type"
   ]
  },
  {
   "cell_type": "code",
   "execution_count": 49,
   "id": "3d788288",
   "metadata": {},
   "outputs": [
    {
     "data": {
      "text/plain": [
       "16"
      ]
     },
     "execution_count": 49,
     "metadata": {},
     "output_type": "execute_result"
    }
   ],
   "source": [
    "test2(2, 8)"
   ]
  },
  {
   "cell_type": "code",
   "execution_count": 50,
   "id": "aeea7d83",
   "metadata": {},
   "outputs": [
    {
     "name": "stdout",
     "output_type": "stream",
     "text": [
      "11\n"
     ]
    },
    {
     "ename": "TypeError",
     "evalue": "unsupported operand type(s) for +: 'NoneType' and 'int'",
     "output_type": "error",
     "traceback": [
      "\u001b[1;31m---------------------------------------------------------------------------\u001b[0m",
      "\u001b[1;31mTypeError\u001b[0m                                 Traceback (most recent call last)",
      "Cell \u001b[1;32mIn[50], line 1\u001b[0m\n\u001b[1;32m----> 1\u001b[0m test1(\u001b[38;5;241m5\u001b[39m, \u001b[38;5;241m6\u001b[39m) \u001b[38;5;241m+\u001b[39m \u001b[38;5;241m6\u001b[39m\n",
      "\u001b[1;31mTypeError\u001b[0m: unsupported operand type(s) for +: 'NoneType' and 'int'"
     ]
    }
   ],
   "source": [
    "test1(5, 6) + 6"
   ]
  },
  {
   "cell_type": "code",
   "execution_count": 51,
   "id": "f316dbb0",
   "metadata": {},
   "outputs": [
    {
     "name": "stdout",
     "output_type": "stream",
     "text": [
      "10\n"
     ]
    },
    {
     "ename": "TypeError",
     "evalue": "unsupported operand type(s) for +: 'NoneType' and 'int'",
     "output_type": "error",
     "traceback": [
      "\u001b[1;31m---------------------------------------------------------------------------\u001b[0m",
      "\u001b[1;31mTypeError\u001b[0m                                 Traceback (most recent call last)",
      "Cell \u001b[1;32mIn[51], line 1\u001b[0m\n\u001b[1;32m----> 1\u001b[0m test1(\u001b[38;5;241m5\u001b[39m, \u001b[38;5;241m5\u001b[39m) \u001b[38;5;241m+\u001b[39m \u001b[38;5;241m10\u001b[39m\n",
      "\u001b[1;31mTypeError\u001b[0m: unsupported operand type(s) for +: 'NoneType' and 'int'"
     ]
    }
   ],
   "source": [
    "test1(5, 5) + 10"
   ]
  },
  {
   "cell_type": "code",
   "execution_count": null,
   "id": "6526dc1e",
   "metadata": {},
   "outputs": [],
   "source": [
    "type(test1(5, 6))"
   ]
  },
  {
   "cell_type": "code",
   "execution_count": 52,
   "id": "3403a73c",
   "metadata": {},
   "outputs": [
    {
     "data": {
      "text/plain": [
       "int"
      ]
     },
     "execution_count": 52,
     "metadata": {},
     "output_type": "execute_result"
    }
   ],
   "source": [
    "type(test2(5, 5))"
   ]
  },
  {
   "cell_type": "code",
   "execution_count": 53,
   "id": "e150203c",
   "metadata": {},
   "outputs": [
    {
     "name": "stdout",
     "output_type": "stream",
     "text": [
      "4\n"
     ]
    }
   ],
   "source": [
    "b = test1(2, 2)"
   ]
  },
  {
   "cell_type": "code",
   "execution_count": 54,
   "id": "2d779973",
   "metadata": {},
   "outputs": [],
   "source": [
    "b"
   ]
  },
  {
   "cell_type": "code",
   "execution_count": 55,
   "id": "7e4b81dd",
   "metadata": {},
   "outputs": [
    {
     "ename": "TypeError",
     "evalue": "unsupported operand type(s) for +: 'NoneType' and 'int'",
     "output_type": "error",
     "traceback": [
      "\u001b[1;31m---------------------------------------------------------------------------\u001b[0m",
      "\u001b[1;31mTypeError\u001b[0m                                 Traceback (most recent call last)",
      "Cell \u001b[1;32mIn[55], line 1\u001b[0m\n\u001b[1;32m----> 1\u001b[0m b \u001b[38;5;241m+\u001b[39m \u001b[38;5;241m4\u001b[39m\n",
      "\u001b[1;31mTypeError\u001b[0m: unsupported operand type(s) for +: 'NoneType' and 'int'"
     ]
    }
   ],
   "source": [
    "b + 4"
   ]
  },
  {
   "cell_type": "code",
   "execution_count": 56,
   "id": "c2363614",
   "metadata": {},
   "outputs": [],
   "source": [
    "a = test2(5, 8)"
   ]
  },
  {
   "cell_type": "code",
   "execution_count": 57,
   "id": "b58d3635",
   "metadata": {},
   "outputs": [
    {
     "data": {
      "text/plain": [
       "40"
      ]
     },
     "execution_count": 57,
     "metadata": {},
     "output_type": "execute_result"
    }
   ],
   "source": [
    "a"
   ]
  },
  {
   "cell_type": "code",
   "execution_count": 58,
   "id": "4c470307",
   "metadata": {},
   "outputs": [
    {
     "data": {
      "text/plain": [
       "50"
      ]
     },
     "execution_count": 58,
     "metadata": {},
     "output_type": "execute_result"
    }
   ],
   "source": [
    "a + 10"
   ]
  },
  {
   "cell_type": "code",
   "execution_count": 60,
   "id": "30545fe1",
   "metadata": {},
   "outputs": [],
   "source": [
    "def test3(p, q, r):\n",
    "    return p + q"
   ]
  },
  {
   "cell_type": "code",
   "execution_count": 61,
   "id": "62b255eb",
   "metadata": {},
   "outputs": [
    {
     "ename": "TypeError",
     "evalue": "test3() missing 1 required positional argument: 'r'",
     "output_type": "error",
     "traceback": [
      "\u001b[1;31m---------------------------------------------------------------------------\u001b[0m",
      "\u001b[1;31mTypeError\u001b[0m                                 Traceback (most recent call last)",
      "Cell \u001b[1;32mIn[61], line 1\u001b[0m\n\u001b[1;32m----> 1\u001b[0m test3(\u001b[38;5;241m10\u001b[39m, \u001b[38;5;241m15\u001b[39m)\n",
      "\u001b[1;31mTypeError\u001b[0m: test3() missing 1 required positional argument: 'r'"
     ]
    }
   ],
   "source": [
    "test3(10, 15)"
   ]
  },
  {
   "cell_type": "code",
   "execution_count": 65,
   "id": "7290711d",
   "metadata": {},
   "outputs": [
    {
     "data": {
      "text/plain": [
       "25"
      ]
     },
     "execution_count": 65,
     "metadata": {},
     "output_type": "execute_result"
    }
   ],
   "source": [
    "test3(10, 15, 25) #you have to full fill all the argument list"
   ]
  },
  {
   "cell_type": "code",
   "execution_count": 71,
   "id": "83da6bfe",
   "metadata": {},
   "outputs": [],
   "source": [
    "def test4(n, m):\n",
    "    return n * 10, m * 20, m * m, n * n"
   ]
  },
  {
   "cell_type": "code",
   "execution_count": 72,
   "id": "125f100c",
   "metadata": {},
   "outputs": [
    {
     "data": {
      "text/plain": [
       "(50, 200, 100, 25)"
      ]
     },
     "execution_count": 72,
     "metadata": {},
     "output_type": "execute_result"
    }
   ],
   "source": [
    "test4(5, 10)"
   ]
  },
  {
   "cell_type": "code",
   "execution_count": 73,
   "id": "0388a13b",
   "metadata": {},
   "outputs": [
    {
     "data": {
      "text/plain": [
       "tuple"
      ]
     },
     "execution_count": 73,
     "metadata": {},
     "output_type": "execute_result"
    }
   ],
   "source": [
    "type(test4(5, 10))"
   ]
  },
  {
   "cell_type": "code",
   "execution_count": 76,
   "id": "be188253",
   "metadata": {},
   "outputs": [],
   "source": [
    "def test4(n, m):\n",
    "    return n, m, n * m"
   ]
  },
  {
   "cell_type": "code",
   "execution_count": 77,
   "id": "723b9477",
   "metadata": {},
   "outputs": [
    {
     "data": {
      "text/plain": [
       "(5, 10, 50)"
      ]
     },
     "execution_count": 77,
     "metadata": {},
     "output_type": "execute_result"
    }
   ],
   "source": [
    "test4(5, 10)"
   ]
  },
  {
   "cell_type": "code",
   "execution_count": 78,
   "id": "40480e6d",
   "metadata": {},
   "outputs": [],
   "source": [
    "a, b, c = test4(5, 10)"
   ]
  },
  {
   "cell_type": "code",
   "execution_count": 79,
   "id": "a9430c63",
   "metadata": {},
   "outputs": [
    {
     "data": {
      "text/plain": [
       "5"
      ]
     },
     "execution_count": 79,
     "metadata": {},
     "output_type": "execute_result"
    }
   ],
   "source": [
    "a"
   ]
  },
  {
   "cell_type": "code",
   "execution_count": 80,
   "id": "187cee12",
   "metadata": {},
   "outputs": [
    {
     "data": {
      "text/plain": [
       "10"
      ]
     },
     "execution_count": 80,
     "metadata": {},
     "output_type": "execute_result"
    }
   ],
   "source": [
    "b"
   ]
  },
  {
   "cell_type": "code",
   "execution_count": 81,
   "id": "6cf6c40a",
   "metadata": {},
   "outputs": [
    {
     "data": {
      "text/plain": [
       "50"
      ]
     },
     "execution_count": 81,
     "metadata": {},
     "output_type": "execute_result"
    }
   ],
   "source": [
    "c"
   ]
  },
  {
   "cell_type": "code",
   "execution_count": 83,
   "id": "553d0f5d",
   "metadata": {},
   "outputs": [
    {
     "data": {
      "text/plain": [
       "int"
      ]
     },
     "execution_count": 83,
     "metadata": {},
     "output_type": "execute_result"
    }
   ],
   "source": [
    "type(a)"
   ]
  },
  {
   "cell_type": "code",
   "execution_count": 84,
   "id": "f498a215",
   "metadata": {},
   "outputs": [],
   "source": [
    "def test5(name, age):\n",
    "    return name, age"
   ]
  },
  {
   "cell_type": "code",
   "execution_count": 86,
   "id": "1d73c8e4",
   "metadata": {},
   "outputs": [],
   "source": [
    "name, age = test5(\"vithu\", 23)"
   ]
  },
  {
   "cell_type": "code",
   "execution_count": 87,
   "id": "482b4a5f",
   "metadata": {},
   "outputs": [
    {
     "data": {
      "text/plain": [
       "'vithu'"
      ]
     },
     "execution_count": 87,
     "metadata": {},
     "output_type": "execute_result"
    }
   ],
   "source": [
    "name"
   ]
  },
  {
   "cell_type": "code",
   "execution_count": 88,
   "id": "a9c85c7c",
   "metadata": {},
   "outputs": [
    {
     "data": {
      "text/plain": [
       "23"
      ]
     },
     "execution_count": 88,
     "metadata": {},
     "output_type": "execute_result"
    }
   ],
   "source": [
    "age"
   ]
  },
  {
   "cell_type": "code",
   "execution_count": 89,
   "id": "7260eef6",
   "metadata": {},
   "outputs": [
    {
     "ename": "ValueError",
     "evalue": "too many values to unpack (expected 2)",
     "output_type": "error",
     "traceback": [
      "\u001b[1;31m---------------------------------------------------------------------------\u001b[0m",
      "\u001b[1;31mValueError\u001b[0m                                Traceback (most recent call last)",
      "Cell \u001b[1;32mIn[89], line 1\u001b[0m\n\u001b[1;32m----> 1\u001b[0m a, b \u001b[38;5;241m=\u001b[39m test4(\u001b[38;5;241m5\u001b[39m, \u001b[38;5;241m10\u001b[39m)\n",
      "\u001b[1;31mValueError\u001b[0m: too many values to unpack (expected 2)"
     ]
    }
   ],
   "source": [
    "a, b = test4(5, 10)"
   ]
  },
  {
   "cell_type": "code",
   "execution_count": 90,
   "id": "01e331d2",
   "metadata": {},
   "outputs": [],
   "source": [
    "a, b, _ = test4(5, 10) #placeholder _"
   ]
  },
  {
   "cell_type": "code",
   "execution_count": 92,
   "id": "1d20c69f",
   "metadata": {},
   "outputs": [
    {
     "name": "stdout",
     "output_type": "stream",
     "text": [
      "5 10 50\n"
     ]
    }
   ],
   "source": [
    "print(a, b)"
   ]
  },
  {
   "cell_type": "code",
   "execution_count": 93,
   "id": "c481f034",
   "metadata": {},
   "outputs": [
    {
     "name": "stdout",
     "output_type": "stream",
     "text": [
      "5 10 50\n"
     ]
    }
   ],
   "source": [
    "print(a, b, _)"
   ]
  },
  {
   "cell_type": "code",
   "execution_count": 95,
   "id": "76f95f9c",
   "metadata": {},
   "outputs": [],
   "source": [
    "a, _, b = test4(5, 10)"
   ]
  },
  {
   "cell_type": "code",
   "execution_count": 96,
   "id": "6d36ac90",
   "metadata": {},
   "outputs": [
    {
     "data": {
      "text/plain": [
       "(5, 50)"
      ]
     },
     "execution_count": 96,
     "metadata": {},
     "output_type": "execute_result"
    }
   ],
   "source": [
    "a, b"
   ]
  },
  {
   "cell_type": "code",
   "execution_count": 97,
   "id": "3618d732",
   "metadata": {},
   "outputs": [],
   "source": [
    "_, _, b = test4(5, 10)"
   ]
  },
  {
   "cell_type": "code",
   "execution_count": 98,
   "id": "d8441812",
   "metadata": {},
   "outputs": [
    {
     "data": {
      "text/plain": [
       "10"
      ]
     },
     "execution_count": 98,
     "metadata": {},
     "output_type": "execute_result"
    }
   ],
   "source": [
    "_"
   ]
  },
  {
   "cell_type": "code",
   "execution_count": 99,
   "id": "d9b2ab1f",
   "metadata": {},
   "outputs": [
    {
     "data": {
      "text/plain": [
       "10"
      ]
     },
     "execution_count": 99,
     "metadata": {},
     "output_type": "execute_result"
    }
   ],
   "source": [
    "_"
   ]
  },
  {
   "cell_type": "code",
   "execution_count": 100,
   "id": "92a8f916",
   "metadata": {},
   "outputs": [],
   "source": [
    "_, _, _ = test4(5, 10)"
   ]
  },
  {
   "cell_type": "code",
   "execution_count": 102,
   "id": "82c65330",
   "metadata": {},
   "outputs": [
    {
     "data": {
      "text/plain": [
       "50"
      ]
     },
     "execution_count": 102,
     "metadata": {},
     "output_type": "execute_result"
    }
   ],
   "source": [
    "_ #when you use many placeholeder it will override and give you last value"
   ]
  },
  {
   "cell_type": "code",
   "execution_count": 105,
   "id": "5e4904aa",
   "metadata": {},
   "outputs": [],
   "source": [
    "def test():\n",
    "    print(\"This is my first function\")"
   ]
  },
  {
   "cell_type": "code",
   "execution_count": 106,
   "id": "fbd04c84",
   "metadata": {},
   "outputs": [
    {
     "name": "stdout",
     "output_type": "stream",
     "text": [
      "This is my first function\n"
     ]
    }
   ],
   "source": [
    "test()"
   ]
  },
  {
   "cell_type": "code",
   "execution_count": 107,
   "id": "476936d5",
   "metadata": {},
   "outputs": [],
   "source": [
    "def test7():\n",
    "    return \"This is my first function\""
   ]
  },
  {
   "cell_type": "code",
   "execution_count": 108,
   "id": "f160de71",
   "metadata": {},
   "outputs": [
    {
     "data": {
      "text/plain": [
       "'This is my first function i can add with you'"
      ]
     },
     "execution_count": 108,
     "metadata": {},
     "output_type": "execute_result"
    }
   ],
   "source": [
    "test7() + \" i can add with you\""
   ]
  },
  {
   "cell_type": "code",
   "execution_count": 109,
   "id": "611d1670",
   "metadata": {},
   "outputs": [],
   "source": [
    "def test8(n):\n",
    "    return n * 2"
   ]
  },
  {
   "cell_type": "code",
   "execution_count": 110,
   "id": "8c19d3fb",
   "metadata": {},
   "outputs": [
    {
     "data": {
      "text/plain": [
       "[1, 2, 3, 1, 2, 3]"
      ]
     },
     "execution_count": 110,
     "metadata": {},
     "output_type": "execute_result"
    }
   ],
   "source": [
    "test8([1, 2, 3])"
   ]
  },
  {
   "cell_type": "code",
   "execution_count": 112,
   "id": "5b3439c4",
   "metadata": {},
   "outputs": [
    {
     "data": {
      "text/plain": [
       "100"
      ]
     },
     "execution_count": 112,
     "metadata": {},
     "output_type": "execute_result"
    }
   ],
   "source": [
    "test8(50)"
   ]
  },
  {
   "cell_type": "code",
   "execution_count": 115,
   "id": "b0f33fb6",
   "metadata": {},
   "outputs": [
    {
     "data": {
      "text/plain": [
       "'HelloHello'"
      ]
     },
     "execution_count": 115,
     "metadata": {},
     "output_type": "execute_result"
    }
   ],
   "source": [
    "test8(\"Hello\")"
   ]
  },
  {
   "cell_type": "code",
   "execution_count": 113,
   "id": "f988fbae",
   "metadata": {},
   "outputs": [],
   "source": [
    "def test9(n):\n",
    "    return n, n * 7 #When a function return multiple values it will return as tuple"
   ]
  },
  {
   "cell_type": "code",
   "execution_count": 116,
   "id": "3afbdd6f",
   "metadata": {},
   "outputs": [],
   "source": [
    "b = test9([1, 2, 3])"
   ]
  },
  {
   "cell_type": "code",
   "execution_count": 117,
   "id": "4d425dea",
   "metadata": {},
   "outputs": [
    {
     "data": {
      "text/plain": [
       "([1, 2, 3], [1, 2, 3, 1, 2, 3, 1, 2, 3, 1, 2, 3, 1, 2, 3, 1, 2, 3, 1, 2, 3])"
      ]
     },
     "execution_count": 117,
     "metadata": {},
     "output_type": "execute_result"
    }
   ],
   "source": [
    "b"
   ]
  },
  {
   "cell_type": "code",
   "execution_count": 118,
   "id": "d953a9c0",
   "metadata": {},
   "outputs": [
    {
     "data": {
      "text/plain": [
       "[1, 2, 3]"
      ]
     },
     "execution_count": 118,
     "metadata": {},
     "output_type": "execute_result"
    }
   ],
   "source": [
    "b[0]"
   ]
  },
  {
   "cell_type": "code",
   "execution_count": 119,
   "id": "c822752a",
   "metadata": {},
   "outputs": [
    {
     "data": {
      "text/plain": [
       "[1, 2, 3, 1, 2, 3, 1, 2, 3, 1, 2, 3, 1, 2, 3, 1, 2, 3, 1, 2, 3]"
      ]
     },
     "execution_count": 119,
     "metadata": {},
     "output_type": "execute_result"
    }
   ],
   "source": [
    "b[1]"
   ]
  },
  {
   "cell_type": "code",
   "execution_count": 128,
   "id": "3747a3ea",
   "metadata": {},
   "outputs": [],
   "source": [
    "def test10(n, m = 90):\n",
    "    return n + m         "
   ]
  },
  {
   "cell_type": "code",
   "execution_count": 129,
   "id": "af8c75fc",
   "metadata": {},
   "outputs": [
    {
     "data": {
      "text/plain": [
       "180"
      ]
     },
     "execution_count": 129,
     "metadata": {},
     "output_type": "execute_result"
    }
   ],
   "source": [
    "test10(90)"
   ]
  },
  {
   "cell_type": "code",
   "execution_count": 140,
   "id": "71daa101",
   "metadata": {},
   "outputs": [
    {
     "ename": "SyntaxError",
     "evalue": "non-default argument follows default argument (2298756045.py, line 1)",
     "output_type": "error",
     "traceback": [
      "\u001b[1;36m  Cell \u001b[1;32mIn[140], line 1\u001b[1;36m\u001b[0m\n\u001b[1;33m    def test10(n =  90, m): #default values should comes after non-default variables\u001b[0m\n\u001b[1;37m                        ^\u001b[0m\n\u001b[1;31mSyntaxError\u001b[0m\u001b[1;31m:\u001b[0m non-default argument follows default argument\n"
     ]
    }
   ],
   "source": [
    "def test10(n =  90, m): #default values should comes after non-default variables\n",
    "    return n + m"
   ]
  },
  {
   "cell_type": "code",
   "execution_count": 141,
   "id": "29fba6f2",
   "metadata": {},
   "outputs": [],
   "source": [
    "def boolx(x = True, y = False):\n",
    "    return x + y"
   ]
  },
  {
   "cell_type": "code",
   "execution_count": 142,
   "id": "ff7b9b89",
   "metadata": {},
   "outputs": [
    {
     "data": {
      "text/plain": [
       "1"
      ]
     },
     "execution_count": 142,
     "metadata": {},
     "output_type": "execute_result"
    }
   ],
   "source": [
    "boolx()"
   ]
  },
  {
   "cell_type": "code",
   "execution_count": 143,
   "id": "9eb15a17",
   "metadata": {},
   "outputs": [
    {
     "data": {
      "text/plain": [
       "2"
      ]
     },
     "execution_count": 143,
     "metadata": {},
     "output_type": "execute_result"
    }
   ],
   "source": [
    "boolx(True, True)"
   ]
  },
  {
   "cell_type": "code",
   "execution_count": 138,
   "id": "2ab9aa68",
   "metadata": {},
   "outputs": [
    {
     "data": {
      "text/plain": [
       "1"
      ]
     },
     "execution_count": 138,
     "metadata": {},
     "output_type": "execute_result"
    }
   ],
   "source": [
    "boolx(True,)"
   ]
  },
  {
   "cell_type": "code",
   "execution_count": 139,
   "id": "b9ebb453",
   "metadata": {},
   "outputs": [
    {
     "data": {
      "text/plain": [
       "1"
      ]
     },
     "execution_count": 139,
     "metadata": {},
     "output_type": "execute_result"
    }
   ],
   "source": [
    "True + False"
   ]
  },
  {
   "cell_type": "code",
   "execution_count": 144,
   "id": "ed830f3a",
   "metadata": {},
   "outputs": [],
   "source": [
    "def travel(bike = True, car = False):\n",
    "    plan_travel = bike or car\n",
    "    return bike, car, plan_travel"
   ]
  },
  {
   "cell_type": "code",
   "execution_count": 145,
   "id": "02d777a2",
   "metadata": {},
   "outputs": [
    {
     "data": {
      "text/plain": [
       "(True, False, True)"
      ]
     },
     "execution_count": 145,
     "metadata": {},
     "output_type": "execute_result"
    }
   ],
   "source": [
    "travel()"
   ]
  },
  {
   "cell_type": "code",
   "execution_count": 147,
   "id": "4fcb3c12",
   "metadata": {},
   "outputs": [
    {
     "data": {
      "text/plain": [
       "(True, False, True)"
      ]
     },
     "execution_count": 147,
     "metadata": {},
     "output_type": "execute_result"
    }
   ],
   "source": [
    "travel(True) #by default it will change first variable"
   ]
  },
  {
   "cell_type": "code",
   "execution_count": 148,
   "id": "c675ec67",
   "metadata": {},
   "outputs": [
    {
     "data": {
      "text/plain": [
       "(True, True, True)"
      ]
     },
     "execution_count": 148,
     "metadata": {},
     "output_type": "execute_result"
    }
   ],
   "source": [
    "travel(car = True)"
   ]
  },
  {
   "cell_type": "code",
   "execution_count": 149,
   "id": "56382df5",
   "metadata": {},
   "outputs": [],
   "source": [
    "del(_)"
   ]
  },
  {
   "cell_type": "code",
   "execution_count": 150,
   "id": "24e77852",
   "metadata": {},
   "outputs": [
    {
     "ename": "NameError",
     "evalue": "name '_' is not defined",
     "output_type": "error",
     "traceback": [
      "\u001b[1;31m---------------------------------------------------------------------------\u001b[0m",
      "\u001b[1;31mNameError\u001b[0m                                 Traceback (most recent call last)",
      "Cell \u001b[1;32mIn[150], line 1\u001b[0m\n\u001b[1;32m----> 1\u001b[0m _\n",
      "\u001b[1;31mNameError\u001b[0m: name '_' is not defined"
     ]
    }
   ],
   "source": [
    "_"
   ]
  },
  {
   "cell_type": "code",
   "execution_count": 151,
   "id": "7edcff31",
   "metadata": {},
   "outputs": [
    {
     "ename": "NameError",
     "evalue": "name '_' is not defined",
     "output_type": "error",
     "traceback": [
      "\u001b[1;31m---------------------------------------------------------------------------\u001b[0m",
      "\u001b[1;31mNameError\u001b[0m                                 Traceback (most recent call last)",
      "Cell \u001b[1;32mIn[151], line 1\u001b[0m\n\u001b[1;32m----> 1\u001b[0m travel(_, \u001b[38;5;28;01mTrue\u001b[39;00m)\n",
      "\u001b[1;31mNameError\u001b[0m: name '_' is not defined"
     ]
    }
   ],
   "source": [
    "travel(_, True)"
   ]
  },
  {
   "cell_type": "code",
   "execution_count": 157,
   "id": "35e49a43",
   "metadata": {},
   "outputs": [],
   "source": [
    "def test11(*args):\n",
    "    return args"
   ]
  },
  {
   "cell_type": "code",
   "execution_count": 158,
   "id": "ab3e6ebf",
   "metadata": {},
   "outputs": [
    {
     "data": {
      "text/plain": [
       "('vithusan', 'Thas', 34, [1, 2, 3])"
      ]
     },
     "execution_count": 158,
     "metadata": {},
     "output_type": "execute_result"
    }
   ],
   "source": [
    "test11(\"vithusan\", \"Thas\", 34, [1, 2, 3])"
   ]
  },
  {
   "cell_type": "markdown",
   "id": "511d953b",
   "metadata": {},
   "source": [
    "### Task01\n",
    "\n",
    "1. Create a function which will take any number of  list and return it concatinate of all the lists"
   ]
  },
  {
   "cell_type": "code",
   "execution_count": 225,
   "id": "bb30d76d",
   "metadata": {},
   "outputs": [],
   "source": [
    "#01\n",
    "def task01(*args):\n",
    "    c_list = []\n",
    "    for i in args:\n",
    "        c_list = c_list + i\n",
    "    return c_list"
   ]
  },
  {
   "cell_type": "code",
   "execution_count": 229,
   "id": "9c1ed9c1",
   "metadata": {},
   "outputs": [
    {
     "data": {
      "text/plain": [
       "[1, 2, 3, 4, 5, 6, 7, 'a', 'b', 8, 9, 10, 11, 12, 13, 14, 15]"
      ]
     },
     "execution_count": 229,
     "metadata": {},
     "output_type": "execute_result"
    }
   ],
   "source": [
    "task01([1, 2, 3], [4, 5], [6, 7], [\"a\", \"b\"], [8, 9], [10, 11], [12, 13], [14, 15])"
   ]
  },
  {
   "cell_type": "code",
   "execution_count": 230,
   "id": "bed18ebc",
   "metadata": {},
   "outputs": [
    {
     "data": {
      "text/plain": [
       "[1, 2, 3, 4, 5]"
      ]
     },
     "execution_count": 230,
     "metadata": {},
     "output_type": "execute_result"
    }
   ],
   "source": [
    "task01([1, 2, 3], [4, 5])"
   ]
  },
  {
   "cell_type": "code",
   "execution_count": 236,
   "id": "2581f650",
   "metadata": {},
   "outputs": [],
   "source": [
    "def task2(*args):\n",
    "    return [i for i in args]"
   ]
  },
  {
   "cell_type": "code",
   "execution_count": 237,
   "id": "1d63770c",
   "metadata": {},
   "outputs": [
    {
     "data": {
      "text/plain": [
       "[[1, 2, 3], [4, 5], [6, 7]]"
      ]
     },
     "execution_count": 237,
     "metadata": {},
     "output_type": "execute_result"
    }
   ],
   "source": [
    "task2([1, 2, 3], [4, 5], [6, 7])"
   ]
  },
  {
   "cell_type": "code",
   "execution_count": 239,
   "id": "239a125d",
   "metadata": {},
   "outputs": [
    {
     "ename": "TypeError",
     "evalue": "can only concatenate list (not \"str\") to list",
     "output_type": "error",
     "traceback": [
      "\u001b[1;31m---------------------------------------------------------------------------\u001b[0m",
      "\u001b[1;31mTypeError\u001b[0m                                 Traceback (most recent call last)",
      "Cell \u001b[1;32mIn[239], line 1\u001b[0m\n\u001b[1;32m----> 1\u001b[0m task01(\u001b[38;5;124m\"\u001b[39m\u001b[38;5;124mvithu\u001b[39m\u001b[38;5;124m\"\u001b[39m, \u001b[38;5;241m213\u001b[39m, [\u001b[38;5;241m1\u001b[39m, \u001b[38;5;241m2\u001b[39m, \u001b[38;5;241m3\u001b[39m])\n",
      "Cell \u001b[1;32mIn[225], line 5\u001b[0m, in \u001b[0;36mtask01\u001b[1;34m(*args)\u001b[0m\n\u001b[0;32m      3\u001b[0m c_list \u001b[38;5;241m=\u001b[39m []\n\u001b[0;32m      4\u001b[0m \u001b[38;5;28;01mfor\u001b[39;00m i \u001b[38;5;129;01min\u001b[39;00m args:\n\u001b[1;32m----> 5\u001b[0m     c_list \u001b[38;5;241m=\u001b[39m c_list \u001b[38;5;241m+\u001b[39m i\n\u001b[0;32m      6\u001b[0m \u001b[38;5;28;01mreturn\u001b[39;00m c_list\n",
      "\u001b[1;31mTypeError\u001b[0m: can only concatenate list (not \"str\") to list"
     ]
    }
   ],
   "source": [
    "task01(\"vithu\", 213, [1, 2, 3])"
   ]
  },
  {
   "cell_type": "code",
   "execution_count": 240,
   "id": "56cb1fef",
   "metadata": {},
   "outputs": [],
   "source": [
    "def task3(*args):\n",
    "    c_list = []\n",
    "    for i in args:\n",
    "        if type(i) == list:\n",
    "            c_list = c_list + i\n",
    "    return c_list"
   ]
  },
  {
   "cell_type": "code",
   "execution_count": 241,
   "id": "8ed7aac9",
   "metadata": {},
   "outputs": [
    {
     "data": {
      "text/plain": [
       "[1, 2, 3]"
      ]
     },
     "execution_count": 241,
     "metadata": {},
     "output_type": "execute_result"
    }
   ],
   "source": [
    "task3(\"vithu\", 213, [1, 2, 3])"
   ]
  },
  {
   "cell_type": "code",
   "execution_count": 245,
   "id": "27e6590d",
   "metadata": {},
   "outputs": [],
   "source": [
    "def test16(**kwargs): #key value pair\n",
    "    return kwargs"
   ]
  },
  {
   "cell_type": "code",
   "execution_count": 246,
   "id": "bdcb97cf",
   "metadata": {},
   "outputs": [
    {
     "data": {
      "text/plain": [
       "{}"
      ]
     },
     "execution_count": 246,
     "metadata": {},
     "output_type": "execute_result"
    }
   ],
   "source": [
    "test16()"
   ]
  },
  {
   "cell_type": "code",
   "execution_count": 247,
   "id": "8665f49b",
   "metadata": {},
   "outputs": [
    {
     "data": {
      "text/plain": [
       "dict"
      ]
     },
     "execution_count": 247,
     "metadata": {},
     "output_type": "execute_result"
    }
   ],
   "source": [
    "type(test16())"
   ]
  },
  {
   "cell_type": "code",
   "execution_count": 248,
   "id": "a2269d81",
   "metadata": {},
   "outputs": [
    {
     "ename": "TypeError",
     "evalue": "test16() takes 0 positional arguments but 3 were given",
     "output_type": "error",
     "traceback": [
      "\u001b[1;31m---------------------------------------------------------------------------\u001b[0m",
      "\u001b[1;31mTypeError\u001b[0m                                 Traceback (most recent call last)",
      "Cell \u001b[1;32mIn[248], line 1\u001b[0m\n\u001b[1;32m----> 1\u001b[0m test16(\u001b[38;5;241m1\u001b[39m, \u001b[38;5;241m2\u001b[39m, \u001b[38;5;241m3\u001b[39m)\n",
      "\u001b[1;31mTypeError\u001b[0m: test16() takes 0 positional arguments but 3 were given"
     ]
    }
   ],
   "source": [
    "test16(1, 2, 3)"
   ]
  },
  {
   "cell_type": "code",
   "execution_count": 250,
   "id": "e10586ff",
   "metadata": {},
   "outputs": [
    {
     "data": {
      "text/plain": [
       "{'a': 1, 'b': 2, 'c': 3}"
      ]
     },
     "execution_count": 250,
     "metadata": {},
     "output_type": "execute_result"
    }
   ],
   "source": [
    "test16(a = 1, b = 2, c = 3)"
   ]
  },
  {
   "cell_type": "code",
   "execution_count": 251,
   "id": "d7b99dcb",
   "metadata": {},
   "outputs": [
    {
     "ename": "SyntaxError",
     "evalue": "invalid syntax (4179593983.py, line 1)",
     "output_type": "error",
     "traceback": [
      "\u001b[1;36m  Cell \u001b[1;32mIn[251], line 1\u001b[1;36m\u001b[0m\n\u001b[1;33m    test16(a : 1)\u001b[0m\n\u001b[1;37m             ^\u001b[0m\n\u001b[1;31mSyntaxError\u001b[0m\u001b[1;31m:\u001b[0m invalid syntax\n"
     ]
    }
   ],
   "source": [
    "test16(a : 1)"
   ]
  },
  {
   "cell_type": "code",
   "execution_count": 254,
   "id": "9bf6e5f2",
   "metadata": {},
   "outputs": [
    {
     "data": {
      "text/plain": [
       "{'a': True, 'b': 'vithu', 'c': [1, 2, 3, 4, 5, 6, 7, 8], 'd': False}"
      ]
     },
     "execution_count": 254,
     "metadata": {},
     "output_type": "execute_result"
    }
   ],
   "source": [
    "test16(a = True, b = \"vithu\", c = [1, 2, 3, 4, 5, 6, 7, 8], d = False)"
   ]
  },
  {
   "cell_type": "markdown",
   "id": "ba3deddd",
   "metadata": {},
   "source": [
    "### Task 02\n",
    "\n",
    "1. create a function to that take any number of mix data and try to create a list of seperate data  based on a datatype, and return multiple result.\n",
    "\n",
    "2. Create a function wich will be able to use *args and **kwargs and it will be able to do all the list value concadination and return a list"
   ]
  },
  {
   "cell_type": "code",
   "execution_count": 260,
   "id": "407aa3d7",
   "metadata": {},
   "outputs": [],
   "source": [
    "#01\n",
    "def task2(*args):\n",
    "     # Initialize empty lists for each data type\n",
    "    int_list = []\n",
    "    float_list = []\n",
    "    str_list = []\n",
    "    bool_list = []\n",
    "    other_list = []\n",
    "    \n",
    "    for i in args:\n",
    "        if type(i) == int:\n",
    "            int_list.append(i)\n",
    "        elif type(i) == float:\n",
    "             float_list.append(i)\n",
    "        elif type(i) == str:\n",
    "             str_list.append(i)\n",
    "        elif type(i) == bool:\n",
    "             bool_list.append(i)\n",
    "        else:\n",
    "            other_list.append(i)\n",
    "            \n",
    "    return int_list, float_list, str_list, bool_list, other_list"
   ]
  },
  {
   "cell_type": "code",
   "execution_count": 261,
   "id": "855d59f7",
   "metadata": {},
   "outputs": [
    {
     "data": {
      "text/plain": [
       "([10], [3.14], ['hello'], [True], [[1, 2, 3], {'a': 1}, None])"
      ]
     },
     "execution_count": 261,
     "metadata": {},
     "output_type": "execute_result"
    }
   ],
   "source": [
    "task2(10, 3.14, \"hello\", True, [1, 2, 3], {\"a\": 1}, None)"
   ]
  },
  {
   "cell_type": "code",
   "execution_count": 305,
   "id": "e7021350",
   "metadata": {},
   "outputs": [],
   "source": [
    "#alternative solution\n",
    "\n",
    "def func(*args):\n",
    "    dt = {}\n",
    "    for i in args:\n",
    "        if type(i) in dt:\n",
    "            dt[type(i)].append(i)\n",
    "        else:\n",
    "             dt[type(i)] = [i]\n",
    "    return dt"
   ]
  },
  {
   "cell_type": "code",
   "execution_count": 312,
   "id": "8e2a687c",
   "metadata": {},
   "outputs": [
    {
     "data": {
      "text/plain": [
       "{int: [10, 20],\n",
       " float: [3.14],\n",
       " str: ['hello'],\n",
       " bool: [True],\n",
       " list: [[1, 2, 3], [2, 2, 2]],\n",
       " dict: [{'a': 1}],\n",
       " NoneType: [None],\n",
       " complex: [(5+6j)]}"
      ]
     },
     "execution_count": 312,
     "metadata": {},
     "output_type": "execute_result"
    }
   ],
   "source": [
    "func(10, 20, 3.14, \"hello\", True, [1, 2, 3], {\"a\": 1}, None, 5 + 6j, [2, 2, 2])"
   ]
  },
  {
   "cell_type": "code",
   "execution_count": 275,
   "id": "68fc4eeb",
   "metadata": {},
   "outputs": [],
   "source": [
    "#02\n",
    "def task3(*args, **kwargs):\n",
    "    l = []\n",
    "    \n",
    "    for i in args:\n",
    "        if type(i) == list:\n",
    "            l.extend(i)\n",
    "            \n",
    "    for j in kwargs.values():\n",
    "        if type(j) == list:\n",
    "            l.extend(i)\n",
    "    return l"
   ]
  },
  {
   "cell_type": "code",
   "execution_count": 277,
   "id": "15595a4d",
   "metadata": {},
   "outputs": [
    {
     "data": {
      "text/plain": [
       "[2, 3, 2, 3]"
      ]
     },
     "execution_count": 277,
     "metadata": {},
     "output_type": "execute_result"
    }
   ],
   "source": [
    "task3(1, [2, 3], a = 4, b = [5, 6])"
   ]
  },
  {
   "cell_type": "code",
   "execution_count": 286,
   "id": "0eefcae1",
   "metadata": {},
   "outputs": [],
   "source": [
    "#02\n",
    "def task3(*args, **kwargs):\n",
    "    l = []\n",
    "    l.extend(i for i in args if type(i) == list)\n",
    "    l.extend(i for i in kwargs.values() if type(i) == list)\n",
    "    return l"
   ]
  },
  {
   "cell_type": "code",
   "execution_count": 287,
   "id": "0acd0f62",
   "metadata": {},
   "outputs": [
    {
     "data": {
      "text/plain": [
       "[[2, 3], [5, 6]]"
      ]
     },
     "execution_count": 287,
     "metadata": {},
     "output_type": "execute_result"
    }
   ],
   "source": [
    "task3(1, [2, 3], a = 4, b = [5, 6])"
   ]
  },
  {
   "cell_type": "code",
   "execution_count": 299,
   "id": "0627dd56",
   "metadata": {},
   "outputs": [],
   "source": [
    "def test18(**kwargs):\n",
    "    for i in kwargs.values():\n",
    "        if type(i) == list:\n",
    "            if \"vithu\" in i:\n",
    "                print(\"iam able to find your name\")\n",
    "    return kwargs"
   ]
  },
  {
   "cell_type": "code",
   "execution_count": 313,
   "id": "6085cfa0",
   "metadata": {},
   "outputs": [
    {
     "name": "stdout",
     "output_type": "stream",
     "text": [
      "iam able to find your name\n"
     ]
    },
    {
     "data": {
      "text/plain": [
       "{'a': 1,\n",
       " 'b': 2,\n",
       " 'c': [1, 2, 3],\n",
       " 'name': ['vithu', 'nila'],\n",
       " 'd': True,\n",
       " 'f': {1: 2}}"
      ]
     },
     "execution_count": 313,
     "metadata": {},
     "output_type": "execute_result"
    }
   ],
   "source": [
    "test18(a = 1, b = 2, c = [1, 2, 3], name = [\"vithu\", \"nila\"], d = True, f = {1 : 2})"
   ]
  },
  {
   "cell_type": "code",
   "execution_count": null,
   "id": "7deb2992",
   "metadata": {},
   "outputs": [],
   "source": []
  }
 ],
 "metadata": {
  "kernelspec": {
   "display_name": "Python 3 (ipykernel)",
   "language": "python",
   "name": "python3"
  },
  "language_info": {
   "codemirror_mode": {
    "name": "ipython",
    "version": 3
   },
   "file_extension": ".py",
   "mimetype": "text/x-python",
   "name": "python",
   "nbconvert_exporter": "python",
   "pygments_lexer": "ipython3",
   "version": "3.11.5"
  }
 },
 "nbformat": 4,
 "nbformat_minor": 5
}
