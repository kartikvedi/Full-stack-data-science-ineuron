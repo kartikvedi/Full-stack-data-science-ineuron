{
 "cells": [
  {
   "cell_type": "markdown",
   "id": "ed71e13c",
   "metadata": {},
   "source": [
    "# Lecture 06 - 2024.05.11"
   ]
  },
  {
   "cell_type": "markdown",
   "id": "aa7b0a53",
   "metadata": {},
   "source": [
    "## Function in python"
   ]
  },
  {
   "cell_type": "code",
   "execution_count": 40,
   "id": "9c2f7718",
   "metadata": {},
   "outputs": [
    {
     "data": {
      "text/plain": [
       "3"
      ]
     },
     "execution_count": 40,
     "metadata": {},
     "output_type": "execute_result"
    }
   ],
   "source": [
    "a = 1\n",
    "b = 2\n",
    "a + b"
   ]
  },
  {
   "cell_type": "code",
   "execution_count": 41,
   "id": "8f2cd611",
   "metadata": {},
   "outputs": [
    {
     "data": {
      "text/plain": [
       "30"
      ]
     },
     "execution_count": 41,
     "metadata": {},
     "output_type": "execute_result"
    }
   ],
   "source": [
    "a = 10\n",
    "b = 20\n",
    "a + b"
   ]
  },
  {
   "cell_type": "code",
   "execution_count": 42,
   "id": "958e1a5d",
   "metadata": {},
   "outputs": [
    {
     "name": "stdout",
     "output_type": "stream",
     "text": [
      "30\n"
     ]
    }
   ],
   "source": [
    "def test1(x, y):\n",
    "    print( x + y)\n",
    "\n",
    "test1(10, 20)"
   ]
  },
  {
   "cell_type": "code",
   "execution_count": 43,
   "id": "5decb20f",
   "metadata": {},
   "outputs": [
    {
     "data": {
      "text/plain": [
       "<function __main__.test1(x, y)>"
      ]
     },
     "execution_count": 43,
     "metadata": {},
     "output_type": "execute_result"
    }
   ],
   "source": [
    "test1"
   ]
  },
  {
   "cell_type": "code",
   "execution_count": 44,
   "id": "f6a7ae74",
   "metadata": {},
   "outputs": [
    {
     "ename": "TypeError",
     "evalue": "test1() missing 2 required positional arguments: 'x' and 'y'",
     "output_type": "error",
     "traceback": [
      "\u001b[1;31m---------------------------------------------------------------------------\u001b[0m",
      "\u001b[1;31mTypeError\u001b[0m                                 Traceback (most recent call last)",
      "Cell \u001b[1;32mIn[44], line 1\u001b[0m\n\u001b[1;32m----> 1\u001b[0m test1()\n",
      "\u001b[1;31mTypeError\u001b[0m: test1() missing 2 required positional arguments: 'x' and 'y'"
     ]
    }
   ],
   "source": [
    "test1()"
   ]
  },
  {
   "cell_type": "code",
   "execution_count": 45,
   "id": "d5611139",
   "metadata": {},
   "outputs": [
    {
     "name": "stdout",
     "output_type": "stream",
     "text": [
      "4\n"
     ]
    }
   ],
   "source": [
    "test1(1, 3)"
   ]
  },
  {
   "cell_type": "code",
   "execution_count": 46,
   "id": "910baccd",
   "metadata": {},
   "outputs": [
    {
     "name": "stdout",
     "output_type": "stream",
     "text": [
      "17\n"
     ]
    }
   ],
   "source": [
    "test1(8, 9)"
   ]
  },
  {
   "cell_type": "code",
   "execution_count": 47,
   "id": "661aff78",
   "metadata": {},
   "outputs": [
    {
     "name": "stdout",
     "output_type": "stream",
     "text": [
      "121\n"
     ]
    }
   ],
   "source": [
    "test1(55, 66)"
   ]
  },
  {
   "cell_type": "code",
   "execution_count": 48,
   "id": "7b742c0e",
   "metadata": {},
   "outputs": [],
   "source": [
    "def test2(a, b):\n",
    "    return a * b #Return will return exact data type"
   ]
  },
  {
   "cell_type": "code",
   "execution_count": 49,
   "id": "8210dd2f",
   "metadata": {},
   "outputs": [
    {
     "data": {
      "text/plain": [
       "16"
      ]
     },
     "execution_count": 49,
     "metadata": {},
     "output_type": "execute_result"
    }
   ],
   "source": [
    "test2(2, 8)"
   ]
  },
  {
   "cell_type": "code",
   "execution_count": 50,
   "id": "79174955",
   "metadata": {},
   "outputs": [
    {
     "name": "stdout",
     "output_type": "stream",
     "text": [
      "11\n"
     ]
    },
    {
     "ename": "TypeError",
     "evalue": "unsupported operand type(s) for +: 'NoneType' and 'int'",
     "output_type": "error",
     "traceback": [
      "\u001b[1;31m---------------------------------------------------------------------------\u001b[0m",
      "\u001b[1;31mTypeError\u001b[0m                                 Traceback (most recent call last)",
      "Cell \u001b[1;32mIn[50], line 1\u001b[0m\n\u001b[1;32m----> 1\u001b[0m test1(\u001b[38;5;241m5\u001b[39m, \u001b[38;5;241m6\u001b[39m) \u001b[38;5;241m+\u001b[39m \u001b[38;5;241m6\u001b[39m\n",
      "\u001b[1;31mTypeError\u001b[0m: unsupported operand type(s) for +: 'NoneType' and 'int'"
     ]
    }
   ],
   "source": [
    "test1(5, 6) + 6"
   ]
  },
  {
   "cell_type": "code",
   "execution_count": 51,
   "id": "d9ece602",
   "metadata": {},
   "outputs": [
    {
     "name": "stdout",
     "output_type": "stream",
     "text": [
      "10\n"
     ]
    },
    {
     "ename": "TypeError",
     "evalue": "unsupported operand type(s) for +: 'NoneType' and 'int'",
     "output_type": "error",
     "traceback": [
      "\u001b[1;31m---------------------------------------------------------------------------\u001b[0m",
      "\u001b[1;31mTypeError\u001b[0m                                 Traceback (most recent call last)",
      "Cell \u001b[1;32mIn[51], line 1\u001b[0m\n\u001b[1;32m----> 1\u001b[0m test1(\u001b[38;5;241m5\u001b[39m, \u001b[38;5;241m5\u001b[39m) \u001b[38;5;241m+\u001b[39m \u001b[38;5;241m10\u001b[39m\n",
      "\u001b[1;31mTypeError\u001b[0m: unsupported operand type(s) for +: 'NoneType' and 'int'"
     ]
    }
   ],
   "source": [
    "test1(5, 5) + 10"
   ]
  },
  {
   "cell_type": "code",
   "execution_count": null,
   "id": "f2c77dc2",
   "metadata": {},
   "outputs": [],
   "source": [
    "type(test1(5, 6))"
   ]
  },
  {
   "cell_type": "code",
   "execution_count": 52,
   "id": "c45b184e",
   "metadata": {},
   "outputs": [
    {
     "data": {
      "text/plain": [
       "int"
      ]
     },
     "execution_count": 52,
     "metadata": {},
     "output_type": "execute_result"
    }
   ],
   "source": [
    "type(test2(5, 5))"
   ]
  },
  {
   "cell_type": "code",
   "execution_count": 53,
   "id": "37851537",
   "metadata": {},
   "outputs": [
    {
     "name": "stdout",
     "output_type": "stream",
     "text": [
      "4\n"
     ]
    }
   ],
   "source": [
    "b = test1(2, 2)"
   ]
  },
  {
   "cell_type": "code",
   "execution_count": 54,
   "id": "0f260824",
   "metadata": {},
   "outputs": [],
   "source": [
    "b"
   ]
  },
  {
   "cell_type": "code",
   "execution_count": 55,
   "id": "7ecd0dcc",
   "metadata": {},
   "outputs": [
    {
     "ename": "TypeError",
     "evalue": "unsupported operand type(s) for +: 'NoneType' and 'int'",
     "output_type": "error",
     "traceback": [
      "\u001b[1;31m---------------------------------------------------------------------------\u001b[0m",
      "\u001b[1;31mTypeError\u001b[0m                                 Traceback (most recent call last)",
      "Cell \u001b[1;32mIn[55], line 1\u001b[0m\n\u001b[1;32m----> 1\u001b[0m b \u001b[38;5;241m+\u001b[39m \u001b[38;5;241m4\u001b[39m\n",
      "\u001b[1;31mTypeError\u001b[0m: unsupported operand type(s) for +: 'NoneType' and 'int'"
     ]
    }
   ],
   "source": [
    "b + 4"
   ]
  },
  {
   "cell_type": "code",
   "execution_count": 56,
   "id": "c56b29ae",
   "metadata": {},
   "outputs": [],
   "source": [
    "a = test2(5, 8)"
   ]
  },
  {
   "cell_type": "code",
   "execution_count": 57,
   "id": "207c2bcd",
   "metadata": {},
   "outputs": [
    {
     "data": {
      "text/plain": [
       "40"
      ]
     },
     "execution_count": 57,
     "metadata": {},
     "output_type": "execute_result"
    }
   ],
   "source": [
    "a"
   ]
  },
  {
   "cell_type": "code",
   "execution_count": 58,
   "id": "7145d40d",
   "metadata": {},
   "outputs": [
    {
     "data": {
      "text/plain": [
       "50"
      ]
     },
     "execution_count": 58,
     "metadata": {},
     "output_type": "execute_result"
    }
   ],
   "source": [
    "a + 10"
   ]
  },
  {
   "cell_type": "code",
   "execution_count": 60,
   "id": "54d1da58",
   "metadata": {},
   "outputs": [],
   "source": [
    "def test3(p, q, r):\n",
    "    return p + q"
   ]
  },
  {
   "cell_type": "code",
   "execution_count": 61,
   "id": "5bfc8cb8",
   "metadata": {},
   "outputs": [
    {
     "ename": "TypeError",
     "evalue": "test3() missing 1 required positional argument: 'r'",
     "output_type": "error",
     "traceback": [
      "\u001b[1;31m---------------------------------------------------------------------------\u001b[0m",
      "\u001b[1;31mTypeError\u001b[0m                                 Traceback (most recent call last)",
      "Cell \u001b[1;32mIn[61], line 1\u001b[0m\n\u001b[1;32m----> 1\u001b[0m test3(\u001b[38;5;241m10\u001b[39m, \u001b[38;5;241m15\u001b[39m)\n",
      "\u001b[1;31mTypeError\u001b[0m: test3() missing 1 required positional argument: 'r'"
     ]
    }
   ],
   "source": [
    "test3(10, 15)"
   ]
  },
  {
   "cell_type": "code",
   "execution_count": 65,
   "id": "cadba5b1",
   "metadata": {},
   "outputs": [
    {
     "data": {
      "text/plain": [
       "25"
      ]
     },
     "execution_count": 65,
     "metadata": {},
     "output_type": "execute_result"
    }
   ],
   "source": [
    "test3(10, 15, 25) #you have to full fill all the argument list"
   ]
  },
  {
   "cell_type": "code",
   "execution_count": 71,
   "id": "f6b09454",
   "metadata": {},
   "outputs": [],
   "source": [
    "def test4(n, m):\n",
    "    return n * 10, m * 20, m * m, n * n"
   ]
  },
  {
   "cell_type": "code",
   "execution_count": 72,
   "id": "7110f33a",
   "metadata": {},
   "outputs": [
    {
     "data": {
      "text/plain": [
       "(50, 200, 100, 25)"
      ]
     },
     "execution_count": 72,
     "metadata": {},
     "output_type": "execute_result"
    }
   ],
   "source": [
    "test4(5, 10)"
   ]
  },
  {
   "cell_type": "code",
   "execution_count": 73,
   "id": "b53faadb",
   "metadata": {},
   "outputs": [
    {
     "data": {
      "text/plain": [
       "tuple"
      ]
     },
     "execution_count": 73,
     "metadata": {},
     "output_type": "execute_result"
    }
   ],
   "source": [
    "type(test4(5, 10))"
   ]
  },
  {
   "cell_type": "code",
   "execution_count": 76,
   "id": "362fbc85",
   "metadata": {},
   "outputs": [],
   "source": [
    "def test4(n, m):\n",
    "    return n, m, n * m"
   ]
  },
  {
   "cell_type": "code",
   "execution_count": 77,
   "id": "62c736f4",
   "metadata": {},
   "outputs": [
    {
     "data": {
      "text/plain": [
       "(5, 10, 50)"
      ]
     },
     "execution_count": 77,
     "metadata": {},
     "output_type": "execute_result"
    }
   ],
   "source": [
    "test4(5, 10)"
   ]
  },
  {
   "cell_type": "code",
   "execution_count": 78,
   "id": "931e27d9",
   "metadata": {},
   "outputs": [],
   "source": [
    "a, b, c = test4(5, 10)"
   ]
  },
  {
   "cell_type": "code",
   "execution_count": 79,
   "id": "670a5ca5",
   "metadata": {},
   "outputs": [
    {
     "data": {
      "text/plain": [
       "5"
      ]
     },
     "execution_count": 79,
     "metadata": {},
     "output_type": "execute_result"
    }
   ],
   "source": [
    "a"
   ]
  },
  {
   "cell_type": "code",
   "execution_count": 80,
   "id": "343dfeb9",
   "metadata": {},
   "outputs": [
    {
     "data": {
      "text/plain": [
       "10"
      ]
     },
     "execution_count": 80,
     "metadata": {},
     "output_type": "execute_result"
    }
   ],
   "source": [
    "b"
   ]
  },
  {
   "cell_type": "code",
   "execution_count": 81,
   "id": "0e6b0674",
   "metadata": {},
   "outputs": [
    {
     "data": {
      "text/plain": [
       "50"
      ]
     },
     "execution_count": 81,
     "metadata": {},
     "output_type": "execute_result"
    }
   ],
   "source": [
    "c"
   ]
  },
  {
   "cell_type": "code",
   "execution_count": 83,
   "id": "05082ce7",
   "metadata": {},
   "outputs": [
    {
     "data": {
      "text/plain": [
       "int"
      ]
     },
     "execution_count": 83,
     "metadata": {},
     "output_type": "execute_result"
    }
   ],
   "source": [
    "type(a)"
   ]
  },
  {
   "cell_type": "code",
   "execution_count": 84,
   "id": "cb9a3dd5",
   "metadata": {},
   "outputs": [],
   "source": [
    "def test5(name, age):\n",
    "    return name, age"
   ]
  },
  {
   "cell_type": "code",
   "execution_count": 86,
   "id": "8d45eb11",
   "metadata": {},
   "outputs": [],
   "source": [
    "name, age = test5(\"vithu\", 23)"
   ]
  },
  {
   "cell_type": "code",
   "execution_count": 87,
   "id": "00bc10f0",
   "metadata": {},
   "outputs": [
    {
     "data": {
      "text/plain": [
       "'vithu'"
      ]
     },
     "execution_count": 87,
     "metadata": {},
     "output_type": "execute_result"
    }
   ],
   "source": [
    "name"
   ]
  },
  {
   "cell_type": "code",
   "execution_count": 88,
   "id": "37779a16",
   "metadata": {},
   "outputs": [
    {
     "data": {
      "text/plain": [
       "23"
      ]
     },
     "execution_count": 88,
     "metadata": {},
     "output_type": "execute_result"
    }
   ],
   "source": [
    "age"
   ]
  },
  {
   "cell_type": "code",
   "execution_count": 89,
   "id": "c9be89ef",
   "metadata": {},
   "outputs": [
    {
     "ename": "ValueError",
     "evalue": "too many values to unpack (expected 2)",
     "output_type": "error",
     "traceback": [
      "\u001b[1;31m---------------------------------------------------------------------------\u001b[0m",
      "\u001b[1;31mValueError\u001b[0m                                Traceback (most recent call last)",
      "Cell \u001b[1;32mIn[89], line 1\u001b[0m\n\u001b[1;32m----> 1\u001b[0m a, b \u001b[38;5;241m=\u001b[39m test4(\u001b[38;5;241m5\u001b[39m, \u001b[38;5;241m10\u001b[39m)\n",
      "\u001b[1;31mValueError\u001b[0m: too many values to unpack (expected 2)"
     ]
    }
   ],
   "source": [
    "a, b = test4(5, 10)"
   ]
  },
  {
   "cell_type": "code",
   "execution_count": 90,
   "id": "2aebc87b",
   "metadata": {},
   "outputs": [],
   "source": [
    "a, b, _ = test4(5, 10) #placeholder _"
   ]
  },
  {
   "cell_type": "code",
   "execution_count": 92,
   "id": "c32ba692",
   "metadata": {},
   "outputs": [
    {
     "name": "stdout",
     "output_type": "stream",
     "text": [
      "5 10 50\n"
     ]
    }
   ],
   "source": [
    "print(a, b)"
   ]
  },
  {
   "cell_type": "code",
   "execution_count": 93,
   "id": "c6058540",
   "metadata": {},
   "outputs": [
    {
     "name": "stdout",
     "output_type": "stream",
     "text": [
      "5 10 50\n"
     ]
    }
   ],
   "source": [
    "print(a, b, _)"
   ]
  },
  {
   "cell_type": "code",
   "execution_count": 95,
   "id": "dc28e573",
   "metadata": {},
   "outputs": [],
   "source": [
    "a, _, b = test4(5, 10)"
   ]
  },
  {
   "cell_type": "code",
   "execution_count": 96,
   "id": "2d1c527c",
   "metadata": {},
   "outputs": [
    {
     "data": {
      "text/plain": [
       "(5, 50)"
      ]
     },
     "execution_count": 96,
     "metadata": {},
     "output_type": "execute_result"
    }
   ],
   "source": [
    "a, b"
   ]
  },
  {
   "cell_type": "code",
   "execution_count": 97,
   "id": "588ab93e",
   "metadata": {},
   "outputs": [],
   "source": [
    "_, _, b = test4(5, 10)"
   ]
  },
  {
   "cell_type": "code",
   "execution_count": 98,
   "id": "5eec49e8",
   "metadata": {},
   "outputs": [
    {
     "data": {
      "text/plain": [
       "10"
      ]
     },
     "execution_count": 98,
     "metadata": {},
     "output_type": "execute_result"
    }
   ],
   "source": [
    "_"
   ]
  },
  {
   "cell_type": "code",
   "execution_count": 99,
   "id": "3e4f0ae6",
   "metadata": {},
   "outputs": [
    {
     "data": {
      "text/plain": [
       "10"
      ]
     },
     "execution_count": 99,
     "metadata": {},
     "output_type": "execute_result"
    }
   ],
   "source": [
    "_"
   ]
  },
  {
   "cell_type": "code",
   "execution_count": 100,
   "id": "06492c91",
   "metadata": {},
   "outputs": [],
   "source": [
    "_, _, _ = test4(5, 10)"
   ]
  },
  {
   "cell_type": "code",
   "execution_count": 102,
   "id": "16279b25",
   "metadata": {},
   "outputs": [
    {
     "data": {
      "text/plain": [
       "50"
      ]
     },
     "execution_count": 102,
     "metadata": {},
     "output_type": "execute_result"
    }
   ],
   "source": [
    "_ #when you use many placeholeder it will override and give you last value"
   ]
  },
  {
   "cell_type": "code",
   "execution_count": 105,
   "id": "01f5fe79",
   "metadata": {},
   "outputs": [],
   "source": [
    "def test():\n",
    "    print(\"This is my first function\")"
   ]
  },
  {
   "cell_type": "code",
   "execution_count": 106,
   "id": "df379d41",
   "metadata": {},
   "outputs": [
    {
     "name": "stdout",
     "output_type": "stream",
     "text": [
      "This is my first function\n"
     ]
    }
   ],
   "source": [
    "test()"
   ]
  },
  {
   "cell_type": "code",
   "execution_count": 107,
   "id": "98d8bfa5",
   "metadata": {},
   "outputs": [],
   "source": [
    "def test7():\n",
    "    return \"This is my first function\""
   ]
  },
  {
   "cell_type": "code",
   "execution_count": 108,
   "id": "cbfd8f1d",
   "metadata": {},
   "outputs": [
    {
     "data": {
      "text/plain": [
       "'This is my first function i can add with you'"
      ]
     },
     "execution_count": 108,
     "metadata": {},
     "output_type": "execute_result"
    }
   ],
   "source": [
    "test7() + \" i can add with you\""
   ]
  },
  {
   "cell_type": "code",
   "execution_count": 109,
   "id": "5edc6acd",
   "metadata": {},
   "outputs": [],
   "source": [
    "def test8(n):\n",
    "    return n * 2"
   ]
  },
  {
   "cell_type": "code",
   "execution_count": 110,
   "id": "7eb483ea",
   "metadata": {},
   "outputs": [
    {
     "data": {
      "text/plain": [
       "[1, 2, 3, 1, 2, 3]"
      ]
     },
     "execution_count": 110,
     "metadata": {},
     "output_type": "execute_result"
    }
   ],
   "source": [
    "test8([1, 2, 3])"
   ]
  },
  {
   "cell_type": "code",
   "execution_count": 112,
   "id": "057f0ee0",
   "metadata": {},
   "outputs": [
    {
     "data": {
      "text/plain": [
       "100"
      ]
     },
     "execution_count": 112,
     "metadata": {},
     "output_type": "execute_result"
    }
   ],
   "source": [
    "test8(50)"
   ]
  },
  {
   "cell_type": "code",
   "execution_count": 115,
   "id": "295a927c",
   "metadata": {},
   "outputs": [
    {
     "data": {
      "text/plain": [
       "'HelloHello'"
      ]
     },
     "execution_count": 115,
     "metadata": {},
     "output_type": "execute_result"
    }
   ],
   "source": [
    "test8(\"Hello\")"
   ]
  },
  {
   "cell_type": "code",
   "execution_count": 113,
   "id": "2acf2d8a",
   "metadata": {},
   "outputs": [],
   "source": [
    "def test9(n):\n",
    "    return n, n * 7 #When a function return multiple values it will return as tuple"
   ]
  },
  {
   "cell_type": "code",
   "execution_count": 116,
   "id": "558cc7ef",
   "metadata": {},
   "outputs": [],
   "source": [
    "b = test9([1, 2, 3])"
   ]
  },
  {
   "cell_type": "code",
   "execution_count": 117,
   "id": "6aad9350",
   "metadata": {},
   "outputs": [
    {
     "data": {
      "text/plain": [
       "([1, 2, 3], [1, 2, 3, 1, 2, 3, 1, 2, 3, 1, 2, 3, 1, 2, 3, 1, 2, 3, 1, 2, 3])"
      ]
     },
     "execution_count": 117,
     "metadata": {},
     "output_type": "execute_result"
    }
   ],
   "source": [
    "b"
   ]
  },
  {
   "cell_type": "code",
   "execution_count": 118,
   "id": "7fd00dd3",
   "metadata": {},
   "outputs": [
    {
     "data": {
      "text/plain": [
       "[1, 2, 3]"
      ]
     },
     "execution_count": 118,
     "metadata": {},
     "output_type": "execute_result"
    }
   ],
   "source": [
    "b[0]"
   ]
  },
  {
   "cell_type": "code",
   "execution_count": 119,
   "id": "2bffac3e",
   "metadata": {},
   "outputs": [
    {
     "data": {
      "text/plain": [
       "[1, 2, 3, 1, 2, 3, 1, 2, 3, 1, 2, 3, 1, 2, 3, 1, 2, 3, 1, 2, 3]"
      ]
     },
     "execution_count": 119,
     "metadata": {},
     "output_type": "execute_result"
    }
   ],
   "source": [
    "b[1]"
   ]
  },
  {
   "cell_type": "code",
   "execution_count": 128,
   "id": "8fefafd3",
   "metadata": {},
   "outputs": [],
   "source": [
    "def test10(n, m = 90):\n",
    "    return n + m         "
   ]
  },
  {
   "cell_type": "code",
   "execution_count": 129,
   "id": "558e482e",
   "metadata": {},
   "outputs": [
    {
     "data": {
      "text/plain": [
       "180"
      ]
     },
     "execution_count": 129,
     "metadata": {},
     "output_type": "execute_result"
    }
   ],
   "source": [
    "test10(90)"
   ]
  },
  {
   "cell_type": "code",
   "execution_count": 140,
   "id": "bc03affc",
   "metadata": {},
   "outputs": [
    {
     "ename": "SyntaxError",
     "evalue": "non-default argument follows default argument (2298756045.py, line 1)",
     "output_type": "error",
     "traceback": [
      "\u001b[1;36m  Cell \u001b[1;32mIn[140], line 1\u001b[1;36m\u001b[0m\n\u001b[1;33m    def test10(n =  90, m): #default values should comes after non-default variables\u001b[0m\n\u001b[1;37m                        ^\u001b[0m\n\u001b[1;31mSyntaxError\u001b[0m\u001b[1;31m:\u001b[0m non-default argument follows default argument\n"
     ]
    }
   ],
   "source": [
    "def test10(n =  90, m): #default values should comes after non-default variables\n",
    "    return n + m"
   ]
  },
  {
   "cell_type": "code",
   "execution_count": 141,
   "id": "e34b383c",
   "metadata": {},
   "outputs": [],
   "source": [
    "def boolx(x = True, y = False):\n",
    "    return x + y"
   ]
  },
  {
   "cell_type": "code",
   "execution_count": 142,
   "id": "7c29c841",
   "metadata": {},
   "outputs": [
    {
     "data": {
      "text/plain": [
       "1"
      ]
     },
     "execution_count": 142,
     "metadata": {},
     "output_type": "execute_result"
    }
   ],
   "source": [
    "boolx()"
   ]
  },
  {
   "cell_type": "code",
   "execution_count": 143,
   "id": "d226285e",
   "metadata": {},
   "outputs": [
    {
     "data": {
      "text/plain": [
       "2"
      ]
     },
     "execution_count": 143,
     "metadata": {},
     "output_type": "execute_result"
    }
   ],
   "source": [
    "boolx(True, True)"
   ]
  },
  {
   "cell_type": "code",
   "execution_count": 138,
   "id": "51693c64",
   "metadata": {},
   "outputs": [
    {
     "data": {
      "text/plain": [
       "1"
      ]
     },
     "execution_count": 138,
     "metadata": {},
     "output_type": "execute_result"
    }
   ],
   "source": [
    "boolx(True,)"
   ]
  },
  {
   "cell_type": "code",
   "execution_count": 139,
   "id": "8378f507",
   "metadata": {},
   "outputs": [
    {
     "data": {
      "text/plain": [
       "1"
      ]
     },
     "execution_count": 139,
     "metadata": {},
     "output_type": "execute_result"
    }
   ],
   "source": [
    "True + False"
   ]
  },
  {
   "cell_type": "code",
   "execution_count": 144,
   "id": "596d5959",
   "metadata": {},
   "outputs": [],
   "source": [
    "def travel(bike = True, car = False):\n",
    "    plan_travel = bike or car\n",
    "    return bike, car, plan_travel"
   ]
  },
  {
   "cell_type": "code",
   "execution_count": 145,
   "id": "11d49756",
   "metadata": {},
   "outputs": [
    {
     "data": {
      "text/plain": [
       "(True, False, True)"
      ]
     },
     "execution_count": 145,
     "metadata": {},
     "output_type": "execute_result"
    }
   ],
   "source": [
    "travel()"
   ]
  },
  {
   "cell_type": "code",
   "execution_count": 147,
   "id": "0b254aa7",
   "metadata": {},
   "outputs": [
    {
     "data": {
      "text/plain": [
       "(True, False, True)"
      ]
     },
     "execution_count": 147,
     "metadata": {},
     "output_type": "execute_result"
    }
   ],
   "source": [
    "travel(True) #by default it will change first variable"
   ]
  },
  {
   "cell_type": "code",
   "execution_count": 148,
   "id": "de8a0477",
   "metadata": {},
   "outputs": [
    {
     "data": {
      "text/plain": [
       "(True, True, True)"
      ]
     },
     "execution_count": 148,
     "metadata": {},
     "output_type": "execute_result"
    }
   ],
   "source": [
    "travel(car = True)"
   ]
  },
  {
   "cell_type": "code",
   "execution_count": 149,
   "id": "da838d16",
   "metadata": {},
   "outputs": [],
   "source": [
    "del(_)"
   ]
  },
  {
   "cell_type": "code",
   "execution_count": 150,
   "id": "cb6448fe",
   "metadata": {},
   "outputs": [
    {
     "ename": "NameError",
     "evalue": "name '_' is not defined",
     "output_type": "error",
     "traceback": [
      "\u001b[1;31m---------------------------------------------------------------------------\u001b[0m",
      "\u001b[1;31mNameError\u001b[0m                                 Traceback (most recent call last)",
      "Cell \u001b[1;32mIn[150], line 1\u001b[0m\n\u001b[1;32m----> 1\u001b[0m _\n",
      "\u001b[1;31mNameError\u001b[0m: name '_' is not defined"
     ]
    }
   ],
   "source": [
    "_"
   ]
  },
  {
   "cell_type": "code",
   "execution_count": 151,
   "id": "35bfc3df",
   "metadata": {},
   "outputs": [
    {
     "ename": "NameError",
     "evalue": "name '_' is not defined",
     "output_type": "error",
     "traceback": [
      "\u001b[1;31m---------------------------------------------------------------------------\u001b[0m",
      "\u001b[1;31mNameError\u001b[0m                                 Traceback (most recent call last)",
      "Cell \u001b[1;32mIn[151], line 1\u001b[0m\n\u001b[1;32m----> 1\u001b[0m travel(_, \u001b[38;5;28;01mTrue\u001b[39;00m)\n",
      "\u001b[1;31mNameError\u001b[0m: name '_' is not defined"
     ]
    }
   ],
   "source": [
    "travel(_, True)"
   ]
  },
  {
   "cell_type": "code",
   "execution_count": 157,
   "id": "a04bb9de",
   "metadata": {},
   "outputs": [],
   "source": [
    "def test11(*args):\n",
    "    return args"
   ]
  },
  {
   "cell_type": "code",
   "execution_count": 158,
   "id": "9de12fd4",
   "metadata": {},
   "outputs": [
    {
     "data": {
      "text/plain": [
       "('vithusan', 'Thas', 34, [1, 2, 3])"
      ]
     },
     "execution_count": 158,
     "metadata": {},
     "output_type": "execute_result"
    }
   ],
   "source": [
    "test11(\"vithusan\", \"Thas\", 34, [1, 2, 3])"
   ]
  },
  {
   "cell_type": "markdown",
   "id": "a7fcd16d",
   "metadata": {},
   "source": [
    "### Task01\n",
    "\n",
    "1. Create a function which will take any number of  list and return it concatinate of all the lists"
   ]
  },
  {
   "cell_type": "code",
   "execution_count": 225,
   "id": "8f2ac98a",
   "metadata": {},
   "outputs": [],
   "source": [
    "#01\n",
    "def task01(*args):\n",
    "    c_list = []\n",
    "    for i in args:\n",
    "        c_list = c_list + i\n",
    "    return c_list"
   ]
  },
  {
   "cell_type": "code",
   "execution_count": 229,
   "id": "96facc55",
   "metadata": {},
   "outputs": [
    {
     "data": {
      "text/plain": [
       "[1, 2, 3, 4, 5, 6, 7, 'a', 'b', 8, 9, 10, 11, 12, 13, 14, 15]"
      ]
     },
     "execution_count": 229,
     "metadata": {},
     "output_type": "execute_result"
    }
   ],
   "source": [
    "task01([1, 2, 3], [4, 5], [6, 7], [\"a\", \"b\"], [8, 9], [10, 11], [12, 13], [14, 15])"
   ]
  },
  {
   "cell_type": "code",
   "execution_count": 230,
   "id": "e5b5d76b",
   "metadata": {},
   "outputs": [
    {
     "data": {
      "text/plain": [
       "[1, 2, 3, 4, 5]"
      ]
     },
     "execution_count": 230,
     "metadata": {},
     "output_type": "execute_result"
    }
   ],
   "source": [
    "task01([1, 2, 3], [4, 5])"
   ]
  },
  {
   "cell_type": "code",
   "execution_count": 236,
   "id": "ff7f6e9c",
   "metadata": {},
   "outputs": [],
   "source": [
    "def task2(*args):\n",
    "    return [i for i in args]"
   ]
  },
  {
   "cell_type": "code",
   "execution_count": 237,
   "id": "f50f1ed8",
   "metadata": {},
   "outputs": [
    {
     "data": {
      "text/plain": [
       "[[1, 2, 3], [4, 5], [6, 7]]"
      ]
     },
     "execution_count": 237,
     "metadata": {},
     "output_type": "execute_result"
    }
   ],
   "source": [
    "task2([1, 2, 3], [4, 5], [6, 7])"
   ]
  },
  {
   "cell_type": "code",
   "execution_count": 239,
   "id": "df8fbb44",
   "metadata": {},
   "outputs": [
    {
     "ename": "TypeError",
     "evalue": "can only concatenate list (not \"str\") to list",
     "output_type": "error",
     "traceback": [
      "\u001b[1;31m---------------------------------------------------------------------------\u001b[0m",
      "\u001b[1;31mTypeError\u001b[0m                                 Traceback (most recent call last)",
      "Cell \u001b[1;32mIn[239], line 1\u001b[0m\n\u001b[1;32m----> 1\u001b[0m task01(\u001b[38;5;124m\"\u001b[39m\u001b[38;5;124mvithu\u001b[39m\u001b[38;5;124m\"\u001b[39m, \u001b[38;5;241m213\u001b[39m, [\u001b[38;5;241m1\u001b[39m, \u001b[38;5;241m2\u001b[39m, \u001b[38;5;241m3\u001b[39m])\n",
      "Cell \u001b[1;32mIn[225], line 5\u001b[0m, in \u001b[0;36mtask01\u001b[1;34m(*args)\u001b[0m\n\u001b[0;32m      3\u001b[0m c_list \u001b[38;5;241m=\u001b[39m []\n\u001b[0;32m      4\u001b[0m \u001b[38;5;28;01mfor\u001b[39;00m i \u001b[38;5;129;01min\u001b[39;00m args:\n\u001b[1;32m----> 5\u001b[0m     c_list \u001b[38;5;241m=\u001b[39m c_list \u001b[38;5;241m+\u001b[39m i\n\u001b[0;32m      6\u001b[0m \u001b[38;5;28;01mreturn\u001b[39;00m c_list\n",
      "\u001b[1;31mTypeError\u001b[0m: can only concatenate list (not \"str\") to list"
     ]
    }
   ],
   "source": [
    "task01(\"vithu\", 213, [1, 2, 3])"
   ]
  },
  {
   "cell_type": "code",
   "execution_count": 240,
   "id": "e1045b5e",
   "metadata": {},
   "outputs": [],
   "source": [
    "def task3(*args):\n",
    "    c_list = []\n",
    "    for i in args:\n",
    "        if type(i) == list:\n",
    "            c_list = c_list + i\n",
    "    return c_list"
   ]
  },
  {
   "cell_type": "code",
   "execution_count": 241,
   "id": "548c4e2d",
   "metadata": {},
   "outputs": [
    {
     "data": {
      "text/plain": [
       "[1, 2, 3]"
      ]
     },
     "execution_count": 241,
     "metadata": {},
     "output_type": "execute_result"
    }
   ],
   "source": [
    "task3(\"vithu\", 213, [1, 2, 3])"
   ]
  },
  {
   "cell_type": "code",
   "execution_count": 245,
   "id": "a86d7193",
   "metadata": {},
   "outputs": [],
   "source": [
    "def test16(**kwargs): #key value pair\n",
    "    return kwargs"
   ]
  },
  {
   "cell_type": "code",
   "execution_count": 246,
   "id": "f0ac46df",
   "metadata": {},
   "outputs": [
    {
     "data": {
      "text/plain": [
       "{}"
      ]
     },
     "execution_count": 246,
     "metadata": {},
     "output_type": "execute_result"
    }
   ],
   "source": [
    "test16()"
   ]
  },
  {
   "cell_type": "code",
   "execution_count": 247,
   "id": "8e389d45",
   "metadata": {},
   "outputs": [
    {
     "data": {
      "text/plain": [
       "dict"
      ]
     },
     "execution_count": 247,
     "metadata": {},
     "output_type": "execute_result"
    }
   ],
   "source": [
    "type(test16())"
   ]
  },
  {
   "cell_type": "code",
   "execution_count": 248,
   "id": "f55180d0",
   "metadata": {},
   "outputs": [
    {
     "ename": "TypeError",
     "evalue": "test16() takes 0 positional arguments but 3 were given",
     "output_type": "error",
     "traceback": [
      "\u001b[1;31m---------------------------------------------------------------------------\u001b[0m",
      "\u001b[1;31mTypeError\u001b[0m                                 Traceback (most recent call last)",
      "Cell \u001b[1;32mIn[248], line 1\u001b[0m\n\u001b[1;32m----> 1\u001b[0m test16(\u001b[38;5;241m1\u001b[39m, \u001b[38;5;241m2\u001b[39m, \u001b[38;5;241m3\u001b[39m)\n",
      "\u001b[1;31mTypeError\u001b[0m: test16() takes 0 positional arguments but 3 were given"
     ]
    }
   ],
   "source": [
    "test16(1, 2, 3)"
   ]
  },
  {
   "cell_type": "code",
   "execution_count": 250,
   "id": "1ef65fc9",
   "metadata": {},
   "outputs": [
    {
     "data": {
      "text/plain": [
       "{'a': 1, 'b': 2, 'c': 3}"
      ]
     },
     "execution_count": 250,
     "metadata": {},
     "output_type": "execute_result"
    }
   ],
   "source": [
    "test16(a = 1, b = 2, c = 3)"
   ]
  },
  {
   "cell_type": "code",
   "execution_count": 251,
   "id": "3ba67674",
   "metadata": {},
   "outputs": [
    {
     "ename": "SyntaxError",
     "evalue": "invalid syntax (4179593983.py, line 1)",
     "output_type": "error",
     "traceback": [
      "\u001b[1;36m  Cell \u001b[1;32mIn[251], line 1\u001b[1;36m\u001b[0m\n\u001b[1;33m    test16(a : 1)\u001b[0m\n\u001b[1;37m             ^\u001b[0m\n\u001b[1;31mSyntaxError\u001b[0m\u001b[1;31m:\u001b[0m invalid syntax\n"
     ]
    }
   ],
   "source": [
    "test16(a : 1)"
   ]
  },
  {
   "cell_type": "code",
   "execution_count": 254,
   "id": "d0f6f9d1",
   "metadata": {},
   "outputs": [
    {
     "data": {
      "text/plain": [
       "{'a': True, 'b': 'vithu', 'c': [1, 2, 3, 4, 5, 6, 7, 8], 'd': False}"
      ]
     },
     "execution_count": 254,
     "metadata": {},
     "output_type": "execute_result"
    }
   ],
   "source": [
    "test16(a = True, b = \"vithu\", c = [1, 2, 3, 4, 5, 6, 7, 8], d = False)"
   ]
  },
  {
   "cell_type": "markdown",
   "id": "275014f2",
   "metadata": {},
   "source": [
    "### Task 02\n",
    "\n",
    "1. create a function to that take any number of mix data and try to create a list of seperate data  based on a datatype, and return multiple result.\n",
    "\n",
    "2. Create a function wich will be able to use *args and **kwargs and it will be able to do all the list value concadination and return a list"
   ]
  },
  {
   "cell_type": "code",
   "execution_count": 260,
   "id": "7e67411e",
   "metadata": {},
   "outputs": [],
   "source": [
    "#01\n",
    "def task2(*args):\n",
    "     # Initialize empty lists for each data type\n",
    "    int_list = []\n",
    "    float_list = []\n",
    "    str_list = []\n",
    "    bool_list = []\n",
    "    other_list = []\n",
    "    \n",
    "    for i in args:\n",
    "        if type(i) == int:\n",
    "            int_list.append(i)\n",
    "        elif type(i) == float:\n",
    "             float_list.append(i)\n",
    "        elif type(i) == str:\n",
    "             str_list.append(i)\n",
    "        elif type(i) == bool:\n",
    "             bool_list.append(i)\n",
    "        else:\n",
    "            other_list.append(i)\n",
    "            \n",
    "    return int_list, float_list, str_list, bool_list, other_list"
   ]
  },
  {
   "cell_type": "code",
   "execution_count": 261,
   "id": "93564671",
   "metadata": {},
   "outputs": [
    {
     "data": {
      "text/plain": [
       "([10], [3.14], ['hello'], [True], [[1, 2, 3], {'a': 1}, None])"
      ]
     },
     "execution_count": 261,
     "metadata": {},
     "output_type": "execute_result"
    }
   ],
   "source": [
    "task2(10, 3.14, \"hello\", True, [1, 2, 3], {\"a\": 1}, None)"
   ]
  },
  {
   "cell_type": "code",
   "execution_count": null,
   "id": "45dca572",
   "metadata": {},
   "outputs": [],
   "source": [
    "#altenative solution\n",
    "\n",
    "def func(*args):\n",
    "    dt = {}\n",
    "    k = int\n",
    "    for i in args:\n",
    "        if type(i) in dt:\n",
    "            dt[type(i)].append(i)\n",
    "        else:\n",
    "             dt[type(i)] = [i]\n",
    "    return dt"
   ]
  },
  {
   "cell_type": "code",
   "execution_count": 275,
   "id": "9634a869",
   "metadata": {},
   "outputs": [],
   "source": [
    "#02\n",
    "def task3(*args, **kwargs):\n",
    "    l = []\n",
    "    \n",
    "    for i in args:\n",
    "        if type(i) == list:\n",
    "            l.extend(i)\n",
    "            \n",
    "    for j in kwargs.values():\n",
    "        if type(j) == list:\n",
    "            l.extend(i)\n",
    "    return l"
   ]
  },
  {
   "cell_type": "code",
   "execution_count": 277,
   "id": "1c396456",
   "metadata": {},
   "outputs": [
    {
     "data": {
      "text/plain": [
       "[2, 3, 2, 3]"
      ]
     },
     "execution_count": 277,
     "metadata": {},
     "output_type": "execute_result"
    }
   ],
   "source": [
    "task3(1, [2, 3], a = 4, b = [5, 6])"
   ]
  },
  {
   "cell_type": "code",
   "execution_count": 286,
   "id": "981e57a6",
   "metadata": {},
   "outputs": [],
   "source": [
    "#02\n",
    "def task3(*args, **kwargs):\n",
    "    l = []\n",
    "    l.extend(i for i in args if type(i) == list)\n",
    "    l.extend(i for i in kwargs.values() if type(i) == list)\n",
    "    return l"
   ]
  },
  {
   "cell_type": "code",
   "execution_count": 287,
   "id": "e04b2557",
   "metadata": {},
   "outputs": [
    {
     "data": {
      "text/plain": [
       "[[2, 3], [5, 6]]"
      ]
     },
     "execution_count": 287,
     "metadata": {},
     "output_type": "execute_result"
    }
   ],
   "source": [
    "task3(1, [2, 3], a = 4, b = [5, 6])"
   ]
  },
  {
   "cell_type": "code",
   "execution_count": 299,
   "id": "f5df1148",
   "metadata": {},
   "outputs": [],
   "source": [
    "def test18(**kwargs):\n",
    "    for i in kwargs.values():\n",
    "        if type(i) == list:\n",
    "            if \"vithu\" in i:\n",
    "                print(\"iam able to find your name\")\n",
    "    return kwargs"
   ]
  },
  {
   "cell_type": "code",
   "execution_count": 300,
   "id": "b4dc2053",
   "metadata": {},
   "outputs": [
    {
     "name": "stdout",
     "output_type": "stream",
     "text": [
      "iam able to find your name\n"
     ]
    },
    {
     "data": {
      "text/plain": [
       "{'a': 1,\n",
       " 'b': 2,\n",
       " 'c': [1, 2, 3],\n",
       " 'name': ['vithu', 'nila'],\n",
       " 'd': True,\n",
       " 'f': {1: 2}}"
      ]
     },
     "execution_count": 300,
     "metadata": {},
     "output_type": "execute_result"
    }
   ],
   "source": [
    "test18(a = 1, b = 2, c = [1, 2, 3], name = [\"vithu\", \"nila\"], d = True, f = {1 : 2})"
   ]
  },
  {
   "cell_type": "code",
   "execution_count": null,
   "id": "9757a6b4",
   "metadata": {},
   "outputs": [],
   "source": [
    "i for i in "
   ]
  }
 ],
 "metadata": {
  "kernelspec": {
   "display_name": "Python 3 (ipykernel)",
   "language": "python",
   "name": "python3"
  },
  "language_info": {
   "codemirror_mode": {
    "name": "ipython",
    "version": 3
   },
   "file_extension": ".py",
   "mimetype": "text/x-python",
   "name": "python",
   "nbconvert_exporter": "python",
   "pygments_lexer": "ipython3",
   "version": "3.11.5"
  }
 },
 "nbformat": 4,
 "nbformat_minor": 5
}
