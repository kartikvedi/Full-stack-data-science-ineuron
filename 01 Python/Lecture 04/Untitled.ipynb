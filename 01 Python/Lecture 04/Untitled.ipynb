{
 "cells": [
  {
   "cell_type": "markdown",
   "id": "b6c86081",
   "metadata": {},
   "source": [
    "## List and Tuple - 2024.04.26"
   ]
  },
  {
   "cell_type": "code",
   "execution_count": 1,
   "id": "211215d8",
   "metadata": {},
   "outputs": [],
   "source": [
    "lst = [\"vithu\", 23, 45.56, [45, 56, \"c\"], True]"
   ]
  },
  {
   "cell_type": "code",
   "execution_count": 2,
   "id": "ebe446ab",
   "metadata": {},
   "outputs": [
    {
     "name": "stdout",
     "output_type": "stream",
     "text": [
      "vithu\n",
      "23\n",
      "45.56\n",
      "[45, 56, 'c']\n",
      "True\n"
     ]
    }
   ],
   "source": [
    "for i in lst:\n",
    "    print(i)"
   ]
  },
  {
   "cell_type": "code",
   "execution_count": 3,
   "id": "55b139f8",
   "metadata": {},
   "outputs": [
    {
     "name": "stdout",
     "output_type": "stream",
     "text": [
      "No elements is not a list vithu\n",
      "No elements is not a list 23\n",
      "No elements is not a list 45.56\n",
      "This is a list :  [45, 56, 'c']\n",
      "No elements is not a list True\n"
     ]
    }
   ],
   "source": [
    "for i in lst:\n",
    "    if type(i) == list:\n",
    "        print(\"This is a list : \", i)\n",
    "    else:\n",
    "        print(\"No elements is not a list\", i)"
   ]
  },
  {
   "cell_type": "code",
   "execution_count": 4,
   "id": "32aa31fe",
   "metadata": {},
   "outputs": [
    {
     "data": {
      "text/plain": [
       "True"
      ]
     },
     "execution_count": 4,
     "metadata": {},
     "output_type": "execute_result"
    }
   ],
   "source": [
    "23 in lst"
   ]
  },
  {
   "cell_type": "code",
   "execution_count": 5,
   "id": "32958b0c",
   "metadata": {},
   "outputs": [
    {
     "ename": "TypeError",
     "evalue": "'>' not supported between instances of 'int' and 'str'",
     "output_type": "error",
     "traceback": [
      "\u001b[1;31m---------------------------------------------------------------------------\u001b[0m",
      "\u001b[1;31mTypeError\u001b[0m                                 Traceback (most recent call last)",
      "Cell \u001b[1;32mIn[5], line 1\u001b[0m\n\u001b[1;32m----> 1\u001b[0m \u001b[38;5;28mmax\u001b[39m(lst)\n",
      "\u001b[1;31mTypeError\u001b[0m: '>' not supported between instances of 'int' and 'str'"
     ]
    }
   ],
   "source": [
    "max(lst)"
   ]
  },
  {
   "cell_type": "code",
   "execution_count": 13,
   "id": "386c5ffe",
   "metadata": {},
   "outputs": [
    {
     "data": {
      "text/plain": [
       "444"
      ]
     },
     "execution_count": 13,
     "metadata": {},
     "output_type": "execute_result"
    }
   ],
   "source": [
    "max([2, 45, 78, 444])"
   ]
  },
  {
   "cell_type": "code",
   "execution_count": 14,
   "id": "24a0a824",
   "metadata": {},
   "outputs": [
    {
     "ename": "TypeError",
     "evalue": "'>' not supported between instances of 'int' and 'str'",
     "output_type": "error",
     "traceback": [
      "\u001b[1;31m---------------------------------------------------------------------------\u001b[0m",
      "\u001b[1;31mTypeError\u001b[0m                                 Traceback (most recent call last)",
      "Cell \u001b[1;32mIn[14], line 1\u001b[0m\n\u001b[1;32m----> 1\u001b[0m \u001b[38;5;28mmax\u001b[39m([\u001b[38;5;124m\"\u001b[39m\u001b[38;5;124mvithu\u001b[39m\u001b[38;5;124m\"\u001b[39m, \u001b[38;5;241m2\u001b[39m, \u001b[38;5;124m\"\u001b[39m\u001b[38;5;124mC\u001b[39m\u001b[38;5;124m\"\u001b[39m])\n",
      "\u001b[1;31mTypeError\u001b[0m: '>' not supported between instances of 'int' and 'str'"
     ]
    }
   ],
   "source": [
    "max([\"vithu\", 2, \"C\"])"
   ]
  },
  {
   "cell_type": "code",
   "execution_count": 15,
   "id": "e70e289c",
   "metadata": {},
   "outputs": [
    {
     "data": {
      "text/plain": [
       "'vithu'"
      ]
     },
     "execution_count": 15,
     "metadata": {},
     "output_type": "execute_result"
    }
   ],
   "source": [
    "max([\"vithu\", \"C\"])"
   ]
  },
  {
   "cell_type": "code",
   "execution_count": null,
   "id": "96f24f0e",
   "metadata": {},
   "outputs": [],
   "source": [
    "max([\"vithu\", \"c\", \"z\"])"
   ]
  },
  {
   "cell_type": "code",
   "execution_count": null,
   "id": "d429aa62",
   "metadata": {},
   "outputs": [],
   "source": [
    "min([\"vithu\", \"c\", \"z\"])"
   ]
  },
  {
   "cell_type": "code",
   "execution_count": null,
   "id": "dd1f9509",
   "metadata": {},
   "outputs": [],
   "source": [
    "min([2, 45, 78, 444])"
   ]
  },
  {
   "cell_type": "code",
   "execution_count": null,
   "id": "c2615431",
   "metadata": {},
   "outputs": [],
   "source": [
    "l = [1, 2, 3, 4]"
   ]
  },
  {
   "cell_type": "code",
   "execution_count": null,
   "id": "b23418b7",
   "metadata": {},
   "outputs": [],
   "source": [
    "l.append(\"vithu\")"
   ]
  },
  {
   "cell_type": "code",
   "execution_count": null,
   "id": "65907e1c",
   "metadata": {},
   "outputs": [],
   "source": [
    "l"
   ]
  },
  {
   "cell_type": "code",
   "execution_count": null,
   "id": "e3399e1b",
   "metadata": {},
   "outputs": [],
   "source": [
    "l.append([1, 2, 3, 4, 4])"
   ]
  },
  {
   "cell_type": "code",
   "execution_count": null,
   "id": "3e51ca00",
   "metadata": {},
   "outputs": [],
   "source": [
    "l"
   ]
  },
  {
   "cell_type": "code",
   "execution_count": null,
   "id": "3bd2e4bd",
   "metadata": {},
   "outputs": [],
   "source": [
    "l + \"vithu\""
   ]
  },
  {
   "cell_type": "code",
   "execution_count": null,
   "id": "f55b63b4",
   "metadata": {},
   "outputs": [],
   "source": [
    "l = [1, 2, 3, 4, 5]"
   ]
  },
  {
   "cell_type": "code",
   "execution_count": null,
   "id": "8052ad67",
   "metadata": {},
   "outputs": [],
   "source": [
    "l.append(\"vithu\")"
   ]
  },
  {
   "cell_type": "code",
   "execution_count": null,
   "id": "a2e2af4f",
   "metadata": {},
   "outputs": [],
   "source": [
    "l"
   ]
  },
  {
   "cell_type": "code",
   "execution_count": null,
   "id": "b1922d04",
   "metadata": {},
   "outputs": [],
   "source": [
    "l.insert(3, \"iam 3rd\")"
   ]
  },
  {
   "cell_type": "code",
   "execution_count": null,
   "id": "348d8551",
   "metadata": {},
   "outputs": [],
   "source": [
    "l"
   ]
  },
  {
   "cell_type": "code",
   "execution_count": null,
   "id": "8234de15",
   "metadata": {},
   "outputs": [],
   "source": [
    "l.insert(-1,  \"last\")"
   ]
  },
  {
   "cell_type": "code",
   "execution_count": null,
   "id": "3ecf652a",
   "metadata": {},
   "outputs": [],
   "source": [
    "l"
   ]
  },
  {
   "cell_type": "code",
   "execution_count": null,
   "id": "658ae7fa",
   "metadata": {},
   "outputs": [],
   "source": [
    "l.count(3)"
   ]
  },
  {
   "cell_type": "code",
   "execution_count": null,
   "id": "cdee1660",
   "metadata": {},
   "outputs": [],
   "source": [
    "l = [1, 2, 3, 4]"
   ]
  },
  {
   "cell_type": "code",
   "execution_count": null,
   "id": "c9844d38",
   "metadata": {},
   "outputs": [],
   "source": [
    "l.append([\"vithu\"])"
   ]
  },
  {
   "cell_type": "code",
   "execution_count": null,
   "id": "704d68aa",
   "metadata": {},
   "outputs": [],
   "source": [
    "l"
   ]
  },
  {
   "cell_type": "code",
   "execution_count": null,
   "id": "1ddc773d",
   "metadata": {},
   "outputs": [],
   "source": [
    "l.append([1, 2, 3])"
   ]
  },
  {
   "cell_type": "code",
   "execution_count": null,
   "id": "6ac05752",
   "metadata": {},
   "outputs": [],
   "source": [
    "l"
   ]
  },
  {
   "cell_type": "code",
   "execution_count": null,
   "id": "3bc01ff1",
   "metadata": {},
   "outputs": [],
   "source": [
    "l.extend(\"test1\")"
   ]
  },
  {
   "cell_type": "code",
   "execution_count": null,
   "id": "212834ed",
   "metadata": {},
   "outputs": [],
   "source": [
    "l"
   ]
  },
  {
   "cell_type": "code",
   "execution_count": null,
   "id": "aab3d1bd",
   "metadata": {},
   "outputs": [],
   "source": [
    "s = \"test\"\n",
    "list(s)"
   ]
  },
  {
   "cell_type": "code",
   "execution_count": null,
   "id": "3a45107c",
   "metadata": {},
   "outputs": [],
   "source": [
    "l.extend(12)"
   ]
  },
  {
   "cell_type": "code",
   "execution_count": null,
   "id": "cc7b73d5",
   "metadata": {},
   "outputs": [],
   "source": [
    "l.extend([1, 2, 3])"
   ]
  },
  {
   "cell_type": "code",
   "execution_count": 17,
   "id": "c4948b36",
   "metadata": {},
   "outputs": [
    {
     "data": {
      "text/plain": [
       "[2]"
      ]
     },
     "execution_count": 17,
     "metadata": {},
     "output_type": "execute_result"
    }
   ],
   "source": [
    "l"
   ]
  },
  {
   "cell_type": "code",
   "execution_count": 19,
   "id": "71548035",
   "metadata": {},
   "outputs": [
    {
     "ename": "ValueError",
     "evalue": "3 is not in list",
     "output_type": "error",
     "traceback": [
      "\u001b[1;31m---------------------------------------------------------------------------\u001b[0m",
      "\u001b[1;31mValueError\u001b[0m                                Traceback (most recent call last)",
      "Cell \u001b[1;32mIn[19], line 1\u001b[0m\n\u001b[1;32m----> 1\u001b[0m l\u001b[38;5;241m.\u001b[39mindex(\u001b[38;5;241m3\u001b[39m)\n",
      "\u001b[1;31mValueError\u001b[0m: 3 is not in list"
     ]
    }
   ],
   "source": [
    "l.index(3)"
   ]
  },
  {
   "cell_type": "code",
   "execution_count": 18,
   "id": "fef95169",
   "metadata": {},
   "outputs": [
    {
     "data": {
      "text/plain": [
       "2"
      ]
     },
     "execution_count": 18,
     "metadata": {},
     "output_type": "execute_result"
    }
   ],
   "source": [
    "l.pop()"
   ]
  },
  {
   "cell_type": "code",
   "execution_count": 20,
   "id": "b10f067d",
   "metadata": {},
   "outputs": [
    {
     "data": {
      "text/plain": [
       "[]"
      ]
     },
     "execution_count": 20,
     "metadata": {},
     "output_type": "execute_result"
    }
   ],
   "source": [
    "l"
   ]
  },
  {
   "cell_type": "code",
   "execution_count": 21,
   "id": "2fcd1caa",
   "metadata": {},
   "outputs": [
    {
     "ename": "IndexError",
     "evalue": "pop from empty list",
     "output_type": "error",
     "traceback": [
      "\u001b[1;31m---------------------------------------------------------------------------\u001b[0m",
      "\u001b[1;31mIndexError\u001b[0m                                Traceback (most recent call last)",
      "Cell \u001b[1;32mIn[21], line 1\u001b[0m\n\u001b[1;32m----> 1\u001b[0m l\u001b[38;5;241m.\u001b[39mpop(\u001b[38;5;241m4\u001b[39m)\n",
      "\u001b[1;31mIndexError\u001b[0m: pop from empty list"
     ]
    }
   ],
   "source": [
    "l.pop(4)"
   ]
  },
  {
   "cell_type": "code",
   "execution_count": 22,
   "id": "4d0df034",
   "metadata": {},
   "outputs": [
    {
     "ename": "ValueError",
     "evalue": "list.remove(x): x not in list",
     "output_type": "error",
     "traceback": [
      "\u001b[1;31m---------------------------------------------------------------------------\u001b[0m",
      "\u001b[1;31mValueError\u001b[0m                                Traceback (most recent call last)",
      "Cell \u001b[1;32mIn[22], line 1\u001b[0m\n\u001b[1;32m----> 1\u001b[0m l\u001b[38;5;241m.\u001b[39mremove(\u001b[38;5;241m1\u001b[39m)\n",
      "\u001b[1;31mValueError\u001b[0m: list.remove(x): x not in list"
     ]
    }
   ],
   "source": [
    "l.remove(1)"
   ]
  },
  {
   "cell_type": "code",
   "execution_count": 23,
   "id": "7ae3be49",
   "metadata": {},
   "outputs": [
    {
     "data": {
      "text/plain": [
       "[]"
      ]
     },
     "execution_count": 23,
     "metadata": {},
     "output_type": "execute_result"
    }
   ],
   "source": [
    "l"
   ]
  },
  {
   "cell_type": "code",
   "execution_count": 24,
   "id": "146d595d",
   "metadata": {},
   "outputs": [],
   "source": [
    "l.reverse()"
   ]
  },
  {
   "cell_type": "code",
   "execution_count": 25,
   "id": "f7b23e94",
   "metadata": {},
   "outputs": [
    {
     "data": {
      "text/plain": [
       "[]"
      ]
     },
     "execution_count": 25,
     "metadata": {},
     "output_type": "execute_result"
    }
   ],
   "source": [
    "l"
   ]
  },
  {
   "cell_type": "code",
   "execution_count": 26,
   "id": "59d1f366",
   "metadata": {},
   "outputs": [],
   "source": [
    "l.sort()"
   ]
  },
  {
   "cell_type": "code",
   "execution_count": 27,
   "id": "44dd588c",
   "metadata": {},
   "outputs": [],
   "source": [
    "l = [2]"
   ]
  },
  {
   "cell_type": "code",
   "execution_count": 28,
   "id": "d33e0704",
   "metadata": {},
   "outputs": [],
   "source": [
    "l = [1, 2, 3]"
   ]
  },
  {
   "cell_type": "code",
   "execution_count": 29,
   "id": "4e05331b",
   "metadata": {},
   "outputs": [
    {
     "data": {
      "text/plain": [
       "[1, 2, 3]"
      ]
     },
     "execution_count": 29,
     "metadata": {},
     "output_type": "execute_result"
    }
   ],
   "source": [
    "l"
   ]
  },
  {
   "cell_type": "code",
   "execution_count": 30,
   "id": "15779d66",
   "metadata": {},
   "outputs": [],
   "source": [
    "l.append([2, 2, 2])"
   ]
  },
  {
   "cell_type": "code",
   "execution_count": 31,
   "id": "11317984",
   "metadata": {},
   "outputs": [
    {
     "data": {
      "text/plain": [
       "[1, 2, 3, [2, 2, 2]]"
      ]
     },
     "execution_count": 31,
     "metadata": {},
     "output_type": "execute_result"
    }
   ],
   "source": [
    "l"
   ]
  },
  {
   "cell_type": "code",
   "execution_count": 32,
   "id": "4e37135a",
   "metadata": {},
   "outputs": [],
   "source": [
    "l.extend([2, 2, 2])"
   ]
  },
  {
   "cell_type": "code",
   "execution_count": 34,
   "id": "1de1829b",
   "metadata": {},
   "outputs": [
    {
     "data": {
      "text/plain": [
       "[1, 2, 3, [2, 2, 2], 2, 2, 2]"
      ]
     },
     "execution_count": 34,
     "metadata": {},
     "output_type": "execute_result"
    }
   ],
   "source": [
    "l"
   ]
  },
  {
   "cell_type": "code",
   "execution_count": 35,
   "id": "a06be7c1",
   "metadata": {},
   "outputs": [
    {
     "data": {
      "text/plain": [
       "2"
      ]
     },
     "execution_count": 35,
     "metadata": {},
     "output_type": "execute_result"
    }
   ],
   "source": [
    "l.index(3)"
   ]
  },
  {
   "cell_type": "markdown",
   "id": "fcaf2549",
   "metadata": {},
   "source": [
    "Task 02\n",
    "\n",
    "lst = [[], [], []]\n",
    "\n",
    "1) append 2 more list and one complex number in this list in between a existing list.\n",
    "\n",
    "2) if your nested list contain string then find out index in nexted list and print it then remove the string\n",
    "\n",
    "3) you have to extract 2nd element of each nested list"
   ]
  },
  {
   "cell_type": "code",
   "execution_count": 83,
   "id": "6f07ff3e",
   "metadata": {},
   "outputs": [],
   "source": [
    "q1_list = [[1, 2, 3], [\"vithu\", 2.2], [5.3, 'c']]"
   ]
  },
  {
   "cell_type": "code",
   "execution_count": 84,
   "id": "922fad5c",
   "metadata": {},
   "outputs": [
    {
     "data": {
      "text/plain": [
       "[[1, 2, 3], ['vithu', 2.2], [5.3, 'c']]"
      ]
     },
     "execution_count": 84,
     "metadata": {},
     "output_type": "execute_result"
    }
   ],
   "source": [
    "q1_list"
   ]
  },
  {
   "cell_type": "code",
   "execution_count": 85,
   "id": "10136c18",
   "metadata": {},
   "outputs": [],
   "source": [
    "#Q1\n",
    "q1_list.insert(0, [\"list1\", 1.1, 1])\n",
    "q1_list.insert(3, [\"list2\", 'v', 2.2])\n",
    "q1_list.append([5j+6])"
   ]
  },
  {
   "cell_type": "code",
   "execution_count": 86,
   "id": "5b027fdf",
   "metadata": {},
   "outputs": [
    {
     "data": {
      "text/plain": [
       "[['list1', 1.1, 1],\n",
       " [1, 2, 3],\n",
       " ['vithu', 2.2],\n",
       " ['list2', 'v', 2.2],\n",
       " [5.3, 'c'],\n",
       " [(6+5j)]]"
      ]
     },
     "execution_count": 86,
     "metadata": {},
     "output_type": "execute_result"
    }
   ],
   "source": [
    "q1_list"
   ]
  },
  {
   "cell_type": "code",
   "execution_count": 90,
   "id": "1ad6ad63",
   "metadata": {},
   "outputs": [
    {
     "name": "stdout",
     "output_type": "stream",
     "text": [
      "[0][0] list1\n",
      "\n",
      "\n",
      "[2][0] vithu\n",
      "\n",
      "[3][0] list2\n",
      "[3][1] v\n",
      "\n",
      "[4][1] c\n",
      "\n",
      "\n"
     ]
    }
   ],
   "source": [
    "#Q2\n",
    "for i in range(len(q1_list)):\n",
    "    if type(q1_list[i]) == list:\n",
    "        for j in range(len(q1_list[i])):\n",
    "            if type(q1_list[i][j]) == str:\n",
    "                op = q1_list[i][j]\n",
    "                print(\"[\", i, \"]\", \"[\", j, \"] \", op, sep = \"\")\n",
    "        print()"
   ]
  },
  {
   "cell_type": "code",
   "execution_count": 100,
   "id": "af85e190",
   "metadata": {},
   "outputs": [
    {
     "name": "stdout",
     "output_type": "stream",
     "text": [
      "\n",
      "\n",
      "\n"
     ]
    },
    {
     "data": {
      "text/plain": [
       "['c']"
      ]
     },
     "execution_count": 100,
     "metadata": {},
     "output_type": "execute_result"
    }
   ],
   "source": [
    "#Q3\n",
    "for i in range(len(q1_list)):\n",
    "    if type(q1_list[i]) == list:\n",
    "        for j in range(len(q1_list[i])):\n",
    "            if len(q1_list[i]) >= 2:\n",
    "                result = []\n",
    "                result.append(q1_list[i].pop(1))\n",
    "        print()\n",
    "result"
   ]
  },
  {
   "cell_type": "code",
   "execution_count": 98,
   "id": "27ea1676",
   "metadata": {},
   "outputs": [
    {
     "data": {
      "text/plain": [
       "3"
      ]
     },
     "execution_count": 98,
     "metadata": {},
     "output_type": "execute_result"
    }
   ],
   "source": [
    "q1_list = [[1, 2, 3], [\"vithu\", 2.2], [5.3, 'c']]\n",
    "len(q1_list)"
   ]
  },
  {
   "cell_type": "code",
   "execution_count": null,
   "id": "7d015f1b",
   "metadata": {},
   "outputs": [],
   "source": []
  }
 ],
 "metadata": {
  "kernelspec": {
   "display_name": "Python 3 (ipykernel)",
   "language": "python",
   "name": "python3"
  },
  "language_info": {
   "codemirror_mode": {
    "name": "ipython",
    "version": 3
   },
   "file_extension": ".py",
   "mimetype": "text/x-python",
   "name": "python",
   "nbconvert_exporter": "python",
   "pygments_lexer": "ipython3",
   "version": "3.11.5"
  }
 },
 "nbformat": 4,
 "nbformat_minor": 5
}
