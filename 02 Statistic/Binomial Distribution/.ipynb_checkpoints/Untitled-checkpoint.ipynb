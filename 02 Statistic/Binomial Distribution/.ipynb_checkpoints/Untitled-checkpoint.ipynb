{
 "cells": [
  {
   "cell_type": "markdown",
   "id": "c0591426",
   "metadata": {},
   "source": [
    "# Binomial Distribution"
   ]
  },
  {
   "cell_type": "markdown",
   "id": "79375ef0",
   "metadata": {},
   "source": [
    "###### Suppose you are conducting an experiment where you flip a fair coin 10 times. You want to find the probability of getting exactly 6 heads out of the 10 coin flips."
   ]
  },
  {
   "cell_type": "markdown",
   "id": "df4bd795",
   "metadata": {},
   "source": [
    "- Theoretical Calculation"
   ]
  },
  {
   "cell_type": "code",
   "execution_count": 10,
   "id": "af1d022b",
   "metadata": {},
   "outputs": [
    {
     "name": "stdout",
     "output_type": "stream",
     "text": [
      "Probability of getting exactly 6 heads in 10 coin tosses: 0.205078125\n"
     ]
    }
   ],
   "source": [
    "import math\n",
    "\n",
    "# Binomial coefficient function\n",
    "def binom_coeff(n, x):\n",
    "    return math.factorial(n) / (math.factorial(x) * math.factorial(n - x))\n",
    "\n",
    "# Probability of getting exactly 6 heads in 10 tosses\n",
    "n = 10\n",
    "x = 6\n",
    "p = 0.5\n",
    "\n",
    "probability = binom_coeff(n, x) * (p**x) * ((1-p)**(n-x))\n",
    "print(f\"Probability of getting exactly 6 heads in 10 coin tosses: {probability}\")\n"
   ]
  },
  {
   "cell_type": "markdown",
   "id": "fd9c7233",
   "metadata": {},
   "source": [
    "- Practical Simulation"
   ]
  },
  {
   "cell_type": "code",
   "execution_count": 23,
   "id": "6e1ce9a7",
   "metadata": {},
   "outputs": [
    {
     "name": "stdout",
     "output_type": "stream",
     "text": [
      "Simulated probability of getting exactly 6 heads in 10 coin tosses: 0.21\n"
     ]
    }
   ],
   "source": [
    "import numpy as np\n",
    "\n",
    "# Number of simulations\n",
    "num_simulations = 100\n",
    "\n",
    "# Function to simulate coin tosses\n",
    "def simulate_coin_tosses(n, p, num_simulations):\n",
    "    successes = []\n",
    "    for _ in range(num_simulations):\n",
    "        tosses = np.random.binomial(1, p, n)\n",
    "        successes.append(sum(tosses))\n",
    "    return successes\n",
    "\n",
    "# Simulate the coin tosses\n",
    "results = simulate_coin_tosses(n, p, num_simulations)\n",
    "\n",
    "# Calculate the frequency of getting exactly 6 heads\n",
    "exactly_six_heads = results.count(6)\n",
    "simulated_probability = exactly_six_heads / num_simulations\n",
    "\n",
    "print(f\"Simulated probability of getting exactly 6 heads in 10 coin tosses: {simulated_probability}\")"
   ]
  },
  {
   "cell_type": "code",
   "execution_count": null,
   "id": "83e08df0",
   "metadata": {},
   "outputs": [],
   "source": []
  }
 ],
 "metadata": {
  "kernelspec": {
   "display_name": "Python 3 (ipykernel)",
   "language": "python",
   "name": "python3"
  },
  "language_info": {
   "codemirror_mode": {
    "name": "ipython",
    "version": 3
   },
   "file_extension": ".py",
   "mimetype": "text/x-python",
   "name": "python",
   "nbconvert_exporter": "python",
   "pygments_lexer": "ipython3",
   "version": "3.11.5"
  }
 },
 "nbformat": 4,
 "nbformat_minor": 5
}
