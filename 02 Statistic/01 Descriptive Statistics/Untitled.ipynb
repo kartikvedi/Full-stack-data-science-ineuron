{
 "cells": [
  {
   "cell_type": "markdown",
   "id": "2c956fbb",
   "metadata": {},
   "source": [
    "# Descriptive Statistics"
   ]
  },
  {
   "cell_type": "code",
   "execution_count": 16,
   "id": "bf05bbee",
   "metadata": {},
   "outputs": [],
   "source": [
    "import numpy as np\n",
    "import pandas as pd\n",
    "import matplotlib.pyplot as plt\n",
    "import seaborn as sns"
   ]
  },
  {
   "cell_type": "code",
   "execution_count": 17,
   "id": "d6bf34c0",
   "metadata": {},
   "outputs": [],
   "source": [
    "# Sample dataset\n",
    "data = [12, 15, 13, 17, 19, 21, 23, 18, 20, 22, 24, 16, 14, 20, 18]"
   ]
  },
  {
   "cell_type": "code",
   "execution_count": 18,
   "id": "3c1a7805",
   "metadata": {},
   "outputs": [],
   "source": [
    "# Convert to a pandas DataFrame\n",
    "df = pd.DataFrame(data, columns = [\"Values\"])"
   ]
  },
  {
   "cell_type": "code",
   "execution_count": 19,
   "id": "25afbcd2",
   "metadata": {},
   "outputs": [
    {
     "data": {
      "text/html": [
       "<div>\n",
       "<style scoped>\n",
       "    .dataframe tbody tr th:only-of-type {\n",
       "        vertical-align: middle;\n",
       "    }\n",
       "\n",
       "    .dataframe tbody tr th {\n",
       "        vertical-align: top;\n",
       "    }\n",
       "\n",
       "    .dataframe thead th {\n",
       "        text-align: right;\n",
       "    }\n",
       "</style>\n",
       "<table border=\"1\" class=\"dataframe\">\n",
       "  <thead>\n",
       "    <tr style=\"text-align: right;\">\n",
       "      <th></th>\n",
       "      <th>Values</th>\n",
       "    </tr>\n",
       "  </thead>\n",
       "  <tbody>\n",
       "    <tr>\n",
       "      <th>0</th>\n",
       "      <td>12</td>\n",
       "    </tr>\n",
       "    <tr>\n",
       "      <th>1</th>\n",
       "      <td>15</td>\n",
       "    </tr>\n",
       "    <tr>\n",
       "      <th>2</th>\n",
       "      <td>13</td>\n",
       "    </tr>\n",
       "    <tr>\n",
       "      <th>3</th>\n",
       "      <td>17</td>\n",
       "    </tr>\n",
       "    <tr>\n",
       "      <th>4</th>\n",
       "      <td>19</td>\n",
       "    </tr>\n",
       "    <tr>\n",
       "      <th>5</th>\n",
       "      <td>21</td>\n",
       "    </tr>\n",
       "    <tr>\n",
       "      <th>6</th>\n",
       "      <td>23</td>\n",
       "    </tr>\n",
       "    <tr>\n",
       "      <th>7</th>\n",
       "      <td>18</td>\n",
       "    </tr>\n",
       "    <tr>\n",
       "      <th>8</th>\n",
       "      <td>20</td>\n",
       "    </tr>\n",
       "    <tr>\n",
       "      <th>9</th>\n",
       "      <td>22</td>\n",
       "    </tr>\n",
       "    <tr>\n",
       "      <th>10</th>\n",
       "      <td>24</td>\n",
       "    </tr>\n",
       "    <tr>\n",
       "      <th>11</th>\n",
       "      <td>16</td>\n",
       "    </tr>\n",
       "    <tr>\n",
       "      <th>12</th>\n",
       "      <td>14</td>\n",
       "    </tr>\n",
       "    <tr>\n",
       "      <th>13</th>\n",
       "      <td>20</td>\n",
       "    </tr>\n",
       "    <tr>\n",
       "      <th>14</th>\n",
       "      <td>18</td>\n",
       "    </tr>\n",
       "  </tbody>\n",
       "</table>\n",
       "</div>"
      ],
      "text/plain": [
       "    Values\n",
       "0       12\n",
       "1       15\n",
       "2       13\n",
       "3       17\n",
       "4       19\n",
       "5       21\n",
       "6       23\n",
       "7       18\n",
       "8       20\n",
       "9       22\n",
       "10      24\n",
       "11      16\n",
       "12      14\n",
       "13      20\n",
       "14      18"
      ]
     },
     "execution_count": 19,
     "metadata": {},
     "output_type": "execute_result"
    }
   ],
   "source": [
    "df"
   ]
  },
  {
   "cell_type": "markdown",
   "id": "e96ec0cd",
   "metadata": {},
   "source": [
    "## Measure of Central Tendency\n",
    "- ### Mean\n",
    "- ### Median\n",
    "- ### Mode"
   ]
  },
  {
   "cell_type": "markdown",
   "id": "0bad8b66",
   "metadata": {},
   "source": [
    "### Mean\n",
    "###### The “Mean” is the average of the data. "
   ]
  },
  {
   "cell_type": "markdown",
   "id": "5f3a9c77",
   "metadata": {},
   "source": [
    "##### Calculate Mean Using Pandas "
   ]
  },
  {
   "cell_type": "code",
   "execution_count": 20,
   "id": "660ce3f5",
   "metadata": {},
   "outputs": [
    {
     "data": {
      "text/plain": [
       "Values    18.133333\n",
       "dtype: float64"
      ]
     },
     "execution_count": 20,
     "metadata": {},
     "output_type": "execute_result"
    }
   ],
   "source": [
    "# Calculate the mean of all numeric columns in a DataFrame\n",
    "# By default, it calculates the mean column-wise \n",
    "df.mean()"
   ]
  },
  {
   "cell_type": "code",
   "execution_count": 21,
   "id": "b90a67ca",
   "metadata": {},
   "outputs": [],
   "source": [
    "# calculate mean of a single column\n",
    "mean_value = df[\"Values\"].mean()"
   ]
  },
  {
   "cell_type": "code",
   "execution_count": 22,
   "id": "b2f75529",
   "metadata": {},
   "outputs": [
    {
     "data": {
      "text/plain": [
       "18.133333333333333"
      ]
     },
     "execution_count": 22,
     "metadata": {},
     "output_type": "execute_result"
    }
   ],
   "source": [
    "mean_value"
   ]
  },
  {
   "cell_type": "code",
   "execution_count": 23,
   "id": "53783d9e",
   "metadata": {},
   "outputs": [
    {
     "data": {
      "text/plain": [
       "0     12.0\n",
       "1     15.0\n",
       "2     13.0\n",
       "3     17.0\n",
       "4     19.0\n",
       "5     21.0\n",
       "6     23.0\n",
       "7     18.0\n",
       "8     20.0\n",
       "9     22.0\n",
       "10    24.0\n",
       "11    16.0\n",
       "12    14.0\n",
       "13    20.0\n",
       "14    18.0\n",
       "dtype: float64"
      ]
     },
     "execution_count": 23,
     "metadata": {},
     "output_type": "execute_result"
    }
   ],
   "source": [
    "# calculate mean row-wise\n",
    "df.mean(axis = 1)"
   ]
  },
  {
   "cell_type": "code",
   "execution_count": 24,
   "id": "f7b54d5e",
   "metadata": {},
   "outputs": [
    {
     "data": {
      "text/html": [
       "<div>\n",
       "<style scoped>\n",
       "    .dataframe tbody tr th:only-of-type {\n",
       "        vertical-align: middle;\n",
       "    }\n",
       "\n",
       "    .dataframe tbody tr th {\n",
       "        vertical-align: top;\n",
       "    }\n",
       "\n",
       "    .dataframe thead th {\n",
       "        text-align: right;\n",
       "    }\n",
       "</style>\n",
       "<table border=\"1\" class=\"dataframe\">\n",
       "  <thead>\n",
       "    <tr style=\"text-align: right;\">\n",
       "      <th></th>\n",
       "      <th>Values</th>\n",
       "    </tr>\n",
       "  </thead>\n",
       "  <tbody>\n",
       "    <tr>\n",
       "      <th>count</th>\n",
       "      <td>15.000000</td>\n",
       "    </tr>\n",
       "    <tr>\n",
       "      <th>mean</th>\n",
       "      <td>18.133333</td>\n",
       "    </tr>\n",
       "    <tr>\n",
       "      <th>std</th>\n",
       "      <td>3.642344</td>\n",
       "    </tr>\n",
       "    <tr>\n",
       "      <th>min</th>\n",
       "      <td>12.000000</td>\n",
       "    </tr>\n",
       "    <tr>\n",
       "      <th>25%</th>\n",
       "      <td>15.500000</td>\n",
       "    </tr>\n",
       "    <tr>\n",
       "      <th>50%</th>\n",
       "      <td>18.000000</td>\n",
       "    </tr>\n",
       "    <tr>\n",
       "      <th>75%</th>\n",
       "      <td>20.500000</td>\n",
       "    </tr>\n",
       "    <tr>\n",
       "      <th>max</th>\n",
       "      <td>24.000000</td>\n",
       "    </tr>\n",
       "  </tbody>\n",
       "</table>\n",
       "</div>"
      ],
      "text/plain": [
       "          Values\n",
       "count  15.000000\n",
       "mean   18.133333\n",
       "std     3.642344\n",
       "min    12.000000\n",
       "25%    15.500000\n",
       "50%    18.000000\n",
       "75%    20.500000\n",
       "max    24.000000"
      ]
     },
     "execution_count": 24,
     "metadata": {},
     "output_type": "execute_result"
    }
   ],
   "source": [
    "# calculate mean using describe() function\n",
    "df.describe()"
   ]
  },
  {
   "cell_type": "code",
   "execution_count": 25,
   "id": "53e7d52f",
   "metadata": {},
   "outputs": [
    {
     "data": {
      "text/plain": [
       "pandas.core.frame.DataFrame"
      ]
     },
     "execution_count": 25,
     "metadata": {},
     "output_type": "execute_result"
    }
   ],
   "source": [
    "type(df.describe())"
   ]
  },
  {
   "cell_type": "code",
   "execution_count": 26,
   "id": "525e4c6f",
   "metadata": {},
   "outputs": [
    {
     "data": {
      "text/plain": [
       "count    15.000000\n",
       "mean     18.133333\n",
       "std       3.642344\n",
       "min      12.000000\n",
       "25%      15.500000\n",
       "50%      18.000000\n",
       "75%      20.500000\n",
       "max      24.000000\n",
       "Name: Values, dtype: float64"
      ]
     },
     "execution_count": 26,
     "metadata": {},
     "output_type": "execute_result"
    }
   ],
   "source": [
    "df[\"Values\"].describe()"
   ]
  },
  {
   "cell_type": "code",
   "execution_count": 27,
   "id": "12a35387",
   "metadata": {},
   "outputs": [
    {
     "data": {
      "text/plain": [
       "18.133333333333333"
      ]
     },
     "execution_count": 27,
     "metadata": {},
     "output_type": "execute_result"
    }
   ],
   "source": [
    "df[\"Values\"].describe()[\"mean\"]"
   ]
  },
  {
   "cell_type": "code",
   "execution_count": 28,
   "id": "b8dbefff",
   "metadata": {},
   "outputs": [
    {
     "data": {
      "text/plain": [
       "Values\n",
       "12    12.0\n",
       "13    13.0\n",
       "14    14.0\n",
       "15    15.0\n",
       "16    16.0\n",
       "17    17.0\n",
       "18    18.0\n",
       "19    19.0\n",
       "20    20.0\n",
       "21    21.0\n",
       "22    22.0\n",
       "23    23.0\n",
       "24    24.0\n",
       "Name: Values, dtype: float64"
      ]
     },
     "execution_count": 28,
     "metadata": {},
     "output_type": "execute_result"
    }
   ],
   "source": [
    "# calculate mean using groupby() function\n",
    "df.groupby(\"Values\")[\"Values\"].mean()"
   ]
  },
  {
   "cell_type": "markdown",
   "id": "8c17c624",
   "metadata": {},
   "source": [
    "##### Calculate Mean Using Numpy "
   ]
  },
  {
   "cell_type": "code",
   "execution_count": 29,
   "id": "d5df3eac",
   "metadata": {},
   "outputs": [
    {
     "data": {
      "text/plain": [
       "18.133333333333333"
      ]
     },
     "execution_count": 29,
     "metadata": {},
     "output_type": "execute_result"
    }
   ],
   "source": [
    "np.mean(data)"
   ]
  },
  {
   "cell_type": "markdown",
   "id": "f7082e43",
   "metadata": {},
   "source": [
    "### Median\n",
    "###### Median is the 50%th percentile of the data.  It is exactly the centre point of the data. "
   ]
  },
  {
   "cell_type": "markdown",
   "id": "bac53baf",
   "metadata": {},
   "source": [
    "##### Calculate Mean Using Numpy "
   ]
  },
  {
   "cell_type": "code",
   "execution_count": 30,
   "id": "60d9477b",
   "metadata": {},
   "outputs": [],
   "source": [
    "data = [12, 15, 13, 17, 19, 21, 23, 18, 20, 22, 24, 16, 14, 20, 18]"
   ]
  },
  {
   "cell_type": "code",
   "execution_count": 31,
   "id": "1c4ba5d2",
   "metadata": {},
   "outputs": [
    {
     "data": {
      "text/plain": [
       "18.0"
      ]
     },
     "execution_count": 31,
     "metadata": {},
     "output_type": "execute_result"
    }
   ],
   "source": [
    "np.median(data)"
   ]
  },
  {
   "cell_type": "markdown",
   "id": "f3d4cf05",
   "metadata": {},
   "source": [
    "##### Calculate Mean Using Pandas "
   ]
  },
  {
   "cell_type": "code",
   "execution_count": 38,
   "id": "432416fb",
   "metadata": {},
   "outputs": [],
   "source": [
    "df = pd.DataFrame(data, columns = [\"Values\"])"
   ]
  },
  {
   "cell_type": "code",
   "execution_count": 40,
   "id": "3362ef8e",
   "metadata": {},
   "outputs": [
    {
     "data": {
      "text/plain": [
       "18.0"
      ]
     },
     "execution_count": 40,
     "metadata": {},
     "output_type": "execute_result"
    }
   ],
   "source": [
    "df[\"Values\"].median()"
   ]
  },
  {
   "cell_type": "markdown",
   "id": "b11b412e",
   "metadata": {},
   "source": [
    "### Mode\n",
    "###### Mode is frequently occurring data or elements."
   ]
  },
  {
   "cell_type": "markdown",
   "id": "52131ee7",
   "metadata": {},
   "source": [
    "##### Calculate Mean Using Numpy "
   ]
  },
  {
   "cell_type": "code",
   "execution_count": 47,
   "id": "cdca24f6",
   "metadata": {},
   "outputs": [
    {
     "data": {
      "text/plain": [
       "array([0, 0, 0, 0, 0, 0, 0, 0, 0, 0, 0, 0, 1, 1, 1, 1, 1, 1, 2, 1, 2, 1,\n",
       "       1, 1, 1], dtype=int64)"
      ]
     },
     "execution_count": 47,
     "metadata": {},
     "output_type": "execute_result"
    }
   ],
   "source": [
    "#nympy does not have built-in function to find mode\n",
    "#but we can find using bincount()\n",
    "np.bincount(data)"
   ]
  },
  {
   "cell_type": "code",
   "execution_count": 48,
   "id": "84627d6b",
   "metadata": {},
   "outputs": [
    {
     "data": {
      "text/plain": [
       "18"
      ]
     },
     "execution_count": 48,
     "metadata": {},
     "output_type": "execute_result"
    }
   ],
   "source": [
    "np.bincount(data).argmax()"
   ]
  },
  {
   "cell_type": "markdown",
   "id": "8e1a341f",
   "metadata": {},
   "source": [
    "##### Calculate Mean Using Pandas "
   ]
  },
  {
   "cell_type": "code",
   "execution_count": 49,
   "id": "563bb1b9",
   "metadata": {},
   "outputs": [
    {
     "data": {
      "text/plain": [
       "0    18\n",
       "1    20\n",
       "Name: Values, dtype: int64"
      ]
     },
     "execution_count": 49,
     "metadata": {},
     "output_type": "execute_result"
    }
   ],
   "source": [
    "df[\"Values\"].mode()"
   ]
  },
  {
   "cell_type": "code",
   "execution_count": 50,
   "id": "2e2dfb8d",
   "metadata": {},
   "outputs": [
    {
     "data": {
      "text/plain": [
       "18"
      ]
     },
     "execution_count": 50,
     "metadata": {},
     "output_type": "execute_result"
    }
   ],
   "source": [
    "df[\"Values\"].mode()[0]"
   ]
  },
  {
   "cell_type": "markdown",
   "id": "21b80523",
   "metadata": {},
   "source": [
    "## Measure of Dispersion\n",
    "- ### Range\n",
    "- ### Variance\n",
    "- ### Standard deviation"
   ]
  },
  {
   "cell_type": "markdown",
   "id": "3477a09c",
   "metadata": {},
   "source": [
    "### Range\n",
    "###### The range is simply the difference between the maximum and minimum values in the dataset."
   ]
  },
  {
   "cell_type": "markdown",
   "id": "162ecbad",
   "metadata": {},
   "source": [
    "##### Calculate Range Using Numpy "
   ]
  },
  {
   "cell_type": "code",
   "execution_count": 59,
   "id": "c3fe02c8",
   "metadata": {},
   "outputs": [
    {
     "data": {
      "text/plain": [
       "array([21, 43, 88, 99, 86, 75, 34, 79, 29, 57, 98, 71, 68, 43, 24, 81, 27,\n",
       "       50, 20, 98])"
      ]
     },
     "execution_count": 59,
     "metadata": {},
     "output_type": "execute_result"
    }
   ],
   "source": [
    "# generate a sample data\n",
    "data = np.random.randint(0, 100, 20) \n",
    "data"
   ]
  },
  {
   "cell_type": "code",
   "execution_count": 61,
   "id": "52c64b7e",
   "metadata": {},
   "outputs": [
    {
     "data": {
      "text/plain": [
       "79"
      ]
     },
     "execution_count": 61,
     "metadata": {},
     "output_type": "execute_result"
    }
   ],
   "source": [
    "data_range = np.max(data) - np.min(data)\n",
    "data_range"
   ]
  },
  {
   "cell_type": "markdown",
   "id": "3455d29b",
   "metadata": {},
   "source": [
    "##### Calculate Range Using Pandas "
   ]
  },
  {
   "cell_type": "code",
   "execution_count": 63,
   "id": "8a16497d",
   "metadata": {},
   "outputs": [],
   "source": [
    "df = pd.DataFrame(data, columns = [\"Values\"])"
   ]
  },
  {
   "cell_type": "code",
   "execution_count": 65,
   "id": "6a82e241",
   "metadata": {},
   "outputs": [
    {
     "data": {
      "text/plain": [
       "79"
      ]
     },
     "execution_count": 65,
     "metadata": {},
     "output_type": "execute_result"
    }
   ],
   "source": [
    "data_range = df[\"Values\"].max() - df[\"Values\"].min()\n",
    "data_range"
   ]
  },
  {
   "cell_type": "markdown",
   "id": "d9905da9",
   "metadata": {},
   "source": [
    "### Variance\n",
    "###### Variance measures how spread out the data points in a dataset are from the mean."
   ]
  },
  {
   "cell_type": "markdown",
   "id": "9c481d23",
   "metadata": {},
   "source": [
    "##### Calculate Variance Using Numpy "
   ]
  },
  {
   "cell_type": "code",
   "execution_count": 70,
   "id": "389d7ce1",
   "metadata": {},
   "outputs": [
    {
     "data": {
      "text/plain": [
       "745.3475"
      ]
     },
     "execution_count": 70,
     "metadata": {},
     "output_type": "execute_result"
    }
   ],
   "source": [
    "data_variance = np.var(data)\n",
    "data_variance"
   ]
  },
  {
   "cell_type": "markdown",
   "id": "24be3f1a",
   "metadata": {},
   "source": [
    "##### Calculate Variance Using Pandas "
   ]
  },
  {
   "cell_type": "code",
   "execution_count": 71,
   "id": "b9e6ec22",
   "metadata": {},
   "outputs": [
    {
     "data": {
      "text/plain": [
       "784.5763157894737"
      ]
     },
     "execution_count": 71,
     "metadata": {},
     "output_type": "execute_result"
    }
   ],
   "source": [
    "df[\"Values\"].var()"
   ]
  },
  {
   "cell_type": "markdown",
   "id": "af04fc2b",
   "metadata": {},
   "source": [
    "### Standard Deviation\n",
    "###### Standard deviation is the square root of the variance and it indicates the average deviation of each data point from the mean."
   ]
  },
  {
   "cell_type": "markdown",
   "id": "592e99b9",
   "metadata": {},
   "source": [
    "##### Calculate Standard Deviation Using Numpy "
   ]
  },
  {
   "cell_type": "code",
   "execution_count": 72,
   "id": "c70a8641",
   "metadata": {},
   "outputs": [
    {
     "data": {
      "text/plain": [
       "27.30105309324166"
      ]
     },
     "execution_count": 72,
     "metadata": {},
     "output_type": "execute_result"
    }
   ],
   "source": [
    "std_dev = np.std(data)\n",
    "std_dev"
   ]
  },
  {
   "cell_type": "markdown",
   "id": "26820f34",
   "metadata": {},
   "source": [
    "##### Calculate Standard Deviation Using Pandas "
   ]
  },
  {
   "cell_type": "code",
   "execution_count": 73,
   "id": "79f18447",
   "metadata": {},
   "outputs": [
    {
     "data": {
      "text/plain": [
       "28.010289462793377"
      ]
     },
     "execution_count": 73,
     "metadata": {},
     "output_type": "execute_result"
    }
   ],
   "source": [
    "df[\"Values\"].std()"
   ]
  },
  {
   "cell_type": "markdown",
   "id": "9ad386f6",
   "metadata": {},
   "source": [
    "# Understad the diffrent between Mean, Variance and STD"
   ]
  },
  {
   "cell_type": "code",
   "execution_count": 74,
   "id": "647f4451",
   "metadata": {},
   "outputs": [],
   "source": [
    "import numpy as np\n",
    "import pandas as pd\n",
    "import matplotlib.pyplot as plt"
   ]
  },
  {
   "cell_type": "code",
   "execution_count": 81,
   "id": "957e18cb",
   "metadata": {},
   "outputs": [
    {
     "data": {
      "text/plain": [
       "array([86, 60, 52, 57, 77, 40, 16, 93, 58, 88, 49, 14,  3, 96, 23, 13, 52,\n",
       "       39, 62, 34, 42, 77, 64, 57, 16, 14, 59, 17, 47, 91, 89, 84, 33, 79,\n",
       "       68, 66, 17, 93, 55, 52, 90, 72, 89, 65, 50,  6, 62, 76, 58, 99])"
      ]
     },
     "execution_count": 81,
     "metadata": {},
     "output_type": "execute_result"
    }
   ],
   "source": [
    "#genrate sample data\n",
    "data = np.random.randint(0, 100, 50)\n",
    "data "
   ]
  },
  {
   "cell_type": "code",
   "execution_count": 82,
   "id": "af39cfd6",
   "metadata": {},
   "outputs": [
    {
     "name": "stdout",
     "output_type": "stream",
     "text": [
      "NumPy - Variance: 720.0595999999999 Mean: 55.98 Standard Deviation: 26.833926287444406\n"
     ]
    }
   ],
   "source": [
    "# Calculate statistics using NumPy\n",
    "variance_np = np.var(data)\n",
    "mean_np = np.mean(data)\n",
    "std_dev_np = np.std(data)\n",
    "print(\"NumPy - Variance:\", variance_np, \"Mean:\", mean_np, \"Standard Deviation:\", std_dev_np)"
   ]
  },
  {
   "cell_type": "code",
   "execution_count": 83,
   "id": "0347d8aa",
   "metadata": {},
   "outputs": [
    {
     "name": "stdout",
     "output_type": "stream",
     "text": [
      "Pandas - Variance: 734.754693877551 Mean: 55.98 Standard Deviation: 27.106358919588423\n"
     ]
    }
   ],
   "source": [
    "# Calculate statistics using Pandas\n",
    "df = pd.DataFrame({'Data': data})\n",
    "\n",
    "variance_pd = df['Data'].var()\n",
    "mean_pd = df['Data'].mean()\n",
    "std_dev_pd = df['Data'].std()\n",
    "\n",
    "print(\"Pandas - Variance:\", variance_pd, \"Mean:\", mean_pd, \"Standard Deviation:\", std_dev_pd)"
   ]
  },
  {
   "cell_type": "code",
   "execution_count": 86,
   "id": "49735707",
   "metadata": {},
   "outputs": [
    {
     "data": {
      "image/png": "[encoded data removed]",
      "text/plain": [
       "<Figure size 1000x600 with 1 Axes>"
      ]
     },
     "metadata": {},
     "output_type": "display_data"
    }
   ],
   "source": [
    "import numpy as np\n",
    "import matplotlib.pyplot as plt\n",
    "\n",
    "# Define the dataset\n",
    "data = np.array([86, 60, 52, 57, 77, 40, 16, 93, 58, 88, 49, 14,  3, 96, 23, 13, 52,\n",
    "                 39, 62, 34, 42, 77, 64, 57, 16, 14, 59, 17, 47, 91, 89, 84, 33, 79,\n",
    "                 68, 66, 17, 93, 55, 52, 90, 72, 89, 65, 50,  6, 62, 76, 58, 99])\n",
    "\n",
    "# Calculate statistics\n",
    "mean = np.mean(data)\n",
    "std_dev = np.std(data)\n",
    "variance = np.var(data)\n",
    "\n",
    "# Create the plot\n",
    "plt.figure(figsize=(10, 6))\n",
    "plt.hist(data, bins=10, color='skyblue', edgecolor='black', alpha=0.7)\n",
    "\n",
    "# Add annotations for mean, standard deviation, and variance\n",
    "plt.axvline(mean, color='red', linestyle='dashed', linewidth=1, label='Mean')\n",
    "plt.text(mean, 5, f'Mean: {mean:.2f}', color='red', fontsize=10)\n",
    "\n",
    "plt.axvline(mean + std_dev, color='green', linestyle='dashed', linewidth=1, label='Standard Deviation')\n",
    "plt.text(mean + std_dev, 10, f'STD: {std_dev:.2f}', color='green', fontsize=10)\n",
    "\n",
    "plt.axvline(mean + np.sqrt(variance), color='orange', linestyle='dashed', linewidth=1, label='Variance')\n",
    "plt.text(mean + np.sqrt(variance), 15, f'Variance: {variance:.2f}', color='orange', fontsize=10)\n",
    "\n",
    "# Add legend\n",
    "plt.legend()\n",
    "\n",
    "# Add labels and title\n",
    "plt.xlabel('Value')\n",
    "plt.ylabel('Frequency')\n",
    "plt.title('Histogram with Mean, Standard Deviation, and Variance Annotations')\n",
    "\n",
    "# Show plot\n",
    "plt.show()\n"
   ]
  }
 ],
 "metadata": {
  "kernelspec": {
   "display_name": "Python 3 (ipykernel)",
   "language": "python",
   "name": "python3"
  },
  "language_info": {
   "codemirror_mode": {
    "name": "ipython",
    "version": 3
   },
   "file_extension": ".py",
   "mimetype": "text/x-python",
   "name": "python",
   "nbconvert_exporter": "python",
   "pygments_lexer": "ipython3",
   "version": "3.11.5"
  }
 },
 "nbformat": 4,
 "nbformat_minor": 5
}
