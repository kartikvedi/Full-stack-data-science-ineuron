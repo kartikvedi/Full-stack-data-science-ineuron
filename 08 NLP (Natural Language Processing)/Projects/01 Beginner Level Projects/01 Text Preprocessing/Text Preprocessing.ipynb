{
 "cells": [
  {
   "cell_type": "markdown",
   "id": "3eb4d165",
   "metadata": {},
   "source": [
    "## Text Preprocessing\n",
    "- Tokenization, stemming, and lemmatization.\n",
    "- Removing stop words, punctuation, and special characters.\n"
   ]
  },
  {
   "cell_type": "markdown",
   "id": "e0740d2b",
   "metadata": {},
   "source": [
    "#### Tokenization"
   ]
  },
  {
   "cell_type": "code",
   "execution_count": 4,
   "id": "b8e8cd02",
   "metadata": {},
   "outputs": [],
   "source": [
    "#load the library\n",
    "import spacy"
   ]
  },
  {
   "cell_type": "code",
   "execution_count": 3,
   "id": "cb6954ae",
   "metadata": {},
   "outputs": [],
   "source": [
    "# Load the spaCy model\n",
    "nlp = spacy.load(\"en_core_web_sm\")"
   ]
  },
  {
   "cell_type": "code",
   "execution_count": null,
   "id": "257e40f7",
   "metadata": {},
   "outputs": [],
   "source": []
  }
 ],
 "metadata": {
  "kernelspec": {
   "display_name": "Python 3 (ipykernel)",
   "language": "python",
   "name": "python3"
  },
  "language_info": {
   "codemirror_mode": {
    "name": "ipython",
    "version": 3
   },
   "file_extension": ".py",
   "mimetype": "text/x-python",
   "name": "python",
   "nbconvert_exporter": "python",
   "pygments_lexer": "ipython3",
   "version": "3.11.5"
  }
 },
 "nbformat": 4,
 "nbformat_minor": 5
}
