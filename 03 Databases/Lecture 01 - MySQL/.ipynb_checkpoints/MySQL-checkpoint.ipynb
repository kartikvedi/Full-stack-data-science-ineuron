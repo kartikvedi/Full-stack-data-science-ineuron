{
 "cells": [
  {
   "cell_type": "markdown",
   "id": "453d7a8a",
   "metadata": {},
   "source": [
    "# MySQL"
   ]
  },
  {
   "cell_type": "markdown",
   "id": "0ee05796",
   "metadata": {},
   "source": [
    "#### Connect MySQL With Python"
   ]
  },
  {
   "cell_type": "code",
   "execution_count": 65,
   "id": "3208e840",
   "metadata": {},
   "outputs": [
    {
     "name": "stdout",
     "output_type": "stream",
     "text": [
      "[('information_schema',), ('mysql',), ('performance_schema',), ('sys',)]\n"
     ]
    }
   ],
   "source": [
    "import mysql.connector as connection\n",
    "\n",
    "try:\n",
    "    # Establish connection to MySQL server\n",
    "    mydb = connection.connect(\n",
    "        host=\"localhost\",\n",
    "        user=\"root\",\n",
    "        password=\"mysql\"\n",
    "    ) \n",
    "    \n",
    "    # Define SQL query to show databases\n",
    "    query = \"SHOW DATABASES\"\n",
    "    \n",
    "    # Create cursor object to execute queries\n",
    "    cur = mydb.cursor()\n",
    "    \n",
    "    # Execute the query \"all the results will store in the cur object\"\n",
    "    cur.execute(query)\n",
    "    \n",
    "    # Fetch all rows (databases) from the result set\n",
    "    databases = cur.fetchall()\n",
    "    \n",
    "    # Print the list of databases\n",
    "    print(databases)\n",
    "    \n",
    "except Exception as e:\n",
    "    # Close connection if an error occurs\n",
    "    mydb.close()\n",
    "    print(str(e))"
   ]
  },
  {
   "cell_type": "code",
   "execution_count": 26,
   "id": "7c5a050b",
   "metadata": {},
   "outputs": [],
   "source": [
    "import mysql.connector as connection"
   ]
  },
  {
   "cell_type": "code",
   "execution_count": 44,
   "id": "1f92965d",
   "metadata": {},
   "outputs": [],
   "source": [
    "# The connect() method is used to establish a connection to a MySQL database from a Python program.\n",
    "mydb = connection.connect(\n",
    "        host = \"localhost\",\n",
    "        user = \"root\",\n",
    "        password = \"mysql\",\n",
    "        use_pure = True\n",
    "    )"
   ]
  },
  {
   "cell_type": "code",
   "execution_count": 45,
   "id": "13faaafc",
   "metadata": {},
   "outputs": [
    {
     "data": {
      "text/plain": [
       "<mysql.connector.connection.MySQLConnection at 0x2410e32d610>"
      ]
     },
     "execution_count": 45,
     "metadata": {},
     "output_type": "execute_result"
    }
   ],
   "source": [
    "mydb"
   ]
  },
  {
   "cell_type": "code",
   "execution_count": 46,
   "id": "ef4c0c13",
   "metadata": {},
   "outputs": [],
   "source": [
    "# A cursor is an object used to execute SQL queries, retrieve data, and manage the result set in a database.\n",
    "cur = mydb.cursor()"
   ]
  },
  {
   "cell_type": "code",
   "execution_count": 47,
   "id": "0e5ee033",
   "metadata": {},
   "outputs": [
    {
     "data": {
      "text/plain": [
       "<mysql.connector.cursor.MySQLCursor at 0x2410d01e810>"
      ]
     },
     "execution_count": 47,
     "metadata": {},
     "output_type": "execute_result"
    }
   ],
   "source": [
    "cur"
   ]
  },
  {
   "cell_type": "code",
   "execution_count": 48,
   "id": "a6580bc2",
   "metadata": {},
   "outputs": [],
   "source": [
    "cur.execute(\"SHOW DATABASES\")"
   ]
  },
  {
   "cell_type": "code",
   "execution_count": 50,
   "id": "3186e87c",
   "metadata": {},
   "outputs": [],
   "source": [
    "#type(cur.execute(\"show databases\"))"
   ]
  },
  {
   "cell_type": "code",
   "execution_count": 51,
   "id": "625fa609",
   "metadata": {},
   "outputs": [],
   "source": [
    "# fetch all databases\n",
    "res = cur.fetchall()"
   ]
  },
  {
   "cell_type": "code",
   "execution_count": 52,
   "id": "6c70131c",
   "metadata": {},
   "outputs": [
    {
     "data": {
      "text/plain": [
       "[('information_schema',), ('mysql',), ('performance_schema',), ('sys',)]"
      ]
     },
     "execution_count": 52,
     "metadata": {},
     "output_type": "execute_result"
    }
   ],
   "source": [
    "res"
   ]
  },
  {
   "cell_type": "code",
   "execution_count": 57,
   "id": "365e5b5b",
   "metadata": {},
   "outputs": [
    {
     "data": {
      "text/plain": [
       "('information_schema',)"
      ]
     },
     "execution_count": 57,
     "metadata": {},
     "output_type": "execute_result"
    }
   ],
   "source": [
    "res[0]"
   ]
  },
  {
   "cell_type": "code",
   "execution_count": 64,
   "id": "2c831ec2",
   "metadata": {},
   "outputs": [
    {
     "name": "stdout",
     "output_type": "stream",
     "text": [
      "information_schema\n",
      "mysql\n",
      "performance_schema\n",
      "sys\n"
     ]
    }
   ],
   "source": [
    "for i in res:\n",
    "    print(i[0])"
   ]
  },
  {
   "cell_type": "markdown",
   "id": "96f97237",
   "metadata": {},
   "source": [
    "#### Create New Database\n",
    "- CREATE DATABASE database_name;"
   ]
  },
  {
   "cell_type": "code",
   "execution_count": 67,
   "id": "c1954052",
   "metadata": {},
   "outputs": [],
   "source": [
    "query = \"CREATE DATABASE datascience2\"\n",
    "cur.execute(query)"
   ]
  },
  {
   "cell_type": "code",
   "execution_count": 69,
   "id": "520c2264",
   "metadata": {},
   "outputs": [],
   "source": [
    "cur.execute(\"SHOW DATABASES\")"
   ]
  },
  {
   "cell_type": "code",
   "execution_count": 71,
   "id": "1a72b991",
   "metadata": {},
   "outputs": [
    {
     "data": {
      "text/plain": [
       "[('datascience1',),\n",
       " ('datascience2',),\n",
       " ('information_schema',),\n",
       " ('mysql',),\n",
       " ('performance_schema',),\n",
       " ('sys',),\n",
       " ('test01',)]"
      ]
     },
     "execution_count": 71,
     "metadata": {},
     "output_type": "execute_result"
    }
   ],
   "source": [
    "cur.fetchall()"
   ]
  },
  {
   "cell_type": "markdown",
   "id": "e7297bfb",
   "metadata": {},
   "source": [
    "#### Create New Table\n",
    "````\n",
    "CREATE TABLE table_name (\n",
    "    column1 datatype constraints,\n",
    "    column2 datatype constraints,\n",
    "    ...\n",
    ");\n",
    "````"
   ]
  },
  {
   "cell_type": "code",
   "execution_count": 1,
   "id": "829122ba",
   "metadata": {},
   "outputs": [],
   "source": [
    "import mysql.connector as connection"
   ]
  },
  {
   "cell_type": "code",
   "execution_count": 2,
   "id": "9deaea21",
   "metadata": {},
   "outputs": [],
   "source": [
    "mydb = connection.connect(\n",
    "    host = \"localhost\",\n",
    "    user = \"root\",\n",
    "    password = \"mysql\",\n",
    "    db = \"datascience1\"\n",
    ")"
   ]
  },
  {
   "cell_type": "code",
   "execution_count": 3,
   "id": "1b690a78",
   "metadata": {},
   "outputs": [
    {
     "data": {
      "text/plain": [
       "True"
      ]
     },
     "execution_count": 3,
     "metadata": {},
     "output_type": "execute_result"
    }
   ],
   "source": [
    "mydb.is_connected()"
   ]
  },
  {
   "cell_type": "code",
   "execution_count": 4,
   "id": "6d9bf60e",
   "metadata": {},
   "outputs": [],
   "source": [
    "cur = mydb.cursor()"
   ]
  },
  {
   "cell_type": "code",
   "execution_count": 7,
   "id": "46159342",
   "metadata": {},
   "outputs": [],
   "source": [
    "query = \"CREATE TABLE test(x1 INT(5), x2 VARCHAR(20), x3 DATE)\"\n",
    "cur.execute(query)"
   ]
  },
  {
   "cell_type": "code",
   "execution_count": 8,
   "id": "6492a60f",
   "metadata": {},
   "outputs": [],
   "source": [
    "cur.execute(\"SHOW TABLES\")"
   ]
  },
  {
   "cell_type": "code",
   "execution_count": 9,
   "id": "6510f3e8",
   "metadata": {},
   "outputs": [
    {
     "data": {
      "text/plain": [
       "[('test',)]"
      ]
     },
     "execution_count": 9,
     "metadata": {},
     "output_type": "execute_result"
    }
   ],
   "source": [
    "cur.fetchall()"
   ]
  },
  {
   "cell_type": "code",
   "execution_count": 11,
   "id": "1d8d0a46",
   "metadata": {},
   "outputs": [],
   "source": [
    "cur.execute(\"DESCRIBE test\")"
   ]
  },
  {
   "cell_type": "code",
   "execution_count": 12,
   "id": "65045e2b",
   "metadata": {
    "scrolled": true
   },
   "outputs": [
    {
     "data": {
      "text/plain": [
       "[('x1', 'int', 'YES', '', None, ''),\n",
       " ('x2', 'varchar(20)', 'YES', '', None, ''),\n",
       " ('x3', 'date', 'YES', '', None, '')]"
      ]
     },
     "execution_count": 12,
     "metadata": {},
     "output_type": "execute_result"
    }
   ],
   "source": [
    "cur.fetchall()"
   ]
  },
  {
   "cell_type": "markdown",
   "id": "97abd4be",
   "metadata": {},
   "source": [
    "#### Insert data to a Table\n",
    "```\n",
    "INSERT INTO table_name (column1, column2, column3, ...)\n",
    "VALUES (value1, value2, value3, ...);\n",
    "```\n"
   ]
  },
  {
   "cell_type": "code",
   "execution_count": 13,
   "id": "a956a721",
   "metadata": {},
   "outputs": [],
   "source": [
    "# create a table employee and then insert data into that\n",
    "query = \"\"\"\n",
    "CREATE TABLE employee(\n",
    "    id INT AUTO_INCREMENT PRIMARY KEY,\n",
    "    name VARCHAR(30) NOT NULL,\n",
    "    age INT,\n",
    "    department VARCHAR(50)\n",
    ")\n",
    "\"\"\"\n",
    "cur.execute(query)"
   ]
  },
  {
   "cell_type": "code",
   "execution_count": 26,
   "id": "74f86f4d",
   "metadata": {},
   "outputs": [],
   "source": [
    "insert_query = \"\"\"\n",
    "INSERT INTO employee(name, age, department)\n",
    "VALUES (%s, %s, %s)\n",
    "\"\"\"\n",
    "\n",
    "data = [\n",
    "    (\"vithusan\", 23, \"ICT\"),\n",
    "    (\"Niranjala\", 23, \"Eng\")\n",
    "]\n",
    "\n",
    "cur.executemany(insert_query, data)\n",
    "mydb.commit()"
   ]
  },
  {
   "cell_type": "markdown",
   "id": "6524bffd",
   "metadata": {},
   "source": [
    "#### Fetch data\n",
    "```\n",
    "INSERT INTO table_name (column1, column2, column3, ...)\n",
    "VALUES (value1, value2, value3, ...);\n",
    "```"
   ]
  },
  {
   "cell_type": "code",
   "execution_count": null,
   "id": "bb09f77b",
   "metadata": {},
   "outputs": [],
   "source": []
  }
 ],
 "metadata": {
  "kernelspec": {
   "display_name": "Python 3 (ipykernel)",
   "language": "python",
   "name": "python3"
  },
  "language_info": {
   "codemirror_mode": {
    "name": "ipython",
    "version": 3
   },
   "file_extension": ".py",
   "mimetype": "text/x-python",
   "name": "python",
   "nbconvert_exporter": "python",
   "pygments_lexer": "ipython3",
   "version": "3.11.5"
  }
 },
 "nbformat": 4,
 "nbformat_minor": 5
}
